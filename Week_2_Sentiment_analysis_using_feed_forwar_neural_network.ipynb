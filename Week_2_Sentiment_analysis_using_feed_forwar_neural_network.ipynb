{
  "nbformat": 4,
  "nbformat_minor": 0,
  "metadata": {
    "colab": {
      "name": "Week 2 - Sentiment analysis using feed forwar neural network.ipynb",
      "provenance": [],
      "collapsed_sections": [],
      "mount_file_id": "1SN9lvcXvuDb0F3OLuXzNBw3H9QGcTcO_",
      "authorship_tag": "ABX9TyOSmFP9vdx1fx8RfSt/qSLg",
      "include_colab_link": true
    },
    "kernelspec": {
      "name": "python3",
      "display_name": "Python 3"
    },
    "language_info": {
      "name": "python"
    },
    "accelerator": "GPU"
  },
  "cells": [
    {
      "cell_type": "markdown",
      "metadata": {
        "id": "view-in-github",
        "colab_type": "text"
      },
      "source": [
        "<a href=\"https://colab.research.google.com/github/ASi-F/NLPlay-Checkpoint-1/blob/main/Week_2_Sentiment_analysis_using_feed_forwar_neural_network.ipynb\" target=\"_parent\"><img src=\"https://colab.research.google.com/assets/colab-badge.svg\" alt=\"Open In Colab\"/></a>"
      ]
    },
    {
      "cell_type": "code",
      "metadata": {
        "id": "Mu85otVWxy5T"
      },
      "source": [
        "import pandas as pd\n",
        "import os\n",
        "import torch\n",
        "import numpy as np\n",
        "import nltk\n",
        "import matplotlib.pyplot as plt\n",
        "import random"
      ],
      "execution_count": 1,
      "outputs": []
    },
    {
      "cell_type": "code",
      "metadata": {
        "colab": {
          "resources": {
            "http://localhost:8080/nbextensions/google.colab/files.js": {
              "data": "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",
              "ok": true,
              "headers": [
                [
                  "content-type",
                  "application/javascript"
                ]
              ],
              "status": 200,
              "status_text": ""
            }
          },
          "base_uri": "https://localhost:8080/",
          "height": 73
        },
        "id": "I5rvfHZryXPK",
        "outputId": "3d56092b-936f-4d54-a9c3-de20636ca211"
      },
      "source": [
        "from google.colab import files\n",
        "uploaded = files.upload()"
      ],
      "execution_count": 2,
      "outputs": [
        {
          "output_type": "display_data",
          "data": {
            "text/html": [
              "\n",
              "     <input type=\"file\" id=\"files-98a11fa4-d532-4292-9eef-2bb54da66ba6\" name=\"files[]\" multiple disabled\n",
              "        style=\"border:none\" />\n",
              "     <output id=\"result-98a11fa4-d532-4292-9eef-2bb54da66ba6\">\n",
              "      Upload widget is only available when the cell has been executed in the\n",
              "      current browser session. Please rerun this cell to enable.\n",
              "      </output>\n",
              "      <script src=\"/nbextensions/google.colab/files.js\"></script> "
            ],
            "text/plain": [
              "<IPython.core.display.HTML object>"
            ]
          },
          "metadata": {
            "tags": []
          }
        },
        {
          "output_type": "stream",
          "text": [
            "Saving IMDB Dataset.csv to IMDB Dataset.csv\n"
          ],
          "name": "stdout"
        }
      ]
    },
    {
      "cell_type": "code",
      "metadata": {
        "id": "2EsM1fyVyuyh"
      },
      "source": [
        "df = pd.read_csv('/content/drive/MyDrive/Colab Notebooks/IMDB Dataset.csv')"
      ],
      "execution_count": 74,
      "outputs": []
    },
    {
      "cell_type": "code",
      "metadata": {
        "colab": {
          "base_uri": "https://localhost:8080/",
          "height": 182
        },
        "id": "wO7ozl1vz6-u",
        "outputId": "f635fe81-94fa-4d23-c039-ed9eeff4ba93"
      },
      "source": [
        "print(df.columns)\n",
        "df.describe()"
      ],
      "execution_count": 75,
      "outputs": [
        {
          "output_type": "stream",
          "text": [
            "Index(['review', 'sentiment'], dtype='object')\n"
          ],
          "name": "stdout"
        },
        {
          "output_type": "execute_result",
          "data": {
            "text/html": [
              "<div>\n",
              "<style scoped>\n",
              "    .dataframe tbody tr th:only-of-type {\n",
              "        vertical-align: middle;\n",
              "    }\n",
              "\n",
              "    .dataframe tbody tr th {\n",
              "        vertical-align: top;\n",
              "    }\n",
              "\n",
              "    .dataframe thead th {\n",
              "        text-align: right;\n",
              "    }\n",
              "</style>\n",
              "<table border=\"1\" class=\"dataframe\">\n",
              "  <thead>\n",
              "    <tr style=\"text-align: right;\">\n",
              "      <th></th>\n",
              "      <th>review</th>\n",
              "      <th>sentiment</th>\n",
              "    </tr>\n",
              "  </thead>\n",
              "  <tbody>\n",
              "    <tr>\n",
              "      <th>count</th>\n",
              "      <td>50000</td>\n",
              "      <td>50000</td>\n",
              "    </tr>\n",
              "    <tr>\n",
              "      <th>unique</th>\n",
              "      <td>49582</td>\n",
              "      <td>2</td>\n",
              "    </tr>\n",
              "    <tr>\n",
              "      <th>top</th>\n",
              "      <td>Loved today's show!!! It was a variety and not...</td>\n",
              "      <td>negative</td>\n",
              "    </tr>\n",
              "    <tr>\n",
              "      <th>freq</th>\n",
              "      <td>5</td>\n",
              "      <td>25000</td>\n",
              "    </tr>\n",
              "  </tbody>\n",
              "</table>\n",
              "</div>"
            ],
            "text/plain": [
              "                                                   review sentiment\n",
              "count                                               50000     50000\n",
              "unique                                              49582         2\n",
              "top     Loved today's show!!! It was a variety and not...  negative\n",
              "freq                                                    5     25000"
            ]
          },
          "metadata": {
            "tags": []
          },
          "execution_count": 75
        }
      ]
    },
    {
      "cell_type": "code",
      "metadata": {
        "colab": {
          "base_uri": "https://localhost:8080/"
        },
        "id": "ej4PovZEAsqk",
        "outputId": "8f26faa8-1f23-4299-bf44-1114ce8ee67b"
      },
      "source": [
        "nltk.download('stopwords')"
      ],
      "execution_count": 15,
      "outputs": [
        {
          "output_type": "stream",
          "text": [
            "[nltk_data] Downloading package stopwords to /root/nltk_data...\n",
            "[nltk_data]   Unzipping corpora/stopwords.zip.\n"
          ],
          "name": "stdout"
        },
        {
          "output_type": "execute_result",
          "data": {
            "text/plain": [
              "True"
            ]
          },
          "metadata": {
            "tags": []
          },
          "execution_count": 15
        }
      ]
    },
    {
      "cell_type": "code",
      "metadata": {
        "id": "h0hkUyyu0Wsh"
      },
      "source": [
        "\n",
        "from nltk.corpus import stopwords\n",
        "stop = stopwords.words('english')\n",
        "df['without_stopwords'] = df['review'].apply(lambda x: ' '.join([word for word in x.split() if word not in (stop)]))"
      ],
      "execution_count": 16,
      "outputs": []
    },
    {
      "cell_type": "code",
      "metadata": {
        "colab": {
          "base_uri": "https://localhost:8080/",
          "height": 154
        },
        "id": "O1fpTiYg0baf",
        "outputId": "45861729-d21e-4f45-c05d-976b6bdc939e"
      },
      "source": [
        "df['without_stopwords'][0]"
      ],
      "execution_count": 17,
      "outputs": [
        {
          "output_type": "execute_result",
          "data": {
            "application/vnd.google.colaboratory.intrinsic+json": {
              "type": "string"
            },
            "text/plain": [
              "\"One reviewers mentioned watching 1 Oz episode hooked. They right, exactly happened me.<br /><br />The first thing struck Oz brutality unflinching scenes violence, set right word GO. Trust me, show faint hearted timid. This show pulls punches regards drugs, sex violence. Its hardcore, classic use word.<br /><br />It called OZ nickname given Oswald Maximum Security State Penitentary. It focuses mainly Emerald City, experimental section prison cells glass fronts face inwards, privacy high agenda. Em City home many..Aryans, Muslims, gangstas, Latinos, Christians, Italians, Irish more....so scuffles, death stares, dodgy dealings shady agreements never far away.<br /><br />I would say main appeal show due fact goes shows dare. Forget pretty pictures painted mainstream audiences, forget charm, forget romance...OZ mess around. The first episode I ever saw struck nasty surreal, I say I ready it, I watched more, I developed taste Oz, got accustomed high levels graphic violence. Not violence, injustice (crooked guards who'll sold nickel, inmates who'll kill order get away it, well mannered, middle class inmates turned prison bitches due lack street skills prison experience) Watching Oz, may become comfortable uncomfortable viewing....thats get touch darker side.\""
            ]
          },
          "metadata": {
            "tags": []
          },
          "execution_count": 17
        }
      ]
    },
    {
      "cell_type": "code",
      "metadata": {
        "id": "2KXJmh-j0fZ8"
      },
      "source": [
        "def remove_punctuation(text):\n",
        "    final = \"\".join(u for u in text if u not in (\"?\", \".\", \";\", \":\", \"!\", '\"', ','))\n",
        "    return final\n",
        "\n",
        "df['without_stopwords'] = df['without_stopwords'].apply(remove_punctuation)"
      ],
      "execution_count": 18,
      "outputs": []
    },
    {
      "cell_type": "code",
      "metadata": {
        "id": "Sj7ZQzxs0p2z"
      },
      "source": [
        "def remove_tags(text):\n",
        "    final = \"\"\n",
        "    stt = True\n",
        "    for char in text:\n",
        "        if char == '<':\n",
        "            stt = False\n",
        "        if(stt):\n",
        "            final = final + char\n",
        "        if char == '>':\n",
        "            stt = True\n",
        "            final = final + ' '\n",
        "    return final\n",
        "df['without_stopwords'] = df['without_stopwords'].apply(remove_tags)"
      ],
      "execution_count": 19,
      "outputs": []
    },
    {
      "cell_type": "code",
      "metadata": {
        "colab": {
          "base_uri": "https://localhost:8080/",
          "height": 120
        },
        "id": "mbbYpLxB0quq",
        "outputId": "d9a62971-cb4e-434a-9505-74d7de51d764"
      },
      "source": [
        "df['without_stopwords'][0]"
      ],
      "execution_count": 20,
      "outputs": [
        {
          "output_type": "execute_result",
          "data": {
            "application/vnd.google.colaboratory.intrinsic+json": {
              "type": "string"
            },
            "text/plain": [
              "\"One reviewers mentioned watching 1 Oz episode hooked They right exactly happened me  The first thing struck Oz brutality unflinching scenes violence set right word GO Trust me show faint hearted timid This show pulls punches regards drugs sex violence Its hardcore classic use word  It called OZ nickname given Oswald Maximum Security State Penitentary It focuses mainly Emerald City experimental section prison cells glass fronts face inwards privacy high agenda Em City home manyAryans Muslims gangstas Latinos Christians Italians Irish moreso scuffles death stares dodgy dealings shady agreements never far away  I would say main appeal show due fact goes shows dare Forget pretty pictures painted mainstream audiences forget charm forget romanceOZ mess around The first episode I ever saw struck nasty surreal I say I ready it I watched more I developed taste Oz got accustomed high levels graphic violence Not violence injustice (crooked guards who'll sold nickel inmates who'll kill order get away it well mannered middle class inmates turned prison bitches due lack street skills prison experience) Watching Oz may become comfortable uncomfortable viewingthats get touch darker side\""
            ]
          },
          "metadata": {
            "tags": []
          },
          "execution_count": 20
        }
      ]
    },
    {
      "cell_type": "code",
      "metadata": {
        "colab": {
          "base_uri": "https://localhost:8080/",
          "height": 120
        },
        "id": "IjuB48oi0tp8",
        "outputId": "94516adb-74ab-47c7-bb46-0d5bf44322d3"
      },
      "source": [
        "df['review'][0]"
      ],
      "execution_count": 21,
      "outputs": [
        {
          "output_type": "execute_result",
          "data": {
            "application/vnd.google.colaboratory.intrinsic+json": {
              "type": "string"
            },
            "text/plain": [
              "\"One of the other reviewers has mentioned that after watching just 1 Oz episode you'll be hooked. They are right, as this is exactly what happened with me.<br /><br />The first thing that struck me about Oz was its brutality and unflinching scenes of violence, which set in right from the word GO. Trust me, this is not a show for the faint hearted or timid. This show pulls no punches with regards to drugs, sex or violence. Its is hardcore, in the classic use of the word.<br /><br />It is called OZ as that is the nickname given to the Oswald Maximum Security State Penitentary. It focuses mainly on Emerald City, an experimental section of the prison where all the cells have glass fronts and face inwards, so privacy is not high on the agenda. Em City is home to many..Aryans, Muslims, gangstas, Latinos, Christians, Italians, Irish and more....so scuffles, death stares, dodgy dealings and shady agreements are never far away.<br /><br />I would say the main appeal of the show is due to the fact that it goes where other shows wouldn't dare. Forget pretty pictures painted for mainstream audiences, forget charm, forget romance...OZ doesn't mess around. The first episode I ever saw struck me as so nasty it was surreal, I couldn't say I was ready for it, but as I watched more, I developed a taste for Oz, and got accustomed to the high levels of graphic violence. Not just violence, but injustice (crooked guards who'll be sold out for a nickel, inmates who'll kill on order and get away with it, well mannered, middle class inmates being turned into prison bitches due to their lack of street skills or prison experience) Watching Oz, you may become comfortable with what is uncomfortable viewing....thats if you can get in touch with your darker side.\""
            ]
          },
          "metadata": {
            "tags": []
          },
          "execution_count": 21
        }
      ]
    },
    {
      "cell_type": "code",
      "metadata": {
        "colab": {
          "base_uri": "https://localhost:8080/"
        },
        "id": "6aQPp3LGBPwc",
        "outputId": "8fdd66bc-d717-4782-edd4-991fb79b89a1"
      },
      "source": [
        "nltk.download('punkt')"
      ],
      "execution_count": 23,
      "outputs": [
        {
          "output_type": "stream",
          "text": [
            "[nltk_data] Downloading package punkt to /root/nltk_data...\n",
            "[nltk_data]   Unzipping tokenizers/punkt.zip.\n"
          ],
          "name": "stdout"
        },
        {
          "output_type": "execute_result",
          "data": {
            "text/plain": [
              "True"
            ]
          },
          "metadata": {
            "tags": []
          },
          "execution_count": 23
        }
      ]
    },
    {
      "cell_type": "code",
      "metadata": {
        "id": "7BA1oPRr00df"
      },
      "source": [
        "df['tokens'] = df['without_stopwords'].apply(nltk.word_tokenize)"
      ],
      "execution_count": 24,
      "outputs": []
    },
    {
      "cell_type": "code",
      "metadata": {
        "colab": {
          "base_uri": "https://localhost:8080/"
        },
        "id": "IuKTVib601_x",
        "outputId": "f02802fb-887d-4bff-8b15-0ccbd5bb593e"
      },
      "source": [
        "df['tokens'][0]"
      ],
      "execution_count": 25,
      "outputs": [
        {
          "output_type": "execute_result",
          "data": {
            "text/plain": [
              "['One',\n",
              " 'reviewers',\n",
              " 'mentioned',\n",
              " 'watching',\n",
              " '1',\n",
              " 'Oz',\n",
              " 'episode',\n",
              " 'hooked',\n",
              " 'They',\n",
              " 'right',\n",
              " 'exactly',\n",
              " 'happened',\n",
              " 'me',\n",
              " 'The',\n",
              " 'first',\n",
              " 'thing',\n",
              " 'struck',\n",
              " 'Oz',\n",
              " 'brutality',\n",
              " 'unflinching',\n",
              " 'scenes',\n",
              " 'violence',\n",
              " 'set',\n",
              " 'right',\n",
              " 'word',\n",
              " 'GO',\n",
              " 'Trust',\n",
              " 'me',\n",
              " 'show',\n",
              " 'faint',\n",
              " 'hearted',\n",
              " 'timid',\n",
              " 'This',\n",
              " 'show',\n",
              " 'pulls',\n",
              " 'punches',\n",
              " 'regards',\n",
              " 'drugs',\n",
              " 'sex',\n",
              " 'violence',\n",
              " 'Its',\n",
              " 'hardcore',\n",
              " 'classic',\n",
              " 'use',\n",
              " 'word',\n",
              " 'It',\n",
              " 'called',\n",
              " 'OZ',\n",
              " 'nickname',\n",
              " 'given',\n",
              " 'Oswald',\n",
              " 'Maximum',\n",
              " 'Security',\n",
              " 'State',\n",
              " 'Penitentary',\n",
              " 'It',\n",
              " 'focuses',\n",
              " 'mainly',\n",
              " 'Emerald',\n",
              " 'City',\n",
              " 'experimental',\n",
              " 'section',\n",
              " 'prison',\n",
              " 'cells',\n",
              " 'glass',\n",
              " 'fronts',\n",
              " 'face',\n",
              " 'inwards',\n",
              " 'privacy',\n",
              " 'high',\n",
              " 'agenda',\n",
              " 'Em',\n",
              " 'City',\n",
              " 'home',\n",
              " 'manyAryans',\n",
              " 'Muslims',\n",
              " 'gangstas',\n",
              " 'Latinos',\n",
              " 'Christians',\n",
              " 'Italians',\n",
              " 'Irish',\n",
              " 'moreso',\n",
              " 'scuffles',\n",
              " 'death',\n",
              " 'stares',\n",
              " 'dodgy',\n",
              " 'dealings',\n",
              " 'shady',\n",
              " 'agreements',\n",
              " 'never',\n",
              " 'far',\n",
              " 'away',\n",
              " 'I',\n",
              " 'would',\n",
              " 'say',\n",
              " 'main',\n",
              " 'appeal',\n",
              " 'show',\n",
              " 'due',\n",
              " 'fact',\n",
              " 'goes',\n",
              " 'shows',\n",
              " 'dare',\n",
              " 'Forget',\n",
              " 'pretty',\n",
              " 'pictures',\n",
              " 'painted',\n",
              " 'mainstream',\n",
              " 'audiences',\n",
              " 'forget',\n",
              " 'charm',\n",
              " 'forget',\n",
              " 'romanceOZ',\n",
              " 'mess',\n",
              " 'around',\n",
              " 'The',\n",
              " 'first',\n",
              " 'episode',\n",
              " 'I',\n",
              " 'ever',\n",
              " 'saw',\n",
              " 'struck',\n",
              " 'nasty',\n",
              " 'surreal',\n",
              " 'I',\n",
              " 'say',\n",
              " 'I',\n",
              " 'ready',\n",
              " 'it',\n",
              " 'I',\n",
              " 'watched',\n",
              " 'more',\n",
              " 'I',\n",
              " 'developed',\n",
              " 'taste',\n",
              " 'Oz',\n",
              " 'got',\n",
              " 'accustomed',\n",
              " 'high',\n",
              " 'levels',\n",
              " 'graphic',\n",
              " 'violence',\n",
              " 'Not',\n",
              " 'violence',\n",
              " 'injustice',\n",
              " '(',\n",
              " 'crooked',\n",
              " 'guards',\n",
              " 'who',\n",
              " \"'ll\",\n",
              " 'sold',\n",
              " 'nickel',\n",
              " 'inmates',\n",
              " 'who',\n",
              " \"'ll\",\n",
              " 'kill',\n",
              " 'order',\n",
              " 'get',\n",
              " 'away',\n",
              " 'it',\n",
              " 'well',\n",
              " 'mannered',\n",
              " 'middle',\n",
              " 'class',\n",
              " 'inmates',\n",
              " 'turned',\n",
              " 'prison',\n",
              " 'bitches',\n",
              " 'due',\n",
              " 'lack',\n",
              " 'street',\n",
              " 'skills',\n",
              " 'prison',\n",
              " 'experience',\n",
              " ')',\n",
              " 'Watching',\n",
              " 'Oz',\n",
              " 'may',\n",
              " 'become',\n",
              " 'comfortable',\n",
              " 'uncomfortable',\n",
              " 'viewingthats',\n",
              " 'get',\n",
              " 'touch',\n",
              " 'darker',\n",
              " 'side']"
            ]
          },
          "metadata": {
            "tags": []
          },
          "execution_count": 25
        }
      ]
    },
    {
      "cell_type": "code",
      "metadata": {
        "id": "DqrBwHk008tC"
      },
      "source": [
        "def stem_tokens(tokens):\n",
        "    final = [nltk.stem.PorterStemmer().stem(word) for word in tokens]\n",
        "    return final\n",
        "    \n",
        "df['stemmed_tokens'] = df['tokens'].apply(stem_tokens)"
      ],
      "execution_count": 26,
      "outputs": []
    },
    {
      "cell_type": "code",
      "metadata": {
        "colab": {
          "base_uri": "https://localhost:8080/"
        },
        "id": "ckLqQIEL0-GA",
        "outputId": "6b4e5244-ad7f-4677-8276-1dc18f1684d1"
      },
      "source": [
        "df['stemmed_tokens'][0]"
      ],
      "execution_count": 27,
      "outputs": [
        {
          "output_type": "execute_result",
          "data": {
            "text/plain": [
              "['one',\n",
              " 'review',\n",
              " 'mention',\n",
              " 'watch',\n",
              " '1',\n",
              " 'Oz',\n",
              " 'episod',\n",
              " 'hook',\n",
              " 'they',\n",
              " 'right',\n",
              " 'exactli',\n",
              " 'happen',\n",
              " 'me',\n",
              " 'the',\n",
              " 'first',\n",
              " 'thing',\n",
              " 'struck',\n",
              " 'Oz',\n",
              " 'brutal',\n",
              " 'unflinch',\n",
              " 'scene',\n",
              " 'violenc',\n",
              " 'set',\n",
              " 'right',\n",
              " 'word',\n",
              " 'GO',\n",
              " 'trust',\n",
              " 'me',\n",
              " 'show',\n",
              " 'faint',\n",
              " 'heart',\n",
              " 'timid',\n",
              " 'thi',\n",
              " 'show',\n",
              " 'pull',\n",
              " 'punch',\n",
              " 'regard',\n",
              " 'drug',\n",
              " 'sex',\n",
              " 'violenc',\n",
              " 'it',\n",
              " 'hardcor',\n",
              " 'classic',\n",
              " 'use',\n",
              " 'word',\n",
              " 'It',\n",
              " 'call',\n",
              " 'OZ',\n",
              " 'nicknam',\n",
              " 'given',\n",
              " 'oswald',\n",
              " 'maximum',\n",
              " 'secur',\n",
              " 'state',\n",
              " 'penitentari',\n",
              " 'It',\n",
              " 'focus',\n",
              " 'mainli',\n",
              " 'emerald',\n",
              " 'citi',\n",
              " 'experiment',\n",
              " 'section',\n",
              " 'prison',\n",
              " 'cell',\n",
              " 'glass',\n",
              " 'front',\n",
              " 'face',\n",
              " 'inward',\n",
              " 'privaci',\n",
              " 'high',\n",
              " 'agenda',\n",
              " 'Em',\n",
              " 'citi',\n",
              " 'home',\n",
              " 'manyaryan',\n",
              " 'muslim',\n",
              " 'gangsta',\n",
              " 'latino',\n",
              " 'christian',\n",
              " 'italian',\n",
              " 'irish',\n",
              " 'moreso',\n",
              " 'scuffl',\n",
              " 'death',\n",
              " 'stare',\n",
              " 'dodgi',\n",
              " 'deal',\n",
              " 'shadi',\n",
              " 'agreement',\n",
              " 'never',\n",
              " 'far',\n",
              " 'away',\n",
              " 'I',\n",
              " 'would',\n",
              " 'say',\n",
              " 'main',\n",
              " 'appeal',\n",
              " 'show',\n",
              " 'due',\n",
              " 'fact',\n",
              " 'goe',\n",
              " 'show',\n",
              " 'dare',\n",
              " 'forget',\n",
              " 'pretti',\n",
              " 'pictur',\n",
              " 'paint',\n",
              " 'mainstream',\n",
              " 'audienc',\n",
              " 'forget',\n",
              " 'charm',\n",
              " 'forget',\n",
              " 'romanceoz',\n",
              " 'mess',\n",
              " 'around',\n",
              " 'the',\n",
              " 'first',\n",
              " 'episod',\n",
              " 'I',\n",
              " 'ever',\n",
              " 'saw',\n",
              " 'struck',\n",
              " 'nasti',\n",
              " 'surreal',\n",
              " 'I',\n",
              " 'say',\n",
              " 'I',\n",
              " 'readi',\n",
              " 'it',\n",
              " 'I',\n",
              " 'watch',\n",
              " 'more',\n",
              " 'I',\n",
              " 'develop',\n",
              " 'tast',\n",
              " 'Oz',\n",
              " 'got',\n",
              " 'accustom',\n",
              " 'high',\n",
              " 'level',\n",
              " 'graphic',\n",
              " 'violenc',\n",
              " 'not',\n",
              " 'violenc',\n",
              " 'injustic',\n",
              " '(',\n",
              " 'crook',\n",
              " 'guard',\n",
              " 'who',\n",
              " \"'ll\",\n",
              " 'sold',\n",
              " 'nickel',\n",
              " 'inmat',\n",
              " 'who',\n",
              " \"'ll\",\n",
              " 'kill',\n",
              " 'order',\n",
              " 'get',\n",
              " 'away',\n",
              " 'it',\n",
              " 'well',\n",
              " 'manner',\n",
              " 'middl',\n",
              " 'class',\n",
              " 'inmat',\n",
              " 'turn',\n",
              " 'prison',\n",
              " 'bitch',\n",
              " 'due',\n",
              " 'lack',\n",
              " 'street',\n",
              " 'skill',\n",
              " 'prison',\n",
              " 'experi',\n",
              " ')',\n",
              " 'watch',\n",
              " 'Oz',\n",
              " 'may',\n",
              " 'becom',\n",
              " 'comfort',\n",
              " 'uncomfort',\n",
              " 'viewingthat',\n",
              " 'get',\n",
              " 'touch',\n",
              " 'darker',\n",
              " 'side']"
            ]
          },
          "metadata": {
            "tags": []
          },
          "execution_count": 27
        }
      ]
    },
    {
      "cell_type": "code",
      "metadata": {
        "id": "PrtriUPn1DAg"
      },
      "source": [
        "df['label'] = [2*(sent=='positive')-1 for sent in df['sentiment']]"
      ],
      "execution_count": 28,
      "outputs": []
    },
    {
      "cell_type": "code",
      "metadata": {
        "colab": {
          "base_uri": "https://localhost:8080/"
        },
        "id": "BE9_H2D-1Hrh",
        "outputId": "ba530ace-86f6-480b-afd7-5a7c0ff2ec0b"
      },
      "source": [
        "df['label']"
      ],
      "execution_count": 29,
      "outputs": [
        {
          "output_type": "execute_result",
          "data": {
            "text/plain": [
              "0        1\n",
              "1        1\n",
              "2        1\n",
              "3       -1\n",
              "4        1\n",
              "        ..\n",
              "49995    1\n",
              "49996   -1\n",
              "49997   -1\n",
              "49998   -1\n",
              "49999   -1\n",
              "Name: label, Length: 50000, dtype: int64"
            ]
          },
          "metadata": {
            "tags": []
          },
          "execution_count": 29
        }
      ]
    },
    {
      "cell_type": "code",
      "metadata": {
        "colab": {
          "base_uri": "https://localhost:8080/",
          "height": 381
        },
        "id": "e1TZb4_g1Ie5",
        "outputId": "b1fbee90-0852-4135-c39f-223cb4203638"
      },
      "source": [
        "df.head(9)"
      ],
      "execution_count": 30,
      "outputs": [
        {
          "output_type": "execute_result",
          "data": {
            "text/html": [
              "<div>\n",
              "<style scoped>\n",
              "    .dataframe tbody tr th:only-of-type {\n",
              "        vertical-align: middle;\n",
              "    }\n",
              "\n",
              "    .dataframe tbody tr th {\n",
              "        vertical-align: top;\n",
              "    }\n",
              "\n",
              "    .dataframe thead th {\n",
              "        text-align: right;\n",
              "    }\n",
              "</style>\n",
              "<table border=\"1\" class=\"dataframe\">\n",
              "  <thead>\n",
              "    <tr style=\"text-align: right;\">\n",
              "      <th></th>\n",
              "      <th>review</th>\n",
              "      <th>sentiment</th>\n",
              "      <th>without_stopwords</th>\n",
              "      <th>tokens</th>\n",
              "      <th>stemmed_tokens</th>\n",
              "      <th>label</th>\n",
              "    </tr>\n",
              "  </thead>\n",
              "  <tbody>\n",
              "    <tr>\n",
              "      <th>0</th>\n",
              "      <td>One of the other reviewers has mentioned that ...</td>\n",
              "      <td>positive</td>\n",
              "      <td>One reviewers mentioned watching 1 Oz episode ...</td>\n",
              "      <td>[One, reviewers, mentioned, watching, 1, Oz, e...</td>\n",
              "      <td>[one, review, mention, watch, 1, Oz, episod, h...</td>\n",
              "      <td>1</td>\n",
              "    </tr>\n",
              "    <tr>\n",
              "      <th>1</th>\n",
              "      <td>A wonderful little production. &lt;br /&gt;&lt;br /&gt;The...</td>\n",
              "      <td>positive</td>\n",
              "      <td>A wonderful little production   The filming te...</td>\n",
              "      <td>[A, wonderful, little, production, The, filmin...</td>\n",
              "      <td>[A, wonder, littl, product, the, film, techniq...</td>\n",
              "      <td>1</td>\n",
              "    </tr>\n",
              "    <tr>\n",
              "      <th>2</th>\n",
              "      <td>I thought this was a wonderful way to spend ti...</td>\n",
              "      <td>positive</td>\n",
              "      <td>I thought wonderful way spend time hot summer ...</td>\n",
              "      <td>[I, thought, wonderful, way, spend, time, hot,...</td>\n",
              "      <td>[I, thought, wonder, way, spend, time, hot, su...</td>\n",
              "      <td>1</td>\n",
              "    </tr>\n",
              "    <tr>\n",
              "      <th>3</th>\n",
              "      <td>Basically there's a family where a little boy ...</td>\n",
              "      <td>negative</td>\n",
              "      <td>Basically there's family little boy (Jake) thi...</td>\n",
              "      <td>[Basically, there, 's, family, little, boy, (,...</td>\n",
              "      <td>[basic, there, 's, famili, littl, boy, (, jake...</td>\n",
              "      <td>-1</td>\n",
              "    </tr>\n",
              "    <tr>\n",
              "      <th>4</th>\n",
              "      <td>Petter Mattei's \"Love in the Time of Money\" is...</td>\n",
              "      <td>positive</td>\n",
              "      <td>Petter Mattei's Love Time Money visually stunn...</td>\n",
              "      <td>[Petter, Mattei, 's, Love, Time, Money, visual...</td>\n",
              "      <td>[petter, mattei, 's, love, time, money, visual...</td>\n",
              "      <td>1</td>\n",
              "    </tr>\n",
              "    <tr>\n",
              "      <th>5</th>\n",
              "      <td>Probably my all-time favorite movie, a story o...</td>\n",
              "      <td>positive</td>\n",
              "      <td>Probably all-time favorite movie story selfles...</td>\n",
              "      <td>[Probably, all-time, favorite, movie, story, s...</td>\n",
              "      <td>[probabl, all-tim, favorit, movi, stori, selfl...</td>\n",
              "      <td>1</td>\n",
              "    </tr>\n",
              "    <tr>\n",
              "      <th>6</th>\n",
              "      <td>I sure would like to see a resurrection of a u...</td>\n",
              "      <td>positive</td>\n",
              "      <td>I sure would like see resurrection dated Seahu...</td>\n",
              "      <td>[I, sure, would, like, see, resurrection, date...</td>\n",
              "      <td>[I, sure, would, like, see, resurrect, date, s...</td>\n",
              "      <td>1</td>\n",
              "    </tr>\n",
              "    <tr>\n",
              "      <th>7</th>\n",
              "      <td>This show was an amazing, fresh &amp; innovative i...</td>\n",
              "      <td>negative</td>\n",
              "      <td>This show amazing fresh &amp; innovative idea 70's...</td>\n",
              "      <td>[This, show, amazing, fresh, &amp;, innovative, id...</td>\n",
              "      <td>[thi, show, amaz, fresh, &amp;, innov, idea, 70, '...</td>\n",
              "      <td>-1</td>\n",
              "    </tr>\n",
              "    <tr>\n",
              "      <th>8</th>\n",
              "      <td>Encouraged by the positive comments about this...</td>\n",
              "      <td>negative</td>\n",
              "      <td>Encouraged positive comments film I looking fo...</td>\n",
              "      <td>[Encouraged, positive, comments, film, I, look...</td>\n",
              "      <td>[encourag, posit, comment, film, I, look, forw...</td>\n",
              "      <td>-1</td>\n",
              "    </tr>\n",
              "  </tbody>\n",
              "</table>\n",
              "</div>"
            ],
            "text/plain": [
              "                                              review  ... label\n",
              "0  One of the other reviewers has mentioned that ...  ...     1\n",
              "1  A wonderful little production. <br /><br />The...  ...     1\n",
              "2  I thought this was a wonderful way to spend ti...  ...     1\n",
              "3  Basically there's a family where a little boy ...  ...    -1\n",
              "4  Petter Mattei's \"Love in the Time of Money\" is...  ...     1\n",
              "5  Probably my all-time favorite movie, a story o...  ...     1\n",
              "6  I sure would like to see a resurrection of a u...  ...     1\n",
              "7  This show was an amazing, fresh & innovative i...  ...    -1\n",
              "8  Encouraged by the positive comments about this...  ...    -1\n",
              "\n",
              "[9 rows x 6 columns]"
            ]
          },
          "metadata": {
            "tags": []
          },
          "execution_count": 30
        }
      ]
    },
    {
      "cell_type": "code",
      "metadata": {
        "colab": {
          "base_uri": "https://localhost:8080/"
        },
        "id": "aTamQq0c1ojd",
        "outputId": "507c0e57-5ac7-41e6-bb6d-f3a8d2ac68b6"
      },
      "source": [
        "df.index"
      ],
      "execution_count": 31,
      "outputs": [
        {
          "output_type": "execute_result",
          "data": {
            "text/plain": [
              "RangeIndex(start=0, stop=50000, step=1)"
            ]
          },
          "metadata": {
            "tags": []
          },
          "execution_count": 31
        }
      ]
    },
    {
      "cell_type": "code",
      "metadata": {
        "colab": {
          "base_uri": "https://localhost:8080/",
          "height": 35
        },
        "id": "Qh8WVewa1NGS",
        "outputId": "69817936-31e1-4d6c-e7d1-6af29c354813"
      },
      "source": [
        "from gensim import corpora\n",
        "\n",
        "review_dict = corpora.Dictionary(df['stemmed_tokens'])\n",
        "review_dict[0]"
      ],
      "execution_count": 32,
      "outputs": [
        {
          "output_type": "execute_result",
          "data": {
            "application/vnd.google.colaboratory.intrinsic+json": {
              "type": "string"
            },
            "text/plain": [
              "\"'ll\""
            ]
          },
          "metadata": {
            "tags": []
          },
          "execution_count": 32
        }
      ]
    },
    {
      "cell_type": "code",
      "metadata": {
        "colab": {
          "base_uri": "https://localhost:8080/"
        },
        "id": "oxeHEU6N1YDo",
        "outputId": "f97230a4-a9ba-42ea-ea24-077212215e89"
      },
      "source": [
        "print(type(review_dict))\n",
        "print(type(review_dict[0]))\n",
        "print(type(review_dict[0][0]))"
      ],
      "execution_count": 33,
      "outputs": [
        {
          "output_type": "stream",
          "text": [
            "<class 'gensim.corpora.dictionary.Dictionary'>\n",
            "<class 'str'>\n",
            "<class 'str'>\n"
          ],
          "name": "stdout"
        }
      ]
    },
    {
      "cell_type": "code",
      "metadata": {
        "colab": {
          "base_uri": "https://localhost:8080/"
        },
        "id": "gGcjzTDY1dM2",
        "outputId": "5102790d-fdb2-4e8b-ec14-828933e3e5ee"
      },
      "source": [
        "print(review_dict)"
      ],
      "execution_count": 34,
      "outputs": [
        {
          "output_type": "stream",
          "text": [
            "Dictionary(133824 unique tokens: [\"'ll\", '(', ')', '1', 'Em']...)\n"
          ],
          "name": "stdout"
        }
      ]
    },
    {
      "cell_type": "code",
      "metadata": {
        "colab": {
          "base_uri": "https://localhost:8080/"
        },
        "id": "S8o7sdNR1ghE",
        "outputId": "437f347b-0bdf-47a6-83e8-ce32a381b75f"
      },
      "source": [
        "from sklearn.model_selection import train_test_split\n",
        "# Train Test Split Function\n",
        "\n",
        "def split_train_test(top_data_df_small, test_size=0.3, shuffle_state=True):\n",
        "    X_train, X_test, Y_train, Y_test = train_test_split(top_data_df_small[['review','sentiment','without_stopwords','tokens','stemmed_tokens','label']], \n",
        "                                                        top_data_df_small['label'], \n",
        "                                                        shuffle=shuffle_state,\n",
        "                                                        test_size=test_size, \n",
        "                                                        random_state=15)\n",
        "    print(\"Value counts for Train sentiments\")\n",
        "    print(Y_train.value_counts())\n",
        "    print(\"Value counts for Test sentiments\")\n",
        "    print(Y_test.value_counts())\n",
        "    print(type(X_train))\n",
        "    print(type(Y_train))\n",
        "    X_train = X_train.reset_index()\n",
        "    X_test = X_test.reset_index()\n",
        "    Y_train = Y_train.to_frame()\n",
        "    Y_train = Y_train.reset_index()\n",
        "    Y_test = Y_test.to_frame()\n",
        "    Y_test = Y_test.reset_index()\n",
        "    print(X_train.head())\n",
        "    return X_train, X_test, Y_train, Y_test\n",
        "\n",
        "# Call the train_test_split\n",
        "X_train, X_test, Y_train, Y_test = split_train_test(df)"
      ],
      "execution_count": 35,
      "outputs": [
        {
          "output_type": "stream",
          "text": [
            "Value counts for Train sentiments\n",
            "-1    17512\n",
            " 1    17488\n",
            "Name: label, dtype: int64\n",
            "Value counts for Test sentiments\n",
            " 1    7512\n",
            "-1    7488\n",
            "Name: label, dtype: int64\n",
            "<class 'pandas.core.frame.DataFrame'>\n",
            "<class 'pandas.core.series.Series'>\n",
            "   index  ... label\n",
            "0  36322  ...     1\n",
            "1   4638  ...     1\n",
            "2  46808  ...    -1\n",
            "3  38099  ...    -1\n",
            "4  31461  ...     1\n",
            "\n",
            "[5 rows x 7 columns]\n"
          ],
          "name": "stdout"
        }
      ]
    },
    {
      "cell_type": "code",
      "metadata": {
        "colab": {
          "base_uri": "https://localhost:8080/",
          "height": 570
        },
        "id": "0Oj61buu1uoH",
        "outputId": "218240d4-43ce-48f6-e1f1-fd251be865e9"
      },
      "source": [
        "X_train"
      ],
      "execution_count": 36,
      "outputs": [
        {
          "output_type": "execute_result",
          "data": {
            "text/html": [
              "<div>\n",
              "<style scoped>\n",
              "    .dataframe tbody tr th:only-of-type {\n",
              "        vertical-align: middle;\n",
              "    }\n",
              "\n",
              "    .dataframe tbody tr th {\n",
              "        vertical-align: top;\n",
              "    }\n",
              "\n",
              "    .dataframe thead th {\n",
              "        text-align: right;\n",
              "    }\n",
              "</style>\n",
              "<table border=\"1\" class=\"dataframe\">\n",
              "  <thead>\n",
              "    <tr style=\"text-align: right;\">\n",
              "      <th></th>\n",
              "      <th>index</th>\n",
              "      <th>review</th>\n",
              "      <th>sentiment</th>\n",
              "      <th>without_stopwords</th>\n",
              "      <th>tokens</th>\n",
              "      <th>stemmed_tokens</th>\n",
              "      <th>label</th>\n",
              "    </tr>\n",
              "  </thead>\n",
              "  <tbody>\n",
              "    <tr>\n",
              "      <th>0</th>\n",
              "      <td>36322</td>\n",
              "      <td>The sequel is exactly what you will expect it ...</td>\n",
              "      <td>positive</td>\n",
              "      <td>The sequel exactly expect be And good enough e...</td>\n",
              "      <td>[The, sequel, exactly, expect, be, And, good, ...</td>\n",
              "      <td>[the, sequel, exactli, expect, be, and, good, ...</td>\n",
              "      <td>1</td>\n",
              "    </tr>\n",
              "    <tr>\n",
              "      <th>1</th>\n",
              "      <td>4638</td>\n",
              "      <td>This is a pretty well known one so i won't get...</td>\n",
              "      <td>positive</td>\n",
              "      <td>This pretty well known one get deep it The bas...</td>\n",
              "      <td>[This, pretty, well, known, one, get, deep, it...</td>\n",
              "      <td>[thi, pretti, well, known, one, get, deep, it,...</td>\n",
              "      <td>1</td>\n",
              "    </tr>\n",
              "    <tr>\n",
              "      <th>2</th>\n",
              "      <td>46808</td>\n",
              "      <td>I made the mistake of buying this since I coll...</td>\n",
              "      <td>negative</td>\n",
              "      <td>I made mistake buying since I collect comic bo...</td>\n",
              "      <td>[I, made, mistake, buying, since, I, collect, ...</td>\n",
              "      <td>[I, made, mistak, buy, sinc, I, collect, comic...</td>\n",
              "      <td>-1</td>\n",
              "    </tr>\n",
              "    <tr>\n",
              "      <th>3</th>\n",
              "      <td>38099</td>\n",
              "      <td>This movie is the proverbial 80s flick that sh...</td>\n",
              "      <td>negative</td>\n",
              "      <td>This movie proverbial 80s flick shows viewer l...</td>\n",
              "      <td>[This, movie, proverbial, 80s, flick, shows, v...</td>\n",
              "      <td>[thi, movi, proverbi, 80, flick, show, viewer,...</td>\n",
              "      <td>-1</td>\n",
              "    </tr>\n",
              "    <tr>\n",
              "      <th>4</th>\n",
              "      <td>31461</td>\n",
              "      <td>I absolutely LOVED this movie as a child. I ca...</td>\n",
              "      <td>positive</td>\n",
              "      <td>I absolutely LOVED movie child I can't seem fi...</td>\n",
              "      <td>[I, absolutely, LOVED, movie, child, I, ca, n'...</td>\n",
              "      <td>[I, absolut, love, movi, child, I, ca, n't, se...</td>\n",
              "      <td>1</td>\n",
              "    </tr>\n",
              "    <tr>\n",
              "      <th>...</th>\n",
              "      <td>...</td>\n",
              "      <td>...</td>\n",
              "      <td>...</td>\n",
              "      <td>...</td>\n",
              "      <td>...</td>\n",
              "      <td>...</td>\n",
              "      <td>...</td>\n",
              "    </tr>\n",
              "    <tr>\n",
              "      <th>34995</th>\n",
              "      <td>39296</td>\n",
              "      <td>When i started watching \"Surface\"for the first...</td>\n",
              "      <td>positive</td>\n",
              "      <td>When started watching Surfacefor first time ho...</td>\n",
              "      <td>[When, started, watching, Surfacefor, first, t...</td>\n",
              "      <td>[when, start, watch, surfacefor, first, time, ...</td>\n",
              "      <td>1</td>\n",
              "    </tr>\n",
              "    <tr>\n",
              "      <th>34996</th>\n",
              "      <td>49015</td>\n",
              "      <td>Are you kidding me? This is quite possibly the...</td>\n",
              "      <td>negative</td>\n",
              "      <td>Are kidding me This quite possibly worst amate...</td>\n",
              "      <td>[Are, kidding, me, This, quite, possibly, wors...</td>\n",
              "      <td>[are, kid, me, thi, quit, possibl, worst, amat...</td>\n",
              "      <td>-1</td>\n",
              "    </tr>\n",
              "    <tr>\n",
              "      <th>34997</th>\n",
              "      <td>2693</td>\n",
              "      <td>One would make you believe that this game is a...</td>\n",
              "      <td>negative</td>\n",
              "      <td>One would make believe game man obsessed numbe...</td>\n",
              "      <td>[One, would, make, believe, game, man, obsesse...</td>\n",
              "      <td>[one, would, make, believ, game, man, obsess, ...</td>\n",
              "      <td>-1</td>\n",
              "    </tr>\n",
              "    <tr>\n",
              "      <th>34998</th>\n",
              "      <td>8076</td>\n",
              "      <td>I'D BUY THAT FOR A DOLLAR!!!&lt;br /&gt;&lt;br /&gt;I did ...</td>\n",
              "      <td>positive</td>\n",
              "      <td>I'D BUY THAT FOR A DOLLAR  I buy film dollar I...</td>\n",
              "      <td>[I, 'D, BUY, THAT, FOR, A, DOLLAR, I, buy, fil...</td>\n",
              "      <td>[I, 'D, buy, that, for, A, dollar, I, buy, fil...</td>\n",
              "      <td>1</td>\n",
              "    </tr>\n",
              "    <tr>\n",
              "      <th>34999</th>\n",
              "      <td>7624</td>\n",
              "      <td>Seems to have been made as a vehicle for W.C. ...</td>\n",
              "      <td>positive</td>\n",
              "      <td>Seems made vehicle WC Fields Carol Dempster do...</td>\n",
              "      <td>[Seems, made, vehicle, WC, Fields, Carol, Demp...</td>\n",
              "      <td>[seem, made, vehicl, WC, field, carol, dempste...</td>\n",
              "      <td>1</td>\n",
              "    </tr>\n",
              "  </tbody>\n",
              "</table>\n",
              "<p>35000 rows × 7 columns</p>\n",
              "</div>"
            ],
            "text/plain": [
              "       index  ... label\n",
              "0      36322  ...     1\n",
              "1       4638  ...     1\n",
              "2      46808  ...    -1\n",
              "3      38099  ...    -1\n",
              "4      31461  ...     1\n",
              "...      ...  ...   ...\n",
              "34995  39296  ...     1\n",
              "34996  49015  ...    -1\n",
              "34997   2693  ...    -1\n",
              "34998   8076  ...     1\n",
              "34999   7624  ...     1\n",
              "\n",
              "[35000 rows x 7 columns]"
            ]
          },
          "metadata": {
            "tags": []
          },
          "execution_count": 36
        }
      ]
    },
    {
      "cell_type": "code",
      "metadata": {
        "colab": {
          "base_uri": "https://localhost:8080/"
        },
        "id": "FFl6-Yu31zML",
        "outputId": "e56fae9c-eeb5-405a-da5c-a8e1441d112e"
      },
      "source": [
        "import torch.nn as nn\n",
        "import torch.nn.functional as F\n",
        "import torch.optim as optim\n",
        "\n",
        "device = torch.device(\"cuda\" if torch.cuda.is_available() else \"cpu\")\n",
        "print(\"Device available for running: \")\n",
        "print(device)"
      ],
      "execution_count": 37,
      "outputs": [
        {
          "output_type": "stream",
          "text": [
            "Device available for running: \n",
            "cuda\n"
          ],
          "name": "stdout"
        }
      ]
    },
    {
      "cell_type": "code",
      "metadata": {
        "id": "zUTq4V3v14Ka"
      },
      "source": [
        "# define FeedforwardNeuralNetwork\n",
        "class FeedForwardNN(nn.Module):\n",
        "    def __init__(self,input_size,hidden_size,output_size):\n",
        "        super(FeedForwardNN,self).__init__()\n",
        "        \n",
        "        # Linear fnction 1\n",
        "        self.LF1 = nn.Linear(input_size,hidden_size)\n",
        "        # Nonlinear fnction 1\n",
        "        self.NLF1 = nn.ReLU()\n",
        "        \n",
        "        # Linear function 2\n",
        "        self.LF2 = nn.Linear(hidden_size,hidden_size)\n",
        "        # Nonlinear fnction 2\n",
        "        self.NLF2 = nn.ReLU()\n",
        "        \n",
        "        #Linear function 2\n",
        "        self.LF3 = nn.Linear(hidden_size,output_size)\n",
        "        \n",
        "    def forward(self,x):\n",
        "        # Layer 1\n",
        "        out = self.LF1(x)\n",
        "        out = self.NLF1(out)\n",
        "        \n",
        "        #Layer 2 \n",
        "        out = self.LF2(out)\n",
        "        out = self.NLF2(out)\n",
        "        \n",
        "        #Layer 3\n",
        "        out = self.LF3(out)\n",
        "        \n",
        "        return F.softmax(out,dim=1)\n",
        "        "
      ],
      "execution_count": 38,
      "outputs": []
    },
    {
      "cell_type": "code",
      "metadata": {
        "id": "jDusEO5D16sh"
      },
      "source": [
        "VOCAB_SIZE = len(review_dict)\n",
        "NUM_LABELS = 2\n",
        "\n",
        "def make_bow_vector(review_dict, sentence):\n",
        "    vec = torch.zeros(VOCAB_SIZE,dtype = torch.float64, device = device)\n",
        "    for word in sentence:\n",
        "        vec[review_dict.token2id[word]]+=1\n",
        "    return vec.reshape(1,-1).float()"
      ],
      "execution_count": 39,
      "outputs": []
    },
    {
      "cell_type": "code",
      "metadata": {
        "id": "7JbGEpUQ19M_"
      },
      "source": [
        "def make_pred(label):\n",
        "    if label == -1:\n",
        "        return torch.tensor([0], dtype = torch.long, device = device)\n",
        "    elif label == 1:\n",
        "        return torch.tensor([1], dtype = torch.long, device = device)"
      ],
      "execution_count": 40,
      "outputs": []
    },
    {
      "cell_type": "code",
      "metadata": {
        "id": "X9kSN_pW1_qd"
      },
      "source": [
        "VOCAB_SIZE = len(review_dict)\n",
        "\n",
        "input_size = VOCAB_SIZE\n",
        "hidden_dim = 500\n",
        "output_size = 2\n",
        "num_epochs = 2\n",
        "batch_size = 200\n",
        "\n",
        "FFNN = FeedForwardNN(input_size,hidden_dim,output_size)\n",
        "FFNN.to(device)\n",
        "loss_function = nn.CrossEntropyLoss()\n",
        "optimizer = optim.SGD(FFNN.parameters(), lr = 0.005)"
      ],
      "execution_count": 105,
      "outputs": []
    },
    {
      "cell_type": "code",
      "metadata": {
        "id": "8z7BvPQD2FOJ"
      },
      "source": [
        "\n",
        "def train(num_epochs,batch_size,optimizer,loss_function = nn.CrossEntropyLoss()):\n",
        "  losses = []\n",
        "  task_len = num_epochs *len(X_train)\n",
        "  ittr = 0\n",
        "  for epoch in range(num_epochs):\n",
        "      train_loss = torch.tensor([0.],device = device)\n",
        "      for index,row in X_train.iterrows():\n",
        "          ittr+=1\n",
        "          if ittr%(task_len//100) == 0:\n",
        "            print(ittr*100//(task_len),'% complemeted')\n",
        "          # make bag of word vector \n",
        "          bow_vec = make_bow_vector(review_dict,row['stemmed_tokens'])\n",
        "        \n",
        "          # Forward pass\n",
        "          preds = FFNN(bow_vec)\n",
        "        \n",
        "          # get target label\n",
        "          target = make_pred(Y_train['label'][index])\n",
        "\n",
        "          loss = loss_function(preds, target)\n",
        "  \n",
        "          train_loss +=loss\n",
        "        \n",
        "          if ittr%batch_size ==0:\n",
        "            # clear gradients\n",
        "            optimizer.zero_grad()\n",
        "\n",
        "            # compute gradientts\n",
        "            train_loss.backward()\n",
        "\n",
        "            # update parameters\n",
        "            optimizer.step()\n",
        "            \n",
        "            losses.append(train_loss.item())\n",
        "            train_loss = 0.\n",
        "  return losses"
      ],
      "execution_count": 127,
      "outputs": []
    },
    {
      "cell_type": "code",
      "metadata": {
        "id": "dqKVHhhQLu6J"
      },
      "source": [
        "losses = train(num_epochs,200,optimizer)"
      ],
      "execution_count": null,
      "outputs": []
    },
    {
      "cell_type": "code",
      "metadata": {
        "id": "fPescAW87p18"
      },
      "source": [
        "def accuracy():\n",
        "  correct_preds = 0\n",
        "  for index,row in X_test.iterrows():\n",
        "    bow_vec = make_bow_vector(review_dict,row['stemmed_tokens'])\n",
        "    # Forward pass\n",
        "    preds = list(FFNN(bow_vec)[0])\n",
        "    if preds[0]>preds[1]:\n",
        "      out = -1\n",
        "    else :\n",
        "      out = +1\n",
        "    if out == row['label']:\n",
        "      correct_preds+=1\n",
        "  \n",
        "  return correct_preds*100/len(X_test)\n",
        "\n",
        "def plot_loss(losses):\n",
        "  x = [i for i in range(0,len(losses))]\n",
        "  plt.plot(x,losses)\n",
        "  plt.title('Loss fnction')\n",
        "  plt.ylabel('Loss')\n",
        "  plt.xlabel('batch index')"
      ],
      "execution_count": 108,
      "outputs": []
    },
    {
      "cell_type": "code",
      "metadata": {
        "colab": {
          "base_uri": "https://localhost:8080/"
        },
        "id": "ni6hnpaR08v4",
        "outputId": "e0cb9d3b-b37c-4673-8ca9-c419d403c64c"
      },
      "source": [
        "accuracy()"
      ],
      "execution_count": 109,
      "outputs": [
        {
          "output_type": "execute_result",
          "data": {
            "text/plain": [
              "85.65333333333334"
            ]
          },
          "metadata": {
            "tags": []
          },
          "execution_count": 109
        }
      ]
    },
    {
      "cell_type": "code",
      "metadata": {
        "colab": {
          "base_uri": "https://localhost:8080/",
          "height": 295
        },
        "id": "S3fYkYgQPbWj",
        "outputId": "4e8c56e7-25df-47e5-9428-2091988b957e"
      },
      "source": [
        "plot_loss(losses)"
      ],
      "execution_count": 111,
      "outputs": [
        {
          "output_type": "display_data",
          "data": {
            "image/png": "[encoded data removed]",
            "text/plain": [
              "<Figure size 432x288 with 1 Axes>"
            ]
          },
          "metadata": {
            "tags": [],
            "needs_background": "light"
          }
        }
      ]
    },
    {
      "cell_type": "code",
      "metadata": {
        "colab": {
          "base_uri": "https://localhost:8080/"
        },
        "id": "0g5397LUPdQ5",
        "outputId": "793e599a-68ff-417f-d72a-4427764974d4"
      },
      "source": [
        "optimizer = optim.SGD(FFNN.parameters(), lr = 0.001)\n",
        "num_epochs = 2\n",
        "batch_size = 100\n",
        "losses = train(num_epochs,batch_size,optimizer)"
      ],
      "execution_count": 115,
      "outputs": [
        {
          "output_type": "stream",
          "text": [
            "Epoch completed: 1\n",
            "\n",
            "\n",
            "1. - 46.23515701293945\n",
            "2. - 42.09413146972656\n",
            "3. - 40.46958541870117\n",
            "4. - 45.516483306884766\n",
            "5. - 38.47571563720703\n",
            "6. - 42.388187408447266\n",
            "7. - 51.48405456542969\n",
            "8. - 42.02943420410156\n",
            "9. - 41.12185287475586\n",
            "10. - 41.99711227416992\n",
            "11. - 41.99148178100586\n",
            "12. - 45.1903190612793\n",
            "13. - 40.127567291259766\n",
            "14. - 40.532859802246094\n",
            "15. - 36.620872497558594\n",
            "16. - 41.340667724609375\n",
            "17. - 43.477760314941406\n",
            "18. - 41.83485794067383\n",
            "19. - 45.27916717529297\n",
            "20. - 45.13857650756836\n",
            "21. - 43.51194381713867\n",
            "22. - 41.93963623046875\n",
            "23. - 41.967872619628906\n",
            "24. - 38.34674835205078\n",
            "25. - 41.58163070678711\n",
            "26. - 45.82146453857422\n",
            "27. - 40.57461929321289\n",
            "28. - 36.95241928100586\n",
            "29. - 40.99321746826172\n",
            "30. - 39.04756546020508\n",
            "31. - 39.054100036621094\n",
            "32. - 40.644046783447266\n",
            "33. - 43.569557189941406\n",
            "34. - 43.47922897338867\n",
            "35. - 40.28559494018555\n",
            "36. - 38.61457824707031\n",
            "37. - 36.972328186035156\n",
            "38. - 41.69867706298828\n",
            "39. - 40.930423736572266\n",
            "40. - 43.341880798339844\n",
            "41. - 41.74364471435547\n",
            "42. - 41.0318489074707\n",
            "43. - 45.530296325683594\n",
            "44. - 41.59315872192383\n",
            "45. - 40.422611236572266\n",
            "46. - 42.62861633300781\n",
            "47. - 42.04912567138672\n",
            "48. - 40.312469482421875\n",
            "49. - 37.96031188964844\n",
            "50. - 38.843753814697266\n",
            "51. - 45.14321517944336\n",
            "52. - 41.29157257080078\n",
            "53. - 38.084041595458984\n",
            "54. - 41.161190032958984\n",
            "55. - 40.33320617675781\n",
            "56. - 37.85451126098633\n",
            "57. - 41.23877716064453\n",
            "58. - 36.116172790527344\n",
            "59. - 37.11273193359375\n",
            "60. - 38.881187438964844\n",
            "61. - 36.62614822387695\n",
            "62. - 40.70207595825195\n",
            "63. - 38.27201461791992\n",
            "64. - 40.309600830078125\n",
            "65. - 45.23209762573242\n",
            "66. - 43.06005096435547\n",
            "67. - 38.368927001953125\n",
            "68. - 36.458343505859375\n",
            "69. - 38.58919143676758\n",
            "70. - 39.65399932861328\n",
            "71. - 39.847877502441406\n",
            "72. - 39.820430755615234\n",
            "73. - 39.11309814453125\n",
            "74. - 39.552738189697266\n",
            "75. - 38.64169692993164\n",
            "76. - 42.66035461425781\n",
            "77. - 37.571651458740234\n",
            "78. - 39.1733283996582\n",
            "79. - 40.17765426635742\n",
            "80. - 39.86437225341797\n",
            "81. - 41.81119155883789\n",
            "82. - 44.342185974121094\n",
            "83. - 43.31758117675781\n",
            "84. - 40.26224136352539\n",
            "85. - 40.95969772338867\n",
            "86. - 40.84511184692383\n",
            "87. - 41.683494567871094\n",
            "88. - 40.19084548950195\n",
            "89. - 41.70092010498047\n",
            "90. - 45.07422637939453\n",
            "91. - 40.39326477050781\n",
            "92. - 41.80481719970703\n",
            "93. - 38.51546096801758\n",
            "94. - 40.5628776550293\n",
            "95. - 42.770782470703125\n",
            "96. - 35.276397705078125\n",
            "97. - 44.28830337524414\n",
            "98. - 39.35319900512695\n",
            "99. - 42.931339263916016\n",
            "100. - 38.35976791381836\n",
            "101. - 43.096092224121094\n",
            "102. - 40.243011474609375\n",
            "103. - 36.17462158203125\n",
            "104. - 45.20832061767578\n",
            "105. - 37.362430572509766\n",
            "106. - 42.213077545166016\n",
            "107. - 37.63248825073242\n",
            "108. - 42.378684997558594\n",
            "109. - 41.64984130859375\n",
            "110. - 36.566402435302734\n",
            "111. - 37.627960205078125\n",
            "112. - 39.25868606567383\n",
            "113. - 40.63431930541992\n",
            "114. - 44.61372375488281\n",
            "115. - 40.824913024902344\n",
            "116. - 41.926944732666016\n",
            "117. - 35.38496780395508\n",
            "118. - 40.28626251220703\n",
            "119. - 42.74150085449219\n",
            "120. - 37.3763427734375\n",
            "121. - 41.5778694152832\n",
            "122. - 44.1981315612793\n",
            "123. - 39.157997131347656\n",
            "124. - 42.34575653076172\n",
            "125. - 38.417213439941406\n",
            "126. - 46.89794921875\n",
            "127. - 39.25022506713867\n",
            "128. - 39.31047439575195\n",
            "129. - 41.681541442871094\n",
            "130. - 40.747596740722656\n",
            "131. - 36.124168395996094\n",
            "132. - 40.545814514160156\n",
            "133. - 36.267555236816406\n",
            "134. - 46.223018646240234\n",
            "135. - 41.62613296508789\n",
            "136. - 35.53002166748047\n",
            "137. - 44.63241958618164\n",
            "138. - 40.83790969848633\n",
            "139. - 42.150020599365234\n",
            "140. - 41.50242233276367\n",
            "141. - 38.48368835449219\n",
            "142. - 37.74638366699219\n",
            "143. - 41.19856643676758\n",
            "144. - 41.884918212890625\n",
            "145. - 45.80001449584961\n",
            "146. - 41.113609313964844\n",
            "147. - 41.458194732666016\n",
            "148. - 40.045166015625\n",
            "149. - 36.91449737548828\n",
            "150. - 39.96747970581055\n",
            "151. - 39.260799407958984\n",
            "152. - 41.22065353393555\n",
            "153. - 40.82408905029297\n",
            "154. - 38.8299560546875\n",
            "155. - 37.33924102783203\n",
            "156. - 41.355587005615234\n",
            "157. - 38.28592300415039\n",
            "158. - 38.662471771240234\n",
            "159. - 41.45782470703125\n",
            "160. - 45.190887451171875\n",
            "161. - 36.410301208496094\n",
            "162. - 38.69470977783203\n",
            "163. - 39.541648864746094\n",
            "164. - 40.67524719238281\n",
            "165. - 42.346466064453125\n",
            "166. - 39.27482604980469\n",
            "167. - 39.08027648925781\n",
            "168. - 38.46561050415039\n",
            "169. - 41.209102630615234\n",
            "170. - 38.94580841064453\n",
            "171. - 36.44435119628906\n",
            "172. - 38.1700325012207\n",
            "173. - 38.8388671875\n",
            "174. - 40.067710876464844\n",
            "175. - 40.32490539550781\n",
            "176. - 40.48952102661133\n",
            "177. - 40.26345443725586\n",
            "178. - 36.426143646240234\n",
            "179. - 41.49626922607422\n",
            "180. - 38.218204498291016\n",
            "181. - 44.851524353027344\n",
            "182. - 41.25511932373047\n",
            "183. - 37.90610885620117\n",
            "184. - 40.438873291015625\n",
            "185. - 37.432373046875\n",
            "186. - 39.83380889892578\n",
            "187. - 40.20186996459961\n",
            "188. - 39.15093231201172\n",
            "189. - 43.687137603759766\n",
            "190. - 44.03707504272461\n",
            "191. - 40.524532318115234\n",
            "192. - 37.904109954833984\n",
            "193. - 39.97357940673828\n",
            "194. - 40.28142166137695\n",
            "195. - 39.56035614013672\n",
            "196. - 41.83820343017578\n",
            "197. - 36.22705078125\n",
            "198. - 37.79011917114258\n",
            "199. - 39.72882080078125\n",
            "200. - 40.34495162963867\n",
            "201. - 43.77827072143555\n",
            "202. - 41.8580207824707\n",
            "203. - 43.20116424560547\n",
            "204. - 38.369895935058594\n",
            "205. - 40.2598991394043\n",
            "206. - 39.79474639892578\n",
            "207. - 39.66853332519531\n",
            "208. - 39.788169860839844\n",
            "209. - 39.81571578979492\n",
            "210. - 37.389732360839844\n",
            "211. - 40.206878662109375\n",
            "212. - 36.55816650390625\n",
            "213. - 40.7571907043457\n",
            "214. - 39.07085037231445\n",
            "215. - 39.29757308959961\n",
            "216. - 42.026763916015625\n",
            "217. - 43.11577224731445\n",
            "218. - 38.804141998291016\n",
            "219. - 37.92496871948242\n",
            "220. - 40.21544647216797\n",
            "221. - 42.72854232788086\n",
            "222. - 36.92180252075195\n",
            "223. - 40.4702262878418\n",
            "224. - 40.39923095703125\n",
            "225. - 41.699581146240234\n",
            "226. - 41.879268646240234\n",
            "227. - 46.1419792175293\n",
            "228. - 33.65690231323242\n",
            "229. - 41.23743438720703\n",
            "230. - 37.50353240966797\n",
            "231. - 37.972801208496094\n",
            "232. - 43.422794342041016\n",
            "233. - 37.24101257324219\n",
            "234. - 38.65718078613281\n",
            "235. - 40.11368179321289\n",
            "236. - 41.66072082519531\n",
            "237. - 35.85702133178711\n",
            "238. - 40.116729736328125\n",
            "239. - 35.61170959472656\n",
            "240. - 37.52207946777344\n",
            "241. - 38.812782287597656\n",
            "242. - 37.43886184692383\n",
            "243. - 38.99647903442383\n",
            "244. - 38.203304290771484\n",
            "245. - 37.35898971557617\n",
            "246. - 38.17244338989258\n",
            "247. - 39.56509017944336\n",
            "248. - 40.139610290527344\n",
            "249. - 36.786651611328125\n",
            "250. - 36.47028350830078\n",
            "251. - 37.5334587097168\n",
            "252. - 35.63166046142578\n",
            "253. - 39.02308654785156\n",
            "254. - 42.10665512084961\n",
            "255. - 39.19474792480469\n",
            "256. - 40.207069396972656\n",
            "257. - 36.97845458984375\n",
            "258. - 40.53569412231445\n",
            "259. - 34.91482925415039\n",
            "260. - 42.017173767089844\n",
            "261. - 35.64885711669922\n",
            "262. - 36.74962615966797\n",
            "263. - 42.054786682128906\n",
            "264. - 41.082550048828125\n",
            "265. - 40.94466018676758\n",
            "266. - 38.461673736572266\n",
            "267. - 39.58060836791992\n",
            "268. - 37.37765884399414\n",
            "269. - 44.90522766113281\n",
            "270. - 40.27680587768555\n",
            "271. - 39.23216247558594\n",
            "272. - 38.67269515991211\n",
            "273. - 38.938621520996094\n",
            "274. - 41.19041061401367\n",
            "275. - 37.20657730102539\n",
            "276. - 44.53052520751953\n",
            "277. - 37.10826873779297\n",
            "278. - 39.595943450927734\n",
            "279. - 38.859920501708984\n",
            "280. - 39.91334533691406\n",
            "281. - 40.89457321166992\n",
            "282. - 35.207847595214844\n",
            "283. - 43.308319091796875\n",
            "284. - 40.87205505371094\n",
            "285. - 36.19792175292969\n",
            "286. - 39.79896545410156\n",
            "287. - 41.15149688720703\n",
            "288. - 38.09202575683594\n",
            "289. - 38.80461883544922\n",
            "290. - 38.84773635864258\n",
            "291. - 39.27527618408203\n",
            "292. - 37.55358123779297\n",
            "293. - 36.81821823120117\n",
            "294. - 40.582149505615234\n",
            "295. - 38.716976165771484\n",
            "296. - 38.72113800048828\n",
            "297. - 42.36353302001953\n",
            "298. - 42.23927688598633\n",
            "299. - 39.193565368652344\n",
            "300. - 39.59788513183594\n",
            "301. - 35.71797180175781\n",
            "302. - 37.69664764404297\n",
            "303. - 41.49714279174805\n",
            "304. - 41.80146026611328\n",
            "305. - 45.87618637084961\n",
            "306. - 38.26067352294922\n",
            "307. - 45.57667922973633\n",
            "308. - 43.4425048828125\n",
            "309. - 41.32353591918945\n",
            "310. - 38.73674011230469\n",
            "311. - 40.573524475097656\n",
            "312. - 42.28359603881836\n",
            "313. - 45.78194808959961\n",
            "314. - 40.19191360473633\n",
            "315. - 39.262908935546875\n",
            "316. - 44.496463775634766\n",
            "317. - 43.14035415649414\n",
            "318. - 41.81311798095703\n",
            "319. - 37.81523132324219\n",
            "320. - 39.46023178100586\n",
            "321. - 43.89790344238281\n",
            "322. - 45.57986831665039\n",
            "323. - 41.99799346923828\n",
            "324. - 40.51970291137695\n",
            "325. - 38.77409744262695\n",
            "326. - 41.62746810913086\n",
            "327. - 41.62570571899414\n",
            "328. - 41.68263244628906\n",
            "329. - 44.24578094482422\n",
            "330. - 41.23039627075195\n",
            "331. - 39.58230209350586\n",
            "332. - 46.1383056640625\n",
            "333. - 43.359493255615234\n",
            "334. - 40.71010971069336\n",
            "335. - 38.2193603515625\n",
            "336. - 36.54962921142578\n",
            "337. - 39.53895950317383\n",
            "338. - 39.8864631652832\n",
            "339. - 42.0857048034668\n",
            "340. - 36.56491470336914\n",
            "341. - 42.88623809814453\n",
            "342. - 40.5224494934082\n",
            "343. - 43.992645263671875\n",
            "344. - 43.35982894897461\n",
            "345. - 43.759361267089844\n",
            "346. - 38.90065383911133\n",
            "347. - 39.94915771484375\n",
            "348. - 44.227256774902344\n",
            "349. - 42.3931770324707\n",
            "350. - 37.46834945678711\n",
            "Epoch completed: 2\n",
            "\n",
            "\n",
            "1. - 44.254634857177734\n",
            "2. - 42.20907211303711\n",
            "3. - 38.98886489868164\n",
            "4. - 44.32301330566406\n",
            "5. - 37.073123931884766\n",
            "6. - 41.169185638427734\n",
            "7. - 49.76096725463867\n",
            "8. - 42.299991607666016\n",
            "9. - 40.036502838134766\n",
            "10. - 42.39010238647461\n",
            "11. - 41.96842956542969\n",
            "12. - 42.97579574584961\n",
            "13. - 38.412078857421875\n",
            "14. - 39.55974197387695\n",
            "15. - 35.02886199951172\n",
            "16. - 40.482208251953125\n",
            "17. - 41.05381774902344\n",
            "18. - 40.80445098876953\n",
            "19. - 43.94472885131836\n",
            "20. - 45.00692367553711\n",
            "21. - 41.61520767211914\n",
            "22. - 40.18970489501953\n",
            "23. - 41.33095169067383\n",
            "24. - 38.40874099731445\n",
            "25. - 42.98756408691406\n",
            "26. - 44.26716232299805\n",
            "27. - 38.38814926147461\n",
            "28. - 35.66488265991211\n",
            "29. - 38.83673095703125\n",
            "30. - 38.2979736328125\n",
            "31. - 37.68747329711914\n",
            "32. - 40.29315185546875\n",
            "33. - 41.943092346191406\n",
            "34. - 42.95527267456055\n",
            "35. - 39.286739349365234\n",
            "36. - 37.71663284301758\n",
            "37. - 36.20518493652344\n",
            "38. - 40.947174072265625\n",
            "39. - 40.149566650390625\n",
            "40. - 42.162567138671875\n",
            "41. - 40.318851470947266\n",
            "42. - 40.46055603027344\n",
            "43. - 44.29899215698242\n",
            "44. - 41.20116424560547\n",
            "45. - 39.374732971191406\n",
            "46. - 41.12353515625\n",
            "47. - 40.720054626464844\n",
            "48. - 39.22234344482422\n",
            "49. - 37.57350158691406\n",
            "50. - 36.84918212890625\n",
            "51. - 44.29977798461914\n",
            "52. - 41.13399124145508\n",
            "53. - 37.57084655761719\n",
            "54. - 40.859352111816406\n",
            "55. - 39.544654846191406\n",
            "56. - 38.09962844848633\n",
            "57. - 38.92897033691406\n",
            "58. - 35.830833435058594\n",
            "59. - 35.85390090942383\n",
            "60. - 38.25210952758789\n",
            "61. - 37.02865219116211\n",
            "62. - 40.4943733215332\n",
            "63. - 36.58672332763672\n",
            "64. - 39.64693832397461\n",
            "65. - 43.002262115478516\n",
            "66. - 40.93181610107422\n",
            "67. - 38.89452362060547\n",
            "68. - 35.94117736816406\n",
            "69. - 37.01146697998047\n",
            "70. - 38.82548522949219\n",
            "71. - 38.318763732910156\n",
            "72. - 38.627769470214844\n",
            "73. - 39.886051177978516\n",
            "74. - 40.516178131103516\n",
            "75. - 38.0087776184082\n",
            "76. - 41.050540924072266\n",
            "77. - 36.997291564941406\n",
            "78. - 38.636558532714844\n",
            "79. - 39.36834716796875\n",
            "80. - 39.10801696777344\n",
            "81. - 40.8259391784668\n",
            "82. - 42.74853515625\n",
            "83. - 40.441864013671875\n",
            "84. - 39.361671447753906\n",
            "85. - 41.2490234375\n",
            "86. - 40.190452575683594\n",
            "87. - 39.30267333984375\n",
            "88. - 39.350582122802734\n",
            "89. - 40.535030364990234\n",
            "90. - 44.61193084716797\n",
            "91. - 40.066184997558594\n",
            "92. - 41.31251525878906\n",
            "93. - 37.63504409790039\n",
            "94. - 39.43756866455078\n",
            "95. - 41.549583435058594\n",
            "96. - 34.8291015625\n",
            "97. - 43.69094467163086\n",
            "98. - 38.83405685424805\n",
            "99. - 41.95270538330078\n",
            "100. - 37.858673095703125\n",
            "101. - 41.48709487915039\n",
            "102. - 39.942344665527344\n",
            "103. - 35.39650344848633\n",
            "104. - 44.50132751464844\n",
            "105. - 36.92876052856445\n",
            "106. - 40.91645431518555\n",
            "107. - 37.29460144042969\n",
            "108. - 41.67488098144531\n",
            "109. - 40.63427734375\n",
            "110. - 35.19014358520508\n",
            "111. - 37.07627487182617\n",
            "112. - 38.63609313964844\n",
            "113. - 40.565185546875\n",
            "114. - 44.38026428222656\n",
            "115. - 40.29787063598633\n",
            "116. - 41.40416717529297\n",
            "117. - 35.044105529785156\n",
            "118. - 39.37002944946289\n",
            "119. - 41.16727066040039\n",
            "120. - 37.905208587646484\n",
            "121. - 40.370845794677734\n",
            "122. - 43.83384323120117\n",
            "123. - 37.81415939331055\n",
            "124. - 41.45647430419922\n",
            "125. - 37.240108489990234\n",
            "126. - 45.53921890258789\n",
            "127. - 38.924434661865234\n",
            "128. - 38.531524658203125\n",
            "129. - 41.53911209106445\n",
            "130. - 39.67511749267578\n",
            "131. - 36.12008285522461\n",
            "132. - 40.24307632446289\n",
            "133. - 35.25585174560547\n",
            "134. - 45.744789123535156\n",
            "135. - 41.04557418823242\n",
            "136. - 35.09865188598633\n",
            "137. - 43.66778564453125\n",
            "138. - 40.678627014160156\n",
            "139. - 41.418216705322266\n",
            "140. - 39.424137115478516\n",
            "141. - 37.934757232666016\n",
            "142. - 37.55206298828125\n",
            "143. - 40.57675552368164\n",
            "144. - 40.94175720214844\n",
            "145. - 44.80731964111328\n",
            "146. - 40.28297805786133\n",
            "147. - 40.563358306884766\n",
            "148. - 40.09944534301758\n",
            "149. - 36.28800582885742\n",
            "150. - 39.22163009643555\n",
            "151. - 37.99676513671875\n",
            "152. - 40.83327102661133\n",
            "153. - 41.164608001708984\n",
            "154. - 37.55957794189453\n",
            "155. - 37.176082611083984\n",
            "156. - 40.97383117675781\n",
            "157. - 37.8887825012207\n",
            "158. - 38.669681549072266\n",
            "159. - 39.50714111328125\n",
            "160. - 44.359397888183594\n",
            "161. - 36.23934555053711\n",
            "162. - 38.03972625732422\n",
            "163. - 39.124717712402344\n",
            "164. - 40.37314987182617\n",
            "165. - 41.40054702758789\n",
            "166. - 39.03968811035156\n",
            "167. - 39.01058578491211\n",
            "168. - 38.414405822753906\n",
            "169. - 40.89555358886719\n",
            "170. - 38.92784118652344\n",
            "171. - 35.57738494873047\n",
            "172. - 38.99146270751953\n",
            "173. - 38.517696380615234\n",
            "174. - 39.26856231689453\n",
            "175. - 40.3331413269043\n",
            "176. - 39.91604232788086\n",
            "177. - 39.58674621582031\n",
            "178. - 35.708553314208984\n",
            "179. - 40.85451889038086\n",
            "180. - 37.53540802001953\n",
            "181. - 44.421260833740234\n",
            "182. - 40.03919219970703\n",
            "183. - 36.17323684692383\n",
            "184. - 41.0257568359375\n",
            "185. - 36.910858154296875\n",
            "186. - 37.86749267578125\n",
            "187. - 39.87002944946289\n",
            "188. - 38.17271041870117\n",
            "189. - 43.04427719116211\n",
            "190. - 43.285247802734375\n",
            "191. - 40.074710845947266\n",
            "192. - 37.57115173339844\n",
            "193. - 38.7116813659668\n",
            "194. - 39.8836555480957\n",
            "195. - 39.11381912231445\n",
            "196. - 40.391239166259766\n",
            "197. - 36.29423141479492\n",
            "198. - 37.21932601928711\n",
            "199. - 39.54513931274414\n",
            "200. - 39.601810455322266\n",
            "201. - 42.71012496948242\n",
            "202. - 40.302635192871094\n",
            "203. - 42.941341400146484\n",
            "204. - 37.62771987915039\n",
            "205. - 39.01987838745117\n",
            "206. - 38.98834228515625\n",
            "207. - 38.83980941772461\n",
            "208. - 39.34734344482422\n",
            "209. - 39.196754455566406\n",
            "210. - 37.12562942504883\n",
            "211. - 38.533302307128906\n",
            "212. - 35.61345672607422\n",
            "213. - 39.63734436035156\n",
            "214. - 37.72994613647461\n",
            "215. - 40.09061813354492\n",
            "216. - 41.49189758300781\n",
            "217. - 42.93804931640625\n",
            "218. - 38.15127944946289\n",
            "219. - 37.602840423583984\n",
            "220. - 39.587806701660156\n",
            "221. - 43.27516174316406\n",
            "222. - 36.29710388183594\n",
            "223. - 40.040348052978516\n",
            "224. - 40.228111267089844\n",
            "225. - 40.98691940307617\n",
            "226. - 41.269020080566406\n",
            "227. - 46.01802062988281\n",
            "228. - 33.47187423706055\n",
            "229. - 40.82069396972656\n",
            "230. - 36.99406051635742\n",
            "231. - 37.76881790161133\n",
            "232. - 43.023651123046875\n",
            "233. - 37.12096405029297\n",
            "234. - 38.19948959350586\n",
            "235. - 39.4353141784668\n",
            "236. - 40.9160041809082\n",
            "237. - 35.38219451904297\n",
            "238. - 39.66791534423828\n",
            "239. - 34.74427032470703\n",
            "240. - 36.854881286621094\n",
            "241. - 38.61077880859375\n",
            "242. - 36.930904388427734\n",
            "243. - 38.60780715942383\n",
            "244. - 37.89255905151367\n",
            "245. - 36.40199661254883\n",
            "246. - 37.42473220825195\n",
            "247. - 38.449649810791016\n",
            "248. - 38.881290435791016\n",
            "249. - 35.93489074707031\n",
            "250. - 35.98313903808594\n",
            "251. - 35.46647644042969\n",
            "252. - 35.380653381347656\n",
            "253. - 38.74295425415039\n",
            "254. - 41.30767822265625\n",
            "255. - 39.0670166015625\n",
            "256. - 39.373138427734375\n",
            "257. - 36.39712905883789\n",
            "258. - 40.075286865234375\n",
            "259. - 34.690982818603516\n",
            "260. - 41.00053787231445\n",
            "261. - 34.88176345825195\n",
            "262. - 36.77877426147461\n",
            "263. - 41.39103317260742\n",
            "264. - 41.435089111328125\n",
            "265. - 40.48007583618164\n",
            "266. - 38.087127685546875\n",
            "267. - 39.159080505371094\n",
            "268. - 37.0772705078125\n",
            "269. - 43.964134216308594\n",
            "270. - 39.33500671386719\n",
            "271. - 39.38809585571289\n",
            "272. - 38.208133697509766\n",
            "273. - 38.88998794555664\n",
            "274. - 41.15685272216797\n",
            "275. - 36.594024658203125\n",
            "276. - 43.833595275878906\n",
            "277. - 36.913978576660156\n",
            "278. - 38.95899200439453\n",
            "279. - 38.17201614379883\n",
            "280. - 39.84500503540039\n",
            "281. - 39.69466018676758\n",
            "282. - 35.12852096557617\n",
            "283. - 42.74015426635742\n",
            "284. - 40.47513961791992\n",
            "285. - 35.95412826538086\n",
            "286. - 39.64482116699219\n",
            "287. - 40.527462005615234\n",
            "288. - 37.81981658935547\n",
            "289. - 37.6512451171875\n",
            "290. - 38.19607162475586\n",
            "291. - 38.899139404296875\n",
            "292. - 37.18887710571289\n",
            "293. - 36.71103286743164\n",
            "294. - 39.37117004394531\n",
            "295. - 37.92005920410156\n",
            "296. - 37.8293571472168\n",
            "297. - 42.04961013793945\n",
            "298. - 41.18305206298828\n",
            "299. - 39.10982131958008\n",
            "300. - 38.95587921142578\n",
            "301. - 35.639671325683594\n",
            "302. - 37.22504806518555\n",
            "303. - 41.021846771240234\n",
            "304. - 40.18345260620117\n",
            "305. - 45.535125732421875\n",
            "306. - 37.14529800415039\n",
            "307. - 44.31070327758789\n",
            "308. - 43.0831298828125\n",
            "309. - 40.13496398925781\n",
            "310. - 37.8321418762207\n",
            "311. - 40.15254592895508\n",
            "312. - 42.30317687988281\n",
            "313. - 46.53288650512695\n",
            "314. - 39.473541259765625\n",
            "315. - 38.4278564453125\n",
            "316. - 42.600589752197266\n",
            "317. - 42.495479583740234\n",
            "318. - 41.219940185546875\n",
            "319. - 37.0840950012207\n",
            "320. - 38.96821212768555\n",
            "321. - 43.13459396362305\n",
            "322. - 44.48116683959961\n",
            "323. - 40.897239685058594\n",
            "324. - 39.75535583496094\n",
            "325. - 38.26231002807617\n",
            "326. - 40.34741973876953\n",
            "327. - 41.0594596862793\n",
            "328. - 40.97109603881836\n",
            "329. - 43.03196334838867\n",
            "330. - 40.04031753540039\n",
            "331. - 39.37448501586914\n",
            "332. - 45.41144561767578\n",
            "333. - 42.274959564208984\n",
            "334. - 39.87847137451172\n",
            "335. - 38.03636169433594\n",
            "336. - 35.70181655883789\n",
            "337. - 38.51723098754883\n",
            "338. - 38.86857223510742\n",
            "339. - 41.79600143432617\n",
            "340. - 36.4195442199707\n",
            "341. - 42.36640930175781\n",
            "342. - 39.64979553222656\n",
            "343. - 42.87466812133789\n",
            "344. - 42.71489715576172\n",
            "345. - 43.16381072998047\n",
            "346. - 37.67117691040039\n",
            "347. - 39.43357467651367\n",
            "348. - 42.898895263671875\n",
            "349. - 41.610599517822266\n",
            "350. - 36.55678176879883\n"
          ],
          "name": "stdout"
        }
      ]
    },
    {
      "cell_type": "code",
      "metadata": {
        "colab": {
          "base_uri": "https://localhost:8080/",
          "height": 312
        },
        "id": "oJR78CQ0x48E",
        "outputId": "d74fff36-cc9b-4954-ee57-214be3fad3f3"
      },
      "source": [
        "print(accuracy())\n",
        "\n",
        "plot_loss(losses)"
      ],
      "execution_count": 116,
      "outputs": [
        {
          "output_type": "stream",
          "text": [
            "87.68\n"
          ],
          "name": "stdout"
        },
        {
          "output_type": "display_data",
          "data": {
            "image/png": "[encoded data removed]",
            "text/plain": [
              "<Figure size 432x288 with 1 Axes>"
            ]
          },
          "metadata": {
            "tags": [],
            "needs_background": "light"
          }
        }
      ]
    },
    {
      "cell_type": "code",
      "metadata": {
        "colab": {
          "base_uri": "https://localhost:8080/"
        },
        "id": "HlBdLmn_y1hK",
        "outputId": "44c94a75-63cc-4781-bb6a-a2f71be763e0"
      },
      "source": [
        "optimizer = optim.SGD(FFNN.parameters(), lr = 0.0001)\n",
        "num_epochs = 3\n",
        "batch_size = 1000\n",
        "losses = train(num_epochs,batch_size,optimizer)"
      ],
      "execution_count": 117,
      "outputs": [
        {
          "output_type": "stream",
          "text": [
            "Epoch completed: 1\n",
            "\n",
            "\n",
            "1. - 418.1130065917969\n",
            "2. - 401.1060791015625\n",
            "3. - 394.21392822265625\n",
            "4. - 397.7472839355469\n",
            "5. - 408.1247253417969\n",
            "6. - 395.6273498535156\n",
            "7. - 383.229736328125\n",
            "8. - 381.2958984375\n",
            "9. - 403.4866943359375\n",
            "10. - 394.2380065917969\n",
            "11. - 390.07489013671875\n",
            "12. - 390.808349609375\n",
            "13. - 400.278564453125\n",
            "14. - 392.0953674316406\n",
            "15. - 391.6490783691406\n",
            "16. - 391.97589111328125\n",
            "17. - 388.16259765625\n",
            "18. - 381.2806396484375\n",
            "19. - 393.72589111328125\n",
            "20. - 384.27862548828125\n",
            "21. - 392.1434326171875\n",
            "22. - 389.7345275878906\n",
            "23. - 402.10498046875\n",
            "24. - 391.0741882324219\n",
            "25. - 376.96209716796875\n",
            "26. - 380.0176086425781\n",
            "27. - 388.2361755371094\n",
            "28. - 388.478515625\n",
            "29. - 382.2144470214844\n",
            "30. - 384.8060302734375\n",
            "31. - 400.2113342285156\n",
            "32. - 401.5812683105469\n",
            "33. - 405.8754577636719\n",
            "34. - 392.0577392578125\n",
            "35. - 404.72625732421875\n",
            "Epoch completed: 2\n",
            "\n",
            "\n",
            "1. - 421.3009033203125\n",
            "2. - 400.1432189941406\n",
            "3. - 393.2162170410156\n",
            "4. - 393.46588134765625\n",
            "5. - 397.0809020996094\n",
            "6. - 383.64715576171875\n",
            "7. - 382.9590759277344\n",
            "8. - 384.58355712890625\n",
            "9. - 406.0365905761719\n",
            "10. - 398.2202453613281\n",
            "11. - 391.74420166015625\n",
            "12. - 388.2309875488281\n",
            "13. - 397.7748718261719\n",
            "14. - 389.6884765625\n",
            "15. - 387.32989501953125\n",
            "16. - 387.44940185546875\n",
            "17. - 387.98773193359375\n",
            "18. - 379.6483154296875\n",
            "19. - 391.0767822265625\n",
            "20. - 382.4291687011719\n",
            "21. - 389.7619323730469\n",
            "22. - 386.2724304199219\n",
            "23. - 394.9713134765625\n",
            "24. - 378.7099914550781\n",
            "25. - 370.3027648925781\n",
            "26. - 373.9608459472656\n",
            "27. - 385.945556640625\n",
            "28. - 386.3444519042969\n",
            "29. - 380.0888671875\n",
            "30. - 382.8194274902344\n",
            "31. - 399.63397216796875\n",
            "32. - 399.874267578125\n",
            "33. - 401.4020690917969\n",
            "34. - 389.4342956542969\n",
            "35. - 402.14739990234375\n",
            "Epoch completed: 3\n",
            "\n",
            "\n",
            "1. - 415.1669006347656\n",
            "2. - 396.009521484375\n",
            "3. - 385.8618469238281\n",
            "4. - 388.7078857421875\n",
            "5. - 389.17205810546875\n",
            "6. - 380.3915710449219\n",
            "7. - 381.907470703125\n",
            "8. - 379.1369934082031\n",
            "9. - 400.3116455078125\n",
            "10. - 391.9635314941406\n",
            "11. - 382.4134826660156\n",
            "12. - 393.5362243652344\n",
            "13. - 410.3375549316406\n",
            "14. - 403.7169494628906\n",
            "15. - 385.31591796875\n",
            "16. - 385.715087890625\n",
            "17. - 385.0826110839844\n",
            "18. - 377.9609680175781\n",
            "19. - 388.81072998046875\n",
            "20. - 380.81585693359375\n",
            "21. - 391.1479187011719\n",
            "22. - 389.63427734375\n",
            "23. - 398.8058776855469\n",
            "24. - 383.0683898925781\n",
            "25. - 376.4534606933594\n",
            "26. - 379.36346435546875\n",
            "27. - 385.655029296875\n",
            "28. - 386.519287109375\n",
            "29. - 380.7160339355469\n",
            "30. - 379.3541564941406\n",
            "31. - 391.5929870605469\n",
            "32. - 397.7341003417969\n",
            "33. - 403.5926818847656\n",
            "34. - 394.0595397949219\n",
            "35. - 398.4417419433594\n"
          ],
          "name": "stdout"
        }
      ]
    },
    {
      "cell_type": "code",
      "metadata": {
        "colab": {
          "base_uri": "https://localhost:8080/",
          "height": 312
        },
        "id": "F3TSK4gb0Eta",
        "outputId": "dffdc02a-8c12-4372-ec4e-16f26773a2d4"
      },
      "source": [
        "print(accuracy())\n",
        "\n",
        "plot_loss(losses)"
      ],
      "execution_count": 119,
      "outputs": [
        {
          "output_type": "stream",
          "text": [
            "87.62\n"
          ],
          "name": "stdout"
        },
        {
          "output_type": "display_data",
          "data": {
            "image/png": "[encoded data removed]",
            "text/plain": [
              "<Figure size 432x288 with 1 Axes>"
            ]
          },
          "metadata": {
            "tags": [],
            "needs_background": "light"
          }
        }
      ]
    },
    {
      "cell_type": "code",
      "metadata": {
        "colab": {
          "base_uri": "https://localhost:8080/"
        },
        "id": "0gGIT-mV1rwx",
        "outputId": "09dcae2e-4170-4a8f-ae39-c32b66e5ba77"
      },
      "source": [
        "optimizer = optim.SGD(FFNN.parameters(), lr = 1e-6)\n",
        "num_epochs = 5\n",
        "batch_size = 5000\n",
        "losses = train(num_epochs,batch_size,optimizer)"
      ],
      "execution_count": 120,
      "outputs": [
        {
          "output_type": "stream",
          "text": [
            "Epoch completed: 1\n",
            "\n",
            "\n",
            "1. - 1989.481689453125\n",
            "2. - 1957.4649658203125\n",
            "3. - 1979.4774169921875\n",
            "4. - 1979.3077392578125\n",
            "5. - 1927.5804443359375\n",
            "6. - 1945.395751953125\n",
            "7. - 1975.77685546875\n",
            "Epoch completed: 2\n",
            "\n",
            "\n",
            "1. - 1981.318359375\n",
            "2. - 1949.2296142578125\n",
            "3. - 1969.504638671875\n",
            "4. - 1969.602783203125\n",
            "5. - 1921.0030517578125\n",
            "6. - 1935.1182861328125\n",
            "7. - 1969.6265869140625\n",
            "Epoch completed: 3\n",
            "\n",
            "\n",
            "1. - 1974.8643798828125\n",
            "2. - 1942.476806640625\n",
            "3. - 1961.3896484375\n",
            "4. - 1961.417236328125\n",
            "5. - 1915.8905029296875\n",
            "6. - 1926.6033935546875\n",
            "7. - 1964.944091796875\n",
            "Epoch completed: 4\n",
            "\n",
            "\n",
            "1. - 1969.8392333984375\n",
            "2. - 1937.0916748046875\n",
            "3. - 1954.9493408203125\n",
            "4. - 1954.5020751953125\n",
            "5. - 1911.8741455078125\n",
            "6. - 1919.569580078125\n",
            "7. - 1961.3682861328125\n",
            "Epoch completed: 5\n",
            "\n",
            "\n",
            "1. - 1965.9776611328125\n",
            "2. - 1932.7373046875\n",
            "3. - 1949.93310546875\n",
            "4. - 1948.6146240234375\n",
            "5. - 1908.69091796875\n",
            "6. - 1913.775634765625\n",
            "7. - 1958.62060546875\n"
          ],
          "name": "stdout"
        }
      ]
    },
    {
      "cell_type": "code",
      "metadata": {
        "colab": {
          "base_uri": "https://localhost:8080/",
          "height": 312
        },
        "id": "OWhbvEqJ3FBG",
        "outputId": "edbdae79-6e49-4e32-b710-6071e259e2bf"
      },
      "source": [
        "print(accuracy())\n",
        "\n",
        "plot_loss(losses)"
      ],
      "execution_count": 121,
      "outputs": [
        {
          "output_type": "stream",
          "text": [
            "87.9\n"
          ],
          "name": "stdout"
        },
        {
          "output_type": "display_data",
          "data": {
            "image/png": "[encoded data removed]",
            "text/plain": [
              "<Figure size 432x288 with 1 Axes>"
            ]
          },
          "metadata": {
            "tags": [],
            "needs_background": "light"
          }
        }
      ]
    },
    {
      "cell_type": "code",
      "metadata": {
        "colab": {
          "base_uri": "https://localhost:8080/"
        },
        "id": "os3zL3POD9cr",
        "outputId": "6c76b5ae-8837-410d-afe2-fdfd1552dcbd"
      },
      "source": [
        "optimizer = optim.SGD(FFNN.parameters(), lr = 1e-4)\n",
        "num_epochs = 3\n",
        "batch_size = 10\n",
        "losses = train(num_epochs,batch_size,optimizer)"
      ],
      "execution_count": 128,
      "outputs": [
        {
          "output_type": "stream",
          "text": [
            "1 % complemeted\n",
            "2 % complemeted\n",
            "3 % complemeted\n",
            "4 % complemeted\n",
            "5 % complemeted\n",
            "6 % complemeted\n",
            "7 % complemeted\n",
            "8 % complemeted\n",
            "9 % complemeted\n",
            "10 % complemeted\n",
            "11 % complemeted\n",
            "12 % complemeted\n",
            "13 % complemeted\n",
            "14 % complemeted\n",
            "15 % complemeted\n",
            "16 % complemeted\n",
            "17 % complemeted\n",
            "18 % complemeted\n",
            "19 % complemeted\n",
            "20 % complemeted\n",
            "21 % complemeted\n",
            "22 % complemeted\n",
            "23 % complemeted\n",
            "24 % complemeted\n",
            "25 % complemeted\n",
            "26 % complemeted\n",
            "27 % complemeted\n",
            "28 % complemeted\n",
            "29 % complemeted\n",
            "30 % complemeted\n",
            "31 % complemeted\n",
            "32 % complemeted\n",
            "33 % complemeted\n",
            "34 % complemeted\n",
            "35 % complemeted\n",
            "36 % complemeted\n",
            "37 % complemeted\n",
            "38 % complemeted\n",
            "39 % complemeted\n",
            "40 % complemeted\n",
            "41 % complemeted\n",
            "42 % complemeted\n",
            "43 % complemeted\n",
            "44 % complemeted\n",
            "45 % complemeted\n",
            "46 % complemeted\n",
            "47 % complemeted\n",
            "48 % complemeted\n",
            "49 % complemeted\n",
            "50 % complemeted\n",
            "51 % complemeted\n",
            "52 % complemeted\n",
            "53 % complemeted\n",
            "54 % complemeted\n",
            "55 % complemeted\n",
            "56 % complemeted\n",
            "57 % complemeted\n",
            "58 % complemeted\n",
            "59 % complemeted\n",
            "60 % complemeted\n",
            "61 % complemeted\n",
            "62 % complemeted\n",
            "63 % complemeted\n",
            "64 % complemeted\n",
            "65 % complemeted\n",
            "66 % complemeted\n",
            "67 % complemeted\n",
            "68 % complemeted\n",
            "69 % complemeted\n",
            "70 % complemeted\n",
            "71 % complemeted\n",
            "72 % complemeted\n",
            "73 % complemeted\n",
            "74 % complemeted\n",
            "75 % complemeted\n",
            "76 % complemeted\n",
            "77 % complemeted\n",
            "78 % complemeted\n",
            "79 % complemeted\n",
            "80 % complemeted\n",
            "81 % complemeted\n",
            "82 % complemeted\n",
            "83 % complemeted\n",
            "84 % complemeted\n",
            "85 % complemeted\n",
            "86 % complemeted\n",
            "87 % complemeted\n",
            "88 % complemeted\n",
            "89 % complemeted\n",
            "90 % complemeted\n",
            "91 % complemeted\n",
            "92 % complemeted\n",
            "93 % complemeted\n",
            "94 % complemeted\n",
            "95 % complemeted\n",
            "96 % complemeted\n",
            "97 % complemeted\n",
            "98 % complemeted\n",
            "99 % complemeted\n",
            "100 % complemeted\n"
          ],
          "name": "stdout"
        }
      ]
    },
    {
      "cell_type": "code",
      "metadata": {
        "colab": {
          "base_uri": "https://localhost:8080/",
          "height": 312
        },
        "id": "QfsMi8vUEQsq",
        "outputId": "5bae8789-0bab-4735-98d6-47b8e29b0b6e"
      },
      "source": [
        "print(accuracy())\n",
        "\n",
        "plot_loss(losses)"
      ],
      "execution_count": 129,
      "outputs": [
        {
          "output_type": "stream",
          "text": [
            "88.06666666666666\n"
          ],
          "name": "stdout"
        },
        {
          "output_type": "display_data",
          "data": {
            "image/png": "[encoded data removed]",
            "text/plain": [
              "<Figure size 432x288 with 1 Axes>"
            ]
          },
          "metadata": {
            "tags": [],
            "needs_background": "light"
          }
        }
      ]
    },
    {
      "cell_type": "code",
      "metadata": {
        "id": "nUUxgQPUETZt"
      },
      "source": [
        ""
      ],
      "execution_count": null,
      "outputs": []
    }
  ]
}