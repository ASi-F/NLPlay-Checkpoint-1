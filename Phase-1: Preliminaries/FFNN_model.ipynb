{
  "nbformat": 4,
  "nbformat_minor": 0,
  "metadata": {
    "colab": {
      "name": "FFnnipynb",
      "provenance": [],
      "collapsed_sections": [],
      "mount_file_id": "1i5-CRaU93mrPkuA0rHSMD-wPG7nskeqY",
      "authorship_tag": "ABX9TyPIkv2rQVdY9mqcYhhY1Q0i",
      "include_colab_link": true
    },
    "kernelspec": {
      "name": "python3",
      "display_name": "Python 3"
    },
    "language_info": {
      "name": "python"
    },
    "accelerator": "GPU"
  },
  "cells": [
    {
      "cell_type": "markdown",
      "metadata": {
        "id": "view-in-github",
        "colab_type": "text"
      },
      "source": [
        "<a href=\"https://colab.research.google.com/github/ASi-F/Sentiment-Analysis/blob/main/FFnnipynb.ipynb\" target=\"_parent\"><img src=\"https://colab.research.google.com/assets/colab-badge.svg\" alt=\"Open In Colab\"/></a>"
      ]
    },
    {
      "cell_type": "markdown",
      "metadata": {
        "id": "Ug2IOrM9Kbme"
      },
      "source": [
        "# Feed Forward Neural Network\n",
        "This is a sentiment classification model made using a feed forward neural network with 3 hidden layers and 500 neurons in each layer. The model is trained on the IMDB dataset consisting of 50000 reviews labelled as positive or negative. The dataset was divided into training, validation and testing datasets in 70-15-15 ratio. The accuracy is expressed as the empirical error on the test dataset. The model was optimized over various batchsizes and learning rates but the final accuracy showed little variation. "
      ]
    },
    {
      "cell_type": "code",
      "metadata": {
        "id": "LFmbt0acv5UQ"
      },
      "source": [
        "import pandas as pd\n",
        "import os\n",
        "import torch\n",
        "import numpy as np\n",
        "import nltk\n",
        "import matplotlib.pyplot as plt\n",
        "import random"
      ],
      "execution_count": 1,
      "outputs": []
    },
    {
      "cell_type": "code",
      "metadata": {
        "id": "I7B8HjqDwFDr"
      },
      "source": [
        "df = pd.read_csv('/content/drive/MyDrive/Colab Notebooks/IMDB Dataset.csv')"
      ],
      "execution_count": 2,
      "outputs": []
    },
    {
      "cell_type": "code",
      "metadata": {
        "id": "FklotTxCwXUp",
        "colab": {
          "base_uri": "https://localhost:8080/",
          "height": 189
        },
        "outputId": "2e58c6bc-af80-4a0f-c255-91fcaefad0c7"
      },
      "source": [
        "print(df.columns)\n",
        "df.describe()"
      ],
      "execution_count": 3,
      "outputs": [
        {
          "output_type": "stream",
          "text": [
            "Index(['review', 'sentiment'], dtype='object')\n"
          ],
          "name": "stdout"
        },
        {
          "output_type": "execute_result",
          "data": {
            "text/html": [
              "<div>\n",
              "<style scoped>\n",
              "    .dataframe tbody tr th:only-of-type {\n",
              "        vertical-align: middle;\n",
              "    }\n",
              "\n",
              "    .dataframe tbody tr th {\n",
              "        vertical-align: top;\n",
              "    }\n",
              "\n",
              "    .dataframe thead th {\n",
              "        text-align: right;\n",
              "    }\n",
              "</style>\n",
              "<table border=\"1\" class=\"dataframe\">\n",
              "  <thead>\n",
              "    <tr style=\"text-align: right;\">\n",
              "      <th></th>\n",
              "      <th>review</th>\n",
              "      <th>sentiment</th>\n",
              "    </tr>\n",
              "  </thead>\n",
              "  <tbody>\n",
              "    <tr>\n",
              "      <th>count</th>\n",
              "      <td>50000</td>\n",
              "      <td>50000</td>\n",
              "    </tr>\n",
              "    <tr>\n",
              "      <th>unique</th>\n",
              "      <td>49582</td>\n",
              "      <td>2</td>\n",
              "    </tr>\n",
              "    <tr>\n",
              "      <th>top</th>\n",
              "      <td>Loved today's show!!! It was a variety and not...</td>\n",
              "      <td>positive</td>\n",
              "    </tr>\n",
              "    <tr>\n",
              "      <th>freq</th>\n",
              "      <td>5</td>\n",
              "      <td>25000</td>\n",
              "    </tr>\n",
              "  </tbody>\n",
              "</table>\n",
              "</div>"
            ],
            "text/plain": [
              "                                                   review sentiment\n",
              "count                                               50000     50000\n",
              "unique                                              49582         2\n",
              "top     Loved today's show!!! It was a variety and not...  positive\n",
              "freq                                                    5     25000"
            ]
          },
          "metadata": {
            "tags": []
          },
          "execution_count": 3
        }
      ]
    },
    {
      "cell_type": "code",
      "metadata": {
        "id": "V00TcxtawY8g",
        "colab": {
          "base_uri": "https://localhost:8080/"
        },
        "outputId": "af1ca9d2-e19d-4640-e663-00d18a9477e2"
      },
      "source": [
        "nltk.download('stopwords')\n",
        "from nltk.corpus import stopwords\n",
        "nltk.download('punkt')\n",
        "stop = stopwords.words('english')"
      ],
      "execution_count": 4,
      "outputs": [
        {
          "output_type": "stream",
          "text": [
            "[nltk_data] Downloading package stopwords to /root/nltk_data...\n",
            "[nltk_data]   Package stopwords is already up-to-date!\n",
            "[nltk_data] Downloading package punkt to /root/nltk_data...\n",
            "[nltk_data]   Package punkt is already up-to-date!\n"
          ],
          "name": "stdout"
        }
      ]
    },
    {
      "cell_type": "markdown",
      "metadata": {
        "id": "ZSIkjgC5MCJi"
      },
      "source": [
        "# Functons for preprocessing textual data\n",
        "\n",
        "Here, the raw data has been cleansed of stop words and punctuations, tokenized and stemmed to give us usable tokens. "
      ]
    },
    {
      "cell_type": "code",
      "metadata": {
        "id": "-xHGfokVwnd8"
      },
      "source": [
        "def remove_punctuation(text):\n",
        "    final = \"\".join(u for u in text if u not in (\"?\", \".\", \";\", \":\", \"!\", '\"', ','))\n",
        "    return final"
      ],
      "execution_count": 5,
      "outputs": []
    },
    {
      "cell_type": "code",
      "metadata": {
        "id": "YBL4JHcwwulo"
      },
      "source": [
        "def remove_tags(text):\n",
        "    final = \"\"\n",
        "    stt = True\n",
        "    for char in text:\n",
        "        if char == '<':\n",
        "            stt = False\n",
        "        if(stt):\n",
        "            final = final + char\n",
        "        if char == '>':\n",
        "            stt = True\n",
        "            final = final + ' '\n",
        "    return final"
      ],
      "execution_count": 6,
      "outputs": []
    },
    {
      "cell_type": "code",
      "metadata": {
        "id": "zoJX5MA4xBna"
      },
      "source": [
        "def stem_tokens(tokens):\n",
        "    final = [nltk.stem.PorterStemmer().stem(word) for word in tokens]\n",
        "    return final"
      ],
      "execution_count": 7,
      "outputs": []
    },
    {
      "cell_type": "code",
      "metadata": {
        "id": "3BKH2AQYxadS"
      },
      "source": [
        "def preprocess_text(text):\n",
        "  ret = remove_punctuation(text)\n",
        "  ret = remove_tags(ret)\n",
        "  ret = ret.lower()\n",
        "  ret = ' '.join([word for word in ret.split() if word not in (stop)])\n",
        "  return ret"
      ],
      "execution_count": 8,
      "outputs": []
    },
    {
      "cell_type": "code",
      "metadata": {
        "id": "K5smolIVzyOL"
      },
      "source": [
        "def make_tokens(text):\n",
        "  ret = nltk.word_tokenize(text)\n",
        "  ret = stem_tokens(ret)\n",
        "  return ret"
      ],
      "execution_count": 9,
      "outputs": []
    },
    {
      "cell_type": "code",
      "metadata": {
        "id": "vf663HPgzU0N"
      },
      "source": [
        "df['clean_review'] = df['review'].apply(preprocess_text)"
      ],
      "execution_count": 10,
      "outputs": []
    },
    {
      "cell_type": "code",
      "metadata": {
        "id": "IQJXxODIzuSN",
        "colab": {
          "base_uri": "https://localhost:8080/",
          "height": 120
        },
        "outputId": "90b47521-3b9d-49eb-ed19-1af709b7e56d"
      },
      "source": [
        "df['clean_review'][0]"
      ],
      "execution_count": 11,
      "outputs": [
        {
          "output_type": "execute_result",
          "data": {
            "application/vnd.google.colaboratory.intrinsic+json": {
              "type": "string"
            },
            "text/plain": [
              "\"one reviewers mentioned watching 1 oz episode hooked right exactly happened first thing struck oz brutality unflinching scenes violence set right word go trust show faint hearted timid show pulls punches regards drugs sex violence hardcore classic use word called oz nickname given oswald maximum security state penitentary focuses mainly emerald city experimental section prison cells glass fronts face inwards privacy high agenda em city home manyaryans muslims gangstas latinos christians italians irish moreso scuffles death stares dodgy dealings shady agreements never far away would say main appeal show due fact goes shows dare forget pretty pictures painted mainstream audiences forget charm forget romanceoz mess around first episode ever saw struck nasty surreal say ready watched developed taste oz got accustomed high levels graphic violence violence injustice (crooked guards who'll sold nickel inmates who'll kill order get away well mannered middle class inmates turned prison bitches due lack street skills prison experience) watching oz may become comfortable uncomfortable viewingthats get touch darker side\""
            ]
          },
          "metadata": {
            "tags": []
          },
          "execution_count": 11
        }
      ]
    },
    {
      "cell_type": "code",
      "metadata": {
        "id": "iLNvnNXXtBy8"
      },
      "source": [
        "df['tokens'] = df['clean_review'].apply(make_tokens)"
      ],
      "execution_count": 12,
      "outputs": []
    },
    {
      "cell_type": "code",
      "metadata": {
        "id": "DhtX42aGtKh6"
      },
      "source": [
        "df['label'] = [1*(sent=='positive') for sent in df['sentiment']]"
      ],
      "execution_count": 13,
      "outputs": []
    },
    {
      "cell_type": "markdown",
      "metadata": {
        "id": "A7oshtvtMyrS"
      },
      "source": [
        "## Here the given data has been divided into training, testing and validation data."
      ]
    },
    {
      "cell_type": "code",
      "metadata": {
        "id": "9LIYDvO9-ocz"
      },
      "source": [
        "df['seprate'] = ([0 ]*14 + [1]*3 + [2]*3)*2500"
      ],
      "execution_count": 14,
      "outputs": []
    },
    {
      "cell_type": "code",
      "metadata": {
        "id": "H5buhfCSH_BC"
      },
      "source": [
        "X_train = [tokens for i,tokens in enumerate(df['tokens']) if df['seprate'][i]==0]\n",
        "Y_train = [label for i,label in enumerate(df['label']) if df['seprate'][i]==0]\n",
        "\n",
        "X_valid = [tokens for i,tokens in enumerate(df['tokens']) if df['seprate'][i]==1]\n",
        "Y_valid = [label for i,label in enumerate(df['label']) if df['seprate'][i]==1]\n",
        "\n",
        "X_test = [tokens for i,tokens in enumerate(df['tokens']) if df['seprate'][i]==2]\n",
        "Y_test = [label for i,label in enumerate(df['label']) if df['seprate'][i]==2]"
      ],
      "execution_count": 15,
      "outputs": []
    },
    {
      "cell_type": "code",
      "metadata": {
        "id": "DZHP3pvR3wsc"
      },
      "source": [
        "from gensim import corpora\n",
        "\n",
        "review_dict = corpora.Dictionary(df['tokens'])"
      ],
      "execution_count": 16,
      "outputs": []
    },
    {
      "cell_type": "code",
      "metadata": {
        "colab": {
          "base_uri": "https://localhost:8080/"
        },
        "id": "wbr0X--lF5um",
        "outputId": "1006a1f7-ab1d-4d26-f3a4-d34fc5bafaf3"
      },
      "source": [
        "import torch.nn as nn\n",
        "import torch.nn.functional as F\n",
        "import torch.optim as optim\n",
        "\n",
        "device = torch.device(\"cuda\" if torch.cuda.is_available() else \"cpu\")\n",
        "print(\"Device available for running: \")\n",
        "print(device)"
      ],
      "execution_count": 17,
      "outputs": [
        {
          "output_type": "stream",
          "text": [
            "Device available for running: \n",
            "cuda\n"
          ],
          "name": "stdout"
        }
      ]
    },
    {
      "cell_type": "code",
      "metadata": {
        "id": "brDalcYrF7jg"
      },
      "source": [
        "# define FeedforwardNeuralNetwork\n",
        "class FeedForwardNN(nn.Module):\n",
        "    def __init__(self,input_size,hidden_size,output_size):\n",
        "        super(FeedForwardNN,self).__init__()\n",
        "        \n",
        "        # Linear fnction 1\n",
        "        self.LF1 = nn.Linear(input_size,hidden_size)\n",
        "        # Nonlinear fnction 1\n",
        "        self.NLF1 = nn.ReLU()\n",
        "        \n",
        "        # Linear function 2\n",
        "        self.LF2 = nn.Linear(hidden_size,hidden_size)\n",
        "        # Nonlinear fnction 2\n",
        "        self.NLF2 = nn.ReLU()\n",
        "        \n",
        "        #Linear function 2\n",
        "        self.LF3 = nn.Linear(hidden_size,output_size)\n",
        "        \n",
        "    def forward(self,x):\n",
        "        # Layer 1\n",
        "        out = self.LF1(x)\n",
        "        out = self.NLF1(out)\n",
        "        \n",
        "        #Layer 2 \n",
        "        out = self.LF2(out)\n",
        "        out = self.NLF2(out)\n",
        "        \n",
        "        #Layer 3\n",
        "        out = self.LF3(out)\n",
        "        \n",
        "        return F.softmax(out,dim=1)"
      ],
      "execution_count": 18,
      "outputs": []
    },
    {
      "cell_type": "code",
      "metadata": {
        "id": "Zl_FGfoJGEpZ"
      },
      "source": [
        "VOCAB_SIZE = len(review_dict)\n",
        "NUM_LABELS = 2\n",
        "\n",
        "def make_bow_vector(review_dict, sentence):\n",
        "    vec = torch.zeros(VOCAB_SIZE,dtype = torch.float64, device = device)\n",
        "    for word in sentence:\n",
        "        if word in review_dict.token2id.keys():\n",
        "          vec[review_dict.token2id[word]]+=1\n",
        "    return vec.reshape(1,-1).float()"
      ],
      "execution_count": 82,
      "outputs": []
    },
    {
      "cell_type": "code",
      "metadata": {
        "id": "P1A-13X_Gqe8"
      },
      "source": [
        "def make_pred(label):\n",
        "    if label == 0:\n",
        "        return torch.tensor([0], dtype = torch.long, device = device)\n",
        "    elif label == 1:\n",
        "        return torch.tensor([1], dtype = torch.long, device = device)"
      ],
      "execution_count": 20,
      "outputs": []
    },
    {
      "cell_type": "code",
      "metadata": {
        "id": "Fm1ccGE4K-eO"
      },
      "source": [
        "def val_loss():\n",
        "  vloss = torch.tensor([0.],device = device)\n",
        "  for index,row in enumerate(X_valid):\n",
        "    bow_vec = make_bow_vector(review_dict,row)\n",
        "    preds = FFNN(bow_vec)\n",
        "    target = make_pred(Y_valid[index])\n",
        "    loss = loss_function(preds, target)\n",
        "    vloss +=loss\n",
        "  return vloss.item()"
      ],
      "execution_count": 21,
      "outputs": []
    },
    {
      "cell_type": "code",
      "metadata": {
        "id": "0No4AJ9MGuXN"
      },
      "source": [
        "def train(num_epochs,batch_size,optimizer,loss_function = nn.CrossEntropyLoss()):\n",
        "  losses = []\n",
        "  valid_losses = []\n",
        "  task_len = num_epochs *len(X_train)\n",
        "  ittr = 0\n",
        "  for epoch in range(num_epochs):\n",
        "      train_loss = torch.tensor([0.],device = device)\n",
        "      \n",
        "      for index,row in enumerate(X_train):\n",
        "          ittr+=1\n",
        "          if ittr%(task_len//100) == 0:\n",
        "            print(ittr*100//(task_len),'% complemeted')\n",
        "            if ittr%(task_len//20) == 0:\n",
        "              valid_losses.append(val_loss())\n",
        "              print('Valid loss:',valid_losses[-1])\n",
        "          # make bag of word vector \n",
        "          bow_vec = make_bow_vector(review_dict,row)\n",
        "        \n",
        "          # Forward pass\n",
        "          preds = FFNN(bow_vec)\n",
        "        \n",
        "          # get target label\n",
        "          target = make_pred(Y_train[index])\n",
        "\n",
        "          loss = loss_function(preds, target)\n",
        "  \n",
        "          train_loss +=loss\n",
        "        \n",
        "          if ittr%batch_size ==0:\n",
        "            # clear gradients\n",
        "            optimizer.zero_grad()\n",
        "\n",
        "            # compute gradientts\n",
        "            train_loss.backward()\n",
        "\n",
        "            # update parameters\n",
        "            optimizer.step()\n",
        "            \n",
        "            losses.append(train_loss.item())\n",
        "            print('Training loss:',train_loss.item())\n",
        "            train_loss = 0.\n",
        "  return losses, valid_losses"
      ],
      "execution_count": 22,
      "outputs": []
    },
    {
      "cell_type": "code",
      "metadata": {
        "id": "TWYVYyyDVUWM"
      },
      "source": [
        "def quick_train(num_epochs,batch_size,optimizer,loss_function = nn.CrossEntropyLoss()):\n",
        "  ittr = 0\n",
        "  for epoch in range(num_epochs):\n",
        "      train_loss = torch.tensor([0.],device = device)\n",
        "      for index,row in enumerate(X_train):\n",
        "          ittr +=1\n",
        "          bow_vec = make_bow_vector(review_dict,row)\n",
        "          preds = FFNN(bow_vec)\n",
        "          target = make_pred(Y_train[index])\n",
        "          loss = loss_function(preds, target)\n",
        "          train_loss +=loss\n",
        "        \n",
        "          if ittr%batch_size ==0:\n",
        "            optimizer.zero_grad()\n",
        "            train_loss.backward()\n",
        "            optimizer.step()\n",
        "            \n",
        "            train_loss = 0."
      ],
      "execution_count": 27,
      "outputs": []
    },
    {
      "cell_type": "code",
      "metadata": {
        "id": "4sP2rwWrGkiE"
      },
      "source": [
        "def accuracy(X,Y):\n",
        "  correct_preds = 0\n",
        "  for index,row in enumerate(X):\n",
        "    bow_vec = make_bow_vector(review_dict,row)\n",
        "    # Forward pass\n",
        "    preds = list(FFNN(bow_vec)[0])\n",
        "    if preds[0]>preds[1]:\n",
        "      out = 0\n",
        "    else :\n",
        "      out = +1\n",
        "    if out == Y[index]:\n",
        "      correct_preds+=1\n",
        "  \n",
        "  return correct_preds*100/len(X)\n",
        "\n",
        "def plot_loss(losses):\n",
        "  x = [i for i in range(0,len(losses))]\n",
        "  plt.plot(x,losses)\n",
        "  plt.title('Loss fnction')\n",
        "  plt.ylabel('Loss')\n",
        "  plt.xlabel('batch index')\n",
        "\n",
        "def smooth_loss(losses,f):\n",
        "  y = [0]*len(losses)\n",
        "  for i in range(0,f):\n",
        "    y[i] = (sum(losses[:i+1+f]))/(i+1+f)\n",
        "  for i in range(f,len(losses)-f-1):\n",
        "    y[i] = (sum(losses[i-f:i+f+1]))/(2*f+1)\n",
        "  for i in range(len(losses)-f-1,len(losses)):\n",
        "    y[i] = (sum(losses[i-f:]))/(len(losses)-i+f)\n",
        "  plot_loss(y)"
      ],
      "execution_count": 24,
      "outputs": []
    },
    {
      "cell_type": "markdown",
      "metadata": {
        "id": "qoLG96ymNCFO"
      },
      "source": [
        "## Choosing an optimum model amongst various, characterized by different bacthsizes and learning rates"
      ]
    },
    {
      "cell_type": "code",
      "metadata": {
        "colab": {
          "base_uri": "https://localhost:8080/"
        },
        "id": "ewWIN-5GMuwX",
        "outputId": "8864dd8f-c8a8-4722-8f16-261fd17545aa"
      },
      "source": [
        "plr = [0.001,0.003,0.005,0.008,0.01]\n",
        "pbs = [250,500,750,1000]\n",
        "VOCAB_SIZE = len(review_dict)\n",
        "\n",
        "input_size = VOCAB_SIZE\n",
        "output_size = 2\n",
        "num_epochs = 2\n",
        "num_short_epochs = 1\n",
        "batch_size = 0\n",
        "hidden_dim = 500\n",
        "LR = 0\n",
        "\n",
        "acc = 0\n",
        "i = 0\n",
        "for lr in plr:\n",
        "    for bs in pbs:\n",
        "      i = i+1\n",
        "      FFNN = FeedForwardNN(input_size,hidden_dim,output_size)\n",
        "      FFNN.to(device)\n",
        "      loss_function = nn.CrossEntropyLoss()\n",
        "      optimizer = optim.SGD(FFNN.parameters(), lr)\n",
        "      quick_train(num_short_epochs,bs,optimizer)\n",
        "      runningacc = accuracy(X_valid,Y_valid)\n",
        "      print(i,'. running accuracy: ',runningacc)\n",
        "      if acc<runningacc:\n",
        "        batch_size = bs\n",
        "        LR = lr\n",
        "        acc = runningacc"
      ],
      "execution_count": 36,
      "outputs": [
        {
          "output_type": "stream",
          "text": [
            "1 . running accuracy:  84.36\n",
            "2 . running accuracy:  82.86666666666666\n",
            "3 . running accuracy:  78.2\n",
            "4 . running accuracy:  76.13333333333334\n",
            "5 . running accuracy:  85.04\n",
            "6 . running accuracy:  83.82666666666667\n",
            "7 . running accuracy:  78.58666666666667\n",
            "8 . running accuracy:  76.90666666666667\n",
            "9 . running accuracy:  83.6\n",
            "10 . running accuracy:  83.37333333333333\n",
            "11 . running accuracy:  75.41333333333333\n",
            "12 . running accuracy:  75.14666666666666\n",
            "13 . running accuracy:  80.89333333333333\n",
            "14 . running accuracy:  78.34666666666666\n",
            "15 . running accuracy:  74.49333333333334\n",
            "16 . running accuracy:  50.53333333333333\n",
            "17 . running accuracy:  81.09333333333333\n",
            "18 . running accuracy:  80.84\n",
            "19 . running accuracy:  49.46666666666667\n",
            "20 . running accuracy:  49.46666666666667\n"
          ],
          "name": "stdout"
        }
      ]
    },
    {
      "cell_type": "code",
      "metadata": {
        "id": "hDHVA5p3YNd_"
      },
      "source": [
        "FFNN = FeedForwardNN(input_size,hidden_dim,output_size)\n",
        "FFNN.to(device)\n",
        "loss_function = nn.CrossEntropyLoss()\n",
        "optimizer = optim.SGD(FFNN.parameters(), LR)"
      ],
      "execution_count": 37,
      "outputs": []
    },
    {
      "cell_type": "markdown",
      "metadata": {
        "id": "e4iPevLkNWOY"
      },
      "source": [
        "# Training "
      ]
    },
    {
      "cell_type": "code",
      "metadata": {
        "colab": {
          "base_uri": "https://localhost:8080/"
        },
        "id": "Y4hgYP9VM3kE",
        "outputId": "1018e932-af29-4c7d-fbcf-c56fdbce560f"
      },
      "source": [
        "losses, valid_losses = train(num_epochs,batch_size,optimizer)"
      ],
      "execution_count": 38,
      "outputs": [
        {
          "output_type": "stream",
          "text": [
            "Training loss: 173.2276611328125\n",
            "Training loss: 173.31573486328125\n",
            "1 % complemeted\n",
            "Training loss: 173.41552734375\n",
            "Training loss: 172.61148071289062\n",
            "Training loss: 173.24977111816406\n",
            "2 % complemeted\n",
            "Training loss: 172.3475341796875\n",
            "Training loss: 171.99203491210938\n",
            "Training loss: 172.1256561279297\n",
            "3 % complemeted\n",
            "Training loss: 171.37319946289062\n",
            "Training loss: 170.88172912597656\n",
            "Training loss: 169.1476287841797\n",
            "4 % complemeted\n",
            "Training loss: 169.7548370361328\n",
            "Training loss: 166.9474334716797\n",
            "5 % complemeted\n",
            "Valid loss: 4984.11669921875\n",
            "Training loss: 166.20816040039062\n",
            "Training loss: 166.26724243164062\n",
            "Training loss: 164.1537628173828\n",
            "6 % complemeted\n",
            "Training loss: 162.21337890625\n",
            "Training loss: 162.74647521972656\n",
            "Training loss: 159.0998992919922\n",
            "7 % complemeted\n",
            "Training loss: 154.54641723632812\n",
            "Training loss: 155.94607543945312\n",
            "Training loss: 160.91163635253906\n",
            "8 % complemeted\n",
            "Training loss: 160.31594848632812\n",
            "Training loss: 154.90138244628906\n",
            "Training loss: 154.79885864257812\n",
            "9 % complemeted\n",
            "Training loss: 150.99392700195312\n",
            "Training loss: 147.8135986328125\n",
            "10 % complemeted\n",
            "Valid loss: 4302.1943359375\n",
            "Training loss: 139.2086181640625\n",
            "Training loss: 146.07431030273438\n",
            "Training loss: 161.50619506835938\n",
            "11 % complemeted\n",
            "Training loss: 147.1895294189453\n",
            "Training loss: 166.7476043701172\n",
            "Training loss: 143.9397735595703\n",
            "12 % complemeted\n",
            "Training loss: 160.48031616210938\n",
            "Training loss: 148.43106079101562\n",
            "Training loss: 145.14791870117188\n",
            "13 % complemeted\n",
            "Training loss: 140.505615234375\n",
            "Training loss: 132.1608123779297\n",
            "Training loss: 137.3260955810547\n",
            "14 % complemeted\n",
            "Training loss: 145.02000427246094\n",
            "Training loss: 145.1314697265625\n",
            "15 % complemeted\n",
            "Valid loss: 3957.65283203125\n",
            "Training loss: 133.73678588867188\n",
            "Training loss: 152.20469665527344\n",
            "Training loss: 129.111083984375\n",
            "16 % complemeted\n",
            "Training loss: 130.75599670410156\n",
            "Training loss: 131.4929962158203\n",
            "Training loss: 125.23963165283203\n",
            "17 % complemeted\n",
            "Training loss: 126.73353576660156\n",
            "Training loss: 126.38154602050781\n",
            "Training loss: 138.09567260742188\n",
            "18 % complemeted\n",
            "Training loss: 121.16258239746094\n",
            "Training loss: 120.96266174316406\n",
            "Training loss: 158.10043334960938\n",
            "19 % complemeted\n",
            "Training loss: 142.24661254882812\n",
            "Training loss: 139.1363983154297\n",
            "20 % complemeted\n",
            "Valid loss: 3881.616455078125\n",
            "Training loss: 131.63580322265625\n",
            "Training loss: 138.27584838867188\n",
            "Training loss: 130.6236114501953\n",
            "21 % complemeted\n",
            "Training loss: 125.14962768554688\n",
            "Training loss: 128.1447296142578\n",
            "Training loss: 131.995361328125\n",
            "22 % complemeted\n",
            "Training loss: 137.404541015625\n",
            "Training loss: 146.15240478515625\n",
            "Training loss: 122.56185913085938\n",
            "23 % complemeted\n",
            "Training loss: 128.77059936523438\n",
            "Training loss: 122.6287841796875\n",
            "Training loss: 125.54788970947266\n",
            "24 % complemeted\n",
            "Training loss: 124.23363494873047\n",
            "Training loss: 117.4404525756836\n",
            "25 % complemeted\n",
            "Valid loss: 3549.04736328125\n",
            "Training loss: 117.1671371459961\n",
            "Training loss: 111.66667938232422\n",
            "Training loss: 127.40213012695312\n",
            "26 % complemeted\n",
            "Training loss: 114.19050598144531\n",
            "Training loss: 114.40536499023438\n",
            "Training loss: 120.04418182373047\n",
            "27 % complemeted\n",
            "Training loss: 117.6683578491211\n",
            "Training loss: 110.57025146484375\n",
            "Training loss: 116.49137878417969\n",
            "28 % complemeted\n",
            "Training loss: 110.77896881103516\n",
            "Training loss: 133.59609985351562\n",
            "Training loss: 135.79505920410156\n",
            "29 % complemeted\n",
            "Training loss: 130.64964294433594\n",
            "Training loss: 116.40885925292969\n",
            "30 % complemeted\n",
            "Valid loss: 3495.225341796875\n",
            "Training loss: 122.12000274658203\n",
            "Training loss: 119.86175537109375\n",
            "Training loss: 117.32666015625\n",
            "31 % complemeted\n",
            "Training loss: 128.907470703125\n",
            "Training loss: 122.35645294189453\n",
            "Training loss: 118.88114166259766\n",
            "32 % complemeted\n",
            "Training loss: 123.69804382324219\n",
            "Training loss: 146.8935546875\n",
            "Training loss: 124.52146911621094\n",
            "33 % complemeted\n",
            "Training loss: 131.65997314453125\n",
            "Training loss: 118.34960174560547\n",
            "Training loss: 111.82362365722656\n",
            "34 % complemeted\n",
            "Training loss: 124.9049301147461\n",
            "Training loss: 157.33213806152344\n",
            "35 % complemeted\n",
            "Valid loss: 3674.62353515625\n",
            "Training loss: 126.65680694580078\n",
            "Training loss: 121.01830291748047\n",
            "Training loss: 108.89848327636719\n",
            "36 % complemeted\n",
            "Training loss: 110.92855072021484\n",
            "Training loss: 111.37313079833984\n",
            "Training loss: 123.26239013671875\n",
            "37 % complemeted\n",
            "Training loss: 128.67091369628906\n",
            "Training loss: 118.01145935058594\n",
            "Training loss: 113.01619720458984\n",
            "38 % complemeted\n",
            "Training loss: 116.576171875\n",
            "Training loss: 111.31909942626953\n",
            "Training loss: 116.08903503417969\n",
            "39 % complemeted\n",
            "Training loss: 104.39257049560547\n",
            "Training loss: 120.26007843017578\n",
            "40 % complemeted\n",
            "Valid loss: 3478.049072265625\n",
            "Training loss: 113.50239562988281\n",
            "Training loss: 113.0782241821289\n",
            "Training loss: 118.5860366821289\n",
            "41 % complemeted\n",
            "Training loss: 114.61132049560547\n",
            "Training loss: 117.06558990478516\n",
            "Training loss: 128.4710693359375\n",
            "42 % complemeted\n",
            "Training loss: 121.6122055053711\n",
            "Training loss: 120.60086822509766\n",
            "Training loss: 134.75466918945312\n",
            "43 % complemeted\n",
            "Training loss: 130.36016845703125\n",
            "Training loss: 115.5748519897461\n",
            "Training loss: 122.81458282470703\n",
            "44 % complemeted\n",
            "Training loss: 102.55046844482422\n",
            "Training loss: 114.68680572509766\n",
            "45 % complemeted\n",
            "Valid loss: 3408.546142578125\n",
            "Training loss: 114.1607666015625\n",
            "Training loss: 127.73602294921875\n",
            "Training loss: 124.1612777709961\n",
            "46 % complemeted\n",
            "Training loss: 155.51556396484375\n",
            "Training loss: 120.62537384033203\n",
            "Training loss: 112.97407531738281\n",
            "47 % complemeted\n",
            "Training loss: 112.57367706298828\n",
            "Training loss: 116.58670806884766\n",
            "Training loss: 115.22570037841797\n",
            "48 % complemeted\n",
            "Training loss: 121.2742691040039\n",
            "Training loss: 117.27745819091797\n",
            "Training loss: 108.2213363647461\n",
            "49 % complemeted\n",
            "Training loss: 118.36532592773438\n",
            "Training loss: 118.26122283935547\n",
            "50 % complemeted\n",
            "Valid loss: 3527.096435546875\n",
            "Training loss: 106.53765869140625\n",
            "Training loss: 108.50162506103516\n",
            "Training loss: 119.59252166748047\n",
            "51 % complemeted\n",
            "Training loss: 128.8211212158203\n",
            "Training loss: 111.44115447998047\n",
            "Training loss: 109.25929260253906\n",
            "52 % complemeted\n",
            "Training loss: 124.74540710449219\n",
            "Training loss: 110.2421646118164\n",
            "Training loss: 111.511962890625\n",
            "53 % complemeted\n",
            "Training loss: 117.15567779541016\n",
            "Training loss: 107.34132385253906\n",
            "Training loss: 114.71205139160156\n",
            "54 % complemeted\n",
            "Training loss: 120.53121185302734\n",
            "Training loss: 107.55901336669922\n",
            "55 % complemeted\n",
            "Valid loss: 3382.880859375\n",
            "Training loss: 105.3248519897461\n",
            "Training loss: 116.11857604980469\n",
            "Training loss: 109.66321563720703\n",
            "56 % complemeted\n",
            "Training loss: 112.45934295654297\n",
            "Training loss: 110.03944396972656\n",
            "Training loss: 109.8141098022461\n",
            "57 % complemeted\n",
            "Training loss: 106.45506286621094\n",
            "Training loss: 108.35293579101562\n",
            "Training loss: 107.89434814453125\n",
            "58 % complemeted\n",
            "Training loss: 111.56755828857422\n",
            "Training loss: 104.11669921875\n",
            "Training loss: 111.90349578857422\n",
            "59 % complemeted\n",
            "Training loss: 113.97355651855469\n",
            "Training loss: 112.77153778076172\n",
            "60 % complemeted\n",
            "Valid loss: 3373.006591796875\n",
            "Training loss: 101.68450164794922\n",
            "Training loss: 104.66549682617188\n",
            "Training loss: 113.32829284667969\n",
            "61 % complemeted\n",
            "Training loss: 115.43708801269531\n",
            "Training loss: 126.0350341796875\n",
            "Training loss: 112.1156005859375\n",
            "62 % complemeted\n",
            "Training loss: 111.04248809814453\n",
            "Training loss: 121.003662109375\n",
            "Training loss: 111.62763977050781\n",
            "63 % complemeted\n",
            "Training loss: 124.82363891601562\n",
            "Training loss: 121.69234466552734\n",
            "Training loss: 140.97059631347656\n",
            "64 % complemeted\n",
            "Training loss: 111.26805114746094\n",
            "Training loss: 106.27144622802734\n",
            "65 % complemeted\n",
            "Valid loss: 3571.184326171875\n",
            "Training loss: 101.04488372802734\n",
            "Training loss: 109.61431121826172\n",
            "Training loss: 116.15218353271484\n",
            "66 % complemeted\n",
            "Training loss: 114.8597412109375\n",
            "Training loss: 110.19823455810547\n",
            "Training loss: 108.63475036621094\n",
            "67 % complemeted\n",
            "Training loss: 107.6286392211914\n",
            "Training loss: 106.83356475830078\n",
            "Training loss: 102.22030639648438\n",
            "68 % complemeted\n",
            "Training loss: 106.84696197509766\n",
            "Training loss: 107.71601104736328\n",
            "Training loss: 116.05519104003906\n",
            "69 % complemeted\n",
            "Training loss: 98.0127944946289\n",
            "Training loss: 104.58338165283203\n",
            "70 % complemeted\n",
            "Valid loss: 3544.230712890625\n",
            "Training loss: 113.5707015991211\n",
            "Training loss: 117.4274673461914\n",
            "Training loss: 118.71773529052734\n",
            "71 % complemeted\n",
            "Training loss: 107.89149475097656\n",
            "Training loss: 117.01036071777344\n",
            "Training loss: 120.76679229736328\n",
            "72 % complemeted\n",
            "Training loss: 112.9079360961914\n",
            "Training loss: 115.58261108398438\n",
            "Training loss: 118.49958801269531\n",
            "73 % complemeted\n",
            "Training loss: 128.0558624267578\n",
            "Training loss: 137.79635620117188\n",
            "Training loss: 116.70037078857422\n",
            "74 % complemeted\n",
            "Training loss: 122.91551971435547\n",
            "Training loss: 133.1392822265625\n",
            "75 % complemeted\n",
            "Valid loss: 3436.935546875\n",
            "Training loss: 109.30846405029297\n",
            "Training loss: 101.36697387695312\n",
            "Training loss: 108.10261535644531\n",
            "76 % complemeted\n",
            "Training loss: 101.1093521118164\n",
            "Training loss: 104.88997650146484\n",
            "Training loss: 108.46115112304688\n",
            "77 % complemeted\n",
            "Training loss: 107.3016357421875\n",
            "Training loss: 101.94964599609375\n",
            "Training loss: 112.73285675048828\n",
            "78 % complemeted\n",
            "Training loss: 102.46924591064453\n",
            "Training loss: 117.16505432128906\n",
            "Training loss: 113.49468231201172\n",
            "79 % complemeted\n",
            "Training loss: 112.55829620361328\n",
            "Training loss: 106.4537353515625\n",
            "80 % complemeted\n",
            "Valid loss: 3341.925537109375\n",
            "Training loss: 111.92382049560547\n",
            "Training loss: 115.63306427001953\n",
            "Training loss: 100.09626007080078\n",
            "81 % complemeted\n",
            "Training loss: 110.4974365234375\n",
            "Training loss: 108.14656829833984\n",
            "Training loss: 111.24778747558594\n",
            "82 % complemeted\n",
            "Training loss: 121.92497253417969\n",
            "Training loss: 122.2034912109375\n",
            "Training loss: 107.09327697753906\n",
            "83 % complemeted\n",
            "Training loss: 115.33186340332031\n",
            "Training loss: 106.72042846679688\n",
            "Training loss: 115.94444274902344\n",
            "84 % complemeted\n",
            "Training loss: 107.04247283935547\n",
            "Training loss: 118.77506256103516\n",
            "85 % complemeted\n",
            "Valid loss: 3572.148193359375\n",
            "Training loss: 113.71401977539062\n",
            "Training loss: 110.29804992675781\n",
            "Training loss: 102.4540023803711\n",
            "86 % complemeted\n",
            "Training loss: 103.65885162353516\n",
            "Training loss: 106.42935180664062\n",
            "Training loss: 106.69924926757812\n",
            "87 % complemeted\n",
            "Training loss: 107.48836517333984\n",
            "Training loss: 111.02384948730469\n",
            "Training loss: 103.84662628173828\n",
            "88 % complemeted\n",
            "Training loss: 112.20921325683594\n",
            "Training loss: 128.1896514892578\n",
            "Training loss: 123.48589324951172\n",
            "89 % complemeted\n",
            "Training loss: 97.57575988769531\n",
            "Training loss: 111.56571960449219\n",
            "90 % complemeted\n",
            "Valid loss: 3329.011962890625\n",
            "Training loss: 107.76589965820312\n",
            "Training loss: 114.87051391601562\n",
            "Training loss: 112.14823913574219\n",
            "91 % complemeted\n",
            "Training loss: 111.0541000366211\n",
            "Training loss: 111.84992218017578\n",
            "Training loss: 114.34346771240234\n",
            "92 % complemeted\n",
            "Training loss: 107.68791198730469\n",
            "Training loss: 105.7840347290039\n",
            "Training loss: 108.70653533935547\n",
            "93 % complemeted\n",
            "Training loss: 111.99944305419922\n",
            "Training loss: 108.60672760009766\n",
            "Training loss: 111.89818572998047\n",
            "94 % complemeted\n",
            "Training loss: 98.63389587402344\n",
            "Training loss: 113.1723403930664\n",
            "95 % complemeted\n",
            "Valid loss: 3321.3662109375\n",
            "Training loss: 104.4469223022461\n",
            "Training loss: 109.11425018310547\n",
            "Training loss: 100.24990844726562\n",
            "96 % complemeted\n",
            "Training loss: 116.30430603027344\n",
            "Training loss: 117.89613342285156\n",
            "Training loss: 111.50920867919922\n",
            "97 % complemeted\n",
            "Training loss: 113.73157501220703\n",
            "Training loss: 107.56597137451172\n",
            "Training loss: 113.57587432861328\n",
            "98 % complemeted\n",
            "Training loss: 113.47063446044922\n",
            "Training loss: 108.50878143310547\n",
            "Training loss: 105.4422378540039\n",
            "99 % complemeted\n",
            "Training loss: 111.15289306640625\n",
            "Training loss: 112.53496551513672\n",
            "100 % complemeted\n",
            "Valid loss: 3416.388671875\n",
            "Training loss: 98.56580352783203\n"
          ],
          "name": "stdout"
        }
      ]
    },
    {
      "cell_type": "markdown",
      "metadata": {
        "id": "aly6uJCBNbZm"
      },
      "source": [
        "# Accuracies obtained on training, validation and TEST datasets"
      ]
    },
    {
      "cell_type": "code",
      "metadata": {
        "colab": {
          "base_uri": "https://localhost:8080/"
        },
        "id": "ghtJ2CjtJx9e",
        "outputId": "165c1833-2982-402d-ce1b-313e27f462af"
      },
      "source": [
        "train_acc = accuracy(X_train,Y_train)\n",
        "val_acc = accuracy(X_valid,Y_valid)\n",
        "test_acc = accuracy(X_test,Y_test)\n",
        "\n",
        "print('Traning set accuracy: ',train_acc)\n",
        "print('Validation set accuracy: ',val_acc)\n",
        "print('Test set accuracy: ',test_acc)"
      ],
      "execution_count": 88,
      "outputs": [
        {
          "output_type": "stream",
          "text": [
            "Traning set accuracy:  87.53142857142858\n",
            "Validation set accuracy:  85.08\n",
            "Test set accuracy:  86.21333333333334\n"
          ],
          "name": "stdout"
        }
      ]
    },
    {
      "cell_type": "markdown",
      "metadata": {
        "id": "h9iihj7yNlWN"
      },
      "source": [
        "## Losses as a function of iterations over different batches"
      ]
    },
    {
      "cell_type": "code",
      "metadata": {
        "colab": {
          "base_uri": "https://localhost:8080/",
          "height": 295
        },
        "id": "r54yHJOVLsxa",
        "outputId": "fdb5b6f0-8e4a-407e-f9f4-2aceac367b7b"
      },
      "source": [
        "plot_loss(losses)"
      ],
      "execution_count": 40,
      "outputs": [
        {
          "output_type": "display_data",
          "data": {
            "image/png": "[encoded data removed]",
            "text/plain": [
              "<Figure size 432x288 with 1 Axes>"
            ]
          },
          "metadata": {
            "tags": [],
            "needs_background": "light"
          }
        }
      ]
    },
    {
      "cell_type": "markdown",
      "metadata": {
        "id": "Nmd1_mt3Nv9K"
      },
      "source": [
        "## Smoothened out losses by averaging"
      ]
    },
    {
      "cell_type": "code",
      "metadata": {
        "colab": {
          "base_uri": "https://localhost:8080/",
          "height": 295
        },
        "id": "uMU453Q1SvS0",
        "outputId": "bd44de11-6d1f-468e-d25c-56cdad8e9f2e"
      },
      "source": [
        "smooth_loss(losses,15)"
      ],
      "execution_count": 46,
      "outputs": [
        {
          "output_type": "display_data",
          "data": {
            "image/png": "[encoded data removed]",
            "text/plain": [
              "<Figure size 432x288 with 1 Axes>"
            ]
          },
          "metadata": {
            "tags": [],
            "needs_background": "light"
          }
        }
      ]
    },
    {
      "cell_type": "markdown",
      "metadata": {
        "id": "63Wq_QH8N4mG"
      },
      "source": [
        "## Validation dataset losses "
      ]
    },
    {
      "cell_type": "code",
      "metadata": {
        "colab": {
          "base_uri": "https://localhost:8080/",
          "height": 295
        },
        "id": "ynTn8hdrMGbR",
        "outputId": "f3a4e4ba-4be8-4c66-ca50-6da495be6080"
      },
      "source": [
        "plot_loss(valid_losses)"
      ],
      "execution_count": 42,
      "outputs": [
        {
          "output_type": "display_data",
          "data": {
            "image/png": "[encoded data removed]",
            "text/plain": [
              "<Figure size 432x288 with 1 Axes>"
            ]
          },
          "metadata": {
            "tags": [],
            "needs_background": "light"
          }
        }
      ]
    },
    {
      "cell_type": "markdown",
      "metadata": {
        "id": "DvFWPBpnOA48"
      },
      "source": [
        "## Smoothened out validation dataset losses"
      ]
    },
    {
      "cell_type": "code",
      "metadata": {
        "colab": {
          "base_uri": "https://localhost:8080/",
          "height": 295
        },
        "id": "PZ5KaQUVTCxx",
        "outputId": "30670de5-ea3f-44ac-bd37-77128587de5b"
      },
      "source": [
        "smooth_loss(valid_losses,1)"
      ],
      "execution_count": 43,
      "outputs": [
        {
          "output_type": "display_data",
          "data": {
            "image/png": "[encoded data removed]",
            "text/plain": [
              "<Figure size 432x288 with 1 Axes>"
            ]
          },
          "metadata": {
            "tags": [],
            "needs_background": "light"
          }
        }
      ]
    },
    {
      "cell_type": "markdown",
      "metadata": {
        "id": "3eyDKRK3OIS-"
      },
      "source": [
        "## Using our model to classify a few sentences.\n",
        "\n",
        "The output is closer to 1 for a positive sentence <br>\n",
        "The output is closer to 0 for a negative sentence"
      ]
    },
    {
      "cell_type": "code",
      "metadata": {
        "id": "yFcrVuIj6LPc"
      },
      "source": [
        "def classify(sentence):\n",
        "  ret = preprocess_text(sentence)\n",
        "  ret = make_tokens(ret)\n",
        "  ret = make_bow_vector(review_dict,ret)\n",
        "  preds = list(FFNN(ret))\n",
        "  return preds[0][1].item()"
      ],
      "execution_count": 69,
      "outputs": []
    },
    {
      "cell_type": "code",
      "metadata": {
        "colab": {
          "base_uri": "https://localhost:8080/"
        },
        "id": "VKLTXyhS7pYK",
        "outputId": "08af11de-475e-42b9-c495-acf7c8291d8b"
      },
      "source": [
        "classify('Worst thing ever watched')"
      ],
      "execution_count": 70,
      "outputs": [
        {
          "output_type": "execute_result",
          "data": {
            "text/plain": [
              "0.024697815999388695"
            ]
          },
          "metadata": {
            "tags": []
          },
          "execution_count": 70
        }
      ]
    },
    {
      "cell_type": "code",
      "metadata": {
        "colab": {
          "base_uri": "https://localhost:8080/"
        },
        "id": "HvylN-o0E0jn",
        "outputId": "e57ab4f2-69c6-48b1-e681-2d169f00cbc7"
      },
      "source": [
        "classify('A must watch')"
      ],
      "execution_count": 71,
      "outputs": [
        {
          "output_type": "execute_result",
          "data": {
            "text/plain": [
              "0.4729979634284973"
            ]
          },
          "metadata": {
            "tags": []
          },
          "execution_count": 71
        }
      ]
    },
    {
      "cell_type": "code",
      "metadata": {
        "colab": {
          "base_uri": "https://localhost:8080/"
        },
        "id": "EGWNMEeWE5Si",
        "outputId": "1b9de306-4de9-4034-b7ad-f834e3647059"
      },
      "source": [
        "classify('Worth your money')"
      ],
      "execution_count": 72,
      "outputs": [
        {
          "output_type": "execute_result",
          "data": {
            "text/plain": [
              "0.2434225082397461"
            ]
          },
          "metadata": {
            "tags": []
          },
          "execution_count": 72
        }
      ]
    },
    {
      "cell_type": "code",
      "metadata": {
        "colab": {
          "base_uri": "https://localhost:8080/"
        },
        "id": "AVrSeju-E9N5",
        "outputId": "028fa8d3-72d0-4c64-de92-c1633cb2c8db"
      },
      "source": [
        "classify('Excellent product')"
      ],
      "execution_count": 73,
      "outputs": [
        {
          "output_type": "execute_result",
          "data": {
            "text/plain": [
              "0.9210341572761536"
            ]
          },
          "metadata": {
            "tags": []
          },
          "execution_count": 73
        }
      ]
    },
    {
      "cell_type": "code",
      "metadata": {
        "colab": {
          "base_uri": "https://localhost:8080/"
        },
        "id": "ihzjtCY8FB2A",
        "outputId": "0d06b27c-c967-4c59-d058-0a23f8125ecf"
      },
      "source": [
        "classify('Among worst. Dont waste your time.')"
      ],
      "execution_count": 84,
      "outputs": [
        {
          "output_type": "execute_result",
          "data": {
            "text/plain": [
              "0.008470557630062103"
            ]
          },
          "metadata": {
            "tags": []
          },
          "execution_count": 84
        }
      ]
    },
    {
      "cell_type": "code",
      "metadata": {
        "colab": {
          "base_uri": "https://localhost:8080/"
        },
        "id": "yUatc9C-H4C5",
        "outputId": "cf16bc89-9af4-459e-a37d-bb56b7c37a50"
      },
      "source": [
        "classify('Among worst works of director Snyder')"
      ],
      "execution_count": 85,
      "outputs": [
        {
          "output_type": "execute_result",
          "data": {
            "text/plain": [
              "0.030414214357733727"
            ]
          },
          "metadata": {
            "tags": []
          },
          "execution_count": 85
        }
      ]
    },
    {
      "cell_type": "code",
      "metadata": {
        "colab": {
          "base_uri": "https://localhost:8080/"
        },
        "id": "wmxBRGYMH_nn",
        "outputId": "d19ce976-1524-4e5c-bf75-25ce02ce70da"
      },
      "source": [
        "classify('Fury did outdid himself this time')"
      ],
      "execution_count": 87,
      "outputs": [
        {
          "output_type": "execute_result",
          "data": {
            "text/plain": [
              "0.5453313589096069"
            ]
          },
          "metadata": {
            "tags": []
          },
          "execution_count": 87
        }
      ]
    }
  ]
}
