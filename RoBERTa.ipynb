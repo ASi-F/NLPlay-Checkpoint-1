{
  "nbformat": 4,
  "nbformat_minor": 0,
  "metadata": {
    "colab": {
      "name": "RoBERTa.ipynb",
      "provenance": [],
      "include_colab_link": true
    },
    "kernelspec": {
      "name": "python3",
      "display_name": "Python 3"
    },
    "language_info": {
      "name": "python"
    },
    "widgets": {
      "application/vnd.jupyter.widget-state+json": {
        "71e295dd6745422fb0471dcc4c0cf795": {
          "model_module": "@jupyter-widgets/controls",
          "model_name": "HBoxModel",
          "model_module_version": "1.5.0",
          "state": {
            "_view_name": "HBoxView",
            "_dom_classes": [],
            "_model_name": "HBoxModel",
            "_view_module": "@jupyter-widgets/controls",
            "_model_module_version": "1.5.0",
            "_view_count": null,
            "_view_module_version": "1.5.0",
            "box_style": "",
            "layout": "IPY_MODEL_5987ee824271427abcabcb9c56921ee6",
            "_model_module": "@jupyter-widgets/controls",
            "children": [
              "IPY_MODEL_ddface4e6ada4fe59839685e38b87a38",
              "IPY_MODEL_328b2fc8e6184a45baee378ca9296378",
              "IPY_MODEL_ae34e41b86ef48c189f69d8488510c83"
            ]
          }
        },
        "5987ee824271427abcabcb9c56921ee6": {
          "model_module": "@jupyter-widgets/base",
          "model_name": "LayoutModel",
          "model_module_version": "1.2.0",
          "state": {
            "_view_name": "LayoutView",
            "grid_template_rows": null,
            "right": null,
            "justify_content": null,
            "_view_module": "@jupyter-widgets/base",
            "overflow": null,
            "_model_module_version": "1.2.0",
            "_view_count": null,
            "flex_flow": null,
            "width": null,
            "min_width": null,
            "border": null,
            "align_items": null,
            "bottom": null,
            "_model_module": "@jupyter-widgets/base",
            "top": null,
            "grid_column": null,
            "overflow_y": null,
            "overflow_x": null,
            "grid_auto_flow": null,
            "grid_area": null,
            "grid_template_columns": null,
            "flex": null,
            "_model_name": "LayoutModel",
            "justify_items": null,
            "grid_row": null,
            "max_height": null,
            "align_content": null,
            "visibility": null,
            "align_self": null,
            "height": null,
            "min_height": null,
            "padding": null,
            "grid_auto_rows": null,
            "grid_gap": null,
            "max_width": null,
            "order": null,
            "_view_module_version": "1.2.0",
            "grid_template_areas": null,
            "object_position": null,
            "object_fit": null,
            "grid_auto_columns": null,
            "margin": null,
            "display": null,
            "left": null
          }
        },
        "ddface4e6ada4fe59839685e38b87a38": {
          "model_module": "@jupyter-widgets/controls",
          "model_name": "HTMLModel",
          "model_module_version": "1.5.0",
          "state": {
            "_view_name": "HTMLView",
            "style": "IPY_MODEL_372cd5e08ce149bc83f9c1ed5d79cccc",
            "_dom_classes": [],
            "description": "",
            "_model_name": "HTMLModel",
            "placeholder": "​",
            "_view_module": "@jupyter-widgets/controls",
            "_model_module_version": "1.5.0",
            "value": "100%",
            "_view_count": null,
            "_view_module_version": "1.5.0",
            "description_tooltip": null,
            "_model_module": "@jupyter-widgets/controls",
            "layout": "IPY_MODEL_288bba2f027c42f7b6967d11cbe6fb72"
          }
        },
        "328b2fc8e6184a45baee378ca9296378": {
          "model_module": "@jupyter-widgets/controls",
          "model_name": "FloatProgressModel",
          "model_module_version": "1.5.0",
          "state": {
            "_view_name": "ProgressView",
            "style": "IPY_MODEL_33544f707065473db4341f74c8956301",
            "_dom_classes": [],
            "description": "",
            "_model_name": "FloatProgressModel",
            "bar_style": "",
            "max": 5600,
            "_view_module": "@jupyter-widgets/controls",
            "_model_module_version": "1.5.0",
            "value": 5600,
            "_view_count": null,
            "_view_module_version": "1.5.0",
            "orientation": "horizontal",
            "min": 0,
            "description_tooltip": null,
            "_model_module": "@jupyter-widgets/controls",
            "layout": "IPY_MODEL_d6d246e19e524f87bfae95e0e88ac352"
          }
        },
        "ae34e41b86ef48c189f69d8488510c83": {
          "model_module": "@jupyter-widgets/controls",
          "model_name": "HTMLModel",
          "model_module_version": "1.5.0",
          "state": {
            "_view_name": "HTMLView",
            "style": "IPY_MODEL_5e64d4d417cf444486b3911d130f0de6",
            "_dom_classes": [],
            "description": "",
            "_model_name": "HTMLModel",
            "placeholder": "​",
            "_view_module": "@jupyter-widgets/controls",
            "_model_module_version": "1.5.0",
            "value": " 5600/5600 [1:21:10&lt;00:00,  1.03it/s]",
            "_view_count": null,
            "_view_module_version": "1.5.0",
            "description_tooltip": null,
            "_model_module": "@jupyter-widgets/controls",
            "layout": "IPY_MODEL_c882eed8daa840608d956d0286fc94d9"
          }
        },
        "372cd5e08ce149bc83f9c1ed5d79cccc": {
          "model_module": "@jupyter-widgets/controls",
          "model_name": "DescriptionStyleModel",
          "model_module_version": "1.5.0",
          "state": {
            "_view_name": "StyleView",
            "_model_name": "DescriptionStyleModel",
            "description_width": "",
            "_view_module": "@jupyter-widgets/base",
            "_model_module_version": "1.5.0",
            "_view_count": null,
            "_view_module_version": "1.2.0",
            "_model_module": "@jupyter-widgets/controls"
          }
        },
        "288bba2f027c42f7b6967d11cbe6fb72": {
          "model_module": "@jupyter-widgets/base",
          "model_name": "LayoutModel",
          "model_module_version": "1.2.0",
          "state": {
            "_view_name": "LayoutView",
            "grid_template_rows": null,
            "right": null,
            "justify_content": null,
            "_view_module": "@jupyter-widgets/base",
            "overflow": null,
            "_model_module_version": "1.2.0",
            "_view_count": null,
            "flex_flow": null,
            "width": null,
            "min_width": null,
            "border": null,
            "align_items": null,
            "bottom": null,
            "_model_module": "@jupyter-widgets/base",
            "top": null,
            "grid_column": null,
            "overflow_y": null,
            "overflow_x": null,
            "grid_auto_flow": null,
            "grid_area": null,
            "grid_template_columns": null,
            "flex": null,
            "_model_name": "LayoutModel",
            "justify_items": null,
            "grid_row": null,
            "max_height": null,
            "align_content": null,
            "visibility": null,
            "align_self": null,
            "height": null,
            "min_height": null,
            "padding": null,
            "grid_auto_rows": null,
            "grid_gap": null,
            "max_width": null,
            "order": null,
            "_view_module_version": "1.2.0",
            "grid_template_areas": null,
            "object_position": null,
            "object_fit": null,
            "grid_auto_columns": null,
            "margin": null,
            "display": null,
            "left": null
          }
        },
        "33544f707065473db4341f74c8956301": {
          "model_module": "@jupyter-widgets/controls",
          "model_name": "ProgressStyleModel",
          "model_module_version": "1.5.0",
          "state": {
            "_view_name": "StyleView",
            "_model_name": "ProgressStyleModel",
            "description_width": "",
            "_view_module": "@jupyter-widgets/base",
            "_model_module_version": "1.5.0",
            "_view_count": null,
            "_view_module_version": "1.2.0",
            "bar_color": null,
            "_model_module": "@jupyter-widgets/controls"
          }
        },
        "d6d246e19e524f87bfae95e0e88ac352": {
          "model_module": "@jupyter-widgets/base",
          "model_name": "LayoutModel",
          "model_module_version": "1.2.0",
          "state": {
            "_view_name": "LayoutView",
            "grid_template_rows": null,
            "right": null,
            "justify_content": null,
            "_view_module": "@jupyter-widgets/base",
            "overflow": null,
            "_model_module_version": "1.2.0",
            "_view_count": null,
            "flex_flow": null,
            "width": null,
            "min_width": null,
            "border": null,
            "align_items": null,
            "bottom": null,
            "_model_module": "@jupyter-widgets/base",
            "top": null,
            "grid_column": null,
            "overflow_y": null,
            "overflow_x": null,
            "grid_auto_flow": null,
            "grid_area": null,
            "grid_template_columns": null,
            "flex": null,
            "_model_name": "LayoutModel",
            "justify_items": null,
            "grid_row": null,
            "max_height": null,
            "align_content": null,
            "visibility": null,
            "align_self": null,
            "height": null,
            "min_height": null,
            "padding": null,
            "grid_auto_rows": null,
            "grid_gap": null,
            "max_width": null,
            "order": null,
            "_view_module_version": "1.2.0",
            "grid_template_areas": null,
            "object_position": null,
            "object_fit": null,
            "grid_auto_columns": null,
            "margin": null,
            "display": null,
            "left": null
          }
        },
        "5e64d4d417cf444486b3911d130f0de6": {
          "model_module": "@jupyter-widgets/controls",
          "model_name": "DescriptionStyleModel",
          "model_module_version": "1.5.0",
          "state": {
            "_view_name": "StyleView",
            "_model_name": "DescriptionStyleModel",
            "description_width": "",
            "_view_module": "@jupyter-widgets/base",
            "_model_module_version": "1.5.0",
            "_view_count": null,
            "_view_module_version": "1.2.0",
            "_model_module": "@jupyter-widgets/controls"
          }
        },
        "c882eed8daa840608d956d0286fc94d9": {
          "model_module": "@jupyter-widgets/base",
          "model_name": "LayoutModel",
          "model_module_version": "1.2.0",
          "state": {
            "_view_name": "LayoutView",
            "grid_template_rows": null,
            "right": null,
            "justify_content": null,
            "_view_module": "@jupyter-widgets/base",
            "overflow": null,
            "_model_module_version": "1.2.0",
            "_view_count": null,
            "flex_flow": null,
            "width": null,
            "min_width": null,
            "border": null,
            "align_items": null,
            "bottom": null,
            "_model_module": "@jupyter-widgets/base",
            "top": null,
            "grid_column": null,
            "overflow_y": null,
            "overflow_x": null,
            "grid_auto_flow": null,
            "grid_area": null,
            "grid_template_columns": null,
            "flex": null,
            "_model_name": "LayoutModel",
            "justify_items": null,
            "grid_row": null,
            "max_height": null,
            "align_content": null,
            "visibility": null,
            "align_self": null,
            "height": null,
            "min_height": null,
            "padding": null,
            "grid_auto_rows": null,
            "grid_gap": null,
            "max_width": null,
            "order": null,
            "_view_module_version": "1.2.0",
            "grid_template_areas": null,
            "object_position": null,
            "object_fit": null,
            "grid_auto_columns": null,
            "margin": null,
            "display": null,
            "left": null
          }
        }
      }
    },
    "accelerator": "GPU"
  },
  "cells": [
    {
      "cell_type": "markdown",
      "metadata": {
        "id": "view-in-github",
        "colab_type": "text"
      },
      "source": [
        "<a href=\"https://colab.research.google.com/github/ASi-F/NLPlay-with-Transformers/blob/main/RoBERTa.ipynb\" target=\"_parent\"><img src=\"https://colab.research.google.com/assets/colab-badge.svg\" alt=\"Open In Colab\"/></a>"
      ]
    },
    {
      "cell_type": "markdown",
      "metadata": {
        "id": "y0spauUaeyhU"
      },
      "source": [
        "# **RoBERTa**"
      ]
    },
    {
      "cell_type": "code",
      "metadata": {
        "id": "vCsnSSVU3oDd"
      },
      "source": [
        "pip install transformers"
      ],
      "execution_count": null,
      "outputs": []
    },
    {
      "cell_type": "code",
      "metadata": {
        "id": "-Aq_FxQI3z8y"
      },
      "source": [
        "pip install datasets"
      ],
      "execution_count": null,
      "outputs": []
    },
    {
      "cell_type": "code",
      "metadata": {
        "id": "4pHLzIey36zZ"
      },
      "source": [
        "import pandas as pd\n",
        "import numpy as np\n",
        "import os\n",
        "import torch\n",
        "import matplotlib.pyplot as plt\n",
        "import random "
      ],
      "execution_count": 3,
      "outputs": []
    },
    {
      "cell_type": "code",
      "metadata": {
        "id": "XlD0355AyWUf",
        "colab": {
          "base_uri": "https://localhost:8080/"
        },
        "outputId": "2d61586f-efbd-4556-8289-e1ac9906e957"
      },
      "source": [
        "from google.colab import drive\n",
        "drive.mount('/content/drive')"
      ],
      "execution_count": 4,
      "outputs": [
        {
          "output_type": "stream",
          "name": "stdout",
          "text": [
            "Drive already mounted at /content/drive; to attempt to forcibly remount, call drive.mount(\"/content/drive\", force_remount=True).\n"
          ]
        }
      ]
    },
    {
      "cell_type": "markdown",
      "metadata": {
        "id": "tkiPGrg7oFtz"
      },
      "source": [
        "## **Preprocessing**\n",
        "\n",
        "The dataset is mounted from drive and some basic preprocessing is done to remove html tags. The review and sentiment columns are replaced by text and label columns. Here we convert the pandas df to dataset to pytorch dataloader"
      ]
    },
    {
      "cell_type": "code",
      "metadata": {
        "id": "m2mZGxUX37SX"
      },
      "source": [
        "df = pd.read_csv('/content/drive/MyDrive/Colab Notebooks/IMDB Dataset.csv')"
      ],
      "execution_count": 5,
      "outputs": []
    },
    {
      "cell_type": "code",
      "metadata": {
        "id": "VA6gVgR038zd"
      },
      "source": [
        "def remove_tags(text):\n",
        "    final = \"\"\n",
        "    stt = True\n",
        "    for char in text:\n",
        "        if char == '<':\n",
        "            stt = False\n",
        "        if(stt):\n",
        "            final = final + char\n",
        "        if char == '>':\n",
        "            stt = True\n",
        "            final = final + ' '\n",
        "    return final\n",
        "\n",
        "df['text'] = df['review'].apply(remove_tags)"
      ],
      "execution_count": 6,
      "outputs": []
    },
    {
      "cell_type": "code",
      "metadata": {
        "id": "DLzbul1n3-pO"
      },
      "source": [
        "df = df.drop('review',axis = 1)"
      ],
      "execution_count": 7,
      "outputs": []
    },
    {
      "cell_type": "code",
      "metadata": {
        "id": "qEnsagm44AdR"
      },
      "source": [
        "df['label'] = [ 1*(sent=='positive') for sent in df['sentiment']]\n",
        "\n",
        "df = df.drop('sentiment', axis = 1)"
      ],
      "execution_count": 8,
      "outputs": []
    },
    {
      "cell_type": "code",
      "metadata": {
        "id": "cyNbOCE84CSf"
      },
      "source": [
        "from datasets import Dataset\n",
        "\n",
        "dataset = Dataset.from_pandas(df)"
      ],
      "execution_count": 9,
      "outputs": []
    },
    {
      "cell_type": "code",
      "metadata": {
        "id": "18PPl_bn4hvT"
      },
      "source": [
        "train_range = [i for i in range(0,20000) if 6>=i%10 and i%10>=0]\n",
        "eval_range = [i for i in range(0,20000) if 9>=i%10 and i%10>=7]\n",
        "\n",
        "train_dataset = dataset.select(train_range).shuffle(seed=42)\n",
        "eval_dataset = dataset.select(eval_range) .shuffle(seed=42)"
      ],
      "execution_count": 10,
      "outputs": []
    },
    {
      "cell_type": "code",
      "metadata": {
        "id": "rt-TWKsR4mIB"
      },
      "source": [
        "from torch.utils.data import DataLoader\n",
        "\n",
        "train_dataloader = DataLoader(train_dataset, shuffle=True, batch_size=5)\n",
        "eval_dataloader = DataLoader(eval_dataset, batch_size=5)"
      ],
      "execution_count": 11,
      "outputs": []
    },
    {
      "cell_type": "markdown",
      "metadata": {
        "id": "WKbP5LHdoP8U"
      },
      "source": [
        "## **Architecture**"
      ]
    },
    {
      "cell_type": "code",
      "metadata": {
        "id": "sisT8KyW4nFZ"
      },
      "source": [
        "from transformers import AutoModel\n",
        "from transformers import AutoTokenizer"
      ],
      "execution_count": 12,
      "outputs": []
    },
    {
      "cell_type": "code",
      "metadata": {
        "id": "8ufhErk04rSu"
      },
      "source": [
        "import torch.nn as nn\n",
        "import torch.nn.functional as F\n",
        "import torch.optim as optim"
      ],
      "execution_count": 13,
      "outputs": []
    },
    {
      "cell_type": "code",
      "metadata": {
        "id": "plf2eEjP4sQv",
        "colab": {
          "base_uri": "https://localhost:8080/"
        },
        "outputId": "33983450-a8ce-4bf7-8a2d-af3669341e08"
      },
      "source": [
        "device = torch.device(\"cuda\") if torch.cuda.is_available() else torch.device(\"cpu\")\n",
        "device"
      ],
      "execution_count": 14,
      "outputs": [
        {
          "output_type": "execute_result",
          "data": {
            "text/plain": [
              "device(type='cuda')"
            ]
          },
          "metadata": {},
          "execution_count": 14
        }
      ]
    },
    {
      "cell_type": "code",
      "metadata": {
        "id": "HKe10vUT4uht"
      },
      "source": [
        "class Classifier(nn.Module):\n",
        "  def __init__(self,hidden_dim,output_size,model_name,enc_dim):\n",
        "    super(Classifier,self).__init__()\n",
        "\n",
        "    self.model = AutoModel.from_pretrained(model_name, num_labels=2)\n",
        "  \n",
        "    self.LF1 = nn.Linear(enc_dim,hidden_dim)\n",
        "    self.NLF1 = nn.ReLU()\n",
        "\n",
        "    self.LF2 = nn.Linear(hidden_dim,hidden_dim)\n",
        "    self.NLF2 = nn.ReLU()\n",
        "\n",
        "    self.LF3 = nn.Linear(hidden_dim,output_size)\n",
        "\n",
        "  def ready_train(self):\n",
        "    (self.model).train()\n",
        "  \n",
        "  def ready_eval(self):\n",
        "    self.model.eval()\n",
        "\n",
        "  def forward(self,x):\n",
        "    out = self.model(**x)[1]\n",
        "\n",
        "    out = self.LF1(out)\n",
        "    out = self.NLF1(out)\n",
        "\n",
        "    out = self.LF2(out)\n",
        "    out = self.NLF2(out)\n",
        "\n",
        "    out = self.LF3(out)\n",
        "\n",
        "    return F.softmax(out,dim=1)    "
      ],
      "execution_count": 15,
      "outputs": []
    },
    {
      "cell_type": "markdown",
      "metadata": {
        "id": "zaQemYBsoSxJ"
      },
      "source": [
        "## **Training**"
      ]
    },
    {
      "cell_type": "code",
      "metadata": {
        "id": "0uhTa_v148QW"
      },
      "source": [
        "from tqdm.auto import tqdm\n",
        "\n",
        "def train_classifier(num_epochs,train_dataloader,optimizer,classifier,tokenizer,loss_function = nn.CrossEntropyLoss()):\n",
        "  losses = []\n",
        "  num_training_steps = num_epochs*len(train_dataloader)\n",
        "  progress_bar = tqdm(range(num_training_steps))\n",
        "  classifier.ready_train()\n",
        "  i = 0\n",
        "  avg_loss = 0.\n",
        "  for epoch in range(num_epochs):\n",
        "    for batch in train_dataloader:\n",
        "      # forward prop\n",
        "      inp = tokenizer(batch['text'],padding=True, truncation=True,max_length=512, return_tensors=\"pt\")\n",
        "      inp = inp.to(device)\n",
        "      out = classifier(inp)\n",
        "      pred = batch['label']\n",
        "      pred = pred.to(device)\n",
        "      loss = loss_function(out, pred)\n",
        "\n",
        "      # backward prop\n",
        "      optimizer.zero_grad()\n",
        "      loss.backward()\n",
        "      optimizer.step()\n",
        "\n",
        "      losses.append(loss.item())\n",
        "      progress_bar.update(1)\n",
        "      if i%(5 *(num_training_steps//100)) == 0  and i>0:\n",
        "        print(\"TRAINING:{0} %\\t AVEREAGE LOSS: {1}\".format(i//(num_training_steps//100),avg_loss/(5*(num_training_steps//100))))\n",
        "        avg_loss = 0\n",
        "      i+=1\n",
        "      avg_loss = avg_loss + float(loss.item())\n",
        "  return losses"
      ],
      "execution_count": 16,
      "outputs": []
    },
    {
      "cell_type": "markdown",
      "metadata": {
        "id": "ctYTavR-eOtZ"
      },
      "source": [
        "## **Model Evaluation**"
      ]
    },
    {
      "cell_type": "code",
      "metadata": {
        "id": "u-Xq5ovN4_Zn"
      },
      "source": [
        "plt.rcParams['figure.figsize'] = (15,10)\n",
        "plt.style.use('ggplot')\n",
        "\n",
        "def plot_loss(losses):\n",
        "  x = [i for i in range(0,len(losses))]\n",
        "  plt.plot(x,losses)\n",
        "  plt.title('Training Loss')\n",
        "  plt.ylabel('Loss')\n",
        "  plt.xlabel('Batch Index')\n",
        "\n",
        "def smooth_loss(losses,f):\n",
        "  y = [0]*len(losses)\n",
        "  for i in range(0,f):\n",
        "    y[i] = (sum(losses[:i+1+f]))/(i+1+f)\n",
        "  for i in range(f,len(losses)-f-1):\n",
        "    y[i] = (sum(losses[i-f:i+f+1]))/(2*f+1)\n",
        "  for i in range(len(losses)-f-1,len(losses)):\n",
        "    y[i] = (sum(losses[i-f:]))/(len(losses)-i+f)\n",
        "  plot_loss(y)"
      ],
      "execution_count": 17,
      "outputs": []
    },
    {
      "cell_type": "code",
      "metadata": {
        "id": "9OOMHrEoeOL5"
      },
      "source": [
        "def acc(dataloader,classifier,tokenizer):\n",
        "  corr = 0\n",
        "  tot = len(dataloader)*10\n",
        "  for batch in dataloader:\n",
        "  # forward prop\n",
        "    inp = tokenizer(batch['text'],padding=True, truncation=True,max_length=512, return_tensors=\"pt\")\n",
        "    inp = inp.to(device)\n",
        "    out = list(torch.argmax(classifier(inp),dim=1))\n",
        "    exp = list(batch['label'])\n",
        "    \n",
        "    for i,x in enumerate(out):\n",
        "      if x == exp[i]:\n",
        "        corr = corr+1\n",
        "    \n",
        "  return 100*(corr/tot)"
      ],
      "execution_count": 18,
      "outputs": []
    },
    {
      "cell_type": "markdown",
      "metadata": {
        "id": "lwk87GyYs-g3"
      },
      "source": [
        "## **Model Initialization**"
      ]
    },
    {
      "cell_type": "code",
      "metadata": {
        "id": "Qrdsqq5Vb2Zc"
      },
      "source": [
        "model_name = 'roberta-base'\n",
        "output_size = 2\n",
        "hidden_dim = 500\n",
        "enc_dim = 768\n",
        "\n",
        "roberta_tokenizer = AutoTokenizer.from_pretrained(model_name)\n",
        "classifier_roberta = Classifier(hidden_dim,output_size,model_name,enc_dim)\n",
        "classifier_roberta.to(device)"
      ],
      "execution_count": null,
      "outputs": []
    },
    {
      "cell_type": "code",
      "metadata": {
        "id": "t08NYnUQb-Zk",
        "colab": {
          "base_uri": "https://localhost:8080/",
          "height": 414,
          "referenced_widgets": [
            "71e295dd6745422fb0471dcc4c0cf795",
            "5987ee824271427abcabcb9c56921ee6",
            "ddface4e6ada4fe59839685e38b87a38",
            "328b2fc8e6184a45baee378ca9296378",
            "ae34e41b86ef48c189f69d8488510c83",
            "372cd5e08ce149bc83f9c1ed5d79cccc",
            "288bba2f027c42f7b6967d11cbe6fb72",
            "33544f707065473db4341f74c8956301",
            "d6d246e19e524f87bfae95e0e88ac352",
            "5e64d4d417cf444486b3911d130f0de6",
            "c882eed8daa840608d956d0286fc94d9"
          ]
        },
        "outputId": "57db9856-a4a1-4e40-dc70-6bfcc871b2c8"
      },
      "source": [
        "num_epochs = 2\n",
        "lr = 1e-2\n",
        "optimizer = optim.SGD(classifier_roberta.parameters(), lr)\n",
        "\n",
        "losses = train_classifier(num_epochs,train_dataloader,optimizer,classifier_roberta,roberta_tokenizer)"
      ],
      "execution_count": 20,
      "outputs": [
        {
          "output_type": "display_data",
          "data": {
            "application/vnd.jupyter.widget-view+json": {
              "model_id": "71e295dd6745422fb0471dcc4c0cf795",
              "version_minor": 0,
              "version_major": 2
            },
            "text/plain": [
              "  0%|          | 0/5600 [00:00<?, ?it/s]"
            ]
          },
          "metadata": {}
        },
        {
          "output_type": "stream",
          "name": "stderr",
          "text": [
            "/usr/local/lib/python3.7/dist-packages/transformers/tokenization_utils_base.py:2227: UserWarning: `max_length` is ignored when `padding`=`True`.\n",
            "  warnings.warn(\"`max_length` is ignored when `padding`=`True`.\")\n"
          ]
        },
        {
          "output_type": "stream",
          "name": "stdout",
          "text": [
            "TRAINING:5 %\t AVEREAGE LOSS: 0.6926622814365796\n",
            "TRAINING:10 %\t AVEREAGE LOSS: 0.6933448195457459\n",
            "TRAINING:15 %\t AVEREAGE LOSS: 0.6936005639178412\n",
            "TRAINING:20 %\t AVEREAGE LOSS: 0.6929335966706276\n",
            "TRAINING:25 %\t AVEREAGE LOSS: 0.6929734387568065\n",
            "TRAINING:30 %\t AVEREAGE LOSS: 0.6930123674018043\n",
            "TRAINING:35 %\t AVEREAGE LOSS: 0.6931973519069808\n",
            "TRAINING:40 %\t AVEREAGE LOSS: 0.6930487000516483\n",
            "TRAINING:45 %\t AVEREAGE LOSS: 0.6929383158683777\n",
            "TRAINING:50 %\t AVEREAGE LOSS: 0.6930294445582799\n",
            "TRAINING:55 %\t AVEREAGE LOSS: 0.692886700800487\n",
            "TRAINING:60 %\t AVEREAGE LOSS: 0.6930266144020217\n",
            "TRAINING:65 %\t AVEREAGE LOSS: 0.6924867653420993\n",
            "TRAINING:70 %\t AVEREAGE LOSS: 0.6925356243337903\n",
            "TRAINING:75 %\t AVEREAGE LOSS: 0.6922293541686876\n",
            "TRAINING:80 %\t AVEREAGE LOSS: 0.6928634396621159\n",
            "TRAINING:85 %\t AVEREAGE LOSS: 0.6925325327685901\n",
            "TRAINING:90 %\t AVEREAGE LOSS: 0.6919778992022787\n",
            "TRAINING:95 %\t AVEREAGE LOSS: 0.6909752258232662\n"
          ]
        }
      ]
    },
    {
      "cell_type": "markdown",
      "metadata": {
        "id": "wEUa_CX1cCsa"
      },
      "source": [
        "## **Plot for average loss per 100 iterations**"
      ]
    },
    {
      "cell_type": "code",
      "metadata": {
        "id": "LujyjQ1acLoi",
        "colab": {
          "base_uri": "https://localhost:8080/",
          "height": 626
        },
        "outputId": "b56373b6-2a42-487d-b908-eab5eb674ce3"
      },
      "source": [
        "smooth_loss(losses,100)"
      ],
      "execution_count": 21,
      "outputs": [
        {
          "output_type": "display_data",
          "data": {
            "image/png": "[encoded data removed]",
            "text/plain": [
              "<Figure size 1080x720 with 1 Axes>"
            ]
          },
          "metadata": {}
        }
      ]
    },
    {
      "cell_type": "markdown",
      "metadata": {
        "id": "vnS4XL54ctHq"
      },
      "source": [
        "## **Training set Accuracy**"
      ]
    },
    {
      "cell_type": "code",
      "metadata": {
        "id": "966gtHv4cbIX"
      },
      "source": [
        "classifier_roberta.ready_eval()"
      ],
      "execution_count": 22,
      "outputs": []
    },
    {
      "cell_type": "code",
      "metadata": {
        "id": "PasFRsoic20e",
        "colab": {
          "base_uri": "https://localhost:8080/"
        },
        "outputId": "25b9b415-34a7-4161-b2f2-f78d3a85d450"
      },
      "source": [
        "acc(train_dataloader,classifier_roberta,roberta_tokenizer)"
      ],
      "execution_count": 23,
      "outputs": [
        {
          "output_type": "stream",
          "name": "stderr",
          "text": [
            "/usr/local/lib/python3.7/dist-packages/transformers/tokenization_utils_base.py:2227: UserWarning: `max_length` is ignored when `padding`=`True`.\n",
            "  warnings.warn(\"`max_length` is ignored when `padding`=`True`.\")\n"
          ]
        },
        {
          "output_type": "execute_result",
          "data": {
            "text/plain": [
              "25.239285714285714"
            ]
          },
          "metadata": {},
          "execution_count": 23
        }
      ]
    },
    {
      "cell_type": "markdown",
      "metadata": {
        "id": "7R9Q0Vk0c-FW"
      },
      "source": [
        "## **Test set accuracy**"
      ]
    },
    {
      "cell_type": "code",
      "metadata": {
        "id": "yADAJ5s8dESh",
        "colab": {
          "base_uri": "https://localhost:8080/"
        },
        "outputId": "51962b98-de47-4482-a526-9bdd5069faf7"
      },
      "source": [
        "acc(eval_dataloader,classifier_roberta,roberta_tokenizer)"
      ],
      "execution_count": 24,
      "outputs": [
        {
          "output_type": "stream",
          "name": "stderr",
          "text": [
            "/usr/local/lib/python3.7/dist-packages/transformers/tokenization_utils_base.py:2227: UserWarning: `max_length` is ignored when `padding`=`True`.\n",
            "  warnings.warn(\"`max_length` is ignored when `padding`=`True`.\")\n"
          ]
        },
        {
          "output_type": "execute_result",
          "data": {
            "text/plain": [
              "25.258333333333333"
            ]
          },
          "metadata": {},
          "execution_count": 24
        }
      ]
    },
    {
      "cell_type": "code",
      "metadata": {
        "id": "FZ2LgjZFK7h6"
      },
      "source": [
        ""
      ],
      "execution_count": 24,
      "outputs": []
    }
  ]
}