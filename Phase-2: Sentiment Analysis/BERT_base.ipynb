{
  "nbformat": 4,
  "nbformat_minor": 0,
  "metadata": {
    "colab": {
      "name": "BERT_base.ipynb",
      "provenance": [],
      "include_colab_link": true
    },
    "kernelspec": {
      "name": "python3",
      "display_name": "Python 3"
    },
    "language_info": {
      "name": "python"
    },
    "widgets": {
      "application/vnd.jupyter.widget-state+json": {
        "e9839b39df33497cb4275a90eba62d85": {
          "model_module": "@jupyter-widgets/controls",
          "model_name": "HBoxModel",
          "model_module_version": "1.5.0",
          "state": {
            "_view_name": "HBoxView",
            "_dom_classes": [],
            "_model_name": "HBoxModel",
            "_view_module": "@jupyter-widgets/controls",
            "_model_module_version": "1.5.0",
            "_view_count": null,
            "_view_module_version": "1.5.0",
            "box_style": "",
            "layout": "IPY_MODEL_fdcd409fd26a4e379f4d774e1149ad9c",
            "_model_module": "@jupyter-widgets/controls",
            "children": [
              "IPY_MODEL_1a2d34f747004adc804b7704fefe2a15",
              "IPY_MODEL_78981b122caa4291b7c1bbbe39b9610c",
              "IPY_MODEL_e99c601b2e8f4f5eaa690f39986f388c"
            ]
          }
        },
        "fdcd409fd26a4e379f4d774e1149ad9c": {
          "model_module": "@jupyter-widgets/base",
          "model_name": "LayoutModel",
          "model_module_version": "1.2.0",
          "state": {
            "_view_name": "LayoutView",
            "grid_template_rows": null,
            "right": null,
            "justify_content": null,
            "_view_module": "@jupyter-widgets/base",
            "overflow": null,
            "_model_module_version": "1.2.0",
            "_view_count": null,
            "flex_flow": null,
            "width": null,
            "min_width": null,
            "border": null,
            "align_items": null,
            "bottom": null,
            "_model_module": "@jupyter-widgets/base",
            "top": null,
            "grid_column": null,
            "overflow_y": null,
            "overflow_x": null,
            "grid_auto_flow": null,
            "grid_area": null,
            "grid_template_columns": null,
            "flex": null,
            "_model_name": "LayoutModel",
            "justify_items": null,
            "grid_row": null,
            "max_height": null,
            "align_content": null,
            "visibility": null,
            "align_self": null,
            "height": null,
            "min_height": null,
            "padding": null,
            "grid_auto_rows": null,
            "grid_gap": null,
            "max_width": null,
            "order": null,
            "_view_module_version": "1.2.0",
            "grid_template_areas": null,
            "object_position": null,
            "object_fit": null,
            "grid_auto_columns": null,
            "margin": null,
            "display": null,
            "left": null
          }
        },
        "1a2d34f747004adc804b7704fefe2a15": {
          "model_module": "@jupyter-widgets/controls",
          "model_name": "HTMLModel",
          "model_module_version": "1.5.0",
          "state": {
            "_view_name": "HTMLView",
            "style": "IPY_MODEL_09f7da79ef6546d99aecc78260e061d2",
            "_dom_classes": [],
            "description": "",
            "_model_name": "HTMLModel",
            "placeholder": "​",
            "_view_module": "@jupyter-widgets/controls",
            "_model_module_version": "1.5.0",
            "value": "100%",
            "_view_count": null,
            "_view_module_version": "1.5.0",
            "description_tooltip": null,
            "_model_module": "@jupyter-widgets/controls",
            "layout": "IPY_MODEL_1bc6910e65ec4a10a8f4044067e5cd12"
          }
        },
        "78981b122caa4291b7c1bbbe39b9610c": {
          "model_module": "@jupyter-widgets/controls",
          "model_name": "FloatProgressModel",
          "model_module_version": "1.5.0",
          "state": {
            "_view_name": "ProgressView",
            "style": "IPY_MODEL_6f797fcac317417784cc39291a0b45c6",
            "_dom_classes": [],
            "description": "",
            "_model_name": "FloatProgressModel",
            "bar_style": "",
            "max": 2100,
            "_view_module": "@jupyter-widgets/controls",
            "_model_module_version": "1.5.0",
            "value": 2100,
            "_view_count": null,
            "_view_module_version": "1.5.0",
            "orientation": "horizontal",
            "min": 0,
            "description_tooltip": null,
            "_model_module": "@jupyter-widgets/controls",
            "layout": "IPY_MODEL_8966ff188ddd46048d50453d479bdb4d"
          }
        },
        "e99c601b2e8f4f5eaa690f39986f388c": {
          "model_module": "@jupyter-widgets/controls",
          "model_name": "HTMLModel",
          "model_module_version": "1.5.0",
          "state": {
            "_view_name": "HTMLView",
            "style": "IPY_MODEL_cf76d0c84725487b85322c69146b994d",
            "_dom_classes": [],
            "description": "",
            "_model_name": "HTMLModel",
            "placeholder": "​",
            "_view_module": "@jupyter-widgets/controls",
            "_model_module_version": "1.5.0",
            "value": " 2100/2100 [57:53&lt;00:00,  1.71s/it]",
            "_view_count": null,
            "_view_module_version": "1.5.0",
            "description_tooltip": null,
            "_model_module": "@jupyter-widgets/controls",
            "layout": "IPY_MODEL_e37791751a774558b447b60a7c553639"
          }
        },
        "09f7da79ef6546d99aecc78260e061d2": {
          "model_module": "@jupyter-widgets/controls",
          "model_name": "DescriptionStyleModel",
          "model_module_version": "1.5.0",
          "state": {
            "_view_name": "StyleView",
            "_model_name": "DescriptionStyleModel",
            "description_width": "",
            "_view_module": "@jupyter-widgets/base",
            "_model_module_version": "1.5.0",
            "_view_count": null,
            "_view_module_version": "1.2.0",
            "_model_module": "@jupyter-widgets/controls"
          }
        },
        "1bc6910e65ec4a10a8f4044067e5cd12": {
          "model_module": "@jupyter-widgets/base",
          "model_name": "LayoutModel",
          "model_module_version": "1.2.0",
          "state": {
            "_view_name": "LayoutView",
            "grid_template_rows": null,
            "right": null,
            "justify_content": null,
            "_view_module": "@jupyter-widgets/base",
            "overflow": null,
            "_model_module_version": "1.2.0",
            "_view_count": null,
            "flex_flow": null,
            "width": null,
            "min_width": null,
            "border": null,
            "align_items": null,
            "bottom": null,
            "_model_module": "@jupyter-widgets/base",
            "top": null,
            "grid_column": null,
            "overflow_y": null,
            "overflow_x": null,
            "grid_auto_flow": null,
            "grid_area": null,
            "grid_template_columns": null,
            "flex": null,
            "_model_name": "LayoutModel",
            "justify_items": null,
            "grid_row": null,
            "max_height": null,
            "align_content": null,
            "visibility": null,
            "align_self": null,
            "height": null,
            "min_height": null,
            "padding": null,
            "grid_auto_rows": null,
            "grid_gap": null,
            "max_width": null,
            "order": null,
            "_view_module_version": "1.2.0",
            "grid_template_areas": null,
            "object_position": null,
            "object_fit": null,
            "grid_auto_columns": null,
            "margin": null,
            "display": null,
            "left": null
          }
        },
        "6f797fcac317417784cc39291a0b45c6": {
          "model_module": "@jupyter-widgets/controls",
          "model_name": "ProgressStyleModel",
          "model_module_version": "1.5.0",
          "state": {
            "_view_name": "StyleView",
            "_model_name": "ProgressStyleModel",
            "description_width": "",
            "_view_module": "@jupyter-widgets/base",
            "_model_module_version": "1.5.0",
            "_view_count": null,
            "_view_module_version": "1.2.0",
            "bar_color": null,
            "_model_module": "@jupyter-widgets/controls"
          }
        },
        "8966ff188ddd46048d50453d479bdb4d": {
          "model_module": "@jupyter-widgets/base",
          "model_name": "LayoutModel",
          "model_module_version": "1.2.0",
          "state": {
            "_view_name": "LayoutView",
            "grid_template_rows": null,
            "right": null,
            "justify_content": null,
            "_view_module": "@jupyter-widgets/base",
            "overflow": null,
            "_model_module_version": "1.2.0",
            "_view_count": null,
            "flex_flow": null,
            "width": null,
            "min_width": null,
            "border": null,
            "align_items": null,
            "bottom": null,
            "_model_module": "@jupyter-widgets/base",
            "top": null,
            "grid_column": null,
            "overflow_y": null,
            "overflow_x": null,
            "grid_auto_flow": null,
            "grid_area": null,
            "grid_template_columns": null,
            "flex": null,
            "_model_name": "LayoutModel",
            "justify_items": null,
            "grid_row": null,
            "max_height": null,
            "align_content": null,
            "visibility": null,
            "align_self": null,
            "height": null,
            "min_height": null,
            "padding": null,
            "grid_auto_rows": null,
            "grid_gap": null,
            "max_width": null,
            "order": null,
            "_view_module_version": "1.2.0",
            "grid_template_areas": null,
            "object_position": null,
            "object_fit": null,
            "grid_auto_columns": null,
            "margin": null,
            "display": null,
            "left": null
          }
        },
        "cf76d0c84725487b85322c69146b994d": {
          "model_module": "@jupyter-widgets/controls",
          "model_name": "DescriptionStyleModel",
          "model_module_version": "1.5.0",
          "state": {
            "_view_name": "StyleView",
            "_model_name": "DescriptionStyleModel",
            "description_width": "",
            "_view_module": "@jupyter-widgets/base",
            "_model_module_version": "1.5.0",
            "_view_count": null,
            "_view_module_version": "1.2.0",
            "_model_module": "@jupyter-widgets/controls"
          }
        },
        "e37791751a774558b447b60a7c553639": {
          "model_module": "@jupyter-widgets/base",
          "model_name": "LayoutModel",
          "model_module_version": "1.2.0",
          "state": {
            "_view_name": "LayoutView",
            "grid_template_rows": null,
            "right": null,
            "justify_content": null,
            "_view_module": "@jupyter-widgets/base",
            "overflow": null,
            "_model_module_version": "1.2.0",
            "_view_count": null,
            "flex_flow": null,
            "width": null,
            "min_width": null,
            "border": null,
            "align_items": null,
            "bottom": null,
            "_model_module": "@jupyter-widgets/base",
            "top": null,
            "grid_column": null,
            "overflow_y": null,
            "overflow_x": null,
            "grid_auto_flow": null,
            "grid_area": null,
            "grid_template_columns": null,
            "flex": null,
            "_model_name": "LayoutModel",
            "justify_items": null,
            "grid_row": null,
            "max_height": null,
            "align_content": null,
            "visibility": null,
            "align_self": null,
            "height": null,
            "min_height": null,
            "padding": null,
            "grid_auto_rows": null,
            "grid_gap": null,
            "max_width": null,
            "order": null,
            "_view_module_version": "1.2.0",
            "grid_template_areas": null,
            "object_position": null,
            "object_fit": null,
            "grid_auto_columns": null,
            "margin": null,
            "display": null,
            "left": null
          }
        }
      }
    },
    "accelerator": "GPU"
  },
  "cells": [
    {
      "cell_type": "markdown",
      "metadata": {
        "id": "view-in-github",
        "colab_type": "text"
      },
      "source": [
        "<a href=\"https://colab.research.google.com/github/ASi-F/NLPlay-with-Transformers/blob/main/BERT_base.ipynb\" target=\"_parent\"><img src=\"https://colab.research.google.com/assets/colab-badge.svg\" alt=\"Open In Colab\"/></a>"
      ]
    },
    {
      "cell_type": "markdown",
      "metadata": {
        "id": "Qg5g50wrnN6D"
      },
      "source": [
        "# BERT base\n",
        "\n",
        "The BERT Transformer is available in 2 sizes- **base** and **large**. Here we train the smaller base version. It has **6 encoders** stacked on top of each other and gives an output embedding of dimension 768. Here we train the large model on a dataset of 7000 reviews and evaluate on a dataset of 3000 reviews by using **a Feed Forward Neural Network with 3 hidden layers and 500 neurons per layer architecture**. The output embeddings are processed by this neural network which is trained on this dataset.<br>\n",
        "We have achieved an accuracy of 93.2% on the training set and 90.62% on the training set.<br>\n",
        "Not BAD!"
      ]
    },
    {
      "cell_type": "code",
      "metadata": {
        "id": "vCsnSSVU3oDd",
        "colab": {
          "base_uri": "https://localhost:8080/"
        },
        "outputId": "b08be713-c07b-4f2b-8efc-2b08212c755e"
      },
      "source": [
        "pip install transformers"
      ],
      "execution_count": 1,
      "outputs": [
        {
          "output_type": "stream",
          "name": "stdout",
          "text": [
            "Requirement already satisfied: transformers in /usr/local/lib/python3.7/dist-packages (4.11.2)\n",
            "Requirement already satisfied: tokenizers<0.11,>=0.10.1 in /usr/local/lib/python3.7/dist-packages (from transformers) (0.10.3)\n",
            "Requirement already satisfied: sacremoses in /usr/local/lib/python3.7/dist-packages (from transformers) (0.0.46)\n",
            "Requirement already satisfied: huggingface-hub>=0.0.17 in /usr/local/lib/python3.7/dist-packages (from transformers) (0.0.17)\n",
            "Requirement already satisfied: filelock in /usr/local/lib/python3.7/dist-packages (from transformers) (3.0.12)\n",
            "Requirement already satisfied: pyyaml>=5.1 in /usr/local/lib/python3.7/dist-packages (from transformers) (5.4.1)\n",
            "Requirement already satisfied: requests in /usr/local/lib/python3.7/dist-packages (from transformers) (2.23.0)\n",
            "Requirement already satisfied: tqdm>=4.27 in /usr/local/lib/python3.7/dist-packages (from transformers) (4.62.3)\n",
            "Requirement already satisfied: importlib-metadata in /usr/local/lib/python3.7/dist-packages (from transformers) (4.8.1)\n",
            "Requirement already satisfied: regex!=2019.12.17 in /usr/local/lib/python3.7/dist-packages (from transformers) (2019.12.20)\n",
            "Requirement already satisfied: packaging>=20.0 in /usr/local/lib/python3.7/dist-packages (from transformers) (21.0)\n",
            "Requirement already satisfied: numpy>=1.17 in /usr/local/lib/python3.7/dist-packages (from transformers) (1.19.5)\n",
            "Requirement already satisfied: typing-extensions in /usr/local/lib/python3.7/dist-packages (from huggingface-hub>=0.0.17->transformers) (3.7.4.3)\n",
            "Requirement already satisfied: pyparsing>=2.0.2 in /usr/local/lib/python3.7/dist-packages (from packaging>=20.0->transformers) (2.4.7)\n",
            "Requirement already satisfied: zipp>=0.5 in /usr/local/lib/python3.7/dist-packages (from importlib-metadata->transformers) (3.5.0)\n",
            "Requirement already satisfied: chardet<4,>=3.0.2 in /usr/local/lib/python3.7/dist-packages (from requests->transformers) (3.0.4)\n",
            "Requirement already satisfied: certifi>=2017.4.17 in /usr/local/lib/python3.7/dist-packages (from requests->transformers) (2021.5.30)\n",
            "Requirement already satisfied: idna<3,>=2.5 in /usr/local/lib/python3.7/dist-packages (from requests->transformers) (2.10)\n",
            "Requirement already satisfied: urllib3!=1.25.0,!=1.25.1,<1.26,>=1.21.1 in /usr/local/lib/python3.7/dist-packages (from requests->transformers) (1.24.3)\n",
            "Requirement already satisfied: click in /usr/local/lib/python3.7/dist-packages (from sacremoses->transformers) (7.1.2)\n",
            "Requirement already satisfied: six in /usr/local/lib/python3.7/dist-packages (from sacremoses->transformers) (1.15.0)\n",
            "Requirement already satisfied: joblib in /usr/local/lib/python3.7/dist-packages (from sacremoses->transformers) (1.0.1)\n"
          ]
        }
      ]
    },
    {
      "cell_type": "code",
      "metadata": {
        "id": "-Aq_FxQI3z8y",
        "colab": {
          "base_uri": "https://localhost:8080/"
        },
        "outputId": "d5d6db96-bb42-4a9e-f3c0-9a4744d013a2"
      },
      "source": [
        "pip install datasets"
      ],
      "execution_count": 2,
      "outputs": [
        {
          "output_type": "stream",
          "name": "stdout",
          "text": [
            "Requirement already satisfied: datasets in /usr/local/lib/python3.7/dist-packages (1.12.1)\n",
            "Requirement already satisfied: dill in /usr/local/lib/python3.7/dist-packages (from datasets) (0.3.4)\n",
            "Requirement already satisfied: fsspec[http]>=2021.05.0 in /usr/local/lib/python3.7/dist-packages (from datasets) (2021.10.0)\n",
            "Requirement already satisfied: aiohttp in /usr/local/lib/python3.7/dist-packages (from datasets) (3.7.4.post0)\n",
            "Requirement already satisfied: importlib-metadata in /usr/local/lib/python3.7/dist-packages (from datasets) (4.8.1)\n",
            "Requirement already satisfied: pandas in /usr/local/lib/python3.7/dist-packages (from datasets) (1.1.5)\n",
            "Requirement already satisfied: xxhash in /usr/local/lib/python3.7/dist-packages (from datasets) (2.0.2)\n",
            "Requirement already satisfied: tqdm>=4.62.1 in /usr/local/lib/python3.7/dist-packages (from datasets) (4.62.3)\n",
            "Requirement already satisfied: huggingface-hub<0.1.0,>=0.0.14 in /usr/local/lib/python3.7/dist-packages (from datasets) (0.0.17)\n",
            "Requirement already satisfied: multiprocess in /usr/local/lib/python3.7/dist-packages (from datasets) (0.70.12.2)\n",
            "Requirement already satisfied: pyarrow!=4.0.0,>=1.0.0 in /usr/local/lib/python3.7/dist-packages (from datasets) (3.0.0)\n",
            "Requirement already satisfied: packaging in /usr/local/lib/python3.7/dist-packages (from datasets) (21.0)\n",
            "Requirement already satisfied: numpy>=1.17 in /usr/local/lib/python3.7/dist-packages (from datasets) (1.19.5)\n",
            "Requirement already satisfied: requests>=2.19.0 in /usr/local/lib/python3.7/dist-packages (from datasets) (2.23.0)\n",
            "Requirement already satisfied: filelock in /usr/local/lib/python3.7/dist-packages (from huggingface-hub<0.1.0,>=0.0.14->datasets) (3.0.12)\n",
            "Requirement already satisfied: typing-extensions in /usr/local/lib/python3.7/dist-packages (from huggingface-hub<0.1.0,>=0.0.14->datasets) (3.7.4.3)\n",
            "Requirement already satisfied: pyparsing>=2.0.2 in /usr/local/lib/python3.7/dist-packages (from packaging->datasets) (2.4.7)\n",
            "Requirement already satisfied: idna<3,>=2.5 in /usr/local/lib/python3.7/dist-packages (from requests>=2.19.0->datasets) (2.10)\n",
            "Requirement already satisfied: chardet<4,>=3.0.2 in /usr/local/lib/python3.7/dist-packages (from requests>=2.19.0->datasets) (3.0.4)\n",
            "Requirement already satisfied: certifi>=2017.4.17 in /usr/local/lib/python3.7/dist-packages (from requests>=2.19.0->datasets) (2021.5.30)\n",
            "Requirement already satisfied: urllib3!=1.25.0,!=1.25.1,<1.26,>=1.21.1 in /usr/local/lib/python3.7/dist-packages (from requests>=2.19.0->datasets) (1.24.3)\n",
            "Requirement already satisfied: yarl<2.0,>=1.0 in /usr/local/lib/python3.7/dist-packages (from aiohttp->datasets) (1.6.3)\n",
            "Requirement already satisfied: multidict<7.0,>=4.5 in /usr/local/lib/python3.7/dist-packages (from aiohttp->datasets) (5.1.0)\n",
            "Requirement already satisfied: attrs>=17.3.0 in /usr/local/lib/python3.7/dist-packages (from aiohttp->datasets) (21.2.0)\n",
            "Requirement already satisfied: async-timeout<4.0,>=3.0 in /usr/local/lib/python3.7/dist-packages (from aiohttp->datasets) (3.0.1)\n",
            "Requirement already satisfied: zipp>=0.5 in /usr/local/lib/python3.7/dist-packages (from importlib-metadata->datasets) (3.5.0)\n",
            "Requirement already satisfied: pytz>=2017.2 in /usr/local/lib/python3.7/dist-packages (from pandas->datasets) (2018.9)\n",
            "Requirement already satisfied: python-dateutil>=2.7.3 in /usr/local/lib/python3.7/dist-packages (from pandas->datasets) (2.8.2)\n",
            "Requirement already satisfied: six>=1.5 in /usr/local/lib/python3.7/dist-packages (from python-dateutil>=2.7.3->pandas->datasets) (1.15.0)\n"
          ]
        }
      ]
    },
    {
      "cell_type": "code",
      "metadata": {
        "id": "4pHLzIey36zZ"
      },
      "source": [
        "import pandas as pd\n",
        "import numpy as np\n",
        "import os\n",
        "import torch\n",
        "import matplotlib.pyplot as plt\n",
        "import random "
      ],
      "execution_count": 3,
      "outputs": []
    },
    {
      "cell_type": "code",
      "metadata": {
        "colab": {
          "base_uri": "https://localhost:8080/"
        },
        "id": "XlD0355AyWUf",
        "outputId": "349f2602-ac18-4e22-c49f-d4f5f0344a41"
      },
      "source": [
        "from google.colab import drive\n",
        "drive.mount('/content/drive')"
      ],
      "execution_count": 4,
      "outputs": [
        {
          "output_type": "stream",
          "name": "stdout",
          "text": [
            "Drive already mounted at /content/drive; to attempt to forcibly remount, call drive.mount(\"/content/drive\", force_remount=True).\n"
          ]
        }
      ]
    },
    {
      "cell_type": "markdown",
      "metadata": {
        "id": "tkiPGrg7oFtz"
      },
      "source": [
        "## **Preprocessing**\n",
        "\n",
        "The dataset is mounted from drive and some basic preprocessing is done to remove html tags. The review and sentiment columns are replaced by text and label columns. Here we convert the pandas df to dataset to pytorch dataloader"
      ]
    },
    {
      "cell_type": "code",
      "metadata": {
        "id": "m2mZGxUX37SX"
      },
      "source": [
        "df = pd.read_csv('/content/drive/MyDrive/Colab Notebooks/NLPlay/IMDB Dataset.csv')"
      ],
      "execution_count": 5,
      "outputs": []
    },
    {
      "cell_type": "code",
      "metadata": {
        "id": "VA6gVgR038zd"
      },
      "source": [
        "def remove_tags(text):\n",
        "    final = \"\"\n",
        "    stt = True\n",
        "    for char in text:\n",
        "        if char == '<':\n",
        "            stt = False\n",
        "        if(stt):\n",
        "            final = final + char\n",
        "        if char == '>':\n",
        "            stt = True\n",
        "            final = final + ' '\n",
        "    return final\n",
        "\n",
        "df['text'] = df['review'].apply(remove_tags)"
      ],
      "execution_count": 6,
      "outputs": []
    },
    {
      "cell_type": "code",
      "metadata": {
        "id": "DLzbul1n3-pO"
      },
      "source": [
        "df = df.drop('review',axis = 1)"
      ],
      "execution_count": 7,
      "outputs": []
    },
    {
      "cell_type": "code",
      "metadata": {
        "id": "qEnsagm44AdR"
      },
      "source": [
        "df['label'] = [ 1*(sent=='positive') for sent in df['sentiment']]\n",
        "\n",
        "df = df.drop('sentiment', axis = 1)"
      ],
      "execution_count": 8,
      "outputs": []
    },
    {
      "cell_type": "code",
      "metadata": {
        "id": "cyNbOCE84CSf"
      },
      "source": [
        "from datasets import Dataset\n",
        "\n",
        "dataset = Dataset.from_pandas(df)"
      ],
      "execution_count": 9,
      "outputs": []
    },
    {
      "cell_type": "code",
      "metadata": {
        "id": "18PPl_bn4hvT"
      },
      "source": [
        "train_range = [i for i in range(0,15000) if 6>=i%10 and i%10>=0]\n",
        "eval_range = [i for i in range(0,15000) if 9>=i%10 and i%10>=7]\n",
        "\n",
        "train_dataset = dataset.select(train_range).shuffle(seed=42)\n",
        "eval_dataset = dataset.select(eval_range) .shuffle(seed=42)"
      ],
      "execution_count": 10,
      "outputs": []
    },
    {
      "cell_type": "code",
      "metadata": {
        "id": "rt-TWKsR4mIB"
      },
      "source": [
        "from torch.utils.data import DataLoader\n",
        "\n",
        "train_dataloader = DataLoader(train_dataset, shuffle=True, batch_size=10)\n",
        "eval_dataloader = DataLoader(eval_dataset, batch_size=10)"
      ],
      "execution_count": 11,
      "outputs": []
    },
    {
      "cell_type": "markdown",
      "metadata": {
        "id": "WKbP5LHdoP8U"
      },
      "source": [
        "## **Architecture**"
      ]
    },
    {
      "cell_type": "code",
      "metadata": {
        "id": "sisT8KyW4nFZ"
      },
      "source": [
        "from transformers import AutoModel\n",
        "from transformers import AutoTokenizer"
      ],
      "execution_count": 12,
      "outputs": []
    },
    {
      "cell_type": "code",
      "metadata": {
        "id": "8ufhErk04rSu"
      },
      "source": [
        "import torch.nn as nn\n",
        "import torch.nn.functional as F\n",
        "import torch.optim as optim"
      ],
      "execution_count": 13,
      "outputs": []
    },
    {
      "cell_type": "code",
      "metadata": {
        "colab": {
          "base_uri": "https://localhost:8080/"
        },
        "id": "plf2eEjP4sQv",
        "outputId": "8f4da734-bb92-4af2-d9e1-235f26c93143"
      },
      "source": [
        "device = torch.device(\"cuda\") if torch.cuda.is_available() else torch.device(\"cpu\")\n",
        "device"
      ],
      "execution_count": 14,
      "outputs": [
        {
          "output_type": "execute_result",
          "data": {
            "text/plain": [
              "device(type='cuda')"
            ]
          },
          "metadata": {},
          "execution_count": 14
        }
      ]
    },
    {
      "cell_type": "code",
      "metadata": {
        "id": "HKe10vUT4uht"
      },
      "source": [
        "class Classifier(nn.Module):\n",
        "  def __init__(self,hidden_dim,output_size,model_name,enc_dim):\n",
        "    super(Classifier,self).__init__()\n",
        "\n",
        "    self.model = AutoModel.from_pretrained(model_name, num_labels=2)\n",
        "  \n",
        "    self.LF1 = nn.Linear(enc_dim,hidden_dim)\n",
        "    self.NLF1 = nn.ReLU()\n",
        "\n",
        "    self.LF2 = nn.Linear(hidden_dim,hidden_dim)\n",
        "    self.NLF2 = nn.ReLU()\n",
        "\n",
        "    self.LF3 = nn.Linear(hidden_dim,output_size)\n",
        "\n",
        "  def ready_train(self):\n",
        "    (self.model).train()\n",
        "  \n",
        "  def ready_eval(self):\n",
        "    self.model.eval()\n",
        "\n",
        "  def forward(self,x):\n",
        "    out = self.model(**x)[1]\n",
        "\n",
        "    out = self.LF1(out)\n",
        "    out = self.NLF1(out)\n",
        "\n",
        "    out = self.LF2(out)\n",
        "    out = self.NLF2(out)\n",
        "\n",
        "    out = self.LF3(out)\n",
        "\n",
        "    return F.softmax(out,dim=1)    "
      ],
      "execution_count": 15,
      "outputs": []
    },
    {
      "cell_type": "markdown",
      "metadata": {
        "id": "zaQemYBsoSxJ"
      },
      "source": [
        "## **Training**"
      ]
    },
    {
      "cell_type": "code",
      "metadata": {
        "id": "0uhTa_v148QW"
      },
      "source": [
        "from tqdm.auto import tqdm\n",
        "\n",
        "def train_classifier(num_epochs,train_dataloader,optimizer,classifier,tokenizer,loss_function = nn.CrossEntropyLoss()):\n",
        "  losses = []\n",
        "  num_training_steps = num_epochs*len(train_dataloader)\n",
        "  progress_bar = tqdm(range(num_training_steps))\n",
        "  classifier.ready_train()\n",
        "  i = 0\n",
        "  avg_loss = 0.\n",
        "  for epoch in range(num_epochs):\n",
        "    for batch in train_dataloader:\n",
        "      # forward prop\n",
        "      inp = tokenizer(batch['text'],padding=True, truncation=True,max_length=512, return_tensors=\"pt\")\n",
        "      inp = inp.to(device)\n",
        "      out = classifier(inp)\n",
        "      pred = batch['label']\n",
        "      pred = pred.to(device)\n",
        "      loss = loss_function(out, pred)\n",
        "\n",
        "      # backward prop\n",
        "      optimizer.zero_grad()\n",
        "      loss.backward()\n",
        "      optimizer.step()\n",
        "\n",
        "      losses.append(loss.item())\n",
        "      progress_bar.update(1)\n",
        "      if i%(5 *(num_training_steps//100)) == 0  and i>0:\n",
        "        print(\"TRAINING:{0} %\\t AVEREAGE LOSS: {1}\".format(i//(num_training_steps//100),avg_loss/(5*(num_training_steps//100))))\n",
        "        avg_loss = 0\n",
        "      i+=1\n",
        "      avg_loss = avg_loss + float(loss.item())\n",
        "  return losses"
      ],
      "execution_count": 16,
      "outputs": []
    },
    {
      "cell_type": "markdown",
      "metadata": {
        "id": "ctYTavR-eOtZ"
      },
      "source": [
        "## **Model Evaluation**"
      ]
    },
    {
      "cell_type": "code",
      "metadata": {
        "id": "u-Xq5ovN4_Zn"
      },
      "source": [
        "plt.rcParams['figure.figsize'] = (15,10)\n",
        "plt.style.use('ggplot')\n",
        "\n",
        "def plot_loss(losses):\n",
        "  x = [i for i in range(0,len(losses))]\n",
        "  plt.plot(x,losses)\n",
        "  plt.title('Training Loss')\n",
        "  plt.ylabel('Loss')\n",
        "  plt.xlabel('Batch Index')\n",
        "\n",
        "def smooth_loss(losses,f):\n",
        "  y = [0]*len(losses)\n",
        "  for i in range(0,f):\n",
        "    y[i] = (sum(losses[:i+1+f]))/(i+1+f)\n",
        "  for i in range(f,len(losses)-f-1):\n",
        "    y[i] = (sum(losses[i-f:i+f+1]))/(2*f+1)\n",
        "  for i in range(len(losses)-f-1,len(losses)):\n",
        "    y[i] = (sum(losses[i-f:]))/(len(losses)-i+f)\n",
        "  plot_loss(y)"
      ],
      "execution_count": 17,
      "outputs": []
    },
    {
      "cell_type": "code",
      "metadata": {
        "id": "9OOMHrEoeOL5"
      },
      "source": [
        "def acc(dataloader,classifier,tokenizer):\n",
        "  corr = 0\n",
        "  tot = len(dataloader)*10\n",
        "  for batch in dataloader:\n",
        "  # forward prop\n",
        "    inp = tokenizer(batch['text'],padding=True, truncation=True,max_length=512, return_tensors=\"pt\")\n",
        "    inp = inp.to(device)\n",
        "    out = list(torch.argmax(classifier(inp),dim=1))\n",
        "    exp = list(batch['label'])\n",
        "    \n",
        "    for i,x in enumerate(out):\n",
        "      if x == exp[i]:\n",
        "        corr = corr+1\n",
        "    \n",
        "  return 100*(corr/tot)"
      ],
      "execution_count": 18,
      "outputs": []
    },
    {
      "cell_type": "markdown",
      "metadata": {
        "id": "V5JrdlZjv6DG"
      },
      "source": [
        "## **Initialize model**"
      ]
    },
    {
      "cell_type": "code",
      "metadata": {
        "id": "h2F2rrd05BxX"
      },
      "source": [
        "model_name = 'bert-base-uncased'\n",
        "output_size = 2\n",
        "hidden_dim = 500\n",
        "enc_dim = 768\n",
        "\n",
        "bert_tokenizer = AutoTokenizer.from_pretrained(model_name)\n",
        "classifier_bert = Classifier(hidden_dim,output_size,model_name,enc_dim)\n",
        "classifier_bert.to(device)"
      ],
      "execution_count": null,
      "outputs": []
    },
    {
      "cell_type": "code",
      "metadata": {
        "colab": {
          "base_uri": "https://localhost:8080/",
          "height": 414,
          "referenced_widgets": [
            "e9839b39df33497cb4275a90eba62d85",
            "fdcd409fd26a4e379f4d774e1149ad9c",
            "1a2d34f747004adc804b7704fefe2a15",
            "78981b122caa4291b7c1bbbe39b9610c",
            "e99c601b2e8f4f5eaa690f39986f388c",
            "09f7da79ef6546d99aecc78260e061d2",
            "1bc6910e65ec4a10a8f4044067e5cd12",
            "6f797fcac317417784cc39291a0b45c6",
            "8966ff188ddd46048d50453d479bdb4d",
            "cf76d0c84725487b85322c69146b994d",
            "e37791751a774558b447b60a7c553639"
          ]
        },
        "id": "UIVe4e0A5GI4",
        "outputId": "6b6d7954-4718-465e-ccd6-2e12d0e36648"
      },
      "source": [
        "num_epochs = 2\n",
        "lr = 1e-2\n",
        "optimizer = optim.SGD(classifier_bert.parameters(), lr)\n",
        "\n",
        "losses = train_classifier(num_epochs,train_dataloader,optimizer,classifier_bert,bert_tokenizer)"
      ],
      "execution_count": 20,
      "outputs": [
        {
          "output_type": "display_data",
          "data": {
            "application/vnd.jupyter.widget-view+json": {
              "model_id": "e9839b39df33497cb4275a90eba62d85",
              "version_minor": 0,
              "version_major": 2
            },
            "text/plain": [
              "  0%|          | 0/2100 [00:00<?, ?it/s]"
            ]
          },
          "metadata": {}
        },
        {
          "output_type": "stream",
          "name": "stderr",
          "text": [
            "/usr/local/lib/python3.7/dist-packages/transformers/tokenization_utils_base.py:2227: UserWarning: `max_length` is ignored when `padding`=`True`.\n",
            "  warnings.warn(\"`max_length` is ignored when `padding`=`True`.\")\n"
          ]
        },
        {
          "output_type": "stream",
          "name": "stdout",
          "text": [
            "TRAINING:5 %\t AVEREAGE LOSS: 0.6909439671607245\n",
            "TRAINING:10 %\t AVEREAGE LOSS: 0.6483354173955463\n",
            "TRAINING:15 %\t AVEREAGE LOSS: 0.5874539517220997\n",
            "TRAINING:20 %\t AVEREAGE LOSS: 0.5135477253368923\n",
            "TRAINING:25 %\t AVEREAGE LOSS: 0.4655896788551694\n",
            "TRAINING:30 %\t AVEREAGE LOSS: 0.46143209309805006\n",
            "TRAINING:35 %\t AVEREAGE LOSS: 0.4388156283469427\n",
            "TRAINING:40 %\t AVEREAGE LOSS: 0.4288950721422831\n",
            "TRAINING:45 %\t AVEREAGE LOSS: 0.4482289359683082\n",
            "TRAINING:50 %\t AVEREAGE LOSS: 0.441814295734678\n",
            "TRAINING:55 %\t AVEREAGE LOSS: 0.4158608467805953\n",
            "TRAINING:60 %\t AVEREAGE LOSS: 0.4233391753264836\n",
            "TRAINING:65 %\t AVEREAGE LOSS: 0.4173467545282273\n",
            "TRAINING:70 %\t AVEREAGE LOSS: 0.40867041519709996\n",
            "TRAINING:75 %\t AVEREAGE LOSS: 0.42149810336884996\n",
            "TRAINING:80 %\t AVEREAGE LOSS: 0.42249163616271246\n",
            "TRAINING:85 %\t AVEREAGE LOSS: 0.4086860387098222\n",
            "TRAINING:90 %\t AVEREAGE LOSS: 0.42035825820196243\n",
            "TRAINING:95 %\t AVEREAGE LOSS: 0.41227636195364453\n"
          ]
        }
      ]
    },
    {
      "cell_type": "markdown",
      "metadata": {
        "id": "7wIpxOhcooIz"
      },
      "source": [
        "## **Plot for average loss per 100 iterations**"
      ]
    },
    {
      "cell_type": "code",
      "metadata": {
        "colab": {
          "base_uri": "https://localhost:8080/",
          "height": 626
        },
        "id": "p-rero1r5KtM",
        "outputId": "4ede5107-2e3d-4aca-ff92-04f98cf520cd"
      },
      "source": [
        "smooth_loss(losses,100)"
      ],
      "execution_count": 21,
      "outputs": [
        {
          "output_type": "display_data",
          "data": {
            "image/png": "[encoded data removed]",
            "text/plain": [
              "<Figure size 1080x720 with 1 Axes>"
            ]
          },
          "metadata": {}
        }
      ]
    },
    {
      "cell_type": "markdown",
      "metadata": {
        "id": "GWvk22jOrq8m"
      },
      "source": [
        "## **Training set Accuracy**"
      ]
    },
    {
      "cell_type": "code",
      "metadata": {
        "id": "Pwetl2RK5Me4"
      },
      "source": [
        "classifier_bert.ready_eval()"
      ],
      "execution_count": 22,
      "outputs": []
    },
    {
      "cell_type": "code",
      "metadata": {
        "colab": {
          "base_uri": "https://localhost:8080/"
        },
        "id": "Ti6kA8Xc5Oao",
        "outputId": "a4fcb786-5fc9-4c85-ee18-64e05fccceb4"
      },
      "source": [
        "acc(train_dataloader,classifier_bert,bert_tokenizer)"
      ],
      "execution_count": 23,
      "outputs": [
        {
          "output_type": "stream",
          "name": "stderr",
          "text": [
            "/usr/local/lib/python3.7/dist-packages/transformers/tokenization_utils_base.py:2227: UserWarning: `max_length` is ignored when `padding`=`True`.\n",
            "  warnings.warn(\"`max_length` is ignored when `padding`=`True`.\")\n"
          ]
        },
        {
          "output_type": "execute_result",
          "data": {
            "text/plain": [
              "93.2"
            ]
          },
          "metadata": {},
          "execution_count": 23
        }
      ]
    },
    {
      "cell_type": "markdown",
      "metadata": {
        "id": "w78hONOnr5Qg"
      },
      "source": [
        "## **Test set accuracy**"
      ]
    },
    {
      "cell_type": "code",
      "metadata": {
        "colab": {
          "base_uri": "https://localhost:8080/"
        },
        "id": "q40FDabq5Q4a",
        "outputId": "aafe4c1c-ee98-4539-a323-dde26dd165b8"
      },
      "source": [
        "acc(eval_dataloader,classifier_bert,bert_tokenizer)"
      ],
      "execution_count": 24,
      "outputs": [
        {
          "output_type": "stream",
          "name": "stderr",
          "text": [
            "/usr/local/lib/python3.7/dist-packages/transformers/tokenization_utils_base.py:2227: UserWarning: `max_length` is ignored when `padding`=`True`.\n",
            "  warnings.warn(\"`max_length` is ignored when `padding`=`True`.\")\n"
          ]
        },
        {
          "output_type": "execute_result",
          "data": {
            "text/plain": [
              "90.62222222222222"
            ]
          },
          "metadata": {},
          "execution_count": 24
        }
      ]
    }
  ]
}
