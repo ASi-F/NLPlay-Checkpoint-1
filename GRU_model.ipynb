{
  "nbformat": 4,
  "nbformat_minor": 0,
  "metadata": {
    "colab": {
      "name": "GRU_model.ipynb",
      "provenance": [],
      "collapsed_sections": [],
      "include_colab_link": true
    },
    "kernelspec": {
      "display_name": "Python 3",
      "name": "python3"
    },
    "language_info": {
      "name": "python"
    },
    "accelerator": "GPU"
  },
  "cells": [
    {
      "cell_type": "markdown",
      "metadata": {
        "id": "view-in-github",
        "colab_type": "text"
      },
      "source": [
        "<a href=\"https://colab.research.google.com/github/ASi-F/Sentiment-Analysis/blob/main/GRU_model.ipynb\" target=\"_parent\"><img src=\"https://colab.research.google.com/assets/colab-badge.svg\" alt=\"Open In Colab\"/></a>"
      ]
    },
    {
      "cell_type": "markdown",
      "metadata": {
        "id": "Tyh6dGy_tuZZ"
      },
      "source": [
        "# Libraries"
      ]
    },
    {
      "cell_type": "code",
      "metadata": {
        "id": "F66Wy9TAH9v_"
      },
      "source": [
        "import pandas as pd\n",
        "import os\n",
        "import torch\n",
        "import numpy as np\n",
        "import nltk\n",
        "import matplotlib.pyplot as plt\n",
        "import random"
      ],
      "execution_count": 1,
      "outputs": []
    },
    {
      "cell_type": "code",
      "metadata": {
        "colab": {
          "base_uri": "https://localhost:8080/"
        },
        "id": "Vv7T5ZQYl4SS",
        "outputId": "75e938cc-66c7-4753-c9c7-db9c0b639508"
      },
      "source": [
        "from google.colab import drive\n",
        "drive.mount('/content/drive')"
      ],
      "execution_count": 2,
      "outputs": [
        {
          "output_type": "stream",
          "text": [
            "Drive already mounted at /content/drive; to attempt to forcibly remount, call drive.mount(\"/content/drive\", force_remount=True).\n"
          ],
          "name": "stdout"
        }
      ]
    },
    {
      "cell_type": "markdown",
      "metadata": {
        "id": "iPLgvS3Vt6W9"
      },
      "source": [
        "# Building our data sets"
      ]
    },
    {
      "cell_type": "code",
      "metadata": {
        "id": "ZC3IPqMNIZHq"
      },
      "source": [
        "df = pd.read_csv('/content/drive/MyDrive/Colab Notebooks/IMDB Dataset.csv')"
      ],
      "execution_count": 3,
      "outputs": []
    },
    {
      "cell_type": "code",
      "metadata": {
        "colab": {
          "base_uri": "https://localhost:8080/",
          "height": 189
        },
        "id": "PY2Cz78qIpIW",
        "outputId": "bf69a88f-3937-459f-dd20-860c7ffb4c62"
      },
      "source": [
        "print(df.columns)\n",
        "df.describe()"
      ],
      "execution_count": 4,
      "outputs": [
        {
          "output_type": "stream",
          "text": [
            "Index(['review', 'sentiment'], dtype='object')\n"
          ],
          "name": "stdout"
        },
        {
          "output_type": "execute_result",
          "data": {
            "text/html": [
              "<div>\n",
              "<style scoped>\n",
              "    .dataframe tbody tr th:only-of-type {\n",
              "        vertical-align: middle;\n",
              "    }\n",
              "\n",
              "    .dataframe tbody tr th {\n",
              "        vertical-align: top;\n",
              "    }\n",
              "\n",
              "    .dataframe thead th {\n",
              "        text-align: right;\n",
              "    }\n",
              "</style>\n",
              "<table border=\"1\" class=\"dataframe\">\n",
              "  <thead>\n",
              "    <tr style=\"text-align: right;\">\n",
              "      <th></th>\n",
              "      <th>review</th>\n",
              "      <th>sentiment</th>\n",
              "    </tr>\n",
              "  </thead>\n",
              "  <tbody>\n",
              "    <tr>\n",
              "      <th>count</th>\n",
              "      <td>50000</td>\n",
              "      <td>50000</td>\n",
              "    </tr>\n",
              "    <tr>\n",
              "      <th>unique</th>\n",
              "      <td>49582</td>\n",
              "      <td>2</td>\n",
              "    </tr>\n",
              "    <tr>\n",
              "      <th>top</th>\n",
              "      <td>Loved today's show!!! It was a variety and not...</td>\n",
              "      <td>negative</td>\n",
              "    </tr>\n",
              "    <tr>\n",
              "      <th>freq</th>\n",
              "      <td>5</td>\n",
              "      <td>25000</td>\n",
              "    </tr>\n",
              "  </tbody>\n",
              "</table>\n",
              "</div>"
            ],
            "text/plain": [
              "                                                   review sentiment\n",
              "count                                               50000     50000\n",
              "unique                                              49582         2\n",
              "top     Loved today's show!!! It was a variety and not...  negative\n",
              "freq                                                    5     25000"
            ]
          },
          "metadata": {
            "tags": []
          },
          "execution_count": 4
        }
      ]
    },
    {
      "cell_type": "code",
      "metadata": {
        "id": "t43U2Vs0uIL9"
      },
      "source": [
        "def splitDF(r):\n",
        "  dataLen = len(df)\n",
        "  temp = ['test']*int((1-r)*dataLen) + ['train']*int((r)*dataLen)\n",
        "  random.shuffle(temp)\n",
        "  df['split'] = temp\n",
        "\n",
        "#splitDF(0.3)"
      ],
      "execution_count": 5,
      "outputs": []
    },
    {
      "cell_type": "code",
      "metadata": {
        "colab": {
          "base_uri": "https://localhost:8080/"
        },
        "id": "UMGqe_JbIr_T",
        "outputId": "0c22714a-c414-4cd7-92a4-a436d94b7649"
      },
      "source": [
        "nltk.download('stopwords')"
      ],
      "execution_count": 6,
      "outputs": [
        {
          "output_type": "stream",
          "text": [
            "[nltk_data] Downloading package stopwords to /root/nltk_data...\n",
            "[nltk_data]   Package stopwords is already up-to-date!\n"
          ],
          "name": "stdout"
        },
        {
          "output_type": "execute_result",
          "data": {
            "text/plain": [
              "True"
            ]
          },
          "metadata": {
            "tags": []
          },
          "execution_count": 6
        }
      ]
    },
    {
      "cell_type": "code",
      "metadata": {
        "id": "gjUZsNSsbON3"
      },
      "source": [
        "df['review'] = df['review'].apply(lambda x:x.lower())"
      ],
      "execution_count": 7,
      "outputs": []
    },
    {
      "cell_type": "code",
      "metadata": {
        "id": "ef1JjRa_Iw_w"
      },
      "source": [
        "from nltk.corpus import stopwords\n",
        "stop = stopwords.words('english')\n",
        "df['review'] = df['review'].apply(lambda x: ' '.join([word for word in x.split() if word not in (stop)]))"
      ],
      "execution_count": 8,
      "outputs": []
    },
    {
      "cell_type": "code",
      "metadata": {
        "colab": {
          "base_uri": "https://localhost:8080/",
          "height": 120
        },
        "id": "SlYUGNXDI1fm",
        "outputId": "9bb14005-68f8-49e0-dad7-91a9cecb69fe"
      },
      "source": [
        "df['review'][0]"
      ],
      "execution_count": 9,
      "outputs": [
        {
          "output_type": "execute_result",
          "data": {
            "application/vnd.google.colaboratory.intrinsic+json": {
              "type": "string"
            },
            "text/plain": [
              "\"one reviewers mentioned watching 1 oz episode hooked. right, exactly happened me.<br /><br />the first thing struck oz brutality unflinching scenes violence, set right word go. trust me, show faint hearted timid. show pulls punches regards drugs, sex violence. hardcore, classic use word.<br /><br />it called oz nickname given oswald maximum security state penitentary. focuses mainly emerald city, experimental section prison cells glass fronts face inwards, privacy high agenda. em city home many..aryans, muslims, gangstas, latinos, christians, italians, irish more....so scuffles, death stares, dodgy dealings shady agreements never far away.<br /><br />i would say main appeal show due fact goes shows dare. forget pretty pictures painted mainstream audiences, forget charm, forget romance...oz mess around. first episode ever saw struck nasty surreal, say ready it, watched more, developed taste oz, got accustomed high levels graphic violence. violence, injustice (crooked guards who'll sold nickel, inmates who'll kill order get away it, well mannered, middle class inmates turned prison bitches due lack street skills prison experience) watching oz, may become comfortable uncomfortable viewing....thats get touch darker side.\""
            ]
          },
          "metadata": {
            "tags": []
          },
          "execution_count": 9
        }
      ]
    },
    {
      "cell_type": "code",
      "metadata": {
        "id": "RBDNtK9mI5t4"
      },
      "source": [
        "def remove_punctuation(text):\n",
        "    final = \"\".join(u for u in text if u not in (\"?\", \".\", \";\", \":\", \"!\", '\"', ',','#','$','@','%','^','&','*'))\n",
        "    return final\n",
        "\n",
        "df['review'] = df['review'].apply(remove_punctuation)"
      ],
      "execution_count": 10,
      "outputs": []
    },
    {
      "cell_type": "code",
      "metadata": {
        "id": "bv6U7EPEJE4T"
      },
      "source": [
        "def remove_tags(text):\n",
        "    final = \"\"\n",
        "    stt = True\n",
        "    for char in text:\n",
        "        if char == '<':\n",
        "            stt = False\n",
        "        if(stt):\n",
        "            final = final + char\n",
        "        if char == '>':\n",
        "            stt = True\n",
        "            final = final + ' '\n",
        "    return final\n",
        "    \n",
        "df['review'] = df['review'].apply(remove_tags)"
      ],
      "execution_count": 11,
      "outputs": []
    },
    {
      "cell_type": "code",
      "metadata": {
        "colab": {
          "base_uri": "https://localhost:8080/",
          "height": 120
        },
        "id": "QeaQaRnGJMtN",
        "outputId": "c6fc9e73-d33e-4a88-8df9-db96704b5f82"
      },
      "source": [
        "df['review'][0]"
      ],
      "execution_count": 12,
      "outputs": [
        {
          "output_type": "execute_result",
          "data": {
            "application/vnd.google.colaboratory.intrinsic+json": {
              "type": "string"
            },
            "text/plain": [
              "\"one reviewers mentioned watching 1 oz episode hooked right exactly happened me  the first thing struck oz brutality unflinching scenes violence set right word go trust me show faint hearted timid show pulls punches regards drugs sex violence hardcore classic use word  it called oz nickname given oswald maximum security state penitentary focuses mainly emerald city experimental section prison cells glass fronts face inwards privacy high agenda em city home manyaryans muslims gangstas latinos christians italians irish moreso scuffles death stares dodgy dealings shady agreements never far away  i would say main appeal show due fact goes shows dare forget pretty pictures painted mainstream audiences forget charm forget romanceoz mess around first episode ever saw struck nasty surreal say ready it watched more developed taste oz got accustomed high levels graphic violence violence injustice (crooked guards who'll sold nickel inmates who'll kill order get away it well mannered middle class inmates turned prison bitches due lack street skills prison experience) watching oz may become comfortable uncomfortable viewingthats get touch darker side\""
            ]
          },
          "metadata": {
            "tags": []
          },
          "execution_count": 12
        }
      ]
    },
    {
      "cell_type": "code",
      "metadata": {
        "colab": {
          "base_uri": "https://localhost:8080/"
        },
        "id": "b2qHZWigJSX9",
        "outputId": "5b383018-9c37-458a-cb71-bfea4c71e2df"
      },
      "source": [
        "nltk.download('punkt')"
      ],
      "execution_count": 13,
      "outputs": [
        {
          "output_type": "stream",
          "text": [
            "[nltk_data] Downloading package punkt to /root/nltk_data...\n",
            "[nltk_data]   Package punkt is already up-to-date!\n"
          ],
          "name": "stdout"
        },
        {
          "output_type": "execute_result",
          "data": {
            "text/plain": [
              "True"
            ]
          },
          "metadata": {
            "tags": []
          },
          "execution_count": 13
        }
      ]
    },
    {
      "cell_type": "code",
      "metadata": {
        "id": "F7vA7hWgJWCA"
      },
      "source": [
        "df['review'] = df['review'].apply(nltk.word_tokenize)"
      ],
      "execution_count": 14,
      "outputs": []
    },
    {
      "cell_type": "code",
      "metadata": {
        "id": "biJRHSq0JaCq"
      },
      "source": [
        "def stem_tokens(tokens):\n",
        "    final = [nltk.stem.PorterStemmer().stem(word) for word in tokens]\n",
        "    return final\n",
        "    \n",
        "df['review'] = df['review'].apply(stem_tokens)"
      ],
      "execution_count": 15,
      "outputs": []
    },
    {
      "cell_type": "code",
      "metadata": {
        "id": "atxLAQQ-CKPB"
      },
      "source": [
        "df['len_review'] = df['review'].apply(lambda x:len(x))"
      ],
      "execution_count": 16,
      "outputs": []
    },
    {
      "cell_type": "code",
      "metadata": {
        "id": "KbL85Zq6Jebv"
      },
      "source": [
        "df['sentiment'] = [1*(sent=='positive') for sent in df['sentiment']]"
      ],
      "execution_count": 17,
      "outputs": []
    },
    {
      "cell_type": "code",
      "metadata": {
        "colab": {
          "base_uri": "https://localhost:8080/",
          "height": 172
        },
        "id": "nNVRUsavJnS9",
        "outputId": "6ef9f9f6-17b3-4e28-d952-c02e9dc5d39e"
      },
      "source": [
        "df.head(4)"
      ],
      "execution_count": 18,
      "outputs": [
        {
          "output_type": "execute_result",
          "data": {
            "text/html": [
              "<div>\n",
              "<style scoped>\n",
              "    .dataframe tbody tr th:only-of-type {\n",
              "        vertical-align: middle;\n",
              "    }\n",
              "\n",
              "    .dataframe tbody tr th {\n",
              "        vertical-align: top;\n",
              "    }\n",
              "\n",
              "    .dataframe thead th {\n",
              "        text-align: right;\n",
              "    }\n",
              "</style>\n",
              "<table border=\"1\" class=\"dataframe\">\n",
              "  <thead>\n",
              "    <tr style=\"text-align: right;\">\n",
              "      <th></th>\n",
              "      <th>review</th>\n",
              "      <th>sentiment</th>\n",
              "      <th>len_review</th>\n",
              "    </tr>\n",
              "  </thead>\n",
              "  <tbody>\n",
              "    <tr>\n",
              "      <th>0</th>\n",
              "      <td>[one, review, mention, watch, 1, oz, episod, h...</td>\n",
              "      <td>1</td>\n",
              "      <td>175</td>\n",
              "    </tr>\n",
              "    <tr>\n",
              "      <th>1</th>\n",
              "      <td>[wonder, littl, product, the, film, techniqu, ...</td>\n",
              "      <td>1</td>\n",
              "      <td>96</td>\n",
              "    </tr>\n",
              "    <tr>\n",
              "      <th>2</th>\n",
              "      <td>[thought, wonder, way, spend, time, hot, summe...</td>\n",
              "      <td>1</td>\n",
              "      <td>95</td>\n",
              "    </tr>\n",
              "    <tr>\n",
              "      <th>3</th>\n",
              "      <td>[basic, there, 's, famili, littl, boy, (, jake...</td>\n",
              "      <td>0</td>\n",
              "      <td>74</td>\n",
              "    </tr>\n",
              "  </tbody>\n",
              "</table>\n",
              "</div>"
            ],
            "text/plain": [
              "                                              review  sentiment  len_review\n",
              "0  [one, review, mention, watch, 1, oz, episod, h...          1         175\n",
              "1  [wonder, littl, product, the, film, techniqu, ...          1          96\n",
              "2  [thought, wonder, way, spend, time, hot, summe...          1          95\n",
              "3  [basic, there, 's, famili, littl, boy, (, jake...          0          74"
            ]
          },
          "metadata": {
            "tags": []
          },
          "execution_count": 18
        }
      ]
    },
    {
      "cell_type": "code",
      "metadata": {
        "id": "QHmIuhdfJrBc"
      },
      "source": [
        "from gensim import corpora\n",
        "\n",
        "review_dict = corpora.Dictionary(df['review'])\n",
        "VOCAB_SIZE = len(review_dict)"
      ],
      "execution_count": 19,
      "outputs": []
    },
    {
      "cell_type": "code",
      "metadata": {
        "colab": {
          "base_uri": "https://localhost:8080/"
        },
        "id": "EXFOb6ryJx7y",
        "outputId": "428aa6d2-2ed3-47b0-a5cc-2baa6625370f"
      },
      "source": [
        "print(len(review_dict))\n",
        "review_dict"
      ],
      "execution_count": 20,
      "outputs": [
        {
          "output_type": "stream",
          "text": [
            "132056\n"
          ],
          "name": "stdout"
        },
        {
          "output_type": "execute_result",
          "data": {
            "text/plain": [
              "<gensim.corpora.dictionary.Dictionary at 0x7fabab87c190>"
            ]
          },
          "metadata": {
            "tags": []
          },
          "execution_count": 20
        }
      ]
    },
    {
      "cell_type": "code",
      "metadata": {
        "id": "FxDV3zsMStNi"
      },
      "source": [
        "review_int = []\n",
        "for review in df['review']:\n",
        "  temp = [review_dict.token2id[x] for x in review]\n",
        "  review_int.append(temp)\n",
        "df['review_int'] = review_int"
      ],
      "execution_count": 21,
      "outputs": []
    },
    {
      "cell_type": "code",
      "metadata": {
        "colab": {
          "base_uri": "https://localhost:8080/",
          "height": 172
        },
        "id": "c7wqt154J-C5",
        "outputId": "9509a89f-0733-4935-f01f-cf33256c0091"
      },
      "source": [
        "df.head(4)"
      ],
      "execution_count": 22,
      "outputs": [
        {
          "output_type": "execute_result",
          "data": {
            "text/html": [
              "<div>\n",
              "<style scoped>\n",
              "    .dataframe tbody tr th:only-of-type {\n",
              "        vertical-align: middle;\n",
              "    }\n",
              "\n",
              "    .dataframe tbody tr th {\n",
              "        vertical-align: top;\n",
              "    }\n",
              "\n",
              "    .dataframe thead th {\n",
              "        text-align: right;\n",
              "    }\n",
              "</style>\n",
              "<table border=\"1\" class=\"dataframe\">\n",
              "  <thead>\n",
              "    <tr style=\"text-align: right;\">\n",
              "      <th></th>\n",
              "      <th>review</th>\n",
              "      <th>sentiment</th>\n",
              "      <th>len_review</th>\n",
              "      <th>review_int</th>\n",
              "    </tr>\n",
              "  </thead>\n",
              "  <tbody>\n",
              "    <tr>\n",
              "      <th>0</th>\n",
              "      <td>[one, review, mention, watch, 1, oz, episod, h...</td>\n",
              "      <td>1</td>\n",
              "      <td>175</td>\n",
              "      <td>[90, 104, 80, 137, 3, 93, 33, 60, 105, 35, 55,...</td>\n",
              "    </tr>\n",
              "    <tr>\n",
              "      <th>1</th>\n",
              "      <td>[wonder, littl, product, the, film, techniqu, ...</td>\n",
              "      <td>1</td>\n",
              "      <td>96</td>\n",
              "      <td>[206, 171, 183, 126, 162, 196, 202, 175, 161, ...</td>\n",
              "    </tr>\n",
              "    <tr>\n",
              "      <th>2</th>\n",
              "      <td>[thought, wonder, way, spend, time, hot, summe...</td>\n",
              "      <td>1</td>\n",
              "      <td>95</td>\n",
              "      <td>[265, 206, 269, 256, 266, 230, 260, 271, 255, ...</td>\n",
              "    </tr>\n",
              "    <tr>\n",
              "      <th>3</th>\n",
              "      <td>[basic, there, 's, famili, littl, boy, (, jake...</td>\n",
              "      <td>0</td>\n",
              "      <td>74</td>\n",
              "      <td>[281, 314, 144, 291, 171, 283, 1, 295, 2, 315,...</td>\n",
              "    </tr>\n",
              "  </tbody>\n",
              "</table>\n",
              "</div>"
            ],
            "text/plain": [
              "                                              review  ...                                         review_int\n",
              "0  [one, review, mention, watch, 1, oz, episod, h...  ...  [90, 104, 80, 137, 3, 93, 33, 60, 105, 35, 55,...\n",
              "1  [wonder, littl, product, the, film, techniqu, ...  ...  [206, 171, 183, 126, 162, 196, 202, 175, 161, ...\n",
              "2  [thought, wonder, way, spend, time, hot, summe...  ...  [265, 206, 269, 256, 266, 230, 260, 271, 255, ...\n",
              "3  [basic, there, 's, famili, littl, boy, (, jake...  ...  [281, 314, 144, 291, 171, 283, 1, 295, 2, 315,...\n",
              "\n",
              "[4 rows x 4 columns]"
            ]
          },
          "metadata": {
            "tags": []
          },
          "execution_count": 22
        }
      ]
    },
    {
      "cell_type": "code",
      "metadata": {
        "colab": {
          "base_uri": "https://localhost:8080/",
          "height": 416
        },
        "id": "f8EvoLDEMS5R",
        "outputId": "9e0f3e46-1100-4f24-be92-c0e400fbab48"
      },
      "source": [
        "%matplotlib inline\n",
        "pd.Series(df['len_review']).hist()\n",
        "plt.show()\n",
        "pd.Series(df['len_review']).describe()"
      ],
      "execution_count": 23,
      "outputs": [
        {
          "output_type": "display_data",
          "data": {
            "image/png": "[encoded data removed]",
            "text/plain": [
              "<Figure size 432x288 with 1 Axes>"
            ]
          },
          "metadata": {
            "tags": [],
            "needs_background": "light"
          }
        },
        {
          "output_type": "execute_result",
          "data": {
            "text/plain": [
              "count    50000.000000\n",
              "mean       130.815000\n",
              "std         99.359444\n",
              "min          3.000000\n",
              "25%         69.000000\n",
              "50%         97.000000\n",
              "75%        160.000000\n",
              "max       1486.000000\n",
              "Name: len_review, dtype: float64"
            ]
          },
          "metadata": {
            "tags": []
          },
          "execution_count": 23
        }
      ]
    },
    {
      "cell_type": "code",
      "metadata": {
        "id": "IL_A6_CtOnSy"
      },
      "source": [
        "review_int = df['review_int']\n",
        "review_len = df['len_review']\n",
        "review_label = df['sentiment']\n",
        "review_int = [review_int[i] for i,x in enumerate(review_int) if review_len[i]>0]\n",
        "review_label = [review_label[i] for i,x in enumerate(review_label) if review_len[i]>0]\n",
        "review_len = [review_len[i] for i,x in enumerate(review_len) if review_len[i]>0 ]"
      ],
      "execution_count": 24,
      "outputs": []
    },
    {
      "cell_type": "code",
      "metadata": {
        "colab": {
          "base_uri": "https://localhost:8080/"
        },
        "id": "cHxwGLsxQXCZ",
        "outputId": "6de609a6-261a-4882-a793-b23a9178347e"
      },
      "source": [
        "len(review_int)"
      ],
      "execution_count": 25,
      "outputs": [
        {
          "output_type": "execute_result",
          "data": {
            "text/plain": [
              "50000"
            ]
          },
          "metadata": {
            "tags": []
          },
          "execution_count": 25
        }
      ]
    },
    {
      "cell_type": "code",
      "metadata": {
        "id": "D6mXne9eRKPO"
      },
      "source": [
        "def pad_features(review_int, L):\n",
        "  features = np.zeros((len(review_int),L), dtype = int)\n",
        "  for i,review in enumerate(review_int):\n",
        "    l = len(review)\n",
        "    if l <= L:\n",
        "      patch = [0]*(L-l)\n",
        "      new = patch + review\n",
        "      features[i,:] = np.array(new)\n",
        "    else :\n",
        "      features[i,:] = np.array(review[:L])\n",
        "  return features"
      ],
      "execution_count": 26,
      "outputs": []
    },
    {
      "cell_type": "code",
      "metadata": {
        "id": "eokRRpqBS7Yv"
      },
      "source": [
        "features = pad_features(review_int, 200)"
      ],
      "execution_count": 27,
      "outputs": []
    },
    {
      "cell_type": "code",
      "metadata": {
        "colab": {
          "base_uri": "https://localhost:8080/"
        },
        "id": "xdos8ybjTLfL",
        "outputId": "90fa59da-1c43-4ccb-b186-43db12c14ae1"
      },
      "source": [
        "print(features[:10,:])"
      ],
      "execution_count": 28,
      "outputs": [
        {
          "output_type": "stream",
          "text": [
            "[[  0   0   0 ... 129  24 117]\n",
            " [  0   0   0 ... 197 138 154]\n",
            " [  0   0   0 ...  50 190 227]\n",
            " ...\n",
            " [  0   0   0 ... 404 258 213]\n",
            " [  0   0   0 ... 556 561 562]\n",
            " [  0   0   0 ...  66 165 571]]\n"
          ],
          "name": "stdout"
        }
      ]
    },
    {
      "cell_type": "code",
      "metadata": {
        "id": "KU1Qzk7nTQgX"
      },
      "source": [
        "split_frac = 0.8\n",
        "\n",
        "train_x = features[0:int(len(features)*split_frac)]\n",
        "train_y = np.array(review_label[0:int(len(features)*split_frac)])\n",
        "\n",
        "test_x = features[len(features)-int(len(features)*split_frac):len(features)-int(len(features)*split_frac/2)]\n",
        "test_y = np.array(review_label[len(features)-int(len(features)*split_frac):len(features)-int(len(features)*split_frac/2)])\n",
        "\n",
        "valid_x = features[len(features)-int(len(features)*split_frac/2):]\n",
        "valid_y = np.array(review_label[len(features)-int(len(features)*split_frac/2):])"
      ],
      "execution_count": 29,
      "outputs": []
    },
    {
      "cell_type": "code",
      "metadata": {
        "id": "JaT0yASP6GNq"
      },
      "source": [
        "from torch.utils.data import DataLoader, TensorDataset\n",
        "\n",
        "train_data = TensorDataset(torch.from_numpy(train_x), torch.from_numpy(train_y))\n",
        "test_data = TensorDataset(torch.from_numpy(test_x), torch.from_numpy(test_y))\n",
        "valid_data = TensorDataset(torch.from_numpy(valid_x), torch.from_numpy(valid_y))\n",
        "\n",
        "batch_size = 50\n",
        "\n",
        "train_loader = DataLoader(train_data, shuffle=True, batch_size=batch_size)\n",
        "test_loader = DataLoader(test_data, shuffle=True, batch_size=batch_size)\n",
        "valid_loader = DataLoader(valid_data, shuffle=True, batch_size=batch_size)"
      ],
      "execution_count": 30,
      "outputs": []
    },
    {
      "cell_type": "code",
      "metadata": {
        "colab": {
          "base_uri": "https://localhost:8080/"
        },
        "id": "wVgzEo9jXEMC",
        "outputId": "babe7d29-537b-4074-d189-a250ba99d095"
      },
      "source": [
        "# obtain one batch of training data\n",
        "dataiter = iter(train_loader)\n",
        "sample_x, sample_y = dataiter.next()\n",
        "print('Sample input size: ', sample_x.size()) # batch_size, seq_length\n",
        "print('Sample input: \\n', sample_x)\n",
        "print()\n",
        "print('Sample label size: ', sample_y.size()) # batch_size\n",
        "print('Sample label: \\n', sample_y)"
      ],
      "execution_count": 31,
      "outputs": [
        {
          "output_type": "stream",
          "text": [
            "Sample input size:  torch.Size([50, 200])\n",
            "Sample input: \n",
            " tensor([[    0,  9588,   276,  ..., 19458,  1212,   537],\n",
            "        [  433, 59485,   142,  ...,   589,    78,   792],\n",
            "        [    0,     0,     0,  ...,   610,   889,   610],\n",
            "        ...,\n",
            "        [    0,     0,     0,  ...,   164,   278,   278],\n",
            "        [    0,     0,     0,  ...,   129, 10873,   347],\n",
            "        [    0,     0,     0,  ...,  1650,   581,  1058]])\n",
            "\n",
            "Sample label size:  torch.Size([50])\n",
            "Sample label: \n",
            " tensor([1, 1, 1, 1, 0, 1, 1, 1, 1, 0, 0, 0, 0, 1, 0, 0, 0, 0, 0, 0, 1, 0, 0, 0,\n",
            "        0, 1, 0, 1, 1, 1, 0, 0, 1, 0, 1, 1, 0, 1, 1, 0, 1, 1, 1, 0, 1, 1, 1, 1,\n",
            "        1, 1])\n"
          ],
          "name": "stdout"
        }
      ]
    },
    {
      "cell_type": "markdown",
      "metadata": {
        "id": "XxscynbpAERV"
      },
      "source": [
        "# Model "
      ]
    },
    {
      "cell_type": "code",
      "metadata": {
        "id": "nTHG6RNTKE8k",
        "colab": {
          "base_uri": "https://localhost:8080/"
        },
        "outputId": "51c0bf83-c88d-4f03-e7dd-8fbc164ffe13"
      },
      "source": [
        "import torch.nn as nn\n",
        "import torch.nn.functional as F\n",
        "import torch.optim as optim\n",
        "\n",
        "device = torch.device(\"cuda\" if torch.cuda.is_available() else \"cpu\")\n",
        "print(\"Device available for running: \")\n",
        "print(device)"
      ],
      "execution_count": 32,
      "outputs": [
        {
          "output_type": "stream",
          "text": [
            "Device available for running: \n",
            "cuda\n"
          ],
          "name": "stdout"
        }
      ]
    },
    {
      "cell_type": "code",
      "metadata": {
        "id": "mSb3sYFjKQkr"
      },
      "source": [
        "class SentimentGRU(nn.Module):\n",
        "    \"\"\"\n",
        "    The GRU model that will be used to perform Sentiment analysis.\n",
        "    \"\"\"\n",
        "\n",
        "    def __init__(self, vocab_size, output_size, embedding_dim, hidden_dim, n_layers, drop_prob=0.5):\n",
        "        \"\"\"\n",
        "        Initialize the model by setting up the layers.\n",
        "        \"\"\"\n",
        "        super().__init__()\n",
        "\n",
        "        self.output_size = output_size\n",
        "        self.n_layers = n_layers\n",
        "        self.hidden_dim = hidden_dim\n",
        "        \n",
        "        # embedding and GRU layers\n",
        "        self.embedding = nn.Embedding(vocab_size, embedding_dim)\n",
        "        self.gru = nn.GRU(embedding_dim, hidden_dim, n_layers, \n",
        "                            dropout=drop_prob, batch_first=True)\n",
        "        \n",
        "        # dropout layer\n",
        "        self.dropout = nn.Dropout(0.3)\n",
        "        \n",
        "        # linear and sigmoid layers\n",
        "        self.fc = nn.Linear(hidden_dim, output_size)\n",
        "        self.sig = nn.Sigmoid()\n",
        "        \n",
        "\n",
        "    def forward(self, x, hidden):\n",
        "        \"\"\"\n",
        "        Perform a forward pass of our model on some input and hidden state.\n",
        "        \"\"\"\n",
        "        batch_size = x.size(0)\n",
        "  \n",
        "        # embeddings and gru_out\n",
        "        embeds = self.embedding(x)\n",
        "        gru_out, hidden = self.gru(embeds, hidden)\n",
        "    \n",
        "        # stack up gru outputs\n",
        "        gru_out = gru_out.contiguous().view(-1, self.hidden_dim)\n",
        "        \n",
        "        # dropout and fully-connected layer\n",
        "        out = self.dropout(gru_out)\n",
        "        out = self.fc(out)\n",
        "        # sigmoid function\n",
        "        sig_out = self.sig(out)\n",
        "        \n",
        "        # reshape to be batch_size first\n",
        "        sig_out = sig_out.view(batch_size, -1)\n",
        "        sig_out = sig_out[:, -1] # get last batch of labels\n",
        "        \n",
        "        # return last sigmoid output and hidden state\n",
        "        return sig_out, hidden\n",
        "    \n",
        "    \n",
        "    def init_hidden(self, batch_size):\n",
        "        weight = next(self.parameters()).data\n",
        "        hidden = weight.new(self.n_layers, batch_size, self.hidden_dim).zero_().to(device)\n",
        "        return hidden\n",
        "        "
      ],
      "execution_count": 33,
      "outputs": []
    },
    {
      "cell_type": "code",
      "metadata": {
        "colab": {
          "base_uri": "https://localhost:8080/"
        },
        "id": "iL3uKFe8pNxu",
        "outputId": "109174cd-ab65-4031-ea3e-38cdeb053059"
      },
      "source": [
        "# Instantiate the model w/ hyperparams\n",
        "vocab_size = len(review_dict)+1 # +1 for the 0 padding\n",
        "output_size = 1\n",
        "embedding_dim = 400\n",
        "hidden_dim = 256\n",
        "n_layers = 2\n",
        "net = SentimentGRU(vocab_size, output_size, embedding_dim, hidden_dim, n_layers)\n",
        "\n",
        "print(net)"
      ],
      "execution_count": 34,
      "outputs": [
        {
          "output_type": "stream",
          "text": [
            "SentimentGRU(\n",
            "  (embedding): Embedding(132057, 400)\n",
            "  (gru): GRU(400, 256, num_layers=2, batch_first=True, dropout=0.5)\n",
            "  (dropout): Dropout(p=0.3, inplace=False)\n",
            "  (fc): Linear(in_features=256, out_features=1, bias=True)\n",
            "  (sig): Sigmoid()\n",
            ")\n"
          ],
          "name": "stdout"
        }
      ]
    },
    {
      "cell_type": "code",
      "metadata": {
        "colab": {
          "base_uri": "https://localhost:8080/"
        },
        "id": "mWk8YsJEsv0Y",
        "outputId": "627bea58-5a42-4f80-ae70-b9915cd1d3f8"
      },
      "source": [
        "train_on_gpu=torch.cuda.is_available()\n",
        "\n",
        "if(train_on_gpu):\n",
        "    print('Training on GPU.')\n",
        "else:\n",
        "    print('No GPU available, training on CPU.')"
      ],
      "execution_count": 35,
      "outputs": [
        {
          "output_type": "stream",
          "text": [
            "Training on GPU.\n"
          ],
          "name": "stdout"
        }
      ]
    },
    {
      "cell_type": "code",
      "metadata": {
        "id": "qIPJBJmlszzz"
      },
      "source": [
        "lr=0.001\n",
        "\n",
        "criterion = nn.BCELoss()\n",
        "optimizer = torch.optim.Adam(net.parameters(), lr=lr)"
      ],
      "execution_count": 36,
      "outputs": []
    },
    {
      "cell_type": "code",
      "metadata": {
        "colab": {
          "base_uri": "https://localhost:8080/"
        },
        "id": "J8ZC8u7uohwH",
        "outputId": "064cf6d8-c354-45da-da9f-cc2dc5343393"
      },
      "source": [
        "# training params\n",
        "\n",
        "epochs = 10\n",
        "\n",
        "counter = 0\n",
        "print_every = 100\n",
        "clip=5 # gradient clipping\n",
        "\n",
        "# move model to GPU, if available\n",
        "if(train_on_gpu):\n",
        "    net.cuda()\n",
        "\n",
        "net.train()\n",
        "# train for some number of epochs\n",
        "for e in range(epochs):\n",
        "    # initialize hidden state\n",
        "    h = net.init_hidden(batch_size)\n",
        "\n",
        "    # batch loop\n",
        "    for inputs, labels in train_loader:\n",
        "        counter += 1\n",
        "        #print(counter)\n",
        "       \n",
        "        if(train_on_gpu):\n",
        "            inputs, labels = inputs.cuda(), labels.cuda()\n",
        "\n",
        "        # Creating new variables for the hidden state, otherwise\n",
        "        # we'd backprop through the entire training history\n",
        "        h = h.data\n",
        "        # zero accumulated gradients\n",
        "        net.zero_grad()\n",
        "\n",
        "        # get the output from the model\n",
        "        output, h = net(inputs, h)\n",
        "\n",
        "        # calculate the loss and perform backprop\n",
        "        loss = criterion(output.squeeze(), labels.float())\n",
        "        loss.backward()\n",
        "        # `clip_grad_norm` helps prevent the exploding gradient problem in GRUs / LSTMs.\n",
        "        nn.utils.clip_grad_norm_(net.parameters(), clip)\n",
        "        optimizer.step()\n",
        "\n",
        "        # loss stats\n",
        "        if counter % print_every == 0:\n",
        "            # Get validation loss\n",
        "            val_h = net.init_hidden(batch_size)\n",
        "            val_losses = []\n",
        "            net.eval()\n",
        "            for inputs, labels in valid_loader:\n",
        "\n",
        "                # Creating new variables for the hidden state, otherwise\n",
        "                # we'd backprop through the entire training history\n",
        "                val_h = h.data\n",
        "\n",
        "                if(train_on_gpu):\n",
        "                    inputs, labels = inputs.cuda(), labels.cuda()\n",
        "\n",
        "                output, val_h = net(inputs, val_h)\n",
        "                val_loss = criterion(output.squeeze(), labels.float())\n",
        "\n",
        "                val_losses.append(val_loss.item())\n",
        "\n",
        "            net.train()\n",
        "            print(\"Epoch: {}/{}...\".format(e+1, epochs),\n",
        "                  \"Step: {}...\".format(counter),\n",
        "                  \"Loss: {:.6f}...\".format(loss.item()),\n",
        "                  \"Val Loss: {:.6f}\".format(np.mean(val_losses)))"
      ],
      "execution_count": 37,
      "outputs": [
        {
          "output_type": "stream",
          "text": [
            "Epoch: 1/10... Step: 100... Loss: 0.518918... Val Loss: 0.542816\n",
            "Epoch: 1/10... Step: 200... Loss: 0.485150... Val Loss: 0.480546\n",
            "Epoch: 1/10... Step: 300... Loss: 0.466430... Val Loss: 0.446623\n",
            "Epoch: 1/10... Step: 400... Loss: 0.323291... Val Loss: 0.364107\n",
            "Epoch: 1/10... Step: 500... Loss: 0.311293... Val Loss: 0.327721\n",
            "Epoch: 1/10... Step: 600... Loss: 0.434453... Val Loss: 0.319930\n",
            "Epoch: 1/10... Step: 700... Loss: 0.224463... Val Loss: 0.284476\n",
            "Epoch: 1/10... Step: 800... Loss: 0.309401... Val Loss: 0.264204\n",
            "Epoch: 2/10... Step: 900... Loss: 0.400234... Val Loss: 0.293575\n",
            "Epoch: 2/10... Step: 1000... Loss: 0.159939... Val Loss: 0.263725\n",
            "Epoch: 2/10... Step: 1100... Loss: 0.224445... Val Loss: 0.259456\n",
            "Epoch: 2/10... Step: 1200... Loss: 0.244297... Val Loss: 0.236402\n",
            "Epoch: 2/10... Step: 1300... Loss: 0.205482... Val Loss: 0.232698\n",
            "Epoch: 2/10... Step: 1400... Loss: 0.179387... Val Loss: 0.211641\n",
            "Epoch: 2/10... Step: 1500... Loss: 0.448683... Val Loss: 0.213592\n",
            "Epoch: 2/10... Step: 1600... Loss: 0.181057... Val Loss: 0.210767\n",
            "Epoch: 3/10... Step: 1700... Loss: 0.032234... Val Loss: 0.236501\n",
            "Epoch: 3/10... Step: 1800... Loss: 0.061042... Val Loss: 0.215641\n",
            "Epoch: 3/10... Step: 1900... Loss: 0.104507... Val Loss: 0.225017\n",
            "Epoch: 3/10... Step: 2000... Loss: 0.060180... Val Loss: 0.202616\n",
            "Epoch: 3/10... Step: 2100... Loss: 0.166643... Val Loss: 0.204445\n",
            "Epoch: 3/10... Step: 2200... Loss: 0.024258... Val Loss: 0.200103\n",
            "Epoch: 3/10... Step: 2300... Loss: 0.203284... Val Loss: 0.197723\n",
            "Epoch: 3/10... Step: 2400... Loss: 0.189541... Val Loss: 0.182178\n",
            "Epoch: 4/10... Step: 2500... Loss: 0.022368... Val Loss: 0.246462\n",
            "Epoch: 4/10... Step: 2600... Loss: 0.019497... Val Loss: 0.228465\n",
            "Epoch: 4/10... Step: 2700... Loss: 0.083624... Val Loss: 0.227327\n",
            "Epoch: 4/10... Step: 2800... Loss: 0.091301... Val Loss: 0.232549\n",
            "Epoch: 4/10... Step: 2900... Loss: 0.010288... Val Loss: 0.224816\n",
            "Epoch: 4/10... Step: 3000... Loss: 0.185628... Val Loss: 0.243371\n",
            "Epoch: 4/10... Step: 3100... Loss: 0.034672... Val Loss: 0.222332\n",
            "Epoch: 4/10... Step: 3200... Loss: 0.029734... Val Loss: 0.208803\n",
            "Epoch: 5/10... Step: 3300... Loss: 0.002462... Val Loss: 0.241848\n",
            "Epoch: 5/10... Step: 3400... Loss: 0.032373... Val Loss: 0.274881\n",
            "Epoch: 5/10... Step: 3500... Loss: 0.068853... Val Loss: 0.267712\n",
            "Epoch: 5/10... Step: 3600... Loss: 0.040709... Val Loss: 0.245791\n",
            "Epoch: 5/10... Step: 3700... Loss: 0.042524... Val Loss: 0.250141\n",
            "Epoch: 5/10... Step: 3800... Loss: 0.009897... Val Loss: 0.230753\n",
            "Epoch: 5/10... Step: 3900... Loss: 0.022687... Val Loss: 0.288002\n",
            "Epoch: 5/10... Step: 4000... Loss: 0.006606... Val Loss: 0.272263\n",
            "Epoch: 6/10... Step: 4100... Loss: 0.009057... Val Loss: 0.312391\n",
            "Epoch: 6/10... Step: 4200... Loss: 0.028082... Val Loss: 0.289965\n",
            "Epoch: 6/10... Step: 4300... Loss: 0.135330... Val Loss: 0.275478\n",
            "Epoch: 6/10... Step: 4400... Loss: 0.029956... Val Loss: 0.299791\n",
            "Epoch: 6/10... Step: 4500... Loss: 0.046301... Val Loss: 0.277577\n",
            "Epoch: 6/10... Step: 4600... Loss: 0.003422... Val Loss: 0.394504\n",
            "Epoch: 6/10... Step: 4700... Loss: 0.073752... Val Loss: 0.264750\n",
            "Epoch: 6/10... Step: 4800... Loss: 0.049918... Val Loss: 0.247456\n",
            "Epoch: 7/10... Step: 4900... Loss: 0.001717... Val Loss: 0.301308\n",
            "Epoch: 7/10... Step: 5000... Loss: 0.003071... Val Loss: 0.335502\n",
            "Epoch: 7/10... Step: 5100... Loss: 0.008184... Val Loss: 0.325008\n",
            "Epoch: 7/10... Step: 5200... Loss: 0.001871... Val Loss: 0.299786\n",
            "Epoch: 7/10... Step: 5300... Loss: 0.004066... Val Loss: 0.316884\n",
            "Epoch: 7/10... Step: 5400... Loss: 0.013053... Val Loss: 0.277491\n",
            "Epoch: 7/10... Step: 5500... Loss: 0.001146... Val Loss: 0.320617\n",
            "Epoch: 7/10... Step: 5600... Loss: 0.062394... Val Loss: 0.285003\n",
            "Epoch: 8/10... Step: 5700... Loss: 0.000667... Val Loss: 0.348188\n",
            "Epoch: 8/10... Step: 5800... Loss: 0.008547... Val Loss: 0.321306\n",
            "Epoch: 8/10... Step: 5900... Loss: 0.035383... Val Loss: 0.359196\n",
            "Epoch: 8/10... Step: 6000... Loss: 0.006074... Val Loss: 0.321527\n",
            "Epoch: 8/10... Step: 6100... Loss: 0.001262... Val Loss: 0.311869\n",
            "Epoch: 8/10... Step: 6200... Loss: 0.002593... Val Loss: 0.320632\n",
            "Epoch: 8/10... Step: 6300... Loss: 0.001154... Val Loss: 0.318084\n",
            "Epoch: 8/10... Step: 6400... Loss: 0.058124... Val Loss: 0.323054\n",
            "Epoch: 9/10... Step: 6500... Loss: 0.051673... Val Loss: 0.318051\n",
            "Epoch: 9/10... Step: 6600... Loss: 0.000638... Val Loss: 0.332002\n",
            "Epoch: 9/10... Step: 6700... Loss: 0.008167... Val Loss: 0.366090\n",
            "Epoch: 9/10... Step: 6800... Loss: 0.016762... Val Loss: 0.369153\n",
            "Epoch: 9/10... Step: 6900... Loss: 0.001689... Val Loss: 0.376151\n",
            "Epoch: 9/10... Step: 7000... Loss: 0.029562... Val Loss: 0.362534\n",
            "Epoch: 9/10... Step: 7100... Loss: 0.002628... Val Loss: 0.338377\n",
            "Epoch: 9/10... Step: 7200... Loss: 0.001793... Val Loss: 0.344936\n",
            "Epoch: 10/10... Step: 7300... Loss: 0.000914... Val Loss: 0.350892\n",
            "Epoch: 10/10... Step: 7400... Loss: 0.002124... Val Loss: 0.333577\n",
            "Epoch: 10/10... Step: 7500... Loss: 0.001073... Val Loss: 0.349602\n",
            "Epoch: 10/10... Step: 7600... Loss: 0.012826... Val Loss: 0.325511\n",
            "Epoch: 10/10... Step: 7700... Loss: 0.001652... Val Loss: 0.323290\n",
            "Epoch: 10/10... Step: 7800... Loss: 0.003432... Val Loss: 0.333946\n",
            "Epoch: 10/10... Step: 7900... Loss: 0.084566... Val Loss: 0.362272\n",
            "Epoch: 10/10... Step: 8000... Loss: 0.030149... Val Loss: 0.305738\n"
          ],
          "name": "stdout"
        }
      ]
    },
    {
      "cell_type": "code",
      "metadata": {
        "id": "ChpP1njrLc-Y",
        "colab": {
          "base_uri": "https://localhost:8080/"
        },
        "outputId": "be05b631-e5e4-4f90-c636-6f80fe3c76c7"
      },
      "source": [
        "# Get test data loss and accuracy\n",
        "\n",
        "test_losses = [] # track loss\n",
        "num_correct = 0\n",
        "\n",
        "# init hidden state\n",
        "h = net.init_hidden(batch_size)\n",
        "\n",
        "net.eval()\n",
        "# iterate over test data\n",
        "for inputs, labels in test_loader:\n",
        "\n",
        "    # Creating new variables for the hidden state, otherwise\n",
        "    # we'd backprop through the entire training history\n",
        "    h = h.data\n",
        "\n",
        "    if(train_on_gpu):\n",
        "        inputs, labels = inputs.cuda(), labels.cuda()\n",
        "    \n",
        "    # get predicted outputs\n",
        "    output, h = net(inputs, h)\n",
        "    \n",
        "    # calculate loss\n",
        "    test_loss = criterion(output.squeeze(), labels.float())\n",
        "    test_losses.append(test_loss.item())\n",
        "    \n",
        "    # convert output probabilities to predicted class (0 or 1)\n",
        "    pred = torch.round(output.squeeze())  # rounds to the nearest integer\n",
        "    \n",
        "    # compare predictions to true label\n",
        "    correct_tensor = pred.eq(labels.float().view_as(pred))\n",
        "    correct = np.squeeze(correct_tensor.numpy()) if not train_on_gpu else np.squeeze(correct_tensor.cpu().numpy())\n",
        "    num_correct += np.sum(correct)\n",
        "\n",
        "\n",
        "# -- stats! -- ##\n",
        "# avg test loss\n",
        "print(\"Test loss: {:.3f}\".format(np.mean(test_losses)))\n",
        "\n",
        "# accuracy over all test data\n",
        "test_acc = num_correct/len(test_loader.dataset)\n",
        "print(\"Test accuracy: {:.3f}%\".format(test_acc*100))"
      ],
      "execution_count": 38,
      "outputs": [
        {
          "output_type": "stream",
          "text": [
            "Test loss: 0.005\n",
            "Test accuracy: 99.870%\n"
          ],
          "name": "stdout"
        }
      ]
    },
    {
      "cell_type": "code",
      "metadata": {
        "id": "A9lCQK_6LzUj"
      },
      "source": [
        "def preprocess(review):\n",
        "    review = review.lower()\n",
        "    word_list = review.split()\n",
        "    num_list = []\n",
        "    #list of reviews\n",
        "    #though it contains only one review as of now\n",
        "    reviews_int = []\n",
        "    for word in word_list:\n",
        "        if word in review_dict.token2id:\n",
        "            num_list.append(review_dict.token2id[word])\n",
        "    reviews_int.append(num_list)\n",
        "    return reviews_int"
      ],
      "execution_count": 39,
      "outputs": []
    },
    {
      "cell_type": "code",
      "metadata": {
        "id": "DacOT_EzwVFf"
      },
      "source": [
        "def predict(net, test_review, sequence_length=200):\n",
        "    ''' Prints out whether a give review is predicted to be \n",
        "        positive or negative in sentiment, using a trained model.\n",
        "        \n",
        "        params:\n",
        "        net - A trained net \n",
        "        test_review - a review made of normal text and punctuation\n",
        "        sequence_length - the padded length of a review\n",
        "        '''\n",
        "    #change the reviews to sequence of integers\n",
        "    int_rev = preprocess(test_review)\n",
        "    #pad the reviews as per the sequence length of the feature\n",
        "    features = pad_features(int_rev, L=seq_length)\n",
        "    \n",
        "    #changing the features to PyTorch tensor\n",
        "    features = torch.from_numpy(features)\n",
        "    \n",
        "    #pass the features to the model to get prediction\n",
        "    net.eval()\n",
        "    val_h = net.init_hidden(1)\n",
        "    val_h = val_h.data\n",
        "\n",
        "    if(train_on_gpu):\n",
        "        features = features.cuda()\n",
        "\n",
        "    output, val_h = net(features, val_h)\n",
        "    \n",
        "    #rounding the output to nearest 0 or 1\n",
        "    pred = torch.round(output)\n",
        "    \n",
        "    #mapping the numeric values to postive or negative\n",
        "    sent = [\"Positive\" if pred.item() == 1 else \"Negative\"]\n",
        "    \n",
        "    # print custom response based on whether test_review is pos/neg\n",
        "    print(sent,'  ',((pred.item()==1)*output.item()+(pred.item()==0)*(1-output.item()))*100,'%')"
      ],
      "execution_count": 40,
      "outputs": []
    },
    {
      "cell_type": "code",
      "metadata": {
        "id": "PRKTNtmG52Rh"
      },
      "source": [
        "positive_review = 'A great movie. Totally worth every penny. '"
      ],
      "execution_count": 41,
      "outputs": []
    },
    {
      "cell_type": "code",
      "metadata": {
        "colab": {
          "base_uri": "https://localhost:8080/"
        },
        "id": "lAIVDzb7wp9J",
        "outputId": "724067a1-dfb9-40c6-aef1-36161812a845"
      },
      "source": [
        "seq_length=200\n",
        "predict(net, positive_review, seq_length)"
      ],
      "execution_count": 42,
      "outputs": [
        {
          "output_type": "stream",
          "text": [
            "['Positive']    99.8462438583374 %\n"
          ],
          "name": "stdout"
        }
      ]
    },
    {
      "cell_type": "code",
      "metadata": {
        "id": "nAsPbHIYAJs9"
      },
      "source": [
        "negative_review = 'Amongst the worst works of diresctor nick furry. I want my money back. Waste of time.'"
      ],
      "execution_count": 43,
      "outputs": []
    },
    {
      "cell_type": "code",
      "metadata": {
        "colab": {
          "base_uri": "https://localhost:8080/"
        },
        "id": "0-_tR_sYAyBt",
        "outputId": "2a1ca6e6-0a16-45b0-dad2-226f70ef9b05"
      },
      "source": [
        "seq_length=200\n",
        "predict(net, negative_review, seq_length)"
      ],
      "execution_count": 44,
      "outputs": [
        {
          "output_type": "stream",
          "text": [
            "['Negative']    99.99750007955299 %\n"
          ],
          "name": "stdout"
        }
      ]
    },
    {
      "cell_type": "code",
      "metadata": {
        "colab": {
          "base_uri": "https://localhost:8080/"
        },
        "id": "S1MoZNKJ90HB",
        "outputId": "5600ef48-7158-4dee-c7b1-abfb2801a924"
      },
      "source": [
        "predict(net,'waste',sequence_length=200)"
      ],
      "execution_count": 45,
      "outputs": [
        {
          "output_type": "stream",
          "text": [
            "['Negative']    82.7198475599289 %\n"
          ],
          "name": "stdout"
        }
      ]
    },
    {
      "cell_type": "code",
      "metadata": {
        "colab": {
          "base_uri": "https://localhost:8080/"
        },
        "id": "T1I7C4tI-wZ8",
        "outputId": "3a0183a1-0d7b-427a-9fa3-614f60d735d7"
      },
      "source": [
        "# Get test data loss and accuracy\n",
        "\n",
        "test_losses = [] # track loss\n",
        "num_correct = 0\n",
        "\n",
        "# init hidden state\n",
        "h = net.init_hidden(batch_size)\n",
        "\n",
        "net.eval()\n",
        "# iterate over test data\n",
        "for inputs, labels in valid_loader:\n",
        "\n",
        "    # Creating new variables for the hidden state, otherwise\n",
        "    # we'd backprop through the entire training history\n",
        "    h = h.data\n",
        "\n",
        "    if(train_on_gpu):\n",
        "        inputs, labels = inputs.cuda(), labels.cuda()\n",
        "    \n",
        "    # get predicted outputs\n",
        "    output, h = net(inputs, h)\n",
        "    \n",
        "    # calculate loss\n",
        "    test_loss = criterion(output.squeeze(), labels.float())\n",
        "    test_losses.append(test_loss.item())\n",
        "    \n",
        "    # convert output probabilities to predicted class (0 or 1)\n",
        "    pred = torch.round(output.squeeze())  # rounds to the nearest integer\n",
        "    \n",
        "    # compare predictions to true label\n",
        "    correct_tensor = pred.eq(labels.float().view_as(pred))\n",
        "    correct = np.squeeze(correct_tensor.numpy()) if not train_on_gpu else np.squeeze(correct_tensor.cpu().numpy())\n",
        "    num_correct += np.sum(correct)\n",
        "\n",
        "\n",
        "# -- stats! -- ##\n",
        "# avg test loss\n",
        "print(\"Test loss: {:.3f}\".format(np.mean(test_losses)))\n",
        "\n",
        "# accuracy over all test data\n",
        "test_acc = num_correct/len(valid_loader.dataset)\n",
        "print(\"Test accuracy: {:.3f}%\".format(test_acc*100))"
      ],
      "execution_count": 46,
      "outputs": [
        {
          "output_type": "stream",
          "text": [
            "Test loss: 0.304\n",
            "Test accuracy: 93.760%\n"
          ],
          "name": "stdout"
        }
      ]
    }
  ]
}