{
  "nbformat": 4,
  "nbformat_minor": 0,
  "metadata": {
    "colab": {
      "name": "DistilBERT.ipynb",
      "provenance": [],
      "include_colab_link": true
    },
    "kernelspec": {
      "name": "python3",
      "display_name": "Python 3"
    },
    "language_info": {
      "name": "python"
    },
    "accelerator": "GPU",
    "widgets": {
      "application/vnd.jupyter.widget-state+json": {
        "ed0e8ce28a6b4f00bc09e6209e8a6f8a": {
          "model_module": "@jupyter-widgets/controls",
          "model_name": "HBoxModel",
          "model_module_version": "1.5.0",
          "state": {
            "_view_name": "HBoxView",
            "_dom_classes": [],
            "_model_name": "HBoxModel",
            "_view_module": "@jupyter-widgets/controls",
            "_model_module_version": "1.5.0",
            "_view_count": null,
            "_view_module_version": "1.5.0",
            "box_style": "",
            "layout": "IPY_MODEL_d36ce2a7d4ed49779fc80053a011e73c",
            "_model_module": "@jupyter-widgets/controls",
            "children": [
              "IPY_MODEL_f814a489bd604329bc9096e9a99b2d23",
              "IPY_MODEL_4e4c213a81b6404e8c5756ef21302b90",
              "IPY_MODEL_5f2744c0b473458b818cfa0a4fd0e6c1"
            ]
          }
        },
        "d36ce2a7d4ed49779fc80053a011e73c": {
          "model_module": "@jupyter-widgets/base",
          "model_name": "LayoutModel",
          "model_module_version": "1.2.0",
          "state": {
            "_view_name": "LayoutView",
            "grid_template_rows": null,
            "right": null,
            "justify_content": null,
            "_view_module": "@jupyter-widgets/base",
            "overflow": null,
            "_model_module_version": "1.2.0",
            "_view_count": null,
            "flex_flow": null,
            "width": null,
            "min_width": null,
            "border": null,
            "align_items": null,
            "bottom": null,
            "_model_module": "@jupyter-widgets/base",
            "top": null,
            "grid_column": null,
            "overflow_y": null,
            "overflow_x": null,
            "grid_auto_flow": null,
            "grid_area": null,
            "grid_template_columns": null,
            "flex": null,
            "_model_name": "LayoutModel",
            "justify_items": null,
            "grid_row": null,
            "max_height": null,
            "align_content": null,
            "visibility": null,
            "align_self": null,
            "height": null,
            "min_height": null,
            "padding": null,
            "grid_auto_rows": null,
            "grid_gap": null,
            "max_width": null,
            "order": null,
            "_view_module_version": "1.2.0",
            "grid_template_areas": null,
            "object_position": null,
            "object_fit": null,
            "grid_auto_columns": null,
            "margin": null,
            "display": null,
            "left": null
          }
        },
        "f814a489bd604329bc9096e9a99b2d23": {
          "model_module": "@jupyter-widgets/controls",
          "model_name": "HTMLModel",
          "model_module_version": "1.5.0",
          "state": {
            "_view_name": "HTMLView",
            "style": "IPY_MODEL_4f0eeb8c2f1d46cb94a098b03df06374",
            "_dom_classes": [],
            "description": "",
            "_model_name": "HTMLModel",
            "placeholder": "​",
            "_view_module": "@jupyter-widgets/controls",
            "_model_module_version": "1.5.0",
            "value": "100%",
            "_view_count": null,
            "_view_module_version": "1.5.0",
            "description_tooltip": null,
            "_model_module": "@jupyter-widgets/controls",
            "layout": "IPY_MODEL_6cd22df9650d4fa7888f55cee14377d1"
          }
        },
        "4e4c213a81b6404e8c5756ef21302b90": {
          "model_module": "@jupyter-widgets/controls",
          "model_name": "FloatProgressModel",
          "model_module_version": "1.5.0",
          "state": {
            "_view_name": "ProgressView",
            "style": "IPY_MODEL_d57f4a73ea804b3f9a198fe26b061916",
            "_dom_classes": [],
            "description": "",
            "_model_name": "FloatProgressModel",
            "bar_style": "success",
            "max": 10000,
            "_view_module": "@jupyter-widgets/controls",
            "_model_module_version": "1.5.0",
            "value": 10000,
            "_view_count": null,
            "_view_module_version": "1.5.0",
            "orientation": "horizontal",
            "min": 0,
            "description_tooltip": null,
            "_model_module": "@jupyter-widgets/controls",
            "layout": "IPY_MODEL_36086dfd609e497b90e2f7264be7f9ec"
          }
        },
        "5f2744c0b473458b818cfa0a4fd0e6c1": {
          "model_module": "@jupyter-widgets/controls",
          "model_name": "HTMLModel",
          "model_module_version": "1.5.0",
          "state": {
            "_view_name": "HTMLView",
            "style": "IPY_MODEL_5cd0352e84844fe88d53fb697c09f3c9",
            "_dom_classes": [],
            "description": "",
            "_model_name": "HTMLModel",
            "placeholder": "​",
            "_view_module": "@jupyter-widgets/controls",
            "_model_module_version": "1.5.0",
            "value": " 10000/10000 [1:36:21&lt;00:00,  4.51it/s]",
            "_view_count": null,
            "_view_module_version": "1.5.0",
            "description_tooltip": null,
            "_model_module": "@jupyter-widgets/controls",
            "layout": "IPY_MODEL_cc86222a1b1b4fd192928fe7f5f65858"
          }
        },
        "4f0eeb8c2f1d46cb94a098b03df06374": {
          "model_module": "@jupyter-widgets/controls",
          "model_name": "DescriptionStyleModel",
          "model_module_version": "1.5.0",
          "state": {
            "_view_name": "StyleView",
            "_model_name": "DescriptionStyleModel",
            "description_width": "",
            "_view_module": "@jupyter-widgets/base",
            "_model_module_version": "1.5.0",
            "_view_count": null,
            "_view_module_version": "1.2.0",
            "_model_module": "@jupyter-widgets/controls"
          }
        },
        "6cd22df9650d4fa7888f55cee14377d1": {
          "model_module": "@jupyter-widgets/base",
          "model_name": "LayoutModel",
          "model_module_version": "1.2.0",
          "state": {
            "_view_name": "LayoutView",
            "grid_template_rows": null,
            "right": null,
            "justify_content": null,
            "_view_module": "@jupyter-widgets/base",
            "overflow": null,
            "_model_module_version": "1.2.0",
            "_view_count": null,
            "flex_flow": null,
            "width": null,
            "min_width": null,
            "border": null,
            "align_items": null,
            "bottom": null,
            "_model_module": "@jupyter-widgets/base",
            "top": null,
            "grid_column": null,
            "overflow_y": null,
            "overflow_x": null,
            "grid_auto_flow": null,
            "grid_area": null,
            "grid_template_columns": null,
            "flex": null,
            "_model_name": "LayoutModel",
            "justify_items": null,
            "grid_row": null,
            "max_height": null,
            "align_content": null,
            "visibility": null,
            "align_self": null,
            "height": null,
            "min_height": null,
            "padding": null,
            "grid_auto_rows": null,
            "grid_gap": null,
            "max_width": null,
            "order": null,
            "_view_module_version": "1.2.0",
            "grid_template_areas": null,
            "object_position": null,
            "object_fit": null,
            "grid_auto_columns": null,
            "margin": null,
            "display": null,
            "left": null
          }
        },
        "d57f4a73ea804b3f9a198fe26b061916": {
          "model_module": "@jupyter-widgets/controls",
          "model_name": "ProgressStyleModel",
          "model_module_version": "1.5.0",
          "state": {
            "_view_name": "StyleView",
            "_model_name": "ProgressStyleModel",
            "description_width": "",
            "_view_module": "@jupyter-widgets/base",
            "_model_module_version": "1.5.0",
            "_view_count": null,
            "_view_module_version": "1.2.0",
            "bar_color": null,
            "_model_module": "@jupyter-widgets/controls"
          }
        },
        "36086dfd609e497b90e2f7264be7f9ec": {
          "model_module": "@jupyter-widgets/base",
          "model_name": "LayoutModel",
          "model_module_version": "1.2.0",
          "state": {
            "_view_name": "LayoutView",
            "grid_template_rows": null,
            "right": null,
            "justify_content": null,
            "_view_module": "@jupyter-widgets/base",
            "overflow": null,
            "_model_module_version": "1.2.0",
            "_view_count": null,
            "flex_flow": null,
            "width": null,
            "min_width": null,
            "border": null,
            "align_items": null,
            "bottom": null,
            "_model_module": "@jupyter-widgets/base",
            "top": null,
            "grid_column": null,
            "overflow_y": null,
            "overflow_x": null,
            "grid_auto_flow": null,
            "grid_area": null,
            "grid_template_columns": null,
            "flex": null,
            "_model_name": "LayoutModel",
            "justify_items": null,
            "grid_row": null,
            "max_height": null,
            "align_content": null,
            "visibility": null,
            "align_self": null,
            "height": null,
            "min_height": null,
            "padding": null,
            "grid_auto_rows": null,
            "grid_gap": null,
            "max_width": null,
            "order": null,
            "_view_module_version": "1.2.0",
            "grid_template_areas": null,
            "object_position": null,
            "object_fit": null,
            "grid_auto_columns": null,
            "margin": null,
            "display": null,
            "left": null
          }
        },
        "5cd0352e84844fe88d53fb697c09f3c9": {
          "model_module": "@jupyter-widgets/controls",
          "model_name": "DescriptionStyleModel",
          "model_module_version": "1.5.0",
          "state": {
            "_view_name": "StyleView",
            "_model_name": "DescriptionStyleModel",
            "description_width": "",
            "_view_module": "@jupyter-widgets/base",
            "_model_module_version": "1.5.0",
            "_view_count": null,
            "_view_module_version": "1.2.0",
            "_model_module": "@jupyter-widgets/controls"
          }
        },
        "cc86222a1b1b4fd192928fe7f5f65858": {
          "model_module": "@jupyter-widgets/base",
          "model_name": "LayoutModel",
          "model_module_version": "1.2.0",
          "state": {
            "_view_name": "LayoutView",
            "grid_template_rows": null,
            "right": null,
            "justify_content": null,
            "_view_module": "@jupyter-widgets/base",
            "overflow": null,
            "_model_module_version": "1.2.0",
            "_view_count": null,
            "flex_flow": null,
            "width": null,
            "min_width": null,
            "border": null,
            "align_items": null,
            "bottom": null,
            "_model_module": "@jupyter-widgets/base",
            "top": null,
            "grid_column": null,
            "overflow_y": null,
            "overflow_x": null,
            "grid_auto_flow": null,
            "grid_area": null,
            "grid_template_columns": null,
            "flex": null,
            "_model_name": "LayoutModel",
            "justify_items": null,
            "grid_row": null,
            "max_height": null,
            "align_content": null,
            "visibility": null,
            "align_self": null,
            "height": null,
            "min_height": null,
            "padding": null,
            "grid_auto_rows": null,
            "grid_gap": null,
            "max_width": null,
            "order": null,
            "_view_module_version": "1.2.0",
            "grid_template_areas": null,
            "object_position": null,
            "object_fit": null,
            "grid_auto_columns": null,
            "margin": null,
            "display": null,
            "left": null
          }
        }
      }
    }
  },
  "cells": [
    {
      "cell_type": "markdown",
      "metadata": {
        "id": "view-in-github",
        "colab_type": "text"
      },
      "source": [
        "<a href=\"https://colab.research.google.com/github/ASi-F/NLPlay-with-Transformers/blob/main/DistilBERT.ipynb\" target=\"_parent\"><img src=\"https://colab.research.google.com/assets/colab-badge.svg\" alt=\"Open In Colab\"/></a>"
      ]
    },
    {
      "cell_type": "code",
      "metadata": {
        "colab": {
          "base_uri": "https://localhost:8080/"
        },
        "id": "U9cnezAu62YE",
        "outputId": "b3ef7f86-a3a3-4b15-b4fb-fb54f43e1f51"
      },
      "source": [
        "!pip install transformers"
      ],
      "execution_count": 1,
      "outputs": [
        {
          "output_type": "stream",
          "name": "stdout",
          "text": [
            "Requirement already satisfied: transformers in /usr/local/lib/python3.7/dist-packages (4.12.3)\n",
            "Requirement already satisfied: filelock in /usr/local/lib/python3.7/dist-packages (from transformers) (3.3.0)\n",
            "Requirement already satisfied: huggingface-hub<1.0,>=0.1.0 in /usr/local/lib/python3.7/dist-packages (from transformers) (0.1.0)\n",
            "Requirement already satisfied: packaging>=20.0 in /usr/local/lib/python3.7/dist-packages (from transformers) (21.0)\n",
            "Requirement already satisfied: regex!=2019.12.17 in /usr/local/lib/python3.7/dist-packages (from transformers) (2019.12.20)\n",
            "Requirement already satisfied: tqdm>=4.27 in /usr/local/lib/python3.7/dist-packages (from transformers) (4.62.3)\n",
            "Requirement already satisfied: pyyaml>=5.1 in /usr/local/lib/python3.7/dist-packages (from transformers) (6.0)\n",
            "Requirement already satisfied: tokenizers<0.11,>=0.10.1 in /usr/local/lib/python3.7/dist-packages (from transformers) (0.10.3)\n",
            "Requirement already satisfied: sacremoses in /usr/local/lib/python3.7/dist-packages (from transformers) (0.0.46)\n",
            "Requirement already satisfied: numpy>=1.17 in /usr/local/lib/python3.7/dist-packages (from transformers) (1.19.5)\n",
            "Requirement already satisfied: importlib-metadata in /usr/local/lib/python3.7/dist-packages (from transformers) (4.8.1)\n",
            "Requirement already satisfied: requests in /usr/local/lib/python3.7/dist-packages (from transformers) (2.23.0)\n",
            "Requirement already satisfied: typing-extensions in /usr/local/lib/python3.7/dist-packages (from huggingface-hub<1.0,>=0.1.0->transformers) (3.7.4.3)\n",
            "Requirement already satisfied: pyparsing>=2.0.2 in /usr/local/lib/python3.7/dist-packages (from packaging>=20.0->transformers) (2.4.7)\n",
            "Requirement already satisfied: zipp>=0.5 in /usr/local/lib/python3.7/dist-packages (from importlib-metadata->transformers) (3.6.0)\n",
            "Requirement already satisfied: urllib3!=1.25.0,!=1.25.1,<1.26,>=1.21.1 in /usr/local/lib/python3.7/dist-packages (from requests->transformers) (1.24.3)\n",
            "Requirement already satisfied: idna<3,>=2.5 in /usr/local/lib/python3.7/dist-packages (from requests->transformers) (2.10)\n",
            "Requirement already satisfied: chardet<4,>=3.0.2 in /usr/local/lib/python3.7/dist-packages (from requests->transformers) (3.0.4)\n",
            "Requirement already satisfied: certifi>=2017.4.17 in /usr/local/lib/python3.7/dist-packages (from requests->transformers) (2021.5.30)\n",
            "Requirement already satisfied: joblib in /usr/local/lib/python3.7/dist-packages (from sacremoses->transformers) (1.0.1)\n",
            "Requirement already satisfied: click in /usr/local/lib/python3.7/dist-packages (from sacremoses->transformers) (7.1.2)\n",
            "Requirement already satisfied: six in /usr/local/lib/python3.7/dist-packages (from sacremoses->transformers) (1.15.0)\n"
          ]
        }
      ]
    },
    {
      "cell_type": "code",
      "metadata": {
        "id": "E7VZdzUT7udN"
      },
      "source": [
        "import torch\n",
        "import numpy as np\n",
        "import pandas as pd\n",
        "import transformers"
      ],
      "execution_count": 2,
      "outputs": []
    },
    {
      "cell_type": "code",
      "metadata": {
        "id": "xhpAhmVyIpdW"
      },
      "source": [
        "df = pd.read_excel('/content/IMDB_reviews.xlsx')"
      ],
      "execution_count": 3,
      "outputs": []
    },
    {
      "cell_type": "code",
      "metadata": {
        "colab": {
          "base_uri": "https://localhost:8080/",
          "height": 417
        },
        "id": "peQUlBLPIwa6",
        "outputId": "90159015-4571-4ca0-f996-7daed4254bad"
      },
      "source": [
        "df"
      ],
      "execution_count": 4,
      "outputs": [
        {
          "output_type": "execute_result",
          "data": {
            "text/html": [
              "<div>\n",
              "<style scoped>\n",
              "    .dataframe tbody tr th:only-of-type {\n",
              "        vertical-align: middle;\n",
              "    }\n",
              "\n",
              "    .dataframe tbody tr th {\n",
              "        vertical-align: top;\n",
              "    }\n",
              "\n",
              "    .dataframe thead th {\n",
              "        text-align: right;\n",
              "    }\n",
              "</style>\n",
              "<table border=\"1\" class=\"dataframe\">\n",
              "  <thead>\n",
              "    <tr style=\"text-align: right;\">\n",
              "      <th></th>\n",
              "      <th>review</th>\n",
              "      <th>sentiment</th>\n",
              "    </tr>\n",
              "  </thead>\n",
              "  <tbody>\n",
              "    <tr>\n",
              "      <th>0</th>\n",
              "      <td>Bromwell High is a cartoon comedy. It ran at t...</td>\n",
              "      <td>positive</td>\n",
              "    </tr>\n",
              "    <tr>\n",
              "      <th>1</th>\n",
              "      <td>Homelessness (or Houselessness as George Carli...</td>\n",
              "      <td>positive</td>\n",
              "    </tr>\n",
              "    <tr>\n",
              "      <th>2</th>\n",
              "      <td>Brilliant over-acting by Lesley Ann Warren. Be...</td>\n",
              "      <td>positive</td>\n",
              "    </tr>\n",
              "    <tr>\n",
              "      <th>3</th>\n",
              "      <td>This is easily the most underrated film inn th...</td>\n",
              "      <td>positive</td>\n",
              "    </tr>\n",
              "    <tr>\n",
              "      <th>4</th>\n",
              "      <td>This is not the typical Mel Brooks film. It wa...</td>\n",
              "      <td>positive</td>\n",
              "    </tr>\n",
              "    <tr>\n",
              "      <th>...</th>\n",
              "      <td>...</td>\n",
              "      <td>...</td>\n",
              "    </tr>\n",
              "    <tr>\n",
              "      <th>24995</th>\n",
              "      <td>Towards the end of the movie, I felt it was to...</td>\n",
              "      <td>negative</td>\n",
              "    </tr>\n",
              "    <tr>\n",
              "      <th>24996</th>\n",
              "      <td>This is the kind of movie that my enemies cont...</td>\n",
              "      <td>negative</td>\n",
              "    </tr>\n",
              "    <tr>\n",
              "      <th>24997</th>\n",
              "      <td>I saw 'Descent' last night at the Stockholm Fi...</td>\n",
              "      <td>negative</td>\n",
              "    </tr>\n",
              "    <tr>\n",
              "      <th>24998</th>\n",
              "      <td>Some films that you pick up for a pound turn o...</td>\n",
              "      <td>negative</td>\n",
              "    </tr>\n",
              "    <tr>\n",
              "      <th>24999</th>\n",
              "      <td>This is one of the dumbest films, I've ever se...</td>\n",
              "      <td>negative</td>\n",
              "    </tr>\n",
              "  </tbody>\n",
              "</table>\n",
              "<p>25000 rows × 2 columns</p>\n",
              "</div>"
            ],
            "text/plain": [
              "                                                  review sentiment\n",
              "0      Bromwell High is a cartoon comedy. It ran at t...  positive\n",
              "1      Homelessness (or Houselessness as George Carli...  positive\n",
              "2      Brilliant over-acting by Lesley Ann Warren. Be...  positive\n",
              "3      This is easily the most underrated film inn th...  positive\n",
              "4      This is not the typical Mel Brooks film. It wa...  positive\n",
              "...                                                  ...       ...\n",
              "24995  Towards the end of the movie, I felt it was to...  negative\n",
              "24996  This is the kind of movie that my enemies cont...  negative\n",
              "24997  I saw 'Descent' last night at the Stockholm Fi...  negative\n",
              "24998  Some films that you pick up for a pound turn o...  negative\n",
              "24999  This is one of the dumbest films, I've ever se...  negative\n",
              "\n",
              "[25000 rows x 2 columns]"
            ]
          },
          "metadata": {},
          "execution_count": 4
        }
      ]
    },
    {
      "cell_type": "code",
      "metadata": {
        "id": "znCrknev8EzA"
      },
      "source": [
        "from transformers import DistilBertTokenizerFast\n",
        "from torch.utils.data import Dataset, random_split, DataLoader"
      ],
      "execution_count": 5,
      "outputs": []
    },
    {
      "cell_type": "code",
      "metadata": {
        "colab": {
          "base_uri": "https://localhost:8080/"
        },
        "id": "VOZyNm6GKxF4",
        "outputId": "319b3924-6e4e-4086-ed0c-2c938730906f"
      },
      "source": [
        "device = \"cuda\" if torch.cuda.is_available() else \"cpu\"\n",
        "print(f\"Training on {device}\")"
      ],
      "execution_count": 6,
      "outputs": [
        {
          "output_type": "stream",
          "name": "stdout",
          "text": [
            "Training on cuda\n"
          ]
        }
      ]
    },
    {
      "cell_type": "code",
      "metadata": {
        "id": "92RvqMnwLblC"
      },
      "source": [
        "tokenizer = DistilBertTokenizerFast.from_pretrained('distilbert-base-uncased')"
      ],
      "execution_count": 7,
      "outputs": []
    },
    {
      "cell_type": "code",
      "metadata": {
        "id": "you3sR1qI5rc"
      },
      "source": [
        "class imdb_dataset(Dataset):\n",
        "  def __init__(self,dataframe):\n",
        "    self.data = dataframe['review']\n",
        "    self.labels = dataframe['sentiment']\n",
        "  \n",
        "  def __len__(self):\n",
        "    return len(self.data)\n",
        "  \n",
        "  def __getitem__(self, indx):\n",
        "    review = str(self.data[indx])[:512]\n",
        "    label = int(self.labels[indx] == 'positive')\n",
        "    return review, label"
      ],
      "execution_count": 8,
      "outputs": []
    },
    {
      "cell_type": "code",
      "metadata": {
        "id": "pylu1LPSP3D3"
      },
      "source": [
        "dataset = imdb_dataset(df)"
      ],
      "execution_count": 9,
      "outputs": []
    },
    {
      "cell_type": "code",
      "metadata": {
        "id": "6VoDhZKUP86q"
      },
      "source": [
        "train_size = (len(dataset)*80)//100\n",
        "val_size   = (len(dataset)*20)//100\n",
        "\n",
        "train_dataset, val_dataset= random_split(dataset = dataset,\n",
        "                                         lengths= [train_size, val_size],\n",
        "                                         generator=torch.Generator().manual_seed(42))"
      ],
      "execution_count": 10,
      "outputs": []
    },
    {
      "cell_type": "code",
      "metadata": {
        "id": "W-fB3aNrSfJx"
      },
      "source": [
        "train_dataloader = DataLoader(train_dataset, batch_size=25, shuffle= True, drop_last = False)\n",
        "val_dataloader =   DataLoader(val_dataset, batch_size = 25, shuffle = True, drop_last = False)"
      ],
      "execution_count": 11,
      "outputs": []
    },
    {
      "cell_type": "code",
      "metadata": {
        "id": "oUux9LkvTIPF"
      },
      "source": [
        "from transformers import DistilBertModel\n",
        "from torch import nn"
      ],
      "execution_count": 12,
      "outputs": []
    },
    {
      "cell_type": "code",
      "metadata": {
        "colab": {
          "base_uri": "https://localhost:8080/"
        },
        "id": "Y9A8JbKM_GBf",
        "outputId": "c0bb683d-b71b-4eb7-c9d2-6f317e995fef"
      },
      "source": [
        "model = DistilBertModel.from_pretrained('distilbert-base-uncased')"
      ],
      "execution_count": 13,
      "outputs": [
        {
          "output_type": "stream",
          "name": "stderr",
          "text": [
            "Some weights of the model checkpoint at distilbert-base-uncased were not used when initializing DistilBertModel: ['vocab_layer_norm.bias', 'vocab_layer_norm.weight', 'vocab_projector.bias', 'vocab_transform.bias', 'vocab_transform.weight', 'vocab_projector.weight']\n",
            "- This IS expected if you are initializing DistilBertModel from the checkpoint of a model trained on another task or with another architecture (e.g. initializing a BertForSequenceClassification model from a BertForPreTraining model).\n",
            "- This IS NOT expected if you are initializing DistilBertModel from the checkpoint of a model that you expect to be exactly identical (initializing a BertForSequenceClassification model from a BertForSequenceClassification model).\n"
          ]
        }
      ]
    },
    {
      "cell_type": "code",
      "metadata": {
        "colab": {
          "base_uri": "https://localhost:8080/"
        },
        "id": "ao5rkTCC_UOL",
        "outputId": "5b7fa019-c216-4731-d81d-06fee6a5f5f4"
      },
      "source": [
        "print(model(**tokenizer([\"la la la \",\"di\", \"dude\"], return_tensors='pt', padding = True))[0][:,0].shape)"
      ],
      "execution_count": 14,
      "outputs": [
        {
          "output_type": "stream",
          "name": "stdout",
          "text": [
            "torch.Size([3, 768])\n"
          ]
        }
      ]
    },
    {
      "cell_type": "code",
      "metadata": {
        "id": "x031aBNuTYpQ"
      },
      "source": [
        "class transformer_model(nn.Module):\n",
        "  def __init__(self,output_size):\n",
        "    super(transformer_model, self).__init__()\n",
        "    self.transformer = DistilBertModel.from_pretrained('distilbert-base-uncased')\n",
        "\n",
        "    self.lin_layer = nn.Sequential(\n",
        "        nn.Dropout(),\n",
        "        nn.Linear(768, output_size)\n",
        "    )\n",
        "  \n",
        "  def forward(self, x):\n",
        "    out = self.transformer(**x)[0][:,0]\n",
        "    out = self.lin_layer(out)\n",
        "    return out"
      ],
      "execution_count": 15,
      "outputs": []
    },
    {
      "cell_type": "code",
      "metadata": {
        "colab": {
          "base_uri": "https://localhost:8080/"
        },
        "id": "Of9EQZE0Jd8I",
        "outputId": "47429ba6-af33-4d8f-bbd9-01da685d09e5"
      },
      "source": [
        "output_size = 2\n",
        "model = transformer_model(output_size)\n",
        "model = model.float()\n",
        "model = model.to(device)"
      ],
      "execution_count": 16,
      "outputs": [
        {
          "output_type": "stream",
          "name": "stderr",
          "text": [
            "Some weights of the model checkpoint at distilbert-base-uncased were not used when initializing DistilBertModel: ['vocab_layer_norm.bias', 'vocab_layer_norm.weight', 'vocab_projector.bias', 'vocab_transform.bias', 'vocab_transform.weight', 'vocab_projector.weight']\n",
            "- This IS expected if you are initializing DistilBertModel from the checkpoint of a model trained on another task or with another architecture (e.g. initializing a BertForSequenceClassification model from a BertForPreTraining model).\n",
            "- This IS NOT expected if you are initializing DistilBertModel from the checkpoint of a model that you expect to be exactly identical (initializing a BertForSequenceClassification model from a BertForSequenceClassification model).\n"
          ]
        }
      ]
    },
    {
      "cell_type": "code",
      "metadata": {
        "id": "-lgXzDtLLQjY"
      },
      "source": [
        "loss_function = nn.CrossEntropyLoss()\n",
        "optimizer = torch.optim.Adam(model.parameters(), lr = 1e-4)"
      ],
      "execution_count": 17,
      "outputs": []
    },
    {
      "cell_type": "code",
      "metadata": {
        "id": "roCr8eojNgAU"
      },
      "source": [
        "def accuracy(pred, y):\n",
        "  acc = 0\n",
        "  for i in range(len(y)):\n",
        "    if torch.argmax(pred[i]) == y[i]:\n",
        "      acc +=1\n",
        "  return acc*100/len(y)"
      ],
      "execution_count": 18,
      "outputs": []
    },
    {
      "cell_type": "code",
      "metadata": {
        "id": "bh2idkPlKlSW"
      },
      "source": [
        "from tqdm.auto import tqdm\n",
        "\n",
        "def train(model, tokenizer, num_epochs, loss_function, optimizer):\n",
        "  model.train()\n",
        "  log_train_loss = []\n",
        "  log_val_loss = []\n",
        "  log_val_acc = []\n",
        "  val_loss = 0\n",
        "  val_accuracy = 0\n",
        "\n",
        "  for reviews, labels in val_dataloader:\n",
        "      tokens = tokenizer(list(reviews), return_tensors='pt', padding = True)\n",
        "      for tensor in tokens.keys():\n",
        "        tokens[tensor] = tokens[tensor].to(device)\n",
        "      labels = labels.to(device)\n",
        "      pred = model(tokens)\n",
        "      val_loss += loss_function(pred, labels).item()\n",
        "      val_accuracy += accuracy(pred,labels)\n",
        "  val_loss /= len(val_dataloader)\n",
        "  val_accuracy /= len(val_dataloader)\n",
        "  print(f'Initial Val Loss:{val_loss} Val Accuracy:{val_accuracy}')\n",
        "\n",
        "  for i in range(num_epochs):\n",
        "    train_loss = []\n",
        "    for reviews, labels in train_dataloader:\n",
        "      tokens = tokenizer(list(reviews), return_tensors='pt', padding = True)\n",
        "      for tensor in tokens.keys():\n",
        "        tokens[tensor] = tokens[tensor].to(device)\n",
        "      labels = labels.to(device)\n",
        "      pred = model(tokens)\n",
        "      loss = loss_function(pred, labels)\n",
        "      train_loss.append(loss.item())\n",
        "\n",
        "      optimizer.zero_grad()\n",
        "      loss.backward()\n",
        "      optimizer.step()\n",
        "      progress_bar.update(1)\n",
        "    train_loss = sum(train_loss[::-1][:50])/50\n",
        "    log_train_loss.append(train_loss)\n",
        "\n",
        "    val_loss = 0\n",
        "    val_accuracy = 0\n",
        "    for reviews, labels in val_dataloader:\n",
        "      tokens = tokenizer(list(reviews), return_tensors='pt', padding = True)\n",
        "      for tensor in tokens.keys():\n",
        "        tokens[tensor] = tokens[tensor].to(device)\n",
        "      labels = labels.to(device)\n",
        "      pred = model(tokens)\n",
        "      val_loss += loss_function(pred, labels).item()\n",
        "      val_accuracy += accuracy(pred,labels)\n",
        "      progress_bar.update(1)\n",
        "    val_loss /= len(val_dataloader)\n",
        "    val_accuracy /= len(val_dataloader)\n",
        "    log_val_loss.append(val_loss)\n",
        "    log_val_acc.append(val_accuracy)\n",
        "\n",
        "    print(f\"Epoch: [{i+1}/{num_epochs}]\")\n",
        "    print(f\"train loss: {train_loss:>7f} -- val loss: {val_loss:>7f} -- val accc {val_accuracy:>4f}\")  \n",
        "  return log_train_loss, log_val_loss, log_val_acc"
      ],
      "execution_count": 19,
      "outputs": []
    },
    {
      "cell_type": "code",
      "metadata": {
        "colab": {
          "base_uri": "https://localhost:8080/",
          "height": 402,
          "referenced_widgets": [
            "ed0e8ce28a6b4f00bc09e6209e8a6f8a",
            "d36ce2a7d4ed49779fc80053a011e73c",
            "f814a489bd604329bc9096e9a99b2d23",
            "4e4c213a81b6404e8c5756ef21302b90",
            "5f2744c0b473458b818cfa0a4fd0e6c1",
            "4f0eeb8c2f1d46cb94a098b03df06374",
            "6cd22df9650d4fa7888f55cee14377d1",
            "d57f4a73ea804b3f9a198fe26b061916",
            "36086dfd609e497b90e2f7264be7f9ec",
            "5cd0352e84844fe88d53fb697c09f3c9",
            "cc86222a1b1b4fd192928fe7f5f65858"
          ]
        },
        "id": "jm0VfMe6OjEJ",
        "outputId": "3aba0c32-7cb0-415e-c634-15b95841ac38"
      },
      "source": [
        "num_epochs = 2\n",
        "train_losses, val_losses, val_accs = train(model, tokenizer, num_epochs, loss_function, optimizer)"
      ],
      "execution_count": 20,
      "outputs": [
        {
          "output_type": "display_data",
          "data": {
            "application/vnd.jupyter.widget-view+json": {
              "model_id": "ed0e8ce28a6b4f00bc09e6209e8a6f8a",
              "version_minor": 0,
              "version_major": 2
            },
            "text/plain": [
              "  0%|          | 0/10000 [00:00<?, ?it/s]"
            ]
          },
          "metadata": {}
        },
        {
          "output_type": "stream",
          "name": "stdout",
          "text": [
            "Initial Val Loss:0.7095384418964386 Val Accuracy:50.64\n",
            "Epoch: [1/10]\n",
            "train loss: 0.375256 -- val loss: 0.333366 -- val accc 85.540000\n",
            "Epoch: [2/10]\n",
            "train loss: 0.216996 -- val loss: 0.384999 -- val accc 85.020000\n",
            "Epoch: [3/10]\n",
            "train loss: 0.126197 -- val loss: 0.405128 -- val accc 84.860000\n",
            "Epoch: [4/10]\n",
            "train loss: 0.072912 -- val loss: 0.546215 -- val accc 84.440000\n",
            "Epoch: [5/10]\n",
            "train loss: 0.088065 -- val loss: 0.546185 -- val accc 83.880000\n",
            "Epoch: [6/10]\n",
            "train loss: 0.049587 -- val loss: 0.665392 -- val accc 82.380000\n",
            "Epoch: [7/10]\n",
            "train loss: 0.023984 -- val loss: 0.795394 -- val accc 83.280000\n",
            "Epoch: [8/10]\n",
            "train loss: 0.025895 -- val loss: 0.838160 -- val accc 83.920000\n",
            "Epoch: [9/10]\n",
            "train loss: 0.042091 -- val loss: 0.857850 -- val accc 83.100000\n",
            "Epoch: [10/10]\n",
            "train loss: 0.041173 -- val loss: 0.660052 -- val accc 82.700000\n"
          ]
        }
      ]
    },
    {
      "cell_type": "code",
      "metadata": {
        "id": "XRKzDrzAGDah"
      },
      "source": [
        "import matplotlib.pyplot as plt\n",
        "plt.rcParams['figure.figsize'] = 10,10\n",
        "plt.style.use('ggplot')"
      ],
      "execution_count": 25,
      "outputs": []
    },
    {
      "cell_type": "code",
      "metadata": {
        "colab": {
          "base_uri": "https://localhost:8080/",
          "height": 609
        },
        "id": "Lk7qEMP5bkm5",
        "outputId": "2391fd8f-3128-4268-d952-607721c79d37"
      },
      "source": [
        "plt.scatter(range(1,num_epochs+1),val_losses, color = 'b', label = 'validation loss')\n",
        "plt.scatter(range(1,num_epochs+1),train_losses, color = 'r', label = 'training loss')\n",
        "plt.xlabel('Epoch')\n",
        "plt.ylabel('Loss')\n",
        "plt.xticks(list(range(1,num_epochs+1)))\n",
        "plt.legend()\n",
        "pass"
      ],
      "execution_count": 31,
      "outputs": [
        {
          "output_type": "display_data",
          "data": {
            "image/png": "[encoded data removed]",
            "text/plain": [
              "<Figure size 720x720 with 1 Axes>"
            ]
          },
          "metadata": {}
        }
      ]
    },
    {
      "cell_type": "code",
      "metadata": {
        "colab": {
          "base_uri": "https://localhost:8080/",
          "height": 626
        },
        "id": "V1N4c1kFbvm_",
        "outputId": "eb487e66-dadd-4565-dfde-da7e72c73089"
      },
      "source": [
        "plt.scatter(range(1,num_epochs+1),val_accs, color = 'b', label = 'validation accuracy')\n",
        "plt.xlabel('Epoch')\n",
        "plt.ylabel('Accuracy')\n",
        "plt.xticks(list(range(1,num_epochs+1)))\n",
        "plt.legend()"
      ],
      "execution_count": 34,
      "outputs": [
        {
          "output_type": "execute_result",
          "data": {
            "text/plain": [
              "<matplotlib.legend.Legend at 0x7f111ad38210>"
            ]
          },
          "metadata": {},
          "execution_count": 34
        },
        {
          "output_type": "display_data",
          "data": {
            "image/png": "[encoded data removed]",
            "text/plain": [
              "<Figure size 720x720 with 1 Axes>"
            ]
          },
          "metadata": {}
        }
      ]
    }
  ]
}
