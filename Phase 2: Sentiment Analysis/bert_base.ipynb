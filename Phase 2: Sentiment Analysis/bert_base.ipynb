{
  "nbformat": 4,
  "nbformat_minor": 0,
  "metadata": {
    "colab": {
      "name": "Bert_base.ipynb",
      "provenance": [],
      "mount_file_id": "1JfY4XCsgqk3luacJ10Ts0690lt23bwUP",
      "authorship_tag": "ABX9TyPbDsAnbyqG7JhEce/0NcjP",
      "include_colab_link": true
    },
    "kernelspec": {
      "name": "python3",
      "display_name": "Python 3"
    },
    "language_info": {
      "name": "python"
    },
    "accelerator": "GPU",
    "widgets": {
      "application/vnd.jupyter.widget-state+json": {
        "b45fb25d51d149fc8fe00175e16cf2b4": {
          "model_module": "@jupyter-widgets/controls",
          "model_name": "HBoxModel",
          "state": {
            "_view_name": "HBoxView",
            "_dom_classes": [],
            "_model_name": "HBoxModel",
            "_view_module": "@jupyter-widgets/controls",
            "_model_module_version": "1.5.0",
            "_view_count": null,
            "_view_module_version": "1.5.0",
            "box_style": "",
            "layout": "IPY_MODEL_5378d336abee43749bb30fbc3d04a73a",
            "_model_module": "@jupyter-widgets/controls",
            "children": [
              "IPY_MODEL_4e59b74a6917468bb815c57191cf375b",
              "IPY_MODEL_dc1e4cf2da144400aa209e47755885d4"
            ]
          }
        },
        "5378d336abee43749bb30fbc3d04a73a": {
          "model_module": "@jupyter-widgets/base",
          "model_name": "LayoutModel",
          "state": {
            "_view_name": "LayoutView",
            "grid_template_rows": null,
            "right": null,
            "justify_content": null,
            "_view_module": "@jupyter-widgets/base",
            "overflow": null,
            "_model_module_version": "1.2.0",
            "_view_count": null,
            "flex_flow": null,
            "width": null,
            "min_width": null,
            "border": null,
            "align_items": null,
            "bottom": null,
            "_model_module": "@jupyter-widgets/base",
            "top": null,
            "grid_column": null,
            "overflow_y": null,
            "overflow_x": null,
            "grid_auto_flow": null,
            "grid_area": null,
            "grid_template_columns": null,
            "flex": null,
            "_model_name": "LayoutModel",
            "justify_items": null,
            "grid_row": null,
            "max_height": null,
            "align_content": null,
            "visibility": null,
            "align_self": null,
            "height": null,
            "min_height": null,
            "padding": null,
            "grid_auto_rows": null,
            "grid_gap": null,
            "max_width": null,
            "order": null,
            "_view_module_version": "1.2.0",
            "grid_template_areas": null,
            "object_position": null,
            "object_fit": null,
            "grid_auto_columns": null,
            "margin": null,
            "display": null,
            "left": null
          }
        },
        "4e59b74a6917468bb815c57191cf375b": {
          "model_module": "@jupyter-widgets/controls",
          "model_name": "FloatProgressModel",
          "state": {
            "_view_name": "ProgressView",
            "style": "IPY_MODEL_fcc613be0727447182408a22f2894d25",
            "_dom_classes": [],
            "description": "100%",
            "_model_name": "FloatProgressModel",
            "bar_style": "",
            "max": 6300,
            "_view_module": "@jupyter-widgets/controls",
            "_model_module_version": "1.5.0",
            "value": 6300,
            "_view_count": null,
            "_view_module_version": "1.5.0",
            "orientation": "horizontal",
            "min": 0,
            "description_tooltip": null,
            "_model_module": "@jupyter-widgets/controls",
            "layout": "IPY_MODEL_dbee9b382d804253850d49efa19a80c7"
          }
        },
        "dc1e4cf2da144400aa209e47755885d4": {
          "model_module": "@jupyter-widgets/controls",
          "model_name": "HTMLModel",
          "state": {
            "_view_name": "HTMLView",
            "style": "IPY_MODEL_d48a9b81d36541c182016fab2124397d",
            "_dom_classes": [],
            "description": "",
            "_model_name": "HTMLModel",
            "placeholder": "​",
            "_view_module": "@jupyter-widgets/controls",
            "_model_module_version": "1.5.0",
            "value": " 6300/6300 [2:57:50&lt;00:00,  1.60s/it]",
            "_view_count": null,
            "_view_module_version": "1.5.0",
            "description_tooltip": null,
            "_model_module": "@jupyter-widgets/controls",
            "layout": "IPY_MODEL_767831afed0d43d8897c5052e0dd3faa"
          }
        },
        "fcc613be0727447182408a22f2894d25": {
          "model_module": "@jupyter-widgets/controls",
          "model_name": "ProgressStyleModel",
          "state": {
            "_view_name": "StyleView",
            "_model_name": "ProgressStyleModel",
            "description_width": "initial",
            "_view_module": "@jupyter-widgets/base",
            "_model_module_version": "1.5.0",
            "_view_count": null,
            "_view_module_version": "1.2.0",
            "bar_color": null,
            "_model_module": "@jupyter-widgets/controls"
          }
        },
        "dbee9b382d804253850d49efa19a80c7": {
          "model_module": "@jupyter-widgets/base",
          "model_name": "LayoutModel",
          "state": {
            "_view_name": "LayoutView",
            "grid_template_rows": null,
            "right": null,
            "justify_content": null,
            "_view_module": "@jupyter-widgets/base",
            "overflow": null,
            "_model_module_version": "1.2.0",
            "_view_count": null,
            "flex_flow": null,
            "width": null,
            "min_width": null,
            "border": null,
            "align_items": null,
            "bottom": null,
            "_model_module": "@jupyter-widgets/base",
            "top": null,
            "grid_column": null,
            "overflow_y": null,
            "overflow_x": null,
            "grid_auto_flow": null,
            "grid_area": null,
            "grid_template_columns": null,
            "flex": null,
            "_model_name": "LayoutModel",
            "justify_items": null,
            "grid_row": null,
            "max_height": null,
            "align_content": null,
            "visibility": null,
            "align_self": null,
            "height": null,
            "min_height": null,
            "padding": null,
            "grid_auto_rows": null,
            "grid_gap": null,
            "max_width": null,
            "order": null,
            "_view_module_version": "1.2.0",
            "grid_template_areas": null,
            "object_position": null,
            "object_fit": null,
            "grid_auto_columns": null,
            "margin": null,
            "display": null,
            "left": null
          }
        },
        "d48a9b81d36541c182016fab2124397d": {
          "model_module": "@jupyter-widgets/controls",
          "model_name": "DescriptionStyleModel",
          "state": {
            "_view_name": "StyleView",
            "_model_name": "DescriptionStyleModel",
            "description_width": "",
            "_view_module": "@jupyter-widgets/base",
            "_model_module_version": "1.5.0",
            "_view_count": null,
            "_view_module_version": "1.2.0",
            "_model_module": "@jupyter-widgets/controls"
          }
        },
        "767831afed0d43d8897c5052e0dd3faa": {
          "model_module": "@jupyter-widgets/base",
          "model_name": "LayoutModel",
          "state": {
            "_view_name": "LayoutView",
            "grid_template_rows": null,
            "right": null,
            "justify_content": null,
            "_view_module": "@jupyter-widgets/base",
            "overflow": null,
            "_model_module_version": "1.2.0",
            "_view_count": null,
            "flex_flow": null,
            "width": null,
            "min_width": null,
            "border": null,
            "align_items": null,
            "bottom": null,
            "_model_module": "@jupyter-widgets/base",
            "top": null,
            "grid_column": null,
            "overflow_y": null,
            "overflow_x": null,
            "grid_auto_flow": null,
            "grid_area": null,
            "grid_template_columns": null,
            "flex": null,
            "_model_name": "LayoutModel",
            "justify_items": null,
            "grid_row": null,
            "max_height": null,
            "align_content": null,
            "visibility": null,
            "align_self": null,
            "height": null,
            "min_height": null,
            "padding": null,
            "grid_auto_rows": null,
            "grid_gap": null,
            "max_width": null,
            "order": null,
            "_view_module_version": "1.2.0",
            "grid_template_areas": null,
            "object_position": null,
            "object_fit": null,
            "grid_auto_columns": null,
            "margin": null,
            "display": null,
            "left": null
          }
        }
      }
    }
  },
  "cells": [
    {
      "cell_type": "markdown",
      "metadata": {
        "id": "view-in-github",
        "colab_type": "text"
      },
      "source": [
        "<a href=\"https://colab.research.google.com/github/ASi-F/NLPlay-with-Transformers/blob/main/Bert_base.ipynb\" target=\"_parent\"><img src=\"https://colab.research.google.com/assets/colab-badge.svg\" alt=\"Open In Colab\"/></a>"
      ]
    },
    {
      "cell_type": "markdown",
      "metadata": {
        "id": "Qg5g50wrnN6D"
      },
      "source": [
        "# BERT base\n",
        "\n",
        "The BERT Transformer is available in 2 sizes- **base** and **large**. Here we train the smaller base version. It has **6 encoders** stacked on top of each other and gives an output embedding of dimension 768. Here we train the large model on a dataset of 21,000 reviews and evaluate on a dataset of 9,000 reviews by using **a Feed Forward Neural Network with 3 hidden layers and 500 neurons per layer architecture**. The output embeddings are processed by this neural network which is trained on this dataset.<br>\n",
        "We have achieved an accuracy of 91.25% on the training set and 92% on the training set.<br>\n",
        "Not BAD!"
      ]
    },
    {
      "cell_type": "code",
      "metadata": {
        "id": "vCsnSSVU3oDd"
      },
      "source": [
        "pip install transformers"
      ],
      "execution_count": null,
      "outputs": []
    },
    {
      "cell_type": "code",
      "metadata": {
        "id": "-Aq_FxQI3z8y"
      },
      "source": [
        "pip install datasets"
      ],
      "execution_count": null,
      "outputs": []
    },
    {
      "cell_type": "code",
      "metadata": {
        "id": "4pHLzIey36zZ"
      },
      "source": [
        "import pandas as pd\n",
        "import numpy as np\n",
        "import os\n",
        "import torch\n",
        "import matplotlib.pyplot as plt\n",
        "import random "
      ],
      "execution_count": 3,
      "outputs": []
    },
    {
      "cell_type": "markdown",
      "metadata": {
        "id": "tkiPGrg7oFtz"
      },
      "source": [
        "# Preprocessing\n",
        "\n",
        "The dataset is mounted from drive and some basic preprocessing is done to remove html tags. The review and sentiment columns are replaced by text and label columns. Here we convert the pandas df to dataset to pytorch dataloader"
      ]
    },
    {
      "cell_type": "code",
      "metadata": {
        "id": "m2mZGxUX37SX"
      },
      "source": [
        "df = pd.read_csv('/content/drive/MyDrive/Colab Notebooks/IMDB Dataset.csv')"
      ],
      "execution_count": 4,
      "outputs": []
    },
    {
      "cell_type": "code",
      "metadata": {
        "id": "VA6gVgR038zd"
      },
      "source": [
        "def remove_tags(text):\n",
        "    final = \"\"\n",
        "    stt = True\n",
        "    for char in text:\n",
        "        if char == '<':\n",
        "            stt = False\n",
        "        if(stt):\n",
        "            final = final + char\n",
        "        if char == '>':\n",
        "            stt = True\n",
        "            final = final + ' '\n",
        "    return final\n",
        "\n",
        "df['text'] = df['review'].apply(remove_tags)"
      ],
      "execution_count": 5,
      "outputs": []
    },
    {
      "cell_type": "code",
      "metadata": {
        "id": "DLzbul1n3-pO"
      },
      "source": [
        "df = df.drop('review',axis = 1)"
      ],
      "execution_count": 6,
      "outputs": []
    },
    {
      "cell_type": "code",
      "metadata": {
        "id": "qEnsagm44AdR"
      },
      "source": [
        "df['label'] = [ 1*(sent=='positive') for sent in df['sentiment']]\n",
        "\n",
        "df = df.drop('sentiment', axis = 1)"
      ],
      "execution_count": 7,
      "outputs": []
    },
    {
      "cell_type": "code",
      "metadata": {
        "id": "cyNbOCE84CSf"
      },
      "source": [
        "from datasets import Dataset\n",
        "\n",
        "dataset = Dataset.from_pandas(df)"
      ],
      "execution_count": 8,
      "outputs": []
    },
    {
      "cell_type": "code",
      "metadata": {
        "id": "8lK3LA4l4Eco"
      },
      "source": [
        "model_name = 'bert-base-uncased'"
      ],
      "execution_count": 9,
      "outputs": []
    },
    {
      "cell_type": "code",
      "metadata": {
        "id": "Qjva1DD64KoW"
      },
      "source": [
        "from transformers import AutoTokenizer\n",
        "\n",
        "tokenizer = AutoTokenizer.from_pretrained(model_name)"
      ],
      "execution_count": 10,
      "outputs": []
    },
    {
      "cell_type": "code",
      "metadata": {
        "id": "cHbzp2Gq4aJp"
      },
      "source": [
        "small_train_dataset = dataset.shuffle(seed=42).select(range(2000))\n",
        "small_eval_dataset = dataset.shuffle(seed=42).select(range(2000,4000))"
      ],
      "execution_count": 11,
      "outputs": []
    },
    {
      "cell_type": "code",
      "metadata": {
        "id": "18PPl_bn4hvT"
      },
      "source": [
        "train_range = [i for i in range(0,30000) if 6>=i%10 and i%10>=0]\n",
        "eval_range = [i for i in range(0,30000) if 9>=i%10 and i%10>=7]\n",
        "\n",
        "train_dataset = dataset.select(train_range).shuffle(seed=42)\n",
        "eval_dataset = dataset.select(eval_range) .shuffle(seed=42)"
      ],
      "execution_count": 12,
      "outputs": []
    },
    {
      "cell_type": "code",
      "metadata": {
        "id": "rt-TWKsR4mIB"
      },
      "source": [
        "from torch.utils.data import DataLoader\n",
        "\n",
        "train_dataloader = DataLoader(train_dataset, shuffle=True, batch_size=10)\n",
        "eval_dataloader = DataLoader(eval_dataset, batch_size=10)"
      ],
      "execution_count": 13,
      "outputs": []
    },
    {
      "cell_type": "markdown",
      "metadata": {
        "id": "WKbP5LHdoP8U"
      },
      "source": [
        "# Model"
      ]
    },
    {
      "cell_type": "code",
      "metadata": {
        "id": "sisT8KyW4nFZ"
      },
      "source": [
        "from transformers import AutoModel"
      ],
      "execution_count": 14,
      "outputs": []
    },
    {
      "cell_type": "code",
      "metadata": {
        "id": "8ufhErk04rSu"
      },
      "source": [
        "import torch.nn as nn\n",
        "import torch.nn.functional as F\n",
        "import torch.optim as optim"
      ],
      "execution_count": 15,
      "outputs": []
    },
    {
      "cell_type": "code",
      "metadata": {
        "colab": {
          "base_uri": "https://localhost:8080/"
        },
        "id": "plf2eEjP4sQv",
        "outputId": "c3527c07-c4e6-4e42-9bfb-3e0c552b7419"
      },
      "source": [
        "device = torch.device(\"cuda\") if torch.cuda.is_available() else torch.device(\"cpu\")\n",
        "device"
      ],
      "execution_count": 16,
      "outputs": [
        {
          "output_type": "execute_result",
          "data": {
            "text/plain": [
              "device(type='cuda')"
            ]
          },
          "metadata": {
            "tags": []
          },
          "execution_count": 16
        }
      ]
    },
    {
      "cell_type": "code",
      "metadata": {
        "id": "HKe10vUT4uht"
      },
      "source": [
        "class Classifier(nn.Module):\n",
        "  def __init__(self,hidden_dim,output_size,model_name,enc_dim):\n",
        "    super(Classifier,self).__init__()\n",
        "\n",
        "    self.model = AutoModel.from_pretrained(model_name, num_labels=2)\n",
        "  \n",
        "    self.LF1 = nn.Linear(enc_dim,hidden_dim)\n",
        "    self.NLF1 = nn.ReLU()\n",
        "\n",
        "    self.LF2 = nn.Linear(hidden_dim,hidden_dim)\n",
        "    self.NLF2 = nn.ReLU()\n",
        "\n",
        "    self.LF3 = nn.Linear(hidden_dim,output_size)\n",
        "\n",
        "  def ready_train(self):\n",
        "    (self.model).train()\n",
        "  \n",
        "  def ready_eval(self):\n",
        "    self.model.eval()\n",
        "\n",
        "  def forward(self,x):\n",
        "    out = self.model(**x)[1]\n",
        "\n",
        "    out = self.LF1(out)\n",
        "    out = self.NLF1(out)\n",
        "\n",
        "    out = self.LF2(out)\n",
        "    out = self.NLF2(out)\n",
        "\n",
        "    out = self.LF3(out)\n",
        "\n",
        "    return F.softmax(out,dim=1)    "
      ],
      "execution_count": 17,
      "outputs": []
    },
    {
      "cell_type": "markdown",
      "metadata": {
        "id": "zaQemYBsoSxJ"
      },
      "source": [
        "# Training"
      ]
    },
    {
      "cell_type": "code",
      "metadata": {
        "id": "0uhTa_v148QW"
      },
      "source": [
        "from tqdm.auto import tqdm\n",
        "\n",
        "def train_classifier(num_epochs,train_dataloader,optimizer,classifier, loss_function = nn.CrossEntropyLoss()):\n",
        "  losses = []\n",
        "  num_training_steps = num_epochs*len(train_dataloader)\n",
        "  progress_bar = tqdm(range(num_training_steps))\n",
        "  classifier.ready_train()\n",
        "  i = 0\n",
        "  avg_loss = 0.\n",
        "  for epoch in range(num_epochs):\n",
        "    for batch in train_dataloader:\n",
        "      # forward prop\n",
        "      inp = tokenizer(batch['text'],padding=True, truncation=True,max_length=512, return_tensors=\"pt\")\n",
        "      inp = inp.to(device)\n",
        "      out = classifier(inp)\n",
        "      pred = batch['label']\n",
        "      pred = pred.to(device)\n",
        "      loss = loss_function(out, pred)\n",
        "\n",
        "      # backward prop\n",
        "      optimizer.zero_grad()\n",
        "      loss.backward()\n",
        "      optimizer.step()\n",
        "\n",
        "      losses.append(loss.item())\n",
        "      progress_bar.update(1)\n",
        "      if i%100 == 0  and i//100>=1:\n",
        "        print(avg_loss/100)\n",
        "        avg_loss = 0\n",
        "      i+=1\n",
        "      avg_loss = avg_loss + float(loss.item())\n",
        "  return losses"
      ],
      "execution_count": 18,
      "outputs": []
    },
    {
      "cell_type": "code",
      "metadata": {
        "id": "u-Xq5ovN4_Zn"
      },
      "source": [
        "def plot_loss(losses):\n",
        "  x = [i for i in range(0,len(losses))]\n",
        "  plt.plot(x,losses)\n",
        "  plt.title('Loss fnction')\n",
        "  plt.ylabel('Loss')\n",
        "  plt.xlabel('batch index')\n",
        "\n",
        "def smooth_loss(losses,f):\n",
        "  y = [0]*len(losses)\n",
        "  for i in range(0,f):\n",
        "    y[i] = (sum(losses[:i+1+f]))/(i+1+f)\n",
        "  for i in range(f,len(losses)-f-1):\n",
        "    y[i] = (sum(losses[i-f:i+f+1]))/(2*f+1)\n",
        "  for i in range(len(losses)-f-1,len(losses)):\n",
        "    y[i] = (sum(losses[i-f:]))/(len(losses)-i+f)\n",
        "  plot_loss(y)"
      ],
      "execution_count": 19,
      "outputs": []
    },
    {
      "cell_type": "code",
      "metadata": {
        "id": "h2F2rrd05BxX"
      },
      "source": [
        "output_size = 2\n",
        "hidden_dim = 500\n",
        "enc_dim = 768\n",
        "\n",
        "classifier_bert = Classifier(hidden_dim,output_size,model_name,enc_dim)\n",
        "classifier_bert.to(device)"
      ],
      "execution_count": null,
      "outputs": []
    },
    {
      "cell_type": "code",
      "metadata": {
        "colab": {
          "base_uri": "https://localhost:8080/",
          "height": 1000,
          "referenced_widgets": [
            "b45fb25d51d149fc8fe00175e16cf2b4",
            "5378d336abee43749bb30fbc3d04a73a",
            "4e59b74a6917468bb815c57191cf375b",
            "dc1e4cf2da144400aa209e47755885d4",
            "fcc613be0727447182408a22f2894d25",
            "dbee9b382d804253850d49efa19a80c7",
            "d48a9b81d36541c182016fab2124397d",
            "767831afed0d43d8897c5052e0dd3faa"
          ]
        },
        "id": "UIVe4e0A5GI4",
        "outputId": "4078d2bf-4011-45f8-9096-6a3bb80f2932"
      },
      "source": [
        "num_epochs = 3\n",
        "lr = 1e-3\n",
        "optimizer = optim.SGD(classifier_bert.parameters(), lr)\n",
        "\n",
        "losses = train_classifier(num_epochs,train_dataloader,optimizer,classifier_bert)"
      ],
      "execution_count": 21,
      "outputs": [
        {
          "output_type": "display_data",
          "data": {
            "application/vnd.jupyter.widget-view+json": {
              "model_id": "b45fb25d51d149fc8fe00175e16cf2b4",
              "version_minor": 0,
              "version_major": 2
            },
            "text/plain": [
              "HBox(children=(FloatProgress(value=0.0, max=6300.0), HTML(value='')))"
            ]
          },
          "metadata": {
            "tags": []
          }
        },
        {
          "output_type": "stream",
          "text": [
            "0.6936671441793442\n",
            "0.6935768067836762\n",
            "0.6930458164215088\n",
            "0.6926910722255707\n",
            "0.6923941445350646\n",
            "0.6923420518636704\n",
            "0.6913972151279449\n",
            "0.6911318898200989\n",
            "0.6901756650209427\n",
            "0.6896985125541687\n",
            "0.6900694268941879\n",
            "0.6886929422616959\n",
            "0.6881072753667832\n",
            "0.6851142513751983\n",
            "0.6807167410850525\n",
            "0.6742672514915466\n",
            "0.6613712066411972\n",
            "0.6382193613052368\n",
            "0.6106221944093704\n",
            "0.5718843632936478\n",
            "0.5420183205604553\n",
            "0.5227666771411896\n",
            "0.4952074059844017\n",
            "0.47776074886322023\n",
            "0.4801391437649727\n",
            "0.4629174843430519\n",
            "0.458950774371624\n",
            "0.4502840316295624\n",
            "0.4577393913269043\n",
            "0.43790164828300476\n",
            "0.45167545825242994\n",
            "0.4473431086540222\n",
            "0.43345404088497164\n",
            "0.4391783690452576\n",
            "0.4326630085706711\n",
            "0.4471753469109535\n",
            "0.42948903918266296\n",
            "0.4330374130606651\n",
            "0.412381637096405\n",
            "0.43058819979429247\n",
            "0.4361604627966881\n",
            "0.43229325354099274\n",
            "0.44376596689224246\n",
            "0.4224545779824257\n",
            "0.42232943803071976\n",
            "0.4179317581653595\n",
            "0.4167305225133896\n",
            "0.4106569290161133\n",
            "0.41134979218244555\n",
            "0.4131434443593025\n",
            "0.425347193479538\n",
            "0.41184231132268906\n",
            "0.4132991862297058\n",
            "0.40528454422950744\n",
            "0.3971726840734482\n",
            "0.42326913446187975\n",
            "0.41875338822603225\n",
            "0.39694286972284315\n",
            "0.40623410493135453\n",
            "0.40927189737558367\n",
            "0.4022239136695862\n",
            "0.40605022966861726\n"
          ],
          "name": "stdout"
        }
      ]
    },
    {
      "cell_type": "markdown",
      "metadata": {
        "id": "upAeQlWUokGs"
      },
      "source": [
        "# plot for loss per itteration"
      ]
    },
    {
      "cell_type": "code",
      "metadata": {
        "colab": {
          "base_uri": "https://localhost:8080/",
          "height": 295
        },
        "id": "qeMWp6iM5KBY",
        "outputId": "d880e10a-8e4f-401b-aa81-e5d568d3df49"
      },
      "source": [
        "plot_loss(losses)"
      ],
      "execution_count": 22,
      "outputs": [
        {
          "output_type": "display_data",
          "data": {
            "image/png": "[encoded data removed]",
            "text/plain": [
              "<Figure size 432x288 with 1 Axes>"
            ]
          },
          "metadata": {
            "tags": [],
            "needs_background": "light"
          }
        }
      ]
    },
    {
      "cell_type": "markdown",
      "metadata": {
        "id": "7wIpxOhcooIz"
      },
      "source": [
        "# Plot for average loss per 100 iterations"
      ]
    },
    {
      "cell_type": "code",
      "metadata": {
        "colab": {
          "base_uri": "https://localhost:8080/",
          "height": 295
        },
        "id": "p-rero1r5KtM",
        "outputId": "235cc06d-1e35-4d94-96b5-3c7ab65bd5f3"
      },
      "source": [
        "smooth_loss(losses,100)"
      ],
      "execution_count": 25,
      "outputs": [
        {
          "output_type": "display_data",
          "data": {
            "image/png": "[encoded data removed]",
            "text/plain": [
              "<Figure size 432x288 with 1 Axes>"
            ]
          },
          "metadata": {
            "tags": [],
            "needs_background": "light"
          }
        }
      ]
    },
    {
      "cell_type": "code",
      "metadata": {
        "id": "Pwetl2RK5Me4"
      },
      "source": [
        "classifier_bert.ready_eval()\n",
        "def acc(dataloader,classifier):\n",
        "  corr = 0\n",
        "  tot = len(dataloader)*10\n",
        "  for batch in dataloader:\n",
        "  # forward prop\n",
        "    inp = tokenizer(batch['text'],padding=True, truncation=True,max_length=512, return_tensors=\"pt\")\n",
        "    inp = inp.to(device)\n",
        "    out = list(torch.argmax(classifier(inp),dim=1))\n",
        "    exp = list(batch['label'])\n",
        "    \n",
        "    for i,x in enumerate(out):\n",
        "      if x == exp[i]:\n",
        "        corr = corr+1\n",
        "    \n",
        "  return 100*(corr/tot)"
      ],
      "execution_count": 28,
      "outputs": []
    },
    {
      "cell_type": "markdown",
      "metadata": {
        "id": "GWvk22jOrq8m"
      },
      "source": [
        "#Training set Accuracy"
      ]
    },
    {
      "cell_type": "code",
      "metadata": {
        "colab": {
          "base_uri": "https://localhost:8080/"
        },
        "id": "Ti6kA8Xc5Oao",
        "outputId": "0996aa9c-3202-4d03-bfc3-a116fbea7413"
      },
      "source": [
        "acc(train_dataloader,classifier_bert)"
      ],
      "execution_count": 29,
      "outputs": [
        {
          "output_type": "execute_result",
          "data": {
            "text/plain": [
              "92.0"
            ]
          },
          "metadata": {
            "tags": []
          },
          "execution_count": 29
        }
      ]
    },
    {
      "cell_type": "markdown",
      "metadata": {
        "id": "w78hONOnr5Qg"
      },
      "source": [
        "# Test set accuracy"
      ]
    },
    {
      "cell_type": "code",
      "metadata": {
        "colab": {
          "base_uri": "https://localhost:8080/"
        },
        "id": "q40FDabq5Q4a",
        "outputId": "607a1ab3-ba4d-4199-e6aa-6c43c154707c"
      },
      "source": [
        "acc(eval_dataloader,classifier_bert)"
      ],
      "execution_count": 31,
      "outputs": [
        {
          "output_type": "execute_result",
          "data": {
            "text/plain": [
              "91.24444444444444"
            ]
          },
          "metadata": {
            "tags": []
          },
          "execution_count": 31
        }
      ]
    },
    {
      "cell_type": "code",
      "metadata": {
        "id": "33aHVNIlj9hj"
      },
      "source": [
        ""
      ],
      "execution_count": null,
      "outputs": []
    }
  ]
}
