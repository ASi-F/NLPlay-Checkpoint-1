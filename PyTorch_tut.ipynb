{
  "nbformat": 4,
  "nbformat_minor": 0,
  "metadata": {
    "colab": {
      "name": "PyTorch_tut.ipynb",
      "provenance": [],
      "authorship_tag": "ABX9TyOZk2TcDVFtSOuSnuGEzAF+",
      "include_colab_link": true
    },
    "kernelspec": {
      "name": "python3",
      "display_name": "Python 3"
    },
    "language_info": {
      "name": "python"
    },
    "accelerator": "GPU"
  },
  "cells": [
    {
      "cell_type": "markdown",
      "metadata": {
        "id": "view-in-github",
        "colab_type": "text"
      },
      "source": [
        "<a href=\"https://colab.research.google.com/github/ASi-F/NLPlay-Checkpoint-1/blob/main/PyTorch_tut.ipynb\" target=\"_parent\"><img src=\"https://colab.research.google.com/assets/colab-badge.svg\" alt=\"Open In Colab\"/></a>"
      ]
    },
    {
      "cell_type": "code",
      "metadata": {
        "id": "m8cRa95xjn0_"
      },
      "source": [
        "import torch\n",
        "import numpy as np"
      ],
      "execution_count": null,
      "outputs": []
    },
    {
      "cell_type": "markdown",
      "metadata": {
        "id": "aOGQZDJVmdvE"
      },
      "source": [
        "# **Initialising stuff-**"
      ]
    },
    {
      "cell_type": "code",
      "metadata": {
        "id": "4N27_0DBmm2F"
      },
      "source": [
        "# from a normal array\n",
        "x = [[1,2,3],[3,2,1]]\n",
        "tensor = torch.tensor(x)"
      ],
      "execution_count": null,
      "outputs": []
    },
    {
      "cell_type": "code",
      "metadata": {
        "colab": {
          "base_uri": "https://localhost:8080/"
        },
        "id": "77S2fxrfnD49",
        "outputId": "7fa673fa-35e3-4a65-e95f-cbe60c9da9fe"
      },
      "source": [
        "print(tensor)"
      ],
      "execution_count": null,
      "outputs": [
        {
          "output_type": "stream",
          "text": [
            "tensor([[1, 2, 3],\n",
            "        [3, 2, 1]])\n"
          ],
          "name": "stdout"
        }
      ]
    },
    {
      "cell_type": "code",
      "metadata": {
        "colab": {
          "base_uri": "https://localhost:8080/"
        },
        "id": "uNCivKU2nHbx",
        "outputId": "4b594d6c-eb41-462a-cc31-4423a027e2fa"
      },
      "source": [
        "# from a np array\n",
        "x = np.array([[1,0,1],[0,1,0]])\n",
        "tensor = torch.from_numpy(x)\n",
        "print(tensor)"
      ],
      "execution_count": null,
      "outputs": [
        {
          "output_type": "stream",
          "text": [
            "tensor([[1, 0, 1],\n",
            "        [0, 1, 0]])\n"
          ],
          "name": "stdout"
        }
      ]
    },
    {
      "cell_type": "code",
      "metadata": {
        "colab": {
          "base_uri": "https://localhost:8080/"
        },
        "id": "WGx6JFP-nsAA",
        "outputId": "2d87e368-d23a-4ceb-a1d2-cd02abdbbd85"
      },
      "source": [
        "# initialising with random values, zeros or ones\n",
        "tensor = torch.rand((2,3))\n",
        "print(tensor)\n",
        "tensor = torch.zeros((2))\n",
        "print(tensor)\n",
        "tensor = torch.ones((3,2,1))\n",
        "print(tensor)"
      ],
      "execution_count": null,
      "outputs": [
        {
          "output_type": "stream",
          "text": [
            "tensor([[0.0343, 0.3295, 0.8626],\n",
            "        [0.8032, 0.6273, 0.9940]])\n",
            "tensor([0., 0.])\n",
            "tensor([[[1.],\n",
            "         [1.]],\n",
            "\n",
            "        [[1.],\n",
            "         [1.]],\n",
            "\n",
            "        [[1.],\n",
            "         [1.]]])\n"
          ],
          "name": "stdout"
        }
      ]
    },
    {
      "cell_type": "markdown",
      "metadata": {
        "id": "TT6uLH7FogjU"
      },
      "source": [
        "## Attributes\n",
        "tensor.shape returns tuple of tensor shape<br>\n",
        "tensor.dtype returns dtype of tensor<br>\n",
        "tensor.device returns device in which tensor is stored<br>"
      ]
    },
    {
      "cell_type": "code",
      "metadata": {
        "colab": {
          "base_uri": "https://localhost:8080/"
        },
        "id": "2SYeKLt8pFUc",
        "outputId": "8b600bdb-f64d-4fd1-bea1-64acaa22c022"
      },
      "source": [
        "print(tensor.shape)\n",
        "print(tensor.dtype)\n",
        "print(tensor.device)"
      ],
      "execution_count": null,
      "outputs": [
        {
          "output_type": "stream",
          "text": [
            "torch.Size([3, 2, 1])\n",
            "torch.float32\n",
            "cpu\n"
          ],
          "name": "stdout"
        }
      ]
    },
    {
      "cell_type": "code",
      "metadata": {
        "colab": {
          "base_uri": "https://localhost:8080/"
        },
        "id": "N6RRuWlVpVGL",
        "outputId": "5adf6cd7-782d-4f84-c036-111794fa2b0d"
      },
      "source": [
        "if torch.cuda.is_available():\n",
        "  tensor = tensor.to('cuda')\n",
        "print(tensor.device)"
      ],
      "execution_count": null,
      "outputs": [
        {
          "output_type": "stream",
          "text": [
            "cuda:0\n"
          ],
          "name": "stdout"
        }
      ]
    },
    {
      "cell_type": "code",
      "metadata": {
        "colab": {
          "base_uri": "https://localhost:8080/"
        },
        "id": "NMbGrz2o4F2i",
        "outputId": "4905e338-8e5b-4cee-870e-efedf01a29f3"
      },
      "source": [
        "tensor = torch.ones(4,4)\n",
        "print(tensor,'\\n')\n",
        "tensor[:,1] = 0\n",
        "print(tensor,'\\n')\n",
        "tensor = torch.cat([tensor,tensor,tensor],dim=1)\n",
        "print(tensor,'\\n')"
      ],
      "execution_count": null,
      "outputs": [
        {
          "output_type": "stream",
          "text": [
            "tensor([[1., 1., 1., 1.],\n",
            "        [1., 1., 1., 1.],\n",
            "        [1., 1., 1., 1.],\n",
            "        [1., 1., 1., 1.]]) \n",
            "\n",
            "tensor([[1., 0., 1., 1.],\n",
            "        [1., 0., 1., 1.],\n",
            "        [1., 0., 1., 1.],\n",
            "        [1., 0., 1., 1.]]) \n",
            "\n",
            "tensor([[1., 0., 1., 1., 1., 0., 1., 1., 1., 0., 1., 1.],\n",
            "        [1., 0., 1., 1., 1., 0., 1., 1., 1., 0., 1., 1.],\n",
            "        [1., 0., 1., 1., 1., 0., 1., 1., 1., 0., 1., 1.],\n",
            "        [1., 0., 1., 1., 1., 0., 1., 1., 1., 0., 1., 1.]]) \n",
            "\n"
          ],
          "name": "stdout"
        }
      ]
    },
    {
      "cell_type": "code",
      "metadata": {
        "colab": {
          "base_uri": "https://localhost:8080/"
        },
        "id": "_C0M6Cql5SpZ",
        "outputId": "7ec8e9b9-b08d-432e-bcf4-1cbd4298650f"
      },
      "source": [
        "print(tensor.T,'\\n')\n",
        "print(tensor*tensor,'\\n')\n",
        "print(tensor@tensor.T,'\\n')"
      ],
      "execution_count": null,
      "outputs": [
        {
          "output_type": "stream",
          "text": [
            "tensor([[1., 1., 1., 1.],\n",
            "        [0., 0., 0., 0.],\n",
            "        [1., 1., 1., 1.],\n",
            "        [1., 1., 1., 1.],\n",
            "        [1., 1., 1., 1.],\n",
            "        [0., 0., 0., 0.],\n",
            "        [1., 1., 1., 1.],\n",
            "        [1., 1., 1., 1.],\n",
            "        [1., 1., 1., 1.],\n",
            "        [0., 0., 0., 0.],\n",
            "        [1., 1., 1., 1.],\n",
            "        [1., 1., 1., 1.]]) \n",
            "\n",
            "tensor([[1., 0., 1., 1., 1., 0., 1., 1., 1., 0., 1., 1.],\n",
            "        [1., 0., 1., 1., 1., 0., 1., 1., 1., 0., 1., 1.],\n",
            "        [1., 0., 1., 1., 1., 0., 1., 1., 1., 0., 1., 1.],\n",
            "        [1., 0., 1., 1., 1., 0., 1., 1., 1., 0., 1., 1.]]) \n",
            "\n",
            "tensor([[9., 9., 9., 9.],\n",
            "        [9., 9., 9., 9.],\n",
            "        [9., 9., 9., 9.],\n",
            "        [9., 9., 9., 9.]]) \n",
            "\n"
          ],
          "name": "stdout"
        }
      ]
    },
    {
      "cell_type": "markdown",
      "metadata": {
        "id": "yFh6qUWW7ToZ"
      },
      "source": [
        "# **In place ops**\n",
        "Operations ending with _ are inplace operations <br>\n",
        "x.t_() <br>\n",
        "x.copy_(y) <br>\n"
      ]
    },
    {
      "cell_type": "code",
      "metadata": {
        "id": "ZwzGnwBUlj87",
        "colab": {
          "base_uri": "https://localhost:8080/"
        },
        "outputId": "22f27a3b-3073-45d7-a714-a1c117551323"
      },
      "source": [
        "x = torch.rand((4,2))\n",
        "y = torch.ones((4,1))\n",
        "print(x)\n",
        "print(y)\n",
        "print(x+y)"
      ],
      "execution_count": null,
      "outputs": [
        {
          "output_type": "stream",
          "text": [
            "tensor([[0.9454, 0.3434],\n",
            "        [0.2965, 0.7695],\n",
            "        [0.6840, 0.3692],\n",
            "        [0.8240, 0.0660]])\n",
            "tensor([[1.],\n",
            "        [1.],\n",
            "        [1.],\n",
            "        [1.]])\n",
            "tensor([[1.9454, 1.3434],\n",
            "        [1.2965, 1.7695],\n",
            "        [1.6840, 1.3692],\n",
            "        [1.8240, 1.0660]])\n"
          ],
          "name": "stdout"
        }
      ]
    },
    {
      "cell_type": "code",
      "metadata": {
        "colab": {
          "base_uri": "https://localhost:8080/"
        },
        "id": "LEMvPTaVpfEp",
        "outputId": "7af8c317-5a17-4f0a-c9ec-b346e9a83ce3"
      },
      "source": [
        "x = torch.rand(3,4,5)\n",
        "print(x)\n",
        "print(x.sum())\n",
        "print(x.sum(dim = 0))\n",
        "print(x.sum(dim = 1))\n",
        "print(x.sum(dim = 2))\n",
        "print(x.sum(dim = (0,1)))\n",
        "print(x.sum(dim = (1,2)))\n",
        "print(x.sum(dim = (0,2)))\n",
        "print(x.sum(dim = (0,1,2)))"
      ],
      "execution_count": null,
      "outputs": [
        {
          "output_type": "stream",
          "text": [
            "tensor([[[0.2521, 0.8084, 0.9212, 0.8924, 0.6319],\n",
            "         [0.0561, 0.6650, 0.4296, 0.6740, 0.9614],\n",
            "         [0.2180, 0.5940, 0.3509, 0.4922, 0.3092],\n",
            "         [0.3671, 0.6613, 0.4344, 0.4397, 0.6879]],\n",
            "\n",
            "        [[0.1363, 0.3298, 0.2771, 0.4911, 0.8162],\n",
            "         [0.6256, 0.0043, 0.4404, 0.4605, 0.3078],\n",
            "         [0.2833, 0.9658, 0.7286, 0.0064, 0.0725],\n",
            "         [0.0062, 0.1180, 0.3359, 0.0818, 0.4544]],\n",
            "\n",
            "        [[0.3863, 0.0064, 0.8394, 0.4274, 0.9206],\n",
            "         [0.5537, 0.2623, 0.1774, 0.1294, 0.0704],\n",
            "         [0.8749, 0.7157, 0.3490, 0.7758, 0.4273],\n",
            "         [0.9148, 0.9897, 0.8856, 0.4894, 0.4394]]])\n",
            "tensor(28.4234)\n",
            "tensor([[0.7747, 1.1446, 2.0377, 1.8110, 2.3686],\n",
            "        [1.2354, 0.9316, 1.0474, 1.2639, 1.3395],\n",
            "        [1.3762, 2.2755, 1.4284, 1.2745, 0.8091],\n",
            "        [1.2881, 1.7690, 1.6559, 1.0108, 1.5816]])\n",
            "tensor([[0.8933, 2.7286, 2.1361, 2.4983, 2.5903],\n",
            "        [1.0514, 1.4179, 1.7819, 1.0398, 1.6509],\n",
            "        [2.7296, 1.9741, 2.2514, 1.8220, 1.8576]])\n",
            "tensor([[3.5060, 2.7860, 1.9643, 2.5904],\n",
            "        [2.0505, 1.8386, 2.0566, 0.9963],\n",
            "        [2.5800, 1.1932, 3.1428, 3.7188]])\n",
            "tensor([4.6744, 6.1207, 6.1693, 5.3602, 6.0988])\n",
            "tensor([10.8467,  6.9420, 10.6348])\n",
            "tensor([8.1365, 5.8178, 7.1637, 7.3054])\n",
            "tensor(28.4234)\n"
          ],
          "name": "stdout"
        }
      ]
    },
    {
      "cell_type": "code",
      "metadata": {
        "id": "eM7u5b0rADwq"
      },
      "source": [
        ""
      ],
      "execution_count": null,
      "outputs": []
    }
  ]
}