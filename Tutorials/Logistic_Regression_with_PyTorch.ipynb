{
  "nbformat": 4,
  "nbformat_minor": 0,
  "metadata": {
    "kernelspec": {
      "display_name": "Python 3",
      "language": "python",
      "name": "python3"
    },
    "language_info": {
      "codemirror_mode": {
        "name": "ipython",
        "version": 3
      },
      "file_extension": ".py",
      "mimetype": "text/x-python",
      "name": "python",
      "nbconvert_exporter": "python",
      "pygments_lexer": "ipython3",
      "version": "3.8.5"
    },
    "colab": {
      "name": "Logistic Regression with PyTorch.ipynb",
      "provenance": [],
      "include_colab_link": true
    },
    "accelerator": "GPU",
    "widgets": {
      "application/vnd.jupyter.widget-state+json": {
        "abc27f83bd9740dabd697f865c3518a5": {
          "model_module": "@jupyter-widgets/controls",
          "model_name": "HBoxModel",
          "state": {
            "_view_name": "HBoxView",
            "_dom_classes": [],
            "_model_name": "HBoxModel",
            "_view_module": "@jupyter-widgets/controls",
            "_model_module_version": "1.5.0",
            "_view_count": null,
            "_view_module_version": "1.5.0",
            "box_style": "",
            "layout": "IPY_MODEL_cac1bfabf2f94339a4c86cc148e7a66b",
            "_model_module": "@jupyter-widgets/controls",
            "children": [
              "IPY_MODEL_75ee7a803ceb4d59a1598d4e8d59eb13",
              "IPY_MODEL_25e9903a0dde41a5a379445b316ea2aa"
            ]
          }
        },
        "cac1bfabf2f94339a4c86cc148e7a66b": {
          "model_module": "@jupyter-widgets/base",
          "model_name": "LayoutModel",
          "state": {
            "_view_name": "LayoutView",
            "grid_template_rows": null,
            "right": null,
            "justify_content": null,
            "_view_module": "@jupyter-widgets/base",
            "overflow": null,
            "_model_module_version": "1.2.0",
            "_view_count": null,
            "flex_flow": null,
            "width": null,
            "min_width": null,
            "border": null,
            "align_items": null,
            "bottom": null,
            "_model_module": "@jupyter-widgets/base",
            "top": null,
            "grid_column": null,
            "overflow_y": null,
            "overflow_x": null,
            "grid_auto_flow": null,
            "grid_area": null,
            "grid_template_columns": null,
            "flex": null,
            "_model_name": "LayoutModel",
            "justify_items": null,
            "grid_row": null,
            "max_height": null,
            "align_content": null,
            "visibility": null,
            "align_self": null,
            "height": null,
            "min_height": null,
            "padding": null,
            "grid_auto_rows": null,
            "grid_gap": null,
            "max_width": null,
            "order": null,
            "_view_module_version": "1.2.0",
            "grid_template_areas": null,
            "object_position": null,
            "object_fit": null,
            "grid_auto_columns": null,
            "margin": null,
            "display": null,
            "left": null
          }
        },
        "75ee7a803ceb4d59a1598d4e8d59eb13": {
          "model_module": "@jupyter-widgets/controls",
          "model_name": "FloatProgressModel",
          "state": {
            "_view_name": "ProgressView",
            "style": "IPY_MODEL_a69d5d9eb72a40ab881932e8d08a1a7b",
            "_dom_classes": [],
            "description": "",
            "_model_name": "FloatProgressModel",
            "bar_style": "success",
            "max": 9912422,
            "_view_module": "@jupyter-widgets/controls",
            "_model_module_version": "1.5.0",
            "value": 9912422,
            "_view_count": null,
            "_view_module_version": "1.5.0",
            "orientation": "horizontal",
            "min": 0,
            "description_tooltip": null,
            "_model_module": "@jupyter-widgets/controls",
            "layout": "IPY_MODEL_54301c7248714d189892e632696f57e9"
          }
        },
        "25e9903a0dde41a5a379445b316ea2aa": {
          "model_module": "@jupyter-widgets/controls",
          "model_name": "HTMLModel",
          "state": {
            "_view_name": "HTMLView",
            "style": "IPY_MODEL_ed98de207596468aa5a65f5dbb4e835d",
            "_dom_classes": [],
            "description": "",
            "_model_name": "HTMLModel",
            "placeholder": "​",
            "_view_module": "@jupyter-widgets/controls",
            "_model_module_version": "1.5.0",
            "value": " 9913344/? [05:23&lt;00:00, 30616.20it/s]",
            "_view_count": null,
            "_view_module_version": "1.5.0",
            "description_tooltip": null,
            "_model_module": "@jupyter-widgets/controls",
            "layout": "IPY_MODEL_6939fae8c4bf41ab91dc1e4afb835e69"
          }
        },
        "a69d5d9eb72a40ab881932e8d08a1a7b": {
          "model_module": "@jupyter-widgets/controls",
          "model_name": "ProgressStyleModel",
          "state": {
            "_view_name": "StyleView",
            "_model_name": "ProgressStyleModel",
            "description_width": "initial",
            "_view_module": "@jupyter-widgets/base",
            "_model_module_version": "1.5.0",
            "_view_count": null,
            "_view_module_version": "1.2.0",
            "bar_color": null,
            "_model_module": "@jupyter-widgets/controls"
          }
        },
        "54301c7248714d189892e632696f57e9": {
          "model_module": "@jupyter-widgets/base",
          "model_name": "LayoutModel",
          "state": {
            "_view_name": "LayoutView",
            "grid_template_rows": null,
            "right": null,
            "justify_content": null,
            "_view_module": "@jupyter-widgets/base",
            "overflow": null,
            "_model_module_version": "1.2.0",
            "_view_count": null,
            "flex_flow": null,
            "width": null,
            "min_width": null,
            "border": null,
            "align_items": null,
            "bottom": null,
            "_model_module": "@jupyter-widgets/base",
            "top": null,
            "grid_column": null,
            "overflow_y": null,
            "overflow_x": null,
            "grid_auto_flow": null,
            "grid_area": null,
            "grid_template_columns": null,
            "flex": null,
            "_model_name": "LayoutModel",
            "justify_items": null,
            "grid_row": null,
            "max_height": null,
            "align_content": null,
            "visibility": null,
            "align_self": null,
            "height": null,
            "min_height": null,
            "padding": null,
            "grid_auto_rows": null,
            "grid_gap": null,
            "max_width": null,
            "order": null,
            "_view_module_version": "1.2.0",
            "grid_template_areas": null,
            "object_position": null,
            "object_fit": null,
            "grid_auto_columns": null,
            "margin": null,
            "display": null,
            "left": null
          }
        },
        "ed98de207596468aa5a65f5dbb4e835d": {
          "model_module": "@jupyter-widgets/controls",
          "model_name": "DescriptionStyleModel",
          "state": {
            "_view_name": "StyleView",
            "_model_name": "DescriptionStyleModel",
            "description_width": "",
            "_view_module": "@jupyter-widgets/base",
            "_model_module_version": "1.5.0",
            "_view_count": null,
            "_view_module_version": "1.2.0",
            "_model_module": "@jupyter-widgets/controls"
          }
        },
        "6939fae8c4bf41ab91dc1e4afb835e69": {
          "model_module": "@jupyter-widgets/base",
          "model_name": "LayoutModel",
          "state": {
            "_view_name": "LayoutView",
            "grid_template_rows": null,
            "right": null,
            "justify_content": null,
            "_view_module": "@jupyter-widgets/base",
            "overflow": null,
            "_model_module_version": "1.2.0",
            "_view_count": null,
            "flex_flow": null,
            "width": null,
            "min_width": null,
            "border": null,
            "align_items": null,
            "bottom": null,
            "_model_module": "@jupyter-widgets/base",
            "top": null,
            "grid_column": null,
            "overflow_y": null,
            "overflow_x": null,
            "grid_auto_flow": null,
            "grid_area": null,
            "grid_template_columns": null,
            "flex": null,
            "_model_name": "LayoutModel",
            "justify_items": null,
            "grid_row": null,
            "max_height": null,
            "align_content": null,
            "visibility": null,
            "align_self": null,
            "height": null,
            "min_height": null,
            "padding": null,
            "grid_auto_rows": null,
            "grid_gap": null,
            "max_width": null,
            "order": null,
            "_view_module_version": "1.2.0",
            "grid_template_areas": null,
            "object_position": null,
            "object_fit": null,
            "grid_auto_columns": null,
            "margin": null,
            "display": null,
            "left": null
          }
        },
        "3269374d6ee54bcdbe27313c61878380": {
          "model_module": "@jupyter-widgets/controls",
          "model_name": "HBoxModel",
          "state": {
            "_view_name": "HBoxView",
            "_dom_classes": [],
            "_model_name": "HBoxModel",
            "_view_module": "@jupyter-widgets/controls",
            "_model_module_version": "1.5.0",
            "_view_count": null,
            "_view_module_version": "1.5.0",
            "box_style": "",
            "layout": "IPY_MODEL_4e8f9e845aae4a7d87f4e97ecc282ee4",
            "_model_module": "@jupyter-widgets/controls",
            "children": [
              "IPY_MODEL_cd641032aaf94a43ae300c1f4c3f73cb",
              "IPY_MODEL_79c802a801e7476fb86b5c38209c7731"
            ]
          }
        },
        "4e8f9e845aae4a7d87f4e97ecc282ee4": {
          "model_module": "@jupyter-widgets/base",
          "model_name": "LayoutModel",
          "state": {
            "_view_name": "LayoutView",
            "grid_template_rows": null,
            "right": null,
            "justify_content": null,
            "_view_module": "@jupyter-widgets/base",
            "overflow": null,
            "_model_module_version": "1.2.0",
            "_view_count": null,
            "flex_flow": null,
            "width": null,
            "min_width": null,
            "border": null,
            "align_items": null,
            "bottom": null,
            "_model_module": "@jupyter-widgets/base",
            "top": null,
            "grid_column": null,
            "overflow_y": null,
            "overflow_x": null,
            "grid_auto_flow": null,
            "grid_area": null,
            "grid_template_columns": null,
            "flex": null,
            "_model_name": "LayoutModel",
            "justify_items": null,
            "grid_row": null,
            "max_height": null,
            "align_content": null,
            "visibility": null,
            "align_self": null,
            "height": null,
            "min_height": null,
            "padding": null,
            "grid_auto_rows": null,
            "grid_gap": null,
            "max_width": null,
            "order": null,
            "_view_module_version": "1.2.0",
            "grid_template_areas": null,
            "object_position": null,
            "object_fit": null,
            "grid_auto_columns": null,
            "margin": null,
            "display": null,
            "left": null
          }
        },
        "cd641032aaf94a43ae300c1f4c3f73cb": {
          "model_module": "@jupyter-widgets/controls",
          "model_name": "FloatProgressModel",
          "state": {
            "_view_name": "ProgressView",
            "style": "IPY_MODEL_fd211f931ce54d3f9498e0aa2df755b1",
            "_dom_classes": [],
            "description": "",
            "_model_name": "FloatProgressModel",
            "bar_style": "success",
            "max": 28881,
            "_view_module": "@jupyter-widgets/controls",
            "_model_module_version": "1.5.0",
            "value": 28881,
            "_view_count": null,
            "_view_module_version": "1.5.0",
            "orientation": "horizontal",
            "min": 0,
            "description_tooltip": null,
            "_model_module": "@jupyter-widgets/controls",
            "layout": "IPY_MODEL_b1c4ed9dc5a642a894781d00d2e7059a"
          }
        },
        "79c802a801e7476fb86b5c38209c7731": {
          "model_module": "@jupyter-widgets/controls",
          "model_name": "HTMLModel",
          "state": {
            "_view_name": "HTMLView",
            "style": "IPY_MODEL_61c16e4d2e264659b54d32ddfa62ffcf",
            "_dom_classes": [],
            "description": "",
            "_model_name": "HTMLModel",
            "placeholder": "​",
            "_view_module": "@jupyter-widgets/controls",
            "_model_module_version": "1.5.0",
            "value": " 29696/? [00:00&lt;00:00, 72987.20it/s]",
            "_view_count": null,
            "_view_module_version": "1.5.0",
            "description_tooltip": null,
            "_model_module": "@jupyter-widgets/controls",
            "layout": "IPY_MODEL_72f9fc6d623745e58f925f7e68c19887"
          }
        },
        "fd211f931ce54d3f9498e0aa2df755b1": {
          "model_module": "@jupyter-widgets/controls",
          "model_name": "ProgressStyleModel",
          "state": {
            "_view_name": "StyleView",
            "_model_name": "ProgressStyleModel",
            "description_width": "initial",
            "_view_module": "@jupyter-widgets/base",
            "_model_module_version": "1.5.0",
            "_view_count": null,
            "_view_module_version": "1.2.0",
            "bar_color": null,
            "_model_module": "@jupyter-widgets/controls"
          }
        },
        "b1c4ed9dc5a642a894781d00d2e7059a": {
          "model_module": "@jupyter-widgets/base",
          "model_name": "LayoutModel",
          "state": {
            "_view_name": "LayoutView",
            "grid_template_rows": null,
            "right": null,
            "justify_content": null,
            "_view_module": "@jupyter-widgets/base",
            "overflow": null,
            "_model_module_version": "1.2.0",
            "_view_count": null,
            "flex_flow": null,
            "width": null,
            "min_width": null,
            "border": null,
            "align_items": null,
            "bottom": null,
            "_model_module": "@jupyter-widgets/base",
            "top": null,
            "grid_column": null,
            "overflow_y": null,
            "overflow_x": null,
            "grid_auto_flow": null,
            "grid_area": null,
            "grid_template_columns": null,
            "flex": null,
            "_model_name": "LayoutModel",
            "justify_items": null,
            "grid_row": null,
            "max_height": null,
            "align_content": null,
            "visibility": null,
            "align_self": null,
            "height": null,
            "min_height": null,
            "padding": null,
            "grid_auto_rows": null,
            "grid_gap": null,
            "max_width": null,
            "order": null,
            "_view_module_version": "1.2.0",
            "grid_template_areas": null,
            "object_position": null,
            "object_fit": null,
            "grid_auto_columns": null,
            "margin": null,
            "display": null,
            "left": null
          }
        },
        "61c16e4d2e264659b54d32ddfa62ffcf": {
          "model_module": "@jupyter-widgets/controls",
          "model_name": "DescriptionStyleModel",
          "state": {
            "_view_name": "StyleView",
            "_model_name": "DescriptionStyleModel",
            "description_width": "",
            "_view_module": "@jupyter-widgets/base",
            "_model_module_version": "1.5.0",
            "_view_count": null,
            "_view_module_version": "1.2.0",
            "_model_module": "@jupyter-widgets/controls"
          }
        },
        "72f9fc6d623745e58f925f7e68c19887": {
          "model_module": "@jupyter-widgets/base",
          "model_name": "LayoutModel",
          "state": {
            "_view_name": "LayoutView",
            "grid_template_rows": null,
            "right": null,
            "justify_content": null,
            "_view_module": "@jupyter-widgets/base",
            "overflow": null,
            "_model_module_version": "1.2.0",
            "_view_count": null,
            "flex_flow": null,
            "width": null,
            "min_width": null,
            "border": null,
            "align_items": null,
            "bottom": null,
            "_model_module": "@jupyter-widgets/base",
            "top": null,
            "grid_column": null,
            "overflow_y": null,
            "overflow_x": null,
            "grid_auto_flow": null,
            "grid_area": null,
            "grid_template_columns": null,
            "flex": null,
            "_model_name": "LayoutModel",
            "justify_items": null,
            "grid_row": null,
            "max_height": null,
            "align_content": null,
            "visibility": null,
            "align_self": null,
            "height": null,
            "min_height": null,
            "padding": null,
            "grid_auto_rows": null,
            "grid_gap": null,
            "max_width": null,
            "order": null,
            "_view_module_version": "1.2.0",
            "grid_template_areas": null,
            "object_position": null,
            "object_fit": null,
            "grid_auto_columns": null,
            "margin": null,
            "display": null,
            "left": null
          }
        },
        "1713ddd953a945f4bfff083a57e831d3": {
          "model_module": "@jupyter-widgets/controls",
          "model_name": "HBoxModel",
          "state": {
            "_view_name": "HBoxView",
            "_dom_classes": [],
            "_model_name": "HBoxModel",
            "_view_module": "@jupyter-widgets/controls",
            "_model_module_version": "1.5.0",
            "_view_count": null,
            "_view_module_version": "1.5.0",
            "box_style": "",
            "layout": "IPY_MODEL_04cc9e19036a40d6af751e5d2cb40f3a",
            "_model_module": "@jupyter-widgets/controls",
            "children": [
              "IPY_MODEL_add5315a372e41b9a1570b9ec504e234",
              "IPY_MODEL_dd801d47f7e74b4dace2931351357ed9"
            ]
          }
        },
        "04cc9e19036a40d6af751e5d2cb40f3a": {
          "model_module": "@jupyter-widgets/base",
          "model_name": "LayoutModel",
          "state": {
            "_view_name": "LayoutView",
            "grid_template_rows": null,
            "right": null,
            "justify_content": null,
            "_view_module": "@jupyter-widgets/base",
            "overflow": null,
            "_model_module_version": "1.2.0",
            "_view_count": null,
            "flex_flow": null,
            "width": null,
            "min_width": null,
            "border": null,
            "align_items": null,
            "bottom": null,
            "_model_module": "@jupyter-widgets/base",
            "top": null,
            "grid_column": null,
            "overflow_y": null,
            "overflow_x": null,
            "grid_auto_flow": null,
            "grid_area": null,
            "grid_template_columns": null,
            "flex": null,
            "_model_name": "LayoutModel",
            "justify_items": null,
            "grid_row": null,
            "max_height": null,
            "align_content": null,
            "visibility": null,
            "align_self": null,
            "height": null,
            "min_height": null,
            "padding": null,
            "grid_auto_rows": null,
            "grid_gap": null,
            "max_width": null,
            "order": null,
            "_view_module_version": "1.2.0",
            "grid_template_areas": null,
            "object_position": null,
            "object_fit": null,
            "grid_auto_columns": null,
            "margin": null,
            "display": null,
            "left": null
          }
        },
        "add5315a372e41b9a1570b9ec504e234": {
          "model_module": "@jupyter-widgets/controls",
          "model_name": "FloatProgressModel",
          "state": {
            "_view_name": "ProgressView",
            "style": "IPY_MODEL_8adbcb67d6b14ba0a342d7e6bea2575b",
            "_dom_classes": [],
            "description": "",
            "_model_name": "FloatProgressModel",
            "bar_style": "success",
            "max": 1648877,
            "_view_module": "@jupyter-widgets/controls",
            "_model_module_version": "1.5.0",
            "value": 1648877,
            "_view_count": null,
            "_view_module_version": "1.5.0",
            "orientation": "horizontal",
            "min": 0,
            "description_tooltip": null,
            "_model_module": "@jupyter-widgets/controls",
            "layout": "IPY_MODEL_050070a445664264aa42a5bba842f2bf"
          }
        },
        "dd801d47f7e74b4dace2931351357ed9": {
          "model_module": "@jupyter-widgets/controls",
          "model_name": "HTMLModel",
          "state": {
            "_view_name": "HTMLView",
            "style": "IPY_MODEL_e9324da9170743278acb36cb53ddfe61",
            "_dom_classes": [],
            "description": "",
            "_model_name": "HTMLModel",
            "placeholder": "​",
            "_view_module": "@jupyter-widgets/controls",
            "_model_module_version": "1.5.0",
            "value": " 1649664/? [00:00&lt;00:00, 6720951.14it/s]",
            "_view_count": null,
            "_view_module_version": "1.5.0",
            "description_tooltip": null,
            "_model_module": "@jupyter-widgets/controls",
            "layout": "IPY_MODEL_b872e18a8b0d4b75a9d77c83d6e2a3ae"
          }
        },
        "8adbcb67d6b14ba0a342d7e6bea2575b": {
          "model_module": "@jupyter-widgets/controls",
          "model_name": "ProgressStyleModel",
          "state": {
            "_view_name": "StyleView",
            "_model_name": "ProgressStyleModel",
            "description_width": "initial",
            "_view_module": "@jupyter-widgets/base",
            "_model_module_version": "1.5.0",
            "_view_count": null,
            "_view_module_version": "1.2.0",
            "bar_color": null,
            "_model_module": "@jupyter-widgets/controls"
          }
        },
        "050070a445664264aa42a5bba842f2bf": {
          "model_module": "@jupyter-widgets/base",
          "model_name": "LayoutModel",
          "state": {
            "_view_name": "LayoutView",
            "grid_template_rows": null,
            "right": null,
            "justify_content": null,
            "_view_module": "@jupyter-widgets/base",
            "overflow": null,
            "_model_module_version": "1.2.0",
            "_view_count": null,
            "flex_flow": null,
            "width": null,
            "min_width": null,
            "border": null,
            "align_items": null,
            "bottom": null,
            "_model_module": "@jupyter-widgets/base",
            "top": null,
            "grid_column": null,
            "overflow_y": null,
            "overflow_x": null,
            "grid_auto_flow": null,
            "grid_area": null,
            "grid_template_columns": null,
            "flex": null,
            "_model_name": "LayoutModel",
            "justify_items": null,
            "grid_row": null,
            "max_height": null,
            "align_content": null,
            "visibility": null,
            "align_self": null,
            "height": null,
            "min_height": null,
            "padding": null,
            "grid_auto_rows": null,
            "grid_gap": null,
            "max_width": null,
            "order": null,
            "_view_module_version": "1.2.0",
            "grid_template_areas": null,
            "object_position": null,
            "object_fit": null,
            "grid_auto_columns": null,
            "margin": null,
            "display": null,
            "left": null
          }
        },
        "e9324da9170743278acb36cb53ddfe61": {
          "model_module": "@jupyter-widgets/controls",
          "model_name": "DescriptionStyleModel",
          "state": {
            "_view_name": "StyleView",
            "_model_name": "DescriptionStyleModel",
            "description_width": "",
            "_view_module": "@jupyter-widgets/base",
            "_model_module_version": "1.5.0",
            "_view_count": null,
            "_view_module_version": "1.2.0",
            "_model_module": "@jupyter-widgets/controls"
          }
        },
        "b872e18a8b0d4b75a9d77c83d6e2a3ae": {
          "model_module": "@jupyter-widgets/base",
          "model_name": "LayoutModel",
          "state": {
            "_view_name": "LayoutView",
            "grid_template_rows": null,
            "right": null,
            "justify_content": null,
            "_view_module": "@jupyter-widgets/base",
            "overflow": null,
            "_model_module_version": "1.2.0",
            "_view_count": null,
            "flex_flow": null,
            "width": null,
            "min_width": null,
            "border": null,
            "align_items": null,
            "bottom": null,
            "_model_module": "@jupyter-widgets/base",
            "top": null,
            "grid_column": null,
            "overflow_y": null,
            "overflow_x": null,
            "grid_auto_flow": null,
            "grid_area": null,
            "grid_template_columns": null,
            "flex": null,
            "_model_name": "LayoutModel",
            "justify_items": null,
            "grid_row": null,
            "max_height": null,
            "align_content": null,
            "visibility": null,
            "align_self": null,
            "height": null,
            "min_height": null,
            "padding": null,
            "grid_auto_rows": null,
            "grid_gap": null,
            "max_width": null,
            "order": null,
            "_view_module_version": "1.2.0",
            "grid_template_areas": null,
            "object_position": null,
            "object_fit": null,
            "grid_auto_columns": null,
            "margin": null,
            "display": null,
            "left": null
          }
        },
        "11829a772feb44c28bb1f76378ce6ddb": {
          "model_module": "@jupyter-widgets/controls",
          "model_name": "HBoxModel",
          "state": {
            "_view_name": "HBoxView",
            "_dom_classes": [],
            "_model_name": "HBoxModel",
            "_view_module": "@jupyter-widgets/controls",
            "_model_module_version": "1.5.0",
            "_view_count": null,
            "_view_module_version": "1.5.0",
            "box_style": "",
            "layout": "IPY_MODEL_9ca652ddc3fc46b39c8a80fd9ae08ef7",
            "_model_module": "@jupyter-widgets/controls",
            "children": [
              "IPY_MODEL_bd68d111629e49dfaf98c113706bc6e5",
              "IPY_MODEL_95eb5320b4254f4982c48857b2fc4bb1"
            ]
          }
        },
        "9ca652ddc3fc46b39c8a80fd9ae08ef7": {
          "model_module": "@jupyter-widgets/base",
          "model_name": "LayoutModel",
          "state": {
            "_view_name": "LayoutView",
            "grid_template_rows": null,
            "right": null,
            "justify_content": null,
            "_view_module": "@jupyter-widgets/base",
            "overflow": null,
            "_model_module_version": "1.2.0",
            "_view_count": null,
            "flex_flow": null,
            "width": null,
            "min_width": null,
            "border": null,
            "align_items": null,
            "bottom": null,
            "_model_module": "@jupyter-widgets/base",
            "top": null,
            "grid_column": null,
            "overflow_y": null,
            "overflow_x": null,
            "grid_auto_flow": null,
            "grid_area": null,
            "grid_template_columns": null,
            "flex": null,
            "_model_name": "LayoutModel",
            "justify_items": null,
            "grid_row": null,
            "max_height": null,
            "align_content": null,
            "visibility": null,
            "align_self": null,
            "height": null,
            "min_height": null,
            "padding": null,
            "grid_auto_rows": null,
            "grid_gap": null,
            "max_width": null,
            "order": null,
            "_view_module_version": "1.2.0",
            "grid_template_areas": null,
            "object_position": null,
            "object_fit": null,
            "grid_auto_columns": null,
            "margin": null,
            "display": null,
            "left": null
          }
        },
        "bd68d111629e49dfaf98c113706bc6e5": {
          "model_module": "@jupyter-widgets/controls",
          "model_name": "FloatProgressModel",
          "state": {
            "_view_name": "ProgressView",
            "style": "IPY_MODEL_a4860c1470b84159b21eeb19af06bd5d",
            "_dom_classes": [],
            "description": "",
            "_model_name": "FloatProgressModel",
            "bar_style": "success",
            "max": 4542,
            "_view_module": "@jupyter-widgets/controls",
            "_model_module_version": "1.5.0",
            "value": 4542,
            "_view_count": null,
            "_view_module_version": "1.5.0",
            "orientation": "horizontal",
            "min": 0,
            "description_tooltip": null,
            "_model_module": "@jupyter-widgets/controls",
            "layout": "IPY_MODEL_b40288f5d66642a2a647d5094d779485"
          }
        },
        "95eb5320b4254f4982c48857b2fc4bb1": {
          "model_module": "@jupyter-widgets/controls",
          "model_name": "HTMLModel",
          "state": {
            "_view_name": "HTMLView",
            "style": "IPY_MODEL_b775cf13deb94255b84514bf10ba62b6",
            "_dom_classes": [],
            "description": "",
            "_model_name": "HTMLModel",
            "placeholder": "​",
            "_view_module": "@jupyter-widgets/controls",
            "_model_module_version": "1.5.0",
            "value": " 5120/? [00:00&lt;00:00, 18233.15it/s]",
            "_view_count": null,
            "_view_module_version": "1.5.0",
            "description_tooltip": null,
            "_model_module": "@jupyter-widgets/controls",
            "layout": "IPY_MODEL_60614185a782458bbfba38e1bf61c62a"
          }
        },
        "a4860c1470b84159b21eeb19af06bd5d": {
          "model_module": "@jupyter-widgets/controls",
          "model_name": "ProgressStyleModel",
          "state": {
            "_view_name": "StyleView",
            "_model_name": "ProgressStyleModel",
            "description_width": "initial",
            "_view_module": "@jupyter-widgets/base",
            "_model_module_version": "1.5.0",
            "_view_count": null,
            "_view_module_version": "1.2.0",
            "bar_color": null,
            "_model_module": "@jupyter-widgets/controls"
          }
        },
        "b40288f5d66642a2a647d5094d779485": {
          "model_module": "@jupyter-widgets/base",
          "model_name": "LayoutModel",
          "state": {
            "_view_name": "LayoutView",
            "grid_template_rows": null,
            "right": null,
            "justify_content": null,
            "_view_module": "@jupyter-widgets/base",
            "overflow": null,
            "_model_module_version": "1.2.0",
            "_view_count": null,
            "flex_flow": null,
            "width": null,
            "min_width": null,
            "border": null,
            "align_items": null,
            "bottom": null,
            "_model_module": "@jupyter-widgets/base",
            "top": null,
            "grid_column": null,
            "overflow_y": null,
            "overflow_x": null,
            "grid_auto_flow": null,
            "grid_area": null,
            "grid_template_columns": null,
            "flex": null,
            "_model_name": "LayoutModel",
            "justify_items": null,
            "grid_row": null,
            "max_height": null,
            "align_content": null,
            "visibility": null,
            "align_self": null,
            "height": null,
            "min_height": null,
            "padding": null,
            "grid_auto_rows": null,
            "grid_gap": null,
            "max_width": null,
            "order": null,
            "_view_module_version": "1.2.0",
            "grid_template_areas": null,
            "object_position": null,
            "object_fit": null,
            "grid_auto_columns": null,
            "margin": null,
            "display": null,
            "left": null
          }
        },
        "b775cf13deb94255b84514bf10ba62b6": {
          "model_module": "@jupyter-widgets/controls",
          "model_name": "DescriptionStyleModel",
          "state": {
            "_view_name": "StyleView",
            "_model_name": "DescriptionStyleModel",
            "description_width": "",
            "_view_module": "@jupyter-widgets/base",
            "_model_module_version": "1.5.0",
            "_view_count": null,
            "_view_module_version": "1.2.0",
            "_model_module": "@jupyter-widgets/controls"
          }
        },
        "60614185a782458bbfba38e1bf61c62a": {
          "model_module": "@jupyter-widgets/base",
          "model_name": "LayoutModel",
          "state": {
            "_view_name": "LayoutView",
            "grid_template_rows": null,
            "right": null,
            "justify_content": null,
            "_view_module": "@jupyter-widgets/base",
            "overflow": null,
            "_model_module_version": "1.2.0",
            "_view_count": null,
            "flex_flow": null,
            "width": null,
            "min_width": null,
            "border": null,
            "align_items": null,
            "bottom": null,
            "_model_module": "@jupyter-widgets/base",
            "top": null,
            "grid_column": null,
            "overflow_y": null,
            "overflow_x": null,
            "grid_auto_flow": null,
            "grid_area": null,
            "grid_template_columns": null,
            "flex": null,
            "_model_name": "LayoutModel",
            "justify_items": null,
            "grid_row": null,
            "max_height": null,
            "align_content": null,
            "visibility": null,
            "align_self": null,
            "height": null,
            "min_height": null,
            "padding": null,
            "grid_auto_rows": null,
            "grid_gap": null,
            "max_width": null,
            "order": null,
            "_view_module_version": "1.2.0",
            "grid_template_areas": null,
            "object_position": null,
            "object_fit": null,
            "grid_auto_columns": null,
            "margin": null,
            "display": null,
            "left": null
          }
        }
      }
    }
  },
  "cells": [
    {
      "cell_type": "markdown",
      "metadata": {
        "id": "view-in-github",
        "colab_type": "text"
      },
      "source": [
        "<a href=\"https://colab.research.google.com/github/ASi-F/NLPlay-Checkpoint-1/blob/main/Logistic_Regression_with_PyTorch.ipynb\" target=\"_parent\"><img src=\"https://colab.research.google.com/assets/colab-badge.svg\" alt=\"Open In Colab\"/></a>"
      ]
    },
    {
      "cell_type": "markdown",
      "metadata": {
        "id": "KvZorBuyhrVi"
      },
      "source": [
        "torchvision is the library used for worki g with images in pytorch and provides helper classses to download datasets like MNIST automaically<br>\n",
        "MNIST contains 60,000 images for training and 10,000 images for testing"
      ]
    },
    {
      "cell_type": "code",
      "metadata": {
        "id": "L675umZ6hrVn"
      },
      "source": [
        "import torch\n",
        "import torchvision \n",
        "from torchvision.datasets import MNIST"
      ],
      "execution_count": null,
      "outputs": []
    },
    {
      "cell_type": "code",
      "metadata": {
        "colab": {
          "base_uri": "https://localhost:8080/",
          "height": 786,
          "referenced_widgets": [
            "abc27f83bd9740dabd697f865c3518a5",
            "cac1bfabf2f94339a4c86cc148e7a66b",
            "75ee7a803ceb4d59a1598d4e8d59eb13",
            "25e9903a0dde41a5a379445b316ea2aa",
            "a69d5d9eb72a40ab881932e8d08a1a7b",
            "54301c7248714d189892e632696f57e9",
            "ed98de207596468aa5a65f5dbb4e835d",
            "6939fae8c4bf41ab91dc1e4afb835e69",
            "3269374d6ee54bcdbe27313c61878380",
            "4e8f9e845aae4a7d87f4e97ecc282ee4",
            "cd641032aaf94a43ae300c1f4c3f73cb",
            "79c802a801e7476fb86b5c38209c7731",
            "fd211f931ce54d3f9498e0aa2df755b1",
            "b1c4ed9dc5a642a894781d00d2e7059a",
            "61c16e4d2e264659b54d32ddfa62ffcf",
            "72f9fc6d623745e58f925f7e68c19887",
            "1713ddd953a945f4bfff083a57e831d3",
            "04cc9e19036a40d6af751e5d2cb40f3a",
            "add5315a372e41b9a1570b9ec504e234",
            "dd801d47f7e74b4dace2931351357ed9",
            "8adbcb67d6b14ba0a342d7e6bea2575b",
            "050070a445664264aa42a5bba842f2bf",
            "e9324da9170743278acb36cb53ddfe61",
            "b872e18a8b0d4b75a9d77c83d6e2a3ae",
            "11829a772feb44c28bb1f76378ce6ddb",
            "9ca652ddc3fc46b39c8a80fd9ae08ef7",
            "bd68d111629e49dfaf98c113706bc6e5",
            "95eb5320b4254f4982c48857b2fc4bb1",
            "a4860c1470b84159b21eeb19af06bd5d",
            "b40288f5d66642a2a647d5094d779485",
            "b775cf13deb94255b84514bf10ba62b6",
            "60614185a782458bbfba38e1bf61c62a"
          ]
        },
        "id": "txZ3MnLxhrVo",
        "outputId": "6cd71340-a88a-430c-b4c1-aa23489fbb72"
      },
      "source": [
        "dataset = MNIST(root = 'data/', download = True)"
      ],
      "execution_count": null,
      "outputs": [
        {
          "output_type": "stream",
          "text": [
            "Downloading http://yann.lecun.com/exdb/mnist/train-images-idx3-ubyte.gz\n",
            "Downloading http://yann.lecun.com/exdb/mnist/train-images-idx3-ubyte.gz to data/MNIST/raw/train-images-idx3-ubyte.gz\n",
            "Failed to download (trying next):\n",
            "HTTP Error 503: Service Unavailable\n",
            "\n",
            "Downloading https://ossci-datasets.s3.amazonaws.com/mnist/train-images-idx3-ubyte.gz\n",
            "Downloading https://ossci-datasets.s3.amazonaws.com/mnist/train-images-idx3-ubyte.gz to data/MNIST/raw/train-images-idx3-ubyte.gz\n"
          ],
          "name": "stdout"
        },
        {
          "output_type": "display_data",
          "data": {
            "application/vnd.jupyter.widget-view+json": {
              "model_id": "abc27f83bd9740dabd697f865c3518a5",
              "version_minor": 0,
              "version_major": 2
            },
            "text/plain": [
              "HBox(children=(FloatProgress(value=0.0, max=9912422.0), HTML(value='')))"
            ]
          },
          "metadata": {
            "tags": []
          }
        },
        {
          "output_type": "stream",
          "text": [
            "\n",
            "Extracting data/MNIST/raw/train-images-idx3-ubyte.gz to data/MNIST/raw\n",
            "\n",
            "Downloading http://yann.lecun.com/exdb/mnist/train-labels-idx1-ubyte.gz\n",
            "Failed to download (trying next):\n",
            "HTTP Error 503: Service Unavailable\n",
            "\n",
            "Downloading https://ossci-datasets.s3.amazonaws.com/mnist/train-labels-idx1-ubyte.gz\n",
            "Downloading https://ossci-datasets.s3.amazonaws.com/mnist/train-labels-idx1-ubyte.gz to data/MNIST/raw/train-labels-idx1-ubyte.gz\n"
          ],
          "name": "stdout"
        },
        {
          "output_type": "display_data",
          "data": {
            "application/vnd.jupyter.widget-view+json": {
              "model_id": "3269374d6ee54bcdbe27313c61878380",
              "version_minor": 0,
              "version_major": 2
            },
            "text/plain": [
              "HBox(children=(FloatProgress(value=0.0, max=28881.0), HTML(value='')))"
            ]
          },
          "metadata": {
            "tags": []
          }
        },
        {
          "output_type": "stream",
          "text": [
            "\n",
            "Extracting data/MNIST/raw/train-labels-idx1-ubyte.gz to data/MNIST/raw\n",
            "\n",
            "Downloading http://yann.lecun.com/exdb/mnist/t10k-images-idx3-ubyte.gz\n",
            "Failed to download (trying next):\n",
            "HTTP Error 503: Service Unavailable\n",
            "\n",
            "Downloading https://ossci-datasets.s3.amazonaws.com/mnist/t10k-images-idx3-ubyte.gz\n",
            "Downloading https://ossci-datasets.s3.amazonaws.com/mnist/t10k-images-idx3-ubyte.gz to data/MNIST/raw/t10k-images-idx3-ubyte.gz\n"
          ],
          "name": "stdout"
        },
        {
          "output_type": "display_data",
          "data": {
            "application/vnd.jupyter.widget-view+json": {
              "model_id": "1713ddd953a945f4bfff083a57e831d3",
              "version_minor": 0,
              "version_major": 2
            },
            "text/plain": [
              "HBox(children=(FloatProgress(value=0.0, max=1648877.0), HTML(value='')))"
            ]
          },
          "metadata": {
            "tags": []
          }
        },
        {
          "output_type": "stream",
          "text": [
            "\n",
            "Extracting data/MNIST/raw/t10k-images-idx3-ubyte.gz to data/MNIST/raw\n",
            "\n",
            "Downloading http://yann.lecun.com/exdb/mnist/t10k-labels-idx1-ubyte.gz\n",
            "Downloading http://yann.lecun.com/exdb/mnist/t10k-labels-idx1-ubyte.gz to data/MNIST/raw/t10k-labels-idx1-ubyte.gz\n"
          ],
          "name": "stdout"
        },
        {
          "output_type": "display_data",
          "data": {
            "application/vnd.jupyter.widget-view+json": {
              "model_id": "11829a772feb44c28bb1f76378ce6ddb",
              "version_minor": 0,
              "version_major": 2
            },
            "text/plain": [
              "HBox(children=(FloatProgress(value=0.0, max=4542.0), HTML(value='')))"
            ]
          },
          "metadata": {
            "tags": []
          }
        },
        {
          "output_type": "stream",
          "text": [
            "\n",
            "Extracting data/MNIST/raw/t10k-labels-idx1-ubyte.gz to data/MNIST/raw\n",
            "\n",
            "Processing...\n",
            "Done!\n"
          ],
          "name": "stdout"
        },
        {
          "output_type": "stream",
          "text": [
            "/usr/local/lib/python3.7/dist-packages/torchvision/datasets/mnist.py:502: UserWarning: The given NumPy array is not writeable, and PyTorch does not support non-writeable tensors. This means you can write to the underlying (supposedly non-writeable) NumPy array using the tensor. You may want to copy the array to protect its data or make it writeable before converting it to a tensor. This type of warning will be suppressed for the rest of this program. (Triggered internally at  /pytorch/torch/csrc/utils/tensor_numpy.cpp:143.)\n",
            "  return torch.from_numpy(parsed.astype(m[2], copy=False)).view(*s)\n"
          ],
          "name": "stderr"
        }
      ]
    },
    {
      "cell_type": "code",
      "metadata": {
        "colab": {
          "base_uri": "https://localhost:8080/"
        },
        "id": "oGdlILEFhrVp",
        "outputId": "ccbb1a36-26ec-43aa-b0fa-768a0cfa997b"
      },
      "source": [
        "len(dataset) #dataset of 60,000 images"
      ],
      "execution_count": null,
      "outputs": [
        {
          "output_type": "execute_result",
          "data": {
            "text/plain": [
              "60000"
            ]
          },
          "metadata": {
            "tags": []
          },
          "execution_count": 4
        }
      ]
    },
    {
      "cell_type": "code",
      "metadata": {
        "colab": {
          "base_uri": "https://localhost:8080/"
        },
        "id": "IPSfPy9mhrVq",
        "outputId": "3c9e9d63-7440-4cb8-83ee-8d1ee3a0b02f"
      },
      "source": [
        "test_dataset = MNIST(root = 'data/', train = False)\n",
        "len(test_dataset) #test_dataset of 10,000 images"
      ],
      "execution_count": null,
      "outputs": [
        {
          "output_type": "execute_result",
          "data": {
            "text/plain": [
              "10000"
            ]
          },
          "metadata": {
            "tags": []
          },
          "execution_count": 5
        }
      ]
    },
    {
      "cell_type": "code",
      "metadata": {
        "colab": {
          "base_uri": "https://localhost:8080/"
        },
        "id": "2MV3DhEdhrVq",
        "outputId": "6e49fdec-15f0-4f4e-df9c-9619bc57f017"
      },
      "source": [
        "dataset[0]\n",
        "# eveiry element in dataset is a tuple consisting of an image and its tag"
      ],
      "execution_count": null,
      "outputs": [
        {
          "output_type": "execute_result",
          "data": {
            "text/plain": [
              "(<PIL.Image.Image image mode=L size=28x28 at 0x7F811E696250>, 5)"
            ]
          },
          "metadata": {
            "tags": []
          },
          "execution_count": 6
        }
      ]
    },
    {
      "cell_type": "markdown",
      "metadata": {
        "id": "XWZHLNzLhrVq"
      },
      "source": [
        "# using matplotlib to display the image\n",
        "lines beginning with % are called magic commands, are used to configure the behavior of jupyter. "
      ]
    },
    {
      "cell_type": "code",
      "metadata": {
        "id": "ZsRkKLlFhrVr"
      },
      "source": [
        "import matplotlib.pyplot as plt\n",
        "%matplotlib inline"
      ],
      "execution_count": null,
      "outputs": []
    },
    {
      "cell_type": "code",
      "metadata": {
        "colab": {
          "base_uri": "https://localhost:8080/",
          "height": 282
        },
        "id": "DWO47RLVhrVr",
        "outputId": "90649187-fb33-4525-d42c-1f032c77f083"
      },
      "source": [
        "import random\n",
        "image, label = dataset[random.randint(0,len(dataset))]\n",
        "plt.imshow(image, cmap = 'gray')\n",
        "print('Label:', label)"
      ],
      "execution_count": null,
      "outputs": [
        {
          "output_type": "stream",
          "text": [
            "Label: 9\n"
          ],
          "name": "stdout"
        },
        {
          "output_type": "display_data",
          "data": {
            "image/png": "[encoded data removed]",
            "text/plain": [
              "<Figure size 432x288 with 1 Axes>"
            ]
          },
          "metadata": {
            "tags": [],
            "needs_background": "light"
          }
        }
      ]
    },
    {
      "cell_type": "markdown",
      "metadata": {
        "id": "iCWzgRmuhrVr"
      },
      "source": [
        "We want pytorch to work with  images and hence we are imorting some transforms. <br>\n",
        "As of now the images are in a format called pillow. We use the **ToTensor** transform to convert the images into PyTorch tensors"
      ]
    },
    {
      "cell_type": "code",
      "metadata": {
        "id": "OFf6CtgkhrVs"
      },
      "source": [
        "import torchvision.transforms as transforms"
      ],
      "execution_count": null,
      "outputs": []
    },
    {
      "cell_type": "code",
      "metadata": {
        "colab": {
          "base_uri": "https://localhost:8080/"
        },
        "id": "kAPpm3yohrVs",
        "outputId": "817617f1-a1e8-44e3-9d49-8a0a046d2b49"
      },
      "source": [
        "dataset = MNIST(root = 'data/',\n",
        "                train = True,\n",
        "                transform = transforms.ToTensor())\n",
        "test_dataset = MNIST(root = 'data/',\n",
        "                train = False,\n",
        "                transform = transforms.ToTensor())\n",
        "len(dataset)"
      ],
      "execution_count": null,
      "outputs": [
        {
          "output_type": "execute_result",
          "data": {
            "text/plain": [
              "60000"
            ]
          },
          "metadata": {
            "tags": []
          },
          "execution_count": 10
        }
      ]
    },
    {
      "cell_type": "code",
      "metadata": {
        "colab": {
          "base_uri": "https://localhost:8080/"
        },
        "id": "XDEJJ8JKhrVs",
        "outputId": "16030700-399b-442a-bec4-976d9867ad0e"
      },
      "source": [
        "img_tensor, label = dataset[0]\n",
        "print(img_tensor.shape,label)"
      ],
      "execution_count": null,
      "outputs": [
        {
          "output_type": "stream",
          "text": [
            "torch.Size([1, 28, 28]) 5\n"
          ],
          "name": "stdout"
        }
      ]
    },
    {
      "cell_type": "markdown",
      "metadata": {
        "id": "cPh6aAnAhrVt"
      },
      "source": [
        "the image is now a 1\\*28\\*28 tensor corresponding to 28\\*28 pixels and grayscale values of 0 and 1"
      ]
    },
    {
      "cell_type": "code",
      "metadata": {
        "colab": {
          "base_uri": "https://localhost:8080/"
        },
        "id": "Zj5MuKxWhrVt",
        "outputId": "156b5d61-c5d2-456d-e0b5-f089eaa8518e"
      },
      "source": [
        "print(img_tensor[0,10:15,10:15])\n",
        "print(torch.max(img_tensor), torch.min(img_tensor))"
      ],
      "execution_count": null,
      "outputs": [
        {
          "output_type": "stream",
          "text": [
            "tensor([[0.0039, 0.6039, 0.9922, 0.3529, 0.0000],\n",
            "        [0.0000, 0.5451, 0.9922, 0.7451, 0.0078],\n",
            "        [0.0000, 0.0431, 0.7451, 0.9922, 0.2745],\n",
            "        [0.0000, 0.0000, 0.1373, 0.9451, 0.8824],\n",
            "        [0.0000, 0.0000, 0.0000, 0.3176, 0.9412]])\n",
            "tensor(1.) tensor(0.)\n"
          ],
          "name": "stdout"
        }
      ]
    },
    {
      "cell_type": "code",
      "metadata": {
        "colab": {
          "base_uri": "https://localhost:8080/",
          "height": 282
        },
        "id": "Gn9gjD8JhrVt",
        "outputId": "34c8a255-8f7e-4e83-e3ec-bd7225ec83ef"
      },
      "source": [
        "# plotting image stored in tensor\n",
        "plt.imshow(img_tensor[0,:15,:15], cmap = 'gray')"
      ],
      "execution_count": null,
      "outputs": [
        {
          "output_type": "execute_result",
          "data": {
            "text/plain": [
              "<matplotlib.image.AxesImage at 0x7f81715db650>"
            ]
          },
          "metadata": {
            "tags": []
          },
          "execution_count": 13
        },
        {
          "output_type": "display_data",
          "data": {
            "image/png": "[encoded data removed]",
            "text/plain": [
              "<Figure size 432x288 with 1 Axes>"
            ]
          },
          "metadata": {
            "tags": [],
            "needs_background": "light"
          }
        }
      ]
    },
    {
      "cell_type": "markdown",
      "metadata": {
        "id": "ToVIy80GhrVu"
      },
      "source": [
        "# Traing an dvalidating\n",
        "The dataset is sually split into 3 part:\n",
        "- **Training set** used to train the model\n",
        "- **Validation set** used to evaluate the model (like practice test cases)\n",
        "- **Test set** used to compare the model efficiency against this standardized set\n",
        "There are 60k training images and 10k test images, we split the training set into into 50k for training and 10k for validation using random_split method from PyTorch"
      ]
    },
    {
      "cell_type": "code",
      "metadata": {
        "colab": {
          "base_uri": "https://localhost:8080/"
        },
        "id": "e-nt8uUfhrVu",
        "outputId": "987c788c-19dd-44e4-fdfd-c107d155fdf0"
      },
      "source": [
        "from torch.utils.data import random_split\n",
        "\n",
        "train_ds, val_ds = random_split(dataset, [50000,10000])\n",
        "len(train_ds), len(val_ds)"
      ],
      "execution_count": null,
      "outputs": [
        {
          "output_type": "execute_result",
          "data": {
            "text/plain": [
              "(50000, 10000)"
            ]
          },
          "metadata": {
            "tags": []
          },
          "execution_count": 14
        }
      ]
    },
    {
      "cell_type": "code",
      "metadata": {
        "id": "IphNRs62hrVu"
      },
      "source": [
        "# creating data loaders to help load data in batches\n",
        "from torch.utils.data import DataLoader\n",
        "\n",
        "batch_size = 100\n",
        "\n",
        "train_loader = DataLoader(train_ds, batch_size, shuffle= True)\n",
        "val_loader = DataLoader(val_ds, batch_size) "
      ],
      "execution_count": null,
      "outputs": []
    },
    {
      "cell_type": "markdown",
      "metadata": {
        "id": "VRcnS-n4hrVu"
      },
      "source": [
        "# What have we defined till now?\n",
        "We created a **dataset** of MNIST conisting of tuples of image tensors and and labels<br>\n",
        "Created a **test_dataset** of 10k images and labels <br>\n",
        "Created a **train_ds** and a **val_ds** by splitting the dataset into 50k and 10k examples randomly <br>\n",
        "Created **DataLoaders train_loader and val_loader**  for **train_ds** and **val_ds** by spliiting into shuffled batches of size 100.<br>\n",
        "Each element of the dataloader is a set batchsize number of of 1X28X28 image tensors and labels"
      ]
    },
    {
      "cell_type": "markdown",
      "metadata": {
        "id": "519iwaAAhrVv"
      },
      "source": [
        "# Model \n",
        "- logistic regression is similar to linear regression. pred = x @ w.t() + b\n",
        "- we will still use nn.Linear to create weights biases and forward() functions\n",
        "- Every image needs to bflattened to a pulp, a linear vector \n",
        "- There are total of 28\\*28 features corresponding to each image and a total of 10 outputs corresponing to the linear model\n",
        "- The outputs are converted to the probabilies with help of softmax function\n",
        "- The loss function accordingly is using logarithm. summation(target\\*log(pred)) for each image this is called **cross_entropy**"
      ]
    },
    {
      "cell_type": "code",
      "metadata": {
        "id": "t5jS5FzzhrVv"
      },
      "source": [
        "import torch.nn as nn\n",
        "\n",
        "input_size = 28*28 \n",
        "num_classes = 10\n",
        "\n",
        "model = nn.Linear(input_size,num_classes)"
      ],
      "execution_count": null,
      "outputs": []
    },
    {
      "cell_type": "code",
      "metadata": {
        "colab": {
          "base_uri": "https://localhost:8080/"
        },
        "id": "zlD7WojYhrVv",
        "outputId": "2fe48744-fc08-4a4d-8b46-f2a9b9d4393f"
      },
      "source": [
        "print(model.weight.shape)\n",
        "print(model.bias.shape)"
      ],
      "execution_count": null,
      "outputs": [
        {
          "output_type": "stream",
          "text": [
            "torch.Size([10, 784])\n",
            "torch.Size([10])\n"
          ],
          "name": "stdout"
        }
      ]
    },
    {
      "cell_type": "code",
      "metadata": {
        "colab": {
          "base_uri": "https://localhost:8080/"
        },
        "id": "T64ahOfHhrVv",
        "outputId": "66fbeaff-9646-46ff-f9f3-522d5f6a73ea"
      },
      "source": [
        "for images,labels in train_loader:\n",
        "    print(images.shape)\n",
        "    print(labels.shape)\n",
        "    break"
      ],
      "execution_count": null,
      "outputs": [
        {
          "output_type": "stream",
          "text": [
            "torch.Size([100, 1, 28, 28])\n",
            "torch.Size([100])\n"
          ],
          "name": "stdout"
        }
      ]
    },
    {
      "cell_type": "markdown",
      "metadata": {
        "id": "Da5aAYTAhrVw"
      },
      "source": [
        "# Creating a new model derived from nn.Linear\n",
        "Now nn.linear works only with vectors an our data points here aare matrices.<br>\n",
        "Hence we derive a new model class from nn.Linear in order to account for this.<br>\n",
        "Inside the _ \\_init_ \\_ constructor method, we instantiate the weights and biases using nn.Linear. And inside the forward method, which is invoked when we pass a batch of inputs to the model, we flatten the input tensor and pass it into self.linear.<br>"
      ]
    },
    {
      "cell_type": "code",
      "metadata": {
        "id": "OgGrJ5uShrVw"
      },
      "source": [
        "class MnistModel(nn.Module):\n",
        "    def __init__(self):\n",
        "        super().__init__()\n",
        "        self.linear = nn.Linear(input_size, num_classes)\n",
        "        \n",
        "    def forward(self, xb):\n",
        "        xb = xb.reshape(-1,input_size)\n",
        "        out = self.linear(xb)\n",
        "        return out\n",
        "\n",
        "model = MnistModel()"
      ],
      "execution_count": null,
      "outputs": []
    },
    {
      "cell_type": "code",
      "metadata": {
        "colab": {
          "base_uri": "https://localhost:8080/"
        },
        "id": "dEm8tnGShrVw",
        "outputId": "dccfd3bf-f84f-4c87-a6e1-0fd155caedd3"
      },
      "source": [
        "model.linear"
      ],
      "execution_count": null,
      "outputs": [
        {
          "output_type": "execute_result",
          "data": {
            "text/plain": [
              "Linear(in_features=784, out_features=10, bias=True)"
            ]
          },
          "metadata": {
            "tags": []
          },
          "execution_count": 20
        }
      ]
    },
    {
      "cell_type": "code",
      "metadata": {
        "colab": {
          "base_uri": "https://localhost:8080/"
        },
        "id": "vXaObGEohrVw",
        "outputId": "afd4feb1-efee-4d76-ec55-d8a187515c7a"
      },
      "source": [
        "print(model.linear.weight.shape, model.linear.bias.shape)\n",
        "list(model.parameters())"
      ],
      "execution_count": null,
      "outputs": [
        {
          "output_type": "stream",
          "text": [
            "torch.Size([10, 784]) torch.Size([10])\n"
          ],
          "name": "stdout"
        },
        {
          "output_type": "execute_result",
          "data": {
            "text/plain": [
              "[Parameter containing:\n",
              " tensor([[ 0.0232, -0.0262,  0.0210,  ...,  0.0105,  0.0108,  0.0004],\n",
              "         [-0.0009,  0.0106, -0.0341,  ...,  0.0268,  0.0124, -0.0240],\n",
              "         [-0.0344,  0.0317,  0.0160,  ...,  0.0059,  0.0138,  0.0040],\n",
              "         ...,\n",
              "         [-0.0041,  0.0086,  0.0197,  ..., -0.0063,  0.0190,  0.0260],\n",
              "         [ 0.0041,  0.0059,  0.0315,  ...,  0.0147, -0.0186, -0.0301],\n",
              "         [-0.0073,  0.0272, -0.0349,  ...,  0.0132, -0.0086,  0.0090]],\n",
              "        requires_grad=True), Parameter containing:\n",
              " tensor([-0.0201,  0.0323, -0.0343, -0.0079, -0.0270, -0.0139, -0.0006, -0.0178,\n",
              "         -0.0322, -0.0050], requires_grad=True)]"
            ]
          },
          "metadata": {
            "tags": []
          },
          "execution_count": 21
        }
      ]
    },
    {
      "cell_type": "markdown",
      "metadata": {
        "id": "-Wo50NEnhrVx"
      },
      "source": [
        "# Cost funnction and conversion of predictions into probabilities"
      ]
    },
    {
      "cell_type": "code",
      "metadata": {
        "id": "iH33dERKhrVx"
      },
      "source": [
        "import torch.nn.functional as F"
      ],
      "execution_count": null,
      "outputs": []
    },
    {
      "cell_type": "code",
      "metadata": {
        "colab": {
          "base_uri": "https://localhost:8080/"
        },
        "id": "p8p0TpH0hrVx",
        "outputId": "b02758b0-f50f-456e-cdfc-4725a326fd88"
      },
      "source": [
        "for images, labels in train_loader:\n",
        "    outputs = model(images)\n",
        "    break\n",
        "\n",
        "print('outputs contains the set of 10 outputs for each image in the batch')\n",
        "print(outputs.shape)"
      ],
      "execution_count": null,
      "outputs": [
        {
          "output_type": "stream",
          "text": [
            "outputs contains the set of 10 outputs for each image in the batch\n",
            "torch.Size([100, 10])\n"
          ],
          "name": "stdout"
        }
      ]
    },
    {
      "cell_type": "code",
      "metadata": {
        "colab": {
          "base_uri": "https://localhost:8080/"
        },
        "id": "E20wrKiVhrVx",
        "outputId": "823c3871-ee8f-49c5-bb8e-90dde4c6274b"
      },
      "source": [
        "print('10 outputs for first image : ',(outputs[0]),sep = '\\n')"
      ],
      "execution_count": null,
      "outputs": [
        {
          "output_type": "stream",
          "text": [
            "10 outputs for first image : \n",
            "tensor([-0.1864, -0.1175,  0.0744, -0.0803,  0.0243,  0.1138,  0.2652,  0.0395,\n",
            "        -0.1258,  0.0260], grad_fn=<SelectBackward>)\n"
          ],
          "name": "stdout"
        }
      ]
    },
    {
      "cell_type": "code",
      "metadata": {
        "colab": {
          "base_uri": "https://localhost:8080/"
        },
        "id": "L9n2Knr_hrVy",
        "outputId": "22357d22-3b42-44b6-ba2b-f6c8c4ff372e"
      },
      "source": [
        "# applying softmax to calculate probability corresponding to each output\n",
        "probs = F.softmax(outputs, dim = 1)\n",
        "\n",
        "# probabilities of the number in image being corresponding to each number from 0 - 10\n",
        "print(probs[0].data)\n",
        "\n",
        "# total probability\n",
        "print('Sum:', torch.sum(probs[0]).item())"
      ],
      "execution_count": null,
      "outputs": [
        {
          "output_type": "stream",
          "text": [
            "tensor([0.0820, 0.0879, 0.1065, 0.0912, 0.1013, 0.1108, 0.1289, 0.1028, 0.0872,\n",
            "        0.1015])\n",
            "Sum: 1.0000001192092896\n"
          ],
          "name": "stdout"
        }
      ]
    },
    {
      "cell_type": "code",
      "metadata": {
        "colab": {
          "base_uri": "https://localhost:8080/"
        },
        "id": "BqOil6EMhrVy",
        "outputId": "eee58f70-4f1c-4ff6-a250-5d5fa66afd1a"
      },
      "source": [
        "# time to check our bull shit predictions\n",
        "max_probs, preds = torch.max(probs, dim=1)\n",
        "print(preds)\n",
        "for images,labels in train_loader:\n",
        "    print(labels)\n",
        "    break"
      ],
      "execution_count": null,
      "outputs": [
        {
          "output_type": "stream",
          "text": [
            "tensor([6, 7, 5, 8, 5, 8, 3, 4, 8, 4, 4, 8, 8, 7, 7, 5, 0, 7, 7, 5, 5, 4, 3, 0,\n",
            "        2, 5, 7, 5, 7, 0, 7, 7, 5, 8, 4, 7, 0, 7, 4, 9, 7, 5, 5, 7, 7, 7, 0, 3,\n",
            "        4, 3, 6, 9, 8, 0, 3, 5, 6, 5, 8, 2, 7, 8, 7, 8, 4, 6, 6, 7, 6, 3, 3, 6,\n",
            "        0, 5, 7, 5, 3, 1, 7, 0, 7, 5, 3, 8, 5, 6, 3, 7, 5, 3, 7, 0, 0, 5, 5, 6,\n",
            "        0, 5, 2, 7])\n",
            "tensor([6, 8, 3, 8, 3, 5, 6, 6, 1, 9, 9, 7, 2, 1, 0, 2, 6, 0, 1, 8, 4, 9, 0, 2,\n",
            "        9, 7, 6, 3, 9, 2, 1, 1, 1, 2, 1, 2, 4, 4, 8, 3, 0, 0, 3, 5, 3, 9, 7, 8,\n",
            "        6, 2, 2, 3, 1, 3, 1, 7, 0, 3, 4, 3, 0, 0, 9, 9, 0, 4, 0, 1, 6, 5, 3, 1,\n",
            "        0, 9, 0, 7, 9, 2, 3, 9, 0, 6, 3, 1, 4, 1, 0, 5, 8, 2, 8, 0, 5, 3, 9, 2,\n",
            "        8, 0, 7, 3])\n"
          ],
          "name": "stdout"
        }
      ]
    },
    {
      "cell_type": "code",
      "metadata": {
        "id": "lf01JA2ZhrVy"
      },
      "source": [
        "# calculating accuracy\n",
        "def accuracy(outputs, labels):\n",
        "    _, preds = torch.max(outputs, dim =1)\n",
        "    return torch.sum(preds == labels) / len(preds)\n",
        "\n",
        "# preds == labels is a r=tensor of same shape as both, having 1 where\n",
        "# elements are equal and 0 where unequal"
      ],
      "execution_count": null,
      "outputs": []
    },
    {
      "cell_type": "code",
      "metadata": {
        "colab": {
          "base_uri": "https://localhost:8080/"
        },
        "id": "ntUG_r8rhrVy",
        "outputId": "ab514ec4-2253-4854-e541-437914ccf35d"
      },
      "source": [
        "accuracy(outputs, labels)"
      ],
      "execution_count": null,
      "outputs": [
        {
          "output_type": "execute_result",
          "data": {
            "text/plain": [
              "tensor(0.0700)"
            ]
          },
          "metadata": {
            "tags": []
          },
          "execution_count": 28
        }
      ]
    },
    {
      "cell_type": "code",
      "metadata": {
        "id": "aMi1wan9hrVz"
      },
      "source": [
        "cost_fn = F.cross_entropy"
      ],
      "execution_count": null,
      "outputs": []
    },
    {
      "cell_type": "code",
      "metadata": {
        "colab": {
          "base_uri": "https://localhost:8080/"
        },
        "id": "7AwABTjGhrVz",
        "outputId": "0532248e-385f-4b29-b190-fafd6b162c42"
      },
      "source": [
        "# Loss for current data batch\n",
        "loss = cost_fn(outputs, labels)\n",
        "print(loss)\n",
        "print('here e^-loss is the probabilty of the output being right')"
      ],
      "execution_count": null,
      "outputs": [
        {
          "output_type": "stream",
          "text": [
            "tensor(2.3231, grad_fn=<NllLossBackward>)\n",
            "here e^-loss is the probabilty of the output being right\n"
          ],
          "name": "stdout"
        }
      ]
    },
    {
      "cell_type": "markdown",
      "metadata": {
        "id": "ZmJi_tsahrV0"
      },
      "source": [
        "# Training the model"
      ]
    },
    {
      "cell_type": "code",
      "metadata": {
        "id": "gUFULff9hrV0"
      },
      "source": [
        "def fit(model,cost_fn,lr,train_loader,val_loader,opt_func=torch.optim.SGD):\n",
        "    optimizer = opt_func(model.parameters(), lr)\n",
        "    thr = 1e-1\n",
        "    for i in range(100):\n",
        "        for images, labels in train_loader:\n",
        "            # 1. Calculate predictions\n",
        "            preds = model(images)\n",
        "            loss = cost_fn(preds, labels)\n",
        "            loss.backward()\n",
        "            optimizer.step()\n",
        "            optimizer.zero_grad()            "
      ],
      "execution_count": null,
      "outputs": []
    },
    {
      "cell_type": "code",
      "metadata": {
        "id": "q-5v_xyMhrV0"
      },
      "source": [
        "def valid8(model, test_dataset):\n",
        "    hist = []\n",
        "    t_count = []\n",
        "    for a0 in range(10):\n",
        "      hist.append(0)\n",
        "      t_count.append(0)\n",
        "    acc = 0\n",
        "    count = 0\n",
        "    for i in range(len(test_dataset)):\n",
        "        image, label = test_dataset[i]\n",
        "        x = image.unsqueeze(0)\n",
        "        y = model(x)\n",
        "        _, preds = torch.max(y,dim=1)\n",
        "        if preds[0].item()==label:\n",
        "            acc += 1\n",
        "            hist[label]+=1\n",
        "        count+=1\n",
        "        t_count[label]+=1\n",
        "    acc /= count\n",
        "    for i in range(10):\n",
        "      hist[i] /= t_count[i]\n",
        "    return acc,hist"
      ],
      "execution_count": null,
      "outputs": []
    },
    {
      "cell_type": "code",
      "metadata": {
        "id": "rPS4GXg0hrV0"
      },
      "source": [
        "fit(model,cost_fn,1e-3,train_loader,val_loader)"
      ],
      "execution_count": null,
      "outputs": []
    },
    {
      "cell_type": "code",
      "metadata": {
        "colab": {
          "base_uri": "https://localhost:8080/"
        },
        "id": "kWeP0qk1hrV1",
        "outputId": "63eceffb-e246-4651-f821-7f776972cc01"
      },
      "source": [
        "acc, hist = valid8(model,test_dataset)\n",
        "import copy\n",
        "temp = copy.copy(hist)\n",
        "temp.sort()\n",
        "print(acc*100,'%')\n",
        "for i in range(10):\n",
        "  print(hist.index(temp[i]),': ',temp[i]*100,'%')"
      ],
      "execution_count": null,
      "outputs": [
        {
          "output_type": "stream",
          "text": [
            "90.08 %\n",
            "5 :  82.62331838565022 %\n",
            "2 :  85.17441860465115 %\n",
            "8 :  86.24229979466119 %\n",
            "9 :  86.7195242814668 %\n",
            "3 :  89.10891089108911 %\n",
            "7 :  89.2023346303502 %\n",
            "4 :  91.85336048879837 %\n",
            "6 :  93.42379958246346 %\n",
            "1 :  97.18061674008811 %\n",
            "0 :  97.95918367346938 %\n"
          ],
          "name": "stdout"
        }
      ]
    },
    {
      "cell_type": "code",
      "metadata": {
        "id": "UPhYd-rv7-ad"
      },
      "source": [
        "def testing():\n",
        "    exm = test_dataset[random.randint(0,len(test_dataset))]\n",
        "    plt.imshow(exm[0][0], cmap = 'gray')\n",
        "    x = exm[0].unsqueeze(0)\n",
        "    y = model(x)\n",
        "    _, preds = torch.max(y, dim=1)\n",
        "    if preds[0].item()== exm[1]:\n",
        "        testing()\n",
        "    else:\n",
        "        print(preds[0].item(),exm[1])"
      ],
      "execution_count": null,
      "outputs": []
    },
    {
      "cell_type": "code",
      "metadata": {
        "colab": {
          "base_uri": "https://localhost:8080/"
        },
        "id": "zDSeFREA8F8G",
        "outputId": "4328a3fa-305f-48ab-f5ea-2128e5ba5cb0"
      },
      "source": [
        "testing()"
      ],
      "execution_count": null,
      "outputs": [
        {
          "output_type": "stream",
          "text": [
            "0 5\n"
          ],
          "name": "stdout"
        },
        {
          "output_type": "display_data",
          "data": {
            "image/png": "[encoded data removed]",
            "text/plain": [
              "<Figure size 432x288 with 1 Axes>"
            ]
          },
          "metadata": {
            "tags": [],
            "needs_background": "light"
          }
        }
      ]
    },
    {
      "cell_type": "code",
      "metadata": {
        "id": "Wib9gAA58IDD"
      },
      "source": [
        ""
      ],
      "execution_count": null,
      "outputs": []
    }
  ]
}
