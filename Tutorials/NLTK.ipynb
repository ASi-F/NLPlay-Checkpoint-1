{
  "nbformat": 4,
  "nbformat_minor": 0,
  "metadata": {
    "kernelspec": {
      "display_name": "Python 3",
      "language": "python",
      "name": "python3"
    },
    "language_info": {
      "codemirror_mode": {
        "name": "ipython",
        "version": 3
      },
      "file_extension": ".py",
      "mimetype": "text/x-python",
      "name": "python",
      "nbconvert_exporter": "python",
      "pygments_lexer": "ipython3",
      "version": "3.8.5"
    },
    "colab": {
      "name": "NLTK.ipynb",
      "provenance": [],
      "include_colab_link": true
    }
  },
  "cells": [
    {
      "cell_type": "markdown",
      "metadata": {
        "id": "view-in-github",
        "colab_type": "text"
      },
      "source": [
        "<a href=\"https://colab.research.google.com/github/ASi-F/NLPlay-Checkpoint-1/blob/main/NLTK.ipynb\" target=\"_parent\"><img src=\"https://colab.research.google.com/assets/colab-badge.svg\" alt=\"Open In Colab\"/></a>"
      ]
    },
    {
      "cell_type": "code",
      "metadata": {
        "id": "VtmgNjnkNCl9"
      },
      "source": [
        "import nltk"
      ],
      "execution_count": null,
      "outputs": []
    },
    {
      "cell_type": "code",
      "metadata": {
        "id": "tRuCWzzvNCmC",
        "outputId": "ee9990a2-8c10-4d9d-caf6-ae29097dd6c2"
      },
      "source": [
        "text = \"Once upon a time, in the kingdom of Macedonia, there lived a princess named Macbeth. She was the only daughter of the king and the heir to the throne. One day an evil witch casted a spell on her and turned her into a tree. The king and the queen created the royal garden around their daughter and nurtured her. \"\n",
        "tokens = nltk.sent_tokenize(text)\n",
        "for k in tokens:\n",
        "    print(k)"
      ],
      "execution_count": null,
      "outputs": [
        {
          "output_type": "stream",
          "text": [
            "Once upon a time, in the kingdom of Macedonia, there lived a princess named Macbeth.\n",
            "She was the only daughter of the king and the heir to the throne.\n",
            "One day an evil witch casted a spell on her and turned her into a tree.\n",
            "The king and the queen created the royal garden around their daughter and nurtured her.\n"
          ],
          "name": "stdout"
        }
      ]
    },
    {
      "cell_type": "code",
      "metadata": {
        "id": "e10bVTVcNCmF",
        "outputId": "97415608-0722-4628-90f9-1df12d1edf12"
      },
      "source": [
        "tokens = nltk.word_tokenize(text)\n",
        "print(tokens)"
      ],
      "execution_count": null,
      "outputs": [
        {
          "output_type": "stream",
          "text": [
            "['Once', 'upon', 'a', 'time', ',', 'in', 'the', 'kingdom', 'of', 'Macedonia', ',', 'there', 'lived', 'a', 'princess', 'named', 'Macbeth', '.', 'She', 'was', 'the', 'only', 'daughter', 'of', 'the', 'king', 'and', 'the', 'heir', 'to', 'the', 'throne', '.', 'One', 'day', 'an', 'evil', 'witch', 'casted', 'a', 'spell', 'on', 'her', 'and', 'turned', 'her', 'into', 'a', 'tree', '.', 'The', 'king', 'and', 'the', 'queen', 'created', 'the', 'royal', 'garden', 'around', 'their', 'daughter', 'and', 'nurtured', 'her', '.']\n"
          ],
          "name": "stdout"
        }
      ]
    },
    {
      "cell_type": "code",
      "metadata": {
        "id": "oLY-8J1vNCmF",
        "outputId": "726209f4-d427-4cad-c46a-833f4669e13f"
      },
      "source": [
        "for k in tokens:\n",
        "    if k not in nltk.corpus.stopwords.words():\n",
        "        print(k,end = \" \")"
      ],
      "execution_count": null,
      "outputs": [
        {
          "output_type": "stream",
          "text": [
            "Once upon time , kingdom Macedonia , lived princess named Macbeth . She daughter king heir throne . One day evil witch casted spell turned tree . The king queen created royal garden around daughter nurtured . "
          ],
          "name": "stdout"
        }
      ]
    },
    {
      "cell_type": "code",
      "metadata": {
        "id": "wRMpqQCKNCmH",
        "outputId": "8470d7eb-7b8a-427b-d52f-435be98b0303"
      },
      "source": [
        "for k in nltk.pos_tag(tokens):\n",
        "    print((k[0],k[1],nltk.help.upenn_tagset(k[1])))"
      ],
      "execution_count": null,
      "outputs": [
        {
          "output_type": "stream",
          "text": [
            "RB: adverb\n",
            "    occasionally unabatingly maddeningly adventurously professedly\n",
            "    stirringly prominently technologically magisterially predominately\n",
            "    swiftly fiscally pitilessly ...\n",
            "('Once', 'RB', None)\n",
            "IN: preposition or conjunction, subordinating\n",
            "    astride among uppon whether out inside pro despite on by throughout\n",
            "    below within for towards near behind atop around if like until below\n",
            "    next into if beside ...\n",
            "('upon', 'IN', None)\n",
            "DT: determiner\n",
            "    all an another any both del each either every half la many much nary\n",
            "    neither no some such that the them these this those\n",
            "('a', 'DT', None)\n",
            "NN: noun, common, singular or mass\n",
            "    common-carrier cabbage knuckle-duster Casino afghan shed thermostat\n",
            "    investment slide humour falloff slick wind hyena override subhumanity\n",
            "    machinist ...\n",
            "('time', 'NN', None)\n",
            ",: comma\n",
            "    ,\n",
            "(',', ',', None)\n",
            "IN: preposition or conjunction, subordinating\n",
            "    astride among uppon whether out inside pro despite on by throughout\n",
            "    below within for towards near behind atop around if like until below\n",
            "    next into if beside ...\n",
            "('in', 'IN', None)\n",
            "DT: determiner\n",
            "    all an another any both del each either every half la many much nary\n",
            "    neither no some such that the them these this those\n",
            "('the', 'DT', None)\n",
            "NN: noun, common, singular or mass\n",
            "    common-carrier cabbage knuckle-duster Casino afghan shed thermostat\n",
            "    investment slide humour falloff slick wind hyena override subhumanity\n",
            "    machinist ...\n",
            "('kingdom', 'NN', None)\n",
            "IN: preposition or conjunction, subordinating\n",
            "    astride among uppon whether out inside pro despite on by throughout\n",
            "    below within for towards near behind atop around if like until below\n",
            "    next into if beside ...\n",
            "('of', 'IN', None)\n",
            "NNP: noun, proper, singular\n",
            "    Motown Venneboerger Czestochwa Ranzer Conchita Trumplane Christos\n",
            "    Oceanside Escobar Kreisler Sawyer Cougar Yvette Ervin ODI Darryl CTCA\n",
            "    Shannon A.K.C. Meltex Liverpool ...\n",
            "('Macedonia', 'NNP', None)\n",
            ",: comma\n",
            "    ,\n",
            "(',', ',', None)\n",
            "EX: existential there\n",
            "    there\n",
            "('there', 'EX', None)\n",
            "VBD: verb, past tense\n",
            "    dipped pleaded swiped regummed soaked tidied convened halted registered\n",
            "    cushioned exacted snubbed strode aimed adopted belied figgered\n",
            "    speculated wore appreciated contemplated ...\n",
            "('lived', 'VBD', None)\n",
            "DT: determiner\n",
            "    all an another any both del each either every half la many much nary\n",
            "    neither no some such that the them these this those\n",
            "('a', 'DT', None)\n",
            "NN: noun, common, singular or mass\n",
            "    common-carrier cabbage knuckle-duster Casino afghan shed thermostat\n",
            "    investment slide humour falloff slick wind hyena override subhumanity\n",
            "    machinist ...\n",
            "('princess', 'NN', None)\n",
            "VBN: verb, past participle\n",
            "    multihulled dilapidated aerosolized chaired languished panelized used\n",
            "    experimented flourished imitated reunifed factored condensed sheared\n",
            "    unsettled primed dubbed desired ...\n",
            "('named', 'VBN', None)\n",
            "NNP: noun, proper, singular\n",
            "    Motown Venneboerger Czestochwa Ranzer Conchita Trumplane Christos\n",
            "    Oceanside Escobar Kreisler Sawyer Cougar Yvette Ervin ODI Darryl CTCA\n",
            "    Shannon A.K.C. Meltex Liverpool ...\n",
            "('Macbeth', 'NNP', None)\n",
            ".: sentence terminator\n",
            "    . ! ?\n",
            "('.', '.', None)\n",
            "PRP: pronoun, personal\n",
            "    hers herself him himself hisself it itself me myself one oneself ours\n",
            "    ourselves ownself self she thee theirs them themselves they thou thy us\n",
            "('She', 'PRP', None)\n",
            "VBD: verb, past tense\n",
            "    dipped pleaded swiped regummed soaked tidied convened halted registered\n",
            "    cushioned exacted snubbed strode aimed adopted belied figgered\n",
            "    speculated wore appreciated contemplated ...\n",
            "('was', 'VBD', None)\n",
            "DT: determiner\n",
            "    all an another any both del each either every half la many much nary\n",
            "    neither no some such that the them these this those\n",
            "('the', 'DT', None)\n",
            "JJ: adjective or numeral, ordinal\n",
            "    third ill-mannered pre-war regrettable oiled calamitous first separable\n",
            "    ectoplasmic battery-powered participatory fourth still-to-be-named\n",
            "    multilingual multi-disciplinary ...\n",
            "('only', 'JJ', None)\n",
            "NN: noun, common, singular or mass\n",
            "    common-carrier cabbage knuckle-duster Casino afghan shed thermostat\n",
            "    investment slide humour falloff slick wind hyena override subhumanity\n",
            "    machinist ...\n",
            "('daughter', 'NN', None)\n",
            "IN: preposition or conjunction, subordinating\n",
            "    astride among uppon whether out inside pro despite on by throughout\n",
            "    below within for towards near behind atop around if like until below\n",
            "    next into if beside ...\n",
            "('of', 'IN', None)\n",
            "DT: determiner\n",
            "    all an another any both del each either every half la many much nary\n",
            "    neither no some such that the them these this those\n",
            "('the', 'DT', None)\n",
            "NN: noun, common, singular or mass\n",
            "    common-carrier cabbage knuckle-duster Casino afghan shed thermostat\n",
            "    investment slide humour falloff slick wind hyena override subhumanity\n",
            "    machinist ...\n",
            "('king', 'NN', None)\n",
            "CC: conjunction, coordinating\n",
            "    & 'n and both but either et for less minus neither nor or plus so\n",
            "    therefore times v. versus vs. whether yet\n",
            "('and', 'CC', None)\n",
            "DT: determiner\n",
            "    all an another any both del each either every half la many much nary\n",
            "    neither no some such that the them these this those\n",
            "('the', 'DT', None)\n",
            "NN: noun, common, singular or mass\n",
            "    common-carrier cabbage knuckle-duster Casino afghan shed thermostat\n",
            "    investment slide humour falloff slick wind hyena override subhumanity\n",
            "    machinist ...\n",
            "('heir', 'NN', None)\n",
            "TO: \"to\" as preposition or infinitive marker\n",
            "    to\n",
            "('to', 'TO', None)\n",
            "DT: determiner\n",
            "    all an another any both del each either every half la many much nary\n",
            "    neither no some such that the them these this those\n",
            "('the', 'DT', None)\n",
            "NN: noun, common, singular or mass\n",
            "    common-carrier cabbage knuckle-duster Casino afghan shed thermostat\n",
            "    investment slide humour falloff slick wind hyena override subhumanity\n",
            "    machinist ...\n",
            "('throne', 'NN', None)\n",
            ".: sentence terminator\n",
            "    . ! ?\n",
            "('.', '.', None)\n",
            "CD: numeral, cardinal\n",
            "    mid-1890 nine-thirty forty-two one-tenth ten million 0.5 one forty-\n",
            "    seven 1987 twenty '79 zero two 78-degrees eighty-four IX '60s .025\n",
            "    fifteen 271,124 dozen quintillion DM2,000 ...\n",
            "('One', 'CD', None)\n",
            "NN: noun, common, singular or mass\n",
            "    common-carrier cabbage knuckle-duster Casino afghan shed thermostat\n",
            "    investment slide humour falloff slick wind hyena override subhumanity\n",
            "    machinist ...\n",
            "('day', 'NN', None)\n",
            "DT: determiner\n",
            "    all an another any both del each either every half la many much nary\n",
            "    neither no some such that the them these this those\n",
            "('an', 'DT', None)\n",
            "JJ: adjective or numeral, ordinal\n",
            "    third ill-mannered pre-war regrettable oiled calamitous first separable\n",
            "    ectoplasmic battery-powered participatory fourth still-to-be-named\n",
            "    multilingual multi-disciplinary ...\n",
            "('evil', 'JJ', None)\n",
            "NN: noun, common, singular or mass\n",
            "    common-carrier cabbage knuckle-duster Casino afghan shed thermostat\n",
            "    investment slide humour falloff slick wind hyena override subhumanity\n",
            "    machinist ...\n",
            "('witch', 'NN', None)\n",
            "VBD: verb, past tense\n",
            "    dipped pleaded swiped regummed soaked tidied convened halted registered\n",
            "    cushioned exacted snubbed strode aimed adopted belied figgered\n",
            "    speculated wore appreciated contemplated ...\n",
            "('casted', 'VBD', None)\n",
            "DT: determiner\n",
            "    all an another any both del each either every half la many much nary\n",
            "    neither no some such that the them these this those\n",
            "('a', 'DT', None)\n",
            "NN: noun, common, singular or mass\n",
            "    common-carrier cabbage knuckle-duster Casino afghan shed thermostat\n",
            "    investment slide humour falloff slick wind hyena override subhumanity\n",
            "    machinist ...\n",
            "('spell', 'NN', None)\n",
            "IN: preposition or conjunction, subordinating\n",
            "    astride among uppon whether out inside pro despite on by throughout\n",
            "    below within for towards near behind atop around if like until below\n",
            "    next into if beside ...\n",
            "('on', 'IN', None)\n",
            "PRP$: pronoun, possessive\n",
            "    her his mine my our ours their thy your\n",
            "('her', 'PRP$', None)\n",
            "CC: conjunction, coordinating\n",
            "    & 'n and both but either et for less minus neither nor or plus so\n",
            "    therefore times v. versus vs. whether yet\n",
            "('and', 'CC', None)\n",
            "VBD: verb, past tense\n",
            "    dipped pleaded swiped regummed soaked tidied convened halted registered\n",
            "    cushioned exacted snubbed strode aimed adopted belied figgered\n",
            "    speculated wore appreciated contemplated ...\n",
            "('turned', 'VBD', None)\n",
            "PRP$: pronoun, possessive\n",
            "    her his mine my our ours their thy your\n",
            "('her', 'PRP$', None)\n",
            "IN: preposition or conjunction, subordinating\n",
            "    astride among uppon whether out inside pro despite on by throughout\n",
            "    below within for towards near behind atop around if like until below\n",
            "    next into if beside ...\n",
            "('into', 'IN', None)\n",
            "DT: determiner\n",
            "    all an another any both del each either every half la many much nary\n",
            "    neither no some such that the them these this those\n",
            "('a', 'DT', None)\n",
            "NN: noun, common, singular or mass\n",
            "    common-carrier cabbage knuckle-duster Casino afghan shed thermostat\n",
            "    investment slide humour falloff slick wind hyena override subhumanity\n",
            "    machinist ...\n",
            "('tree', 'NN', None)\n",
            ".: sentence terminator\n",
            "    . ! ?\n",
            "('.', '.', None)\n",
            "DT: determiner\n",
            "    all an another any both del each either every half la many much nary\n",
            "    neither no some such that the them these this those\n",
            "('The', 'DT', None)\n",
            "NN: noun, common, singular or mass\n",
            "    common-carrier cabbage knuckle-duster Casino afghan shed thermostat\n",
            "    investment slide humour falloff slick wind hyena override subhumanity\n",
            "    machinist ...\n",
            "('king', 'NN', None)\n",
            "CC: conjunction, coordinating\n",
            "    & 'n and both but either et for less minus neither nor or plus so\n",
            "    therefore times v. versus vs. whether yet\n",
            "('and', 'CC', None)\n",
            "DT: determiner\n",
            "    all an another any both del each either every half la many much nary\n",
            "    neither no some such that the them these this those\n",
            "('the', 'DT', None)\n",
            "NN: noun, common, singular or mass\n",
            "    common-carrier cabbage knuckle-duster Casino afghan shed thermostat\n",
            "    investment slide humour falloff slick wind hyena override subhumanity\n",
            "    machinist ...\n",
            "('queen', 'NN', None)\n",
            "VBD: verb, past tense\n",
            "    dipped pleaded swiped regummed soaked tidied convened halted registered\n",
            "    cushioned exacted snubbed strode aimed adopted belied figgered\n",
            "    speculated wore appreciated contemplated ...\n",
            "('created', 'VBD', None)\n",
            "DT: determiner\n",
            "    all an another any both del each either every half la many much nary\n",
            "    neither no some such that the them these this those\n",
            "('the', 'DT', None)\n",
            "JJ: adjective or numeral, ordinal\n",
            "    third ill-mannered pre-war regrettable oiled calamitous first separable\n",
            "    ectoplasmic battery-powered participatory fourth still-to-be-named\n",
            "    multilingual multi-disciplinary ...\n",
            "('royal', 'JJ', None)\n",
            "NN: noun, common, singular or mass\n",
            "    common-carrier cabbage knuckle-duster Casino afghan shed thermostat\n",
            "    investment slide humour falloff slick wind hyena override subhumanity\n",
            "    machinist ...\n",
            "('garden', 'NN', None)\n",
            "IN: preposition or conjunction, subordinating\n",
            "    astride among uppon whether out inside pro despite on by throughout\n",
            "    below within for towards near behind atop around if like until below\n",
            "    next into if beside ...\n",
            "('around', 'IN', None)\n",
            "PRP$: pronoun, possessive\n",
            "    her his mine my our ours their thy your\n",
            "('their', 'PRP$', None)\n",
            "NN: noun, common, singular or mass\n",
            "    common-carrier cabbage knuckle-duster Casino afghan shed thermostat\n",
            "    investment slide humour falloff slick wind hyena override subhumanity\n",
            "    machinist ...\n",
            "('daughter', 'NN', None)\n",
            "CC: conjunction, coordinating\n",
            "    & 'n and both but either et for less minus neither nor or plus so\n",
            "    therefore times v. versus vs. whether yet\n",
            "('and', 'CC', None)\n",
            "VBD: verb, past tense\n",
            "    dipped pleaded swiped regummed soaked tidied convened halted registered\n",
            "    cushioned exacted snubbed strode aimed adopted belied figgered\n",
            "    speculated wore appreciated contemplated ...\n",
            "('nurtured', 'VBD', None)\n",
            "PRP: pronoun, personal\n",
            "    hers herself him himself hisself it itself me myself one oneself ours\n",
            "    ourselves ownself self she thee theirs them themselves they thou thy us\n",
            "('her', 'PRP', None)\n",
            ".: sentence terminator\n",
            "    . ! ?\n",
            "('.', '.', None)\n"
          ],
          "name": "stdout"
        }
      ]
    },
    {
      "cell_type": "code",
      "metadata": {
        "id": "g7yAa399NCmI",
        "outputId": "4cf6bfe5-bec7-42aa-b4b5-8fe455dfbc5f"
      },
      "source": [
        "from nltk.tokenize import PunktSentenceTokenizer\n",
        "for k in nltk.pos_tag(tokens):\n",
        "    if 'NN' in k: # the above import is for this line\n",
        "        print(k)\n"
      ],
      "execution_count": null,
      "outputs": [
        {
          "output_type": "stream",
          "text": [
            "('time', 'NN')\n",
            "('kingdom', 'NN')\n",
            "('princess', 'NN')\n",
            "('daughter', 'NN')\n",
            "('king', 'NN')\n",
            "('heir', 'NN')\n",
            "('throne', 'NN')\n",
            "('day', 'NN')\n",
            "('witch', 'NN')\n",
            "('spell', 'NN')\n",
            "('tree', 'NN')\n",
            "('king', 'NN')\n",
            "('queen', 'NN')\n",
            "('garden', 'NN')\n",
            "('daughter', 'NN')\n"
          ],
          "name": "stdout"
        }
      ]
    },
    {
      "cell_type": "code",
      "metadata": {
        "id": "6zeq0XF2NCmJ",
        "outputId": "a12accb3-e1ff-467f-a7c4-e88d6df47c96"
      },
      "source": [
        "for w in tokens:\n",
        "    #print(w,'\\t',nltk.stem.PorterStemmer().stem(w),'\\t',nltk.WordNetLemmatizer().lemmatize(w))\n",
        "rand = 'this is a random sentenx'"
      ],
      "execution_count": null,
      "outputs": [
        {
          "output_type": "stream",
          "text": [
            "Once \t onc \t Once\n",
            "upon \t upon \t upon\n",
            "a \t a \t a\n",
            "time \t time \t time\n",
            ", \t , \t ,\n",
            "in \t in \t in\n",
            "the \t the \t the\n",
            "kingdom \t kingdom \t kingdom\n",
            "of \t of \t of\n",
            "Macedonia \t macedonia \t Macedonia\n",
            ", \t , \t ,\n",
            "there \t there \t there\n",
            "lived \t live \t lived\n",
            "a \t a \t a\n",
            "princess \t princess \t princess\n",
            "named \t name \t named\n",
            "Macbeth \t macbeth \t Macbeth\n",
            ". \t . \t .\n",
            "She \t she \t She\n",
            "was \t wa \t wa\n",
            "the \t the \t the\n",
            "only \t onli \t only\n",
            "daughter \t daughter \t daughter\n",
            "of \t of \t of\n",
            "the \t the \t the\n",
            "king \t king \t king\n",
            "and \t and \t and\n",
            "the \t the \t the\n",
            "heir \t heir \t heir\n",
            "to \t to \t to\n",
            "the \t the \t the\n",
            "throne \t throne \t throne\n",
            ". \t . \t .\n",
            "One \t one \t One\n",
            "day \t day \t day\n",
            "an \t an \t an\n",
            "evil \t evil \t evil\n",
            "witch \t witch \t witch\n",
            "casted \t cast \t casted\n",
            "a \t a \t a\n",
            "spell \t spell \t spell\n",
            "on \t on \t on\n",
            "her \t her \t her\n",
            "and \t and \t and\n",
            "turned \t turn \t turned\n",
            "her \t her \t her\n",
            "into \t into \t into\n",
            "a \t a \t a\n",
            "tree \t tree \t tree\n",
            ". \t . \t .\n",
            "The \t the \t The\n",
            "king \t king \t king\n",
            "and \t and \t and\n",
            "the \t the \t the\n",
            "queen \t queen \t queen\n",
            "created \t creat \t created\n",
            "the \t the \t the\n",
            "royal \t royal \t royal\n",
            "garden \t garden \t garden\n",
            "around \t around \t around\n",
            "their \t their \t their\n",
            "daughter \t daughter \t daughter\n",
            "and \t and \t and\n",
            "nurtured \t nurtur \t nurtured\n",
            "her \t her \t her\n",
            ". \t . \t .\n"
          ],
          "name": "stdout"
        }
      ]
    },
    {
      "cell_type": "code",
      "metadata": {
        "id": "rgwBEj57NCmK",
        "outputId": "660a362c-b7e6-4371-c70d-860cce5560ae"
      },
      "source": [
        "print(nltk.stem.PorterStemmer().stem('I have the feeling of unhappiness'))\n",
        "print(nltk.WordNetLemmatizer().lemmatize('I have the feeling of unhappiness'))"
      ],
      "execution_count": null,
      "outputs": [
        {
          "output_type": "stream",
          "text": [
            "i have the feeling of unhappi\n",
            "I have the feeling of unhappiness\n"
          ],
          "name": "stdout"
        }
      ]
    },
    {
      "cell_type": "code",
      "metadata": {
        "id": "XgwlwxOxNCmL"
      },
      "source": [
        ""
      ],
      "execution_count": null,
      "outputs": []
    }
  ]
}
